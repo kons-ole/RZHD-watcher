{
 "cells": [
  {
   "cell_type": "code",
   "execution_count": 1,
   "id": "216404b1-d32c-4124-8d0c-2192262110af",
   "metadata": {
    "execution": {
     "iopub.execute_input": "2023-11-12T01:05:47.204405Z",
     "iopub.status.busy": "2023-11-12T01:05:47.203488Z",
     "iopub.status.idle": "2023-11-12T01:09:24.374411Z",
     "shell.execute_reply": "2023-11-12T01:09:24.373618Z",
     "shell.execute_reply.started": "2023-11-12T01:05:47.204361Z"
    },
    "tags": []
   },
   "outputs": [],
   "source": [
    "# %pip install requests urllib if needed\n",
    "\n",
    "import requests\n",
    "from urllib.parse import urlencode\n",
    "from io import BytesIO\n",
    "from zipfile import ZipFile\n",
    "\n",
    "base_url = 'https://cloud-api.yandex.net/v1/disk/public/resources/download?'\n",
    "public_key = 'https://disk.yandex.ru/d/l_OMEhpToyNqAQ'\n",
    "\n",
    "final_url = base_url + urlencode(dict(public_key=public_key))\n",
    "response = requests.get(final_url)\n",
    "download_url = response.json()['href']\n",
    "response = requests.get(download_url)\n",
    "\n",
    "dist_path = 'dataset'\n",
    "zipfile = ZipFile(BytesIO(response.content))\n",
    "zipfile.extractall(path=dist_path)"
   ]
  },
  {
   "cell_type": "code",
   "execution_count": 2,
   "id": "24098b2b-4b0b-4532-a739-826223ed1564",
   "metadata": {
    "execution": {
     "iopub.execute_input": "2023-11-12T01:09:24.375994Z",
     "iopub.status.busy": "2023-11-12T01:09:24.375596Z",
     "iopub.status.idle": "2023-11-12T01:09:24.390214Z",
     "shell.execute_reply": "2023-11-12T01:09:24.389539Z",
     "shell.execute_reply.started": "2023-11-12T01:09:24.375961Z"
    }
   },
   "outputs": [
    {
     "name": "stdout",
     "output_type": "stream",
     "text": [
      "hello\n"
     ]
    }
   ],
   "source": [
    "print('hello')"
   ]
  },
  {
   "cell_type": "code",
   "execution_count": 1,
   "id": "750ef563-485c-4ee0-b874-ae08ca9ca761",
   "metadata": {
    "execution": {
     "iopub.execute_input": "2023-11-12T05:12:37.441981Z",
     "iopub.status.busy": "2023-11-12T05:12:37.441136Z",
     "iopub.status.idle": "2023-11-12T05:14:50.596263Z",
     "shell.execute_reply": "2023-11-12T05:14:50.595629Z",
     "shell.execute_reply.started": "2023-11-12T05:12:37.441938Z"
    }
   },
   "outputs": [],
   "source": [
    "# %pip install requests urllib if needed\n",
    "\n",
    "import requests\n",
    "from urllib.parse import urlencode\n",
    "from io import BytesIO\n",
    "from zipfile import ZipFile\n",
    "\n",
    "base_url = 'https://cloud-api.yandex.net/v1/disk/public/resources/download?'\n",
    "public_key = 'https://disk.yandex.ru/d/5PdSeOZ85r5i3g'\n",
    "\n",
    "final_url = base_url + urlencode(dict(public_key=public_key))\n",
    "response = requests.get(final_url)\n",
    "download_url = response.json()['href']\n",
    "response = requests.get(download_url)\n",
    "\n",
    "dist_path = 'test_data'\n",
    "zipfile = ZipFile(BytesIO(response.content))\n",
    "zipfile.extractall(path=dist_path)"
   ]
  },
  {
   "cell_type": "code",
   "execution_count": null,
   "id": "240c7fc4-c9ad-4b99-9f33-e6677984e6f6",
   "metadata": {},
   "outputs": [],
   "source": []
  }
 ],
 "metadata": {
  "kernelspec": {
   "display_name": "DataSphere Kernel",
   "language": "python",
   "name": "python3"
  },
  "language_info": {
   "codemirror_mode": {
    "name": "ipython",
    "version": 3
   },
   "file_extension": ".py",
   "mimetype": "text/x-python",
   "name": "python",
   "nbconvert_exporter": "python",
   "pygments_lexer": "ipython3",
   "version": "3.7.7"
  }
 },
 "nbformat": 4,
 "nbformat_minor": 5
}
