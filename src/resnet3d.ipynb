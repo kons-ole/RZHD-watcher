{
 "cells": [
  {
   "cell_type": "markdown",
   "id": "b7c6c312-d75c-425f-858d-60c972507cf6",
   "metadata": {},
   "source": [
    "## Импорт библиотек"
   ]
  },
  {
   "cell_type": "code",
   "execution_count": 1,
   "id": "e3966ae2-0eff-45cd-bc32-6013fb40d60b",
   "metadata": {
    "execution": {
     "iopub.execute_input": "2023-11-12T02:02:22.617476Z",
     "iopub.status.busy": "2023-11-12T02:02:22.616695Z",
     "iopub.status.idle": "2023-11-12T02:02:22.670679Z",
     "shell.execute_reply": "2023-11-12T02:02:22.669976Z",
     "shell.execute_reply.started": "2023-11-12T02:02:22.617436Z"
    },
    "tags": []
   },
   "outputs": [],
   "source": [
    "# %pip install kornia"
   ]
  },
  {
   "cell_type": "code",
   "execution_count": 3,
   "id": "927b4907-298c-4c51-bc20-3a5f13dcbe36",
   "metadata": {
    "execution": {
     "iopub.execute_input": "2023-11-12T02:02:26.591900Z",
     "iopub.status.busy": "2023-11-12T02:02:26.591306Z",
     "iopub.status.idle": "2023-11-12T02:02:26.602204Z",
     "shell.execute_reply": "2023-11-12T02:02:26.601630Z",
     "shell.execute_reply.started": "2023-11-12T02:02:26.591873Z"
    }
   },
   "outputs": [],
   "source": [
    "# %load_ext tensorboard\n",
    "# %tensorboard --logdir runs"
   ]
  },
  {
   "cell_type": "code",
   "execution_count": 1,
   "id": "b6aa5c32-7b94-4a82-a457-e3d7f90f7a8d",
   "metadata": {
    "execution": {
     "iopub.execute_input": "2023-11-12T06:37:25.437342Z",
     "iopub.status.busy": "2023-11-12T06:37:25.436728Z",
     "iopub.status.idle": "2023-11-12T06:37:29.261334Z",
     "shell.execute_reply": "2023-11-12T06:37:29.260714Z",
     "shell.execute_reply.started": "2023-11-12T06:37:25.437312Z"
    },
    "tags": []
   },
   "outputs": [
    {
     "name": "stderr",
     "output_type": "stream",
     "text": [
      "2023-11-12 06:37:27.581858: I tensorflow/core/util/port.cc:110] oneDNN custom operations are on. You may see slightly different numerical results due to floating-point round-off errors from different computation orders. To turn them off, set the environment variable `TF_ENABLE_ONEDNN_OPTS=0`.\n",
      "2023-11-12 06:37:27.625648: I tensorflow/core/platform/cpu_feature_guard.cc:182] This TensorFlow binary is optimized to use available CPU instructions in performance-critical operations.\n",
      "To enable the following instructions: AVX2 AVX512F AVX512_VNNI FMA, in other operations, rebuild TensorFlow with the appropriate compiler flags.\n",
      "2023-11-12 06:37:28.367225: W tensorflow/compiler/tf2tensorrt/utils/py_utils.cc:38] TF-TRT Warning: Could not find TensorRT\n"
     ]
    }
   ],
   "source": [
    "import os\n",
    "import cv2\n",
    "import numpy as np\n",
    "import torch\n",
    "import torch.nn as nn\n",
    "import torch.optim as optim\n",
    "from torch.utils.data import Dataset, DataLoader\n",
    "from torchvision.models.video import r3d_18\n",
    "from torchvision.transforms import Compose, Resize, CenterCrop, Normalize, ToTensor\n",
    "from sklearn.model_selection import train_test_split\n",
    "from PIL import Image\n",
    "import pandas as pd\n",
    "from pathlib import Path\n",
    "from torchvision.models.video import r3d_18, R3D_18_Weights\n",
    "from tqdm import tqdm\n",
    "import kornia as K\n",
    "import kornia.augmentation as KAug\n",
    "from torch.utils.tensorboard import SummaryWriter\n",
    "import gc"
   ]
  },
  {
   "cell_type": "markdown",
   "id": "21503c19-e9fe-44cc-b466-2bb441f03f7a",
   "metadata": {},
   "source": [
    "## Создание классов из обучаемых данных"
   ]
  },
  {
   "cell_type": "code",
   "execution_count": 2,
   "id": "f8e1c27b-40c7-464a-accb-9dee1f8cfdc5",
   "metadata": {
    "execution": {
     "iopub.execute_input": "2023-11-12T06:37:29.263083Z",
     "iopub.status.busy": "2023-11-12T06:37:29.262264Z",
     "iopub.status.idle": "2023-11-12T06:37:29.280323Z",
     "shell.execute_reply": "2023-11-12T06:37:29.279581Z",
     "shell.execute_reply.started": "2023-11-12T06:37:29.263048Z"
    },
    "tags": []
   },
   "outputs": [],
   "source": [
    "# Загрузка данных из CSV-файла\n",
    "csv_data = pd.read_csv('classes.csv')\n",
    "\n",
    "# Создание словаря для сопоставления названия класса и индекса класса\n",
    "class_name_to_idx = pd.Series(csv_data.class_idx.values, index=csv_data.class_name).to_dict()\n",
    "\n",
    "# Предположим, что ваши видеофайлы находятся в папке 'videos'\n",
    "videos_path = Path('./dataset/videos')\n"
   ]
  },
  {
   "cell_type": "code",
   "execution_count": 3,
   "id": "2645af59-d1e6-4c75-99bb-91a656267598",
   "metadata": {
    "execution": {
     "iopub.execute_input": "2023-11-12T06:37:29.281863Z",
     "iopub.status.busy": "2023-11-12T06:37:29.281533Z",
     "iopub.status.idle": "2023-11-12T06:37:29.315940Z",
     "shell.execute_reply": "2023-11-12T06:37:29.315314Z",
     "shell.execute_reply.started": "2023-11-12T06:37:29.281842Z"
    },
    "tags": []
   },
   "outputs": [],
   "source": [
    "# Генерируем список путей к файлам и соответствующих меток классов\n",
    "file_paths = []\n",
    "labels = []\n",
    "\n",
    "for class_name, class_idx in class_name_to_idx.items():\n",
    "    class_path = videos_path / class_name\n",
    "    for video_file in class_path.iterdir():\n",
    "        file_paths.append(str(video_file))\n",
    "        labels.append(class_idx)"
   ]
  },
  {
   "cell_type": "markdown",
   "id": "0f95a36a-7607-4c4a-80ca-37b34a09587b",
   "metadata": {},
   "source": [
    "## Нахождение и настройка весов"
   ]
  },
  {
   "cell_type": "code",
   "execution_count": 4,
   "id": "d6ec48a3-cf39-4ad3-836e-fcd44b1edd0c",
   "metadata": {
    "execution": {
     "iopub.execute_input": "2023-11-12T06:37:30.341726Z",
     "iopub.status.busy": "2023-11-12T06:37:30.341146Z",
     "iopub.status.idle": "2023-11-12T06:37:30.378673Z",
     "shell.execute_reply": "2023-11-12T06:37:30.378035Z",
     "shell.execute_reply.started": "2023-11-12T06:37:30.341697Z"
    },
    "tags": []
   },
   "outputs": [],
   "source": [
    "#функция для извлечения кадров из видео\n",
    "def extract_frames(video_path):\n",
    "    cap = cv2.VideoCapture(video_path)\n",
    "    frames = []\n",
    "    while cap.isOpened():\n",
    "        ret, frame = cap.read()\n",
    "        if not ret:\n",
    "            break\n",
    "        frames.append(frame)\n",
    "    cap.release()\n",
    "    return frames"
   ]
  },
  {
   "cell_type": "code",
   "execution_count": 5,
   "id": "c7a38072-c8f4-4cc7-807e-aa67c6a23ff8",
   "metadata": {
    "execution": {
     "iopub.execute_input": "2023-11-12T06:37:32.291337Z",
     "iopub.status.busy": "2023-11-12T06:37:32.290728Z",
     "iopub.status.idle": "2023-11-12T06:37:32.329245Z",
     "shell.execute_reply": "2023-11-12T06:37:32.328511Z",
     "shell.execute_reply.started": "2023-11-12T06:37:32.291310Z"
    },
    "tags": []
   },
   "outputs": [],
   "source": [
    "# Вычисление средних значений и стандартных отклонений\n",
    "def compute_mean_std(videos_path):\n",
    "    mean = np.zeros(3)\n",
    "    std = np.zeros(3)\n",
    "    n_frames = 0\n",
    "\n",
    "    for video_path in tqdm(videos_path):\n",
    "        frames = extract_frames(video_path)\n",
    "        for frame in frames:\n",
    "            mean += frame.mean(axis=(0, 1))\n",
    "            std += frame.std(axis=(0, 1))\n",
    "            n_frames += 1\n",
    "\n",
    "    mean /= n_frames\n",
    "    std /= n_frames\n",
    "    return mean / 255, std / 255  # Нормализация значений"
   ]
  },
  {
   "cell_type": "code",
   "execution_count": 8,
   "id": "1a029073-0751-43ef-8dde-1d197ae83261",
   "metadata": {
    "execution": {
     "iopub.execute_input": "2023-11-12T02:02:26.669022Z",
     "iopub.status.busy": "2023-11-12T02:02:26.668613Z",
     "iopub.status.idle": "2023-11-12T02:02:26.708194Z",
     "shell.execute_reply": "2023-11-12T02:02:26.707501Z",
     "shell.execute_reply.started": "2023-11-12T02:02:26.668991Z"
    }
   },
   "outputs": [],
   "source": [
    "# mean, std = compute_mean_std(file_paths)\n",
    "# print(f'Mean: {mean}, Std: {std}')"
   ]
  },
  {
   "cell_type": "code",
   "execution_count": 6,
   "id": "c2936dae-8584-42ba-82b5-091b00bc7a5a",
   "metadata": {
    "execution": {
     "iopub.execute_input": "2023-11-12T06:37:35.772170Z",
     "iopub.status.busy": "2023-11-12T06:37:35.771599Z",
     "iopub.status.idle": "2023-11-12T06:37:35.785657Z",
     "shell.execute_reply": "2023-11-12T06:37:35.785080Z",
     "shell.execute_reply.started": "2023-11-12T06:37:35.772143Z"
    },
    "tags": []
   },
   "outputs": [],
   "source": [
    "# Определите параметры\n",
    "num_classes = 24  # Замените на количество классов в вашем датасете\n",
    "num_epochs = 10\n",
    "batch_size = 16\n",
    "learning_rate = 1e-4\n",
    "frame_count = 3  # Количество кадров в каждом видеосемпле"
   ]
  },
  {
   "cell_type": "code",
   "execution_count": 7,
   "id": "ef9adeab-82a5-4e50-991a-14b8a349f435",
   "metadata": {
    "execution": {
     "iopub.execute_input": "2023-11-12T06:37:37.317050Z",
     "iopub.status.busy": "2023-11-12T06:37:37.316416Z",
     "iopub.status.idle": "2023-11-12T06:37:37.330633Z",
     "shell.execute_reply": "2023-11-12T06:37:37.330028Z",
     "shell.execute_reply.started": "2023-11-12T06:37:37.317019Z"
    },
    "tags": []
   },
   "outputs": [],
   "source": [
    "# Трансформации для предобработки видеофреймов\n",
    "transform = Compose([\n",
    "    Resize([128, 171], antialias=True),\n",
    "    CenterCrop([112, 112]),\n",
    "    ToTensor(),\n",
    "    Normalize(mean=[0.35117388, 0.4031328,  0.41368235], std=[0.20939734, 0.21085491, 0.21630637])\n",
    "])"
   ]
  },
  {
   "cell_type": "markdown",
   "id": "7706d30a-d2be-49ca-9dca-6b1159ee2ae7",
   "metadata": {},
   "source": [
    "## Обработка видеофайлов"
   ]
  },
  {
   "cell_type": "markdown",
   "id": "dfa38784-483a-48a8-854e-186d4b87989d",
   "metadata": {},
   "source": [
    "### Класс создания датасета из видео"
   ]
  },
  {
   "cell_type": "code",
   "execution_count": 8,
   "id": "dbdfb9ea-1909-4b0d-a80c-2c5b15ecfb68",
   "metadata": {
    "execution": {
     "iopub.execute_input": "2023-11-12T06:37:42.258445Z",
     "iopub.status.busy": "2023-11-12T06:37:42.257798Z",
     "iopub.status.idle": "2023-11-12T06:37:42.285399Z",
     "shell.execute_reply": "2023-11-12T06:37:42.284791Z",
     "shell.execute_reply.started": "2023-11-12T06:37:42.258399Z"
    },
    "tags": []
   },
   "outputs": [],
   "source": [
    "class VideoDataset(Dataset):\n",
    "    def __init__(self, file_paths, labels, transform=None, augmentation=None):\n",
    "        self.file_paths = file_paths\n",
    "        self.labels = labels\n",
    "        self.transform = transform\n",
    "        self.augmentation = augmentation\n",
    "\n",
    "    def __len__(self):\n",
    "        return len(self.file_paths)\n",
    "\n",
    "    def __getitem__(self, idx):\n",
    "        frame_count = 3  # Задаем количество кадров\n",
    "        video_path = self.file_paths[idx]\n",
    "        cap = cv2.VideoCapture(video_path)\n",
    "        frames = []\n",
    "        try:\n",
    "            while len(frames) < frame_count:\n",
    "                ret, frame = cap.read()\n",
    "                if not ret:\n",
    "                    break\n",
    "                frame = cv2.cvtColor(frame, cv2.COLOR_BGR2RGB)\n",
    "                frame = Image.fromarray(frame)\n",
    "                \n",
    "                if self.transform:\n",
    "                    frame = self.transform(frame)\n",
    "                if self.augmentation:\n",
    "                    frame = self.augmentation(frame)\n",
    "                frames.append(frame)\n",
    "        finally:\n",
    "            cap.release()\n",
    "\n",
    "        # Обрезаем или дополняем список кадров до 8\n",
    "        frames = frames[:frame_count] + [frames[-1]] * (frame_count - len(frames))\n",
    "\n",
    "        frames = torch.stack(frames)\n",
    "        label = torch.tensor(self.labels[idx])\n",
    "        return frames, label\n",
    "    "
   ]
  },
  {
   "cell_type": "markdown",
   "id": "c0ddb62d-a6c4-440b-9352-c13ed2ca45f1",
   "metadata": {},
   "source": [
    "### Разделение на обучающий и валидационный датасеты"
   ]
  },
  {
   "cell_type": "code",
   "execution_count": 9,
   "id": "cbf0c5ac-edf0-4aa7-99e6-b9a0cdc5781f",
   "metadata": {
    "execution": {
     "iopub.execute_input": "2023-11-12T06:37:44.518748Z",
     "iopub.status.busy": "2023-11-12T06:37:44.518020Z",
     "iopub.status.idle": "2023-11-12T06:37:44.545058Z",
     "shell.execute_reply": "2023-11-12T06:37:44.544388Z",
     "shell.execute_reply.started": "2023-11-12T06:37:44.518716Z"
    },
    "tags": []
   },
   "outputs": [],
   "source": [
    "# Разделение на обучающий и валидационный датасеты\n",
    "train_paths, valid_paths, train_labels, valid_labels = train_test_split(\n",
    "    file_paths, labels, test_size=0.2, random_state=42, stratify=labels)\n",
    "\n",
    "# Создание экземпляров датасета\n",
    "train_dataset = VideoDataset(train_paths, train_labels, transform=transform)\n",
    "valid_dataset = VideoDataset(valid_paths, valid_labels, transform=transform)"
   ]
  },
  {
   "cell_type": "code",
   "execution_count": 10,
   "id": "9f154053-662c-4a1d-a7e5-c839081799eb",
   "metadata": {
    "execution": {
     "iopub.execute_input": "2023-11-12T06:37:46.779756Z",
     "iopub.status.busy": "2023-11-12T06:37:46.779039Z",
     "iopub.status.idle": "2023-11-12T06:37:46.796652Z",
     "shell.execute_reply": "2023-11-12T06:37:46.796072Z",
     "shell.execute_reply.started": "2023-11-12T06:37:46.779721Z"
    },
    "tags": []
   },
   "outputs": [],
   "source": [
    "# Создание DataLoader'ов\n",
    "train_loader = DataLoader(train_dataset, batch_size=batch_size, shuffle=True)\n",
    "valid_loader = DataLoader(valid_dataset, batch_size=batch_size, shuffle=False)"
   ]
  },
  {
   "cell_type": "markdown",
   "id": "f93eb903-fb7c-46c5-9429-bd4c186728d6",
   "metadata": {},
   "source": [
    "## Создание модели и обучение"
   ]
  },
  {
   "cell_type": "markdown",
   "id": "6264e674-b79e-4958-8700-68efa1702a71",
   "metadata": {},
   "source": [
    "### Создание модели"
   ]
  },
  {
   "cell_type": "code",
   "execution_count": 11,
   "id": "1c9d4dca-84c7-488f-adf6-78c971ab7e27",
   "metadata": {
    "execution": {
     "iopub.execute_input": "2023-11-12T06:37:49.232948Z",
     "iopub.status.busy": "2023-11-12T06:37:49.232251Z",
     "iopub.status.idle": "2023-11-12T06:37:53.258113Z",
     "shell.execute_reply": "2023-11-12T06:37:53.257361Z",
     "shell.execute_reply.started": "2023-11-12T06:37:49.232906Z"
    },
    "tags": []
   },
   "outputs": [
    {
     "name": "stderr",
     "output_type": "stream",
     "text": [
      "Downloading: \"https://download.pytorch.org/models/r3d_18-b3b3357e.pth\" to /tmp/xdg_cache/torch/hub/checkpoints/r3d_18-b3b3357e.pth\n",
      "100%|██████████| 127M/127M [00:01<00:00, 67.2MB/s] \n"
     ]
    }
   ],
   "source": [
    "# Создание модели\n",
    "model = r3d_18(weights=R3D_18_Weights.KINETICS400_V1)\n",
    "model.fc = nn.Linear(model.fc.in_features, num_classes)\n",
    "\n",
    "\n",
    "# Перенесите модель на GPU, если доступно\n",
    "device = torch.device('cuda' if torch.cuda.is_available() else 'cpu')\n",
    "model.to(device)\n",
    "\n",
    "# Функция потерь и оптимизатор\n",
    "criterion = nn.CrossEntropyLoss()\n",
    "optimizer = optim.Adam(model.parameters(), lr=learning_rate)\n"
   ]
  },
  {
   "cell_type": "markdown",
   "id": "11add997-7b44-4d4d-9f6a-db548434042d",
   "metadata": {},
   "source": [
    "### Обучение модели"
   ]
  },
  {
   "cell_type": "code",
   "execution_count": 15,
   "id": "d5f12630-68f6-41f7-a252-f009ed735717",
   "metadata": {
    "execution": {
     "iopub.execute_input": "2023-11-12T02:02:30.718407Z",
     "iopub.status.busy": "2023-11-12T02:02:30.717769Z",
     "iopub.status.idle": "2023-11-12T02:55:52.527517Z",
     "shell.execute_reply": "2023-11-12T02:55:52.526863Z",
     "shell.execute_reply.started": "2023-11-12T02:02:30.718380Z"
    },
    "tags": []
   },
   "outputs": [
    {
     "name": "stdout",
     "output_type": "stream",
     "text": [
      "Model saved at epoch 1\n",
      "Model saved at epoch 1\n",
      "Model saved at epoch 1\n",
      "Model saved at epoch 1\n",
      "Model saved at epoch 1\n",
      "Model saved at epoch 1\n",
      "Model saved at epoch 1\n",
      "Model saved at epoch 1\n",
      "Epoch 1/10, Train Loss: 1.3643, Validation Accuracy: 61.13%\n",
      "Model saved at epoch 2\n",
      "Epoch 2/10, Train Loss: 0.7674, Validation Accuracy: 68.22%\n",
      "Model saved at epoch 3\n",
      "Model saved at epoch 3\n",
      "Epoch 3/10, Train Loss: 0.6865, Validation Accuracy: 72.87%\n",
      "Model saved at epoch 4\n",
      "Model saved at epoch 4\n",
      "Model saved at epoch 4\n",
      "Model saved at epoch 4\n",
      "Epoch 4/10, Train Loss: 0.1500, Validation Accuracy: 73.08%\n",
      "Model saved at epoch 5\n",
      "Epoch 5/10, Train Loss: 0.2576, Validation Accuracy: 74.29%\n",
      "Epoch 6/10, Train Loss: 0.1664, Validation Accuracy: 74.49%\n",
      "Epoch 7/10, Train Loss: 0.1031, Validation Accuracy: 74.90%\n",
      "Epoch 8/10, Train Loss: 0.0525, Validation Accuracy: 73.28%\n",
      "Epoch 9/10, Train Loss: 0.0234, Validation Accuracy: 74.49%\n",
      "Epoch 10/10, Train Loss: 0.0087, Validation Accuracy: 74.70%\n"
     ]
    }
   ],
   "source": [
    "# Обучение модели\n",
    "writer = SummaryWriter('runs/experiment_name')\n",
    "\n",
    "best_accuracy = 0.0  # Инициализация переменной для лучшей точности\n",
    "\n",
    "for epoch in range(num_epochs):\n",
    "    model.train()\n",
    "    for i, (videos, labels) in enumerate(train_loader):\n",
    "        videos = videos.to(device)\n",
    "        labels = labels.to(device)\n",
    "\n",
    "        # Обнуляем градиенты\n",
    "        optimizer.zero_grad()\n",
    "        \n",
    "        # Прямой проход\n",
    "        outputs = model(videos)\n",
    "        \n",
    "        # Расчет потерь\n",
    "        loss = criterion(outputs, labels)\n",
    "        \n",
    "        # Обратное распространение\n",
    "        loss.backward()\n",
    "        \n",
    "        # Оптимизация\n",
    "        optimizer.step()\n",
    "    \n",
    "    # Валидация модели\n",
    "    model.eval()\n",
    "    correct = 0\n",
    "    total = 0\n",
    "    for videos, labels in valid_loader:\n",
    "        videos = videos.to(device)\n",
    "        labels = labels.to(device)\n",
    "        outputs = model(videos)\n",
    "        _, predicted = torch.max(outputs.data, 1)\n",
    "        total += labels.size(0)\n",
    "        correct += (predicted == labels).sum().item()\n",
    "        \n",
    "        if (100 * correct / total) > best_accuracy:\n",
    "            best_accuracy = 100 * correct / total\n",
    "            torch.save(model.state_dict(), f'model_epoch_{epoch+1}.pth')\n",
    "            print(f'Model saved at epoch {epoch+1}')\n",
    "        \n",
    "        # Для записи потерь обучения\n",
    "    writer.add_scalar('Training Loss', loss.item(), epoch)\n",
    "\n",
    "    # Для записи точности валидации\n",
    "    writer.add_scalar('Validation Accuracy', 100 * correct / total, epoch)\n",
    "\n",
    "    # Выводим статистику после каждой эпохи\n",
    "    print(f'Epoch {epoch + 1}/{num_epochs}, Train Loss: {loss.item():.4f}, Validation Accuracy: {100 * correct / total:.2f}%')\n",
    "\n",
    "\n",
    "writer.close()"
   ]
  },
  {
   "cell_type": "code",
   "execution_count": 23,
   "id": "b26fb570-1fe7-48fb-b41c-94479137cbca",
   "metadata": {
    "execution": {
     "iopub.execute_input": "2023-11-12T03:00:02.652254Z",
     "iopub.status.busy": "2023-11-12T03:00:02.651694Z",
     "iopub.status.idle": "2023-11-12T03:00:03.529432Z",
     "shell.execute_reply": "2023-11-12T03:00:03.528455Z",
     "shell.execute_reply.started": "2023-11-12T03:00:02.652217Z"
    },
    "tags": []
   },
   "outputs": [],
   "source": [
    "# Сохранение модели\n",
    "torch.save(model.state_dict(), 'action_recognition_model.pth')\n"
   ]
  },
  {
   "cell_type": "markdown",
   "id": "bb64d9e6-6629-47ad-9d35-6c967e85fa17",
   "metadata": {},
   "source": [
    "## Проверка модели"
   ]
  },
  {
   "cell_type": "code",
   "execution_count": 12,
   "id": "22e160fe-c212-48d0-a421-37592081ea20",
   "metadata": {
    "collapsed": true,
    "execution": {
     "iopub.execute_input": "2023-11-12T06:37:54.709068Z",
     "iopub.status.busy": "2023-11-12T06:37:54.708375Z",
     "iopub.status.idle": "2023-11-12T06:37:55.181520Z",
     "shell.execute_reply": "2023-11-12T06:37:55.180828Z",
     "shell.execute_reply.started": "2023-11-12T06:37:54.709032Z"
    },
    "jupyter": {
     "outputs_hidden": true
    },
    "tags": []
   },
   "outputs": [
    {
     "data": {
      "text/plain": [
       "VideoResNet(\n",
       "  (stem): BasicStem(\n",
       "    (0): Conv3d(3, 64, kernel_size=(3, 7, 7), stride=(1, 2, 2), padding=(1, 3, 3), bias=False)\n",
       "    (1): BatchNorm3d(64, eps=1e-05, momentum=0.1, affine=True, track_running_stats=True)\n",
       "    (2): ReLU(inplace=True)\n",
       "  )\n",
       "  (layer1): Sequential(\n",
       "    (0): BasicBlock(\n",
       "      (conv1): Sequential(\n",
       "        (0): Conv3DSimple(64, 64, kernel_size=(3, 3, 3), stride=(1, 1, 1), padding=(1, 1, 1), bias=False)\n",
       "        (1): BatchNorm3d(64, eps=1e-05, momentum=0.1, affine=True, track_running_stats=True)\n",
       "        (2): ReLU(inplace=True)\n",
       "      )\n",
       "      (conv2): Sequential(\n",
       "        (0): Conv3DSimple(64, 64, kernel_size=(3, 3, 3), stride=(1, 1, 1), padding=(1, 1, 1), bias=False)\n",
       "        (1): BatchNorm3d(64, eps=1e-05, momentum=0.1, affine=True, track_running_stats=True)\n",
       "      )\n",
       "      (relu): ReLU(inplace=True)\n",
       "    )\n",
       "    (1): BasicBlock(\n",
       "      (conv1): Sequential(\n",
       "        (0): Conv3DSimple(64, 64, kernel_size=(3, 3, 3), stride=(1, 1, 1), padding=(1, 1, 1), bias=False)\n",
       "        (1): BatchNorm3d(64, eps=1e-05, momentum=0.1, affine=True, track_running_stats=True)\n",
       "        (2): ReLU(inplace=True)\n",
       "      )\n",
       "      (conv2): Sequential(\n",
       "        (0): Conv3DSimple(64, 64, kernel_size=(3, 3, 3), stride=(1, 1, 1), padding=(1, 1, 1), bias=False)\n",
       "        (1): BatchNorm3d(64, eps=1e-05, momentum=0.1, affine=True, track_running_stats=True)\n",
       "      )\n",
       "      (relu): ReLU(inplace=True)\n",
       "    )\n",
       "  )\n",
       "  (layer2): Sequential(\n",
       "    (0): BasicBlock(\n",
       "      (conv1): Sequential(\n",
       "        (0): Conv3DSimple(64, 128, kernel_size=(3, 3, 3), stride=(2, 2, 2), padding=(1, 1, 1), bias=False)\n",
       "        (1): BatchNorm3d(128, eps=1e-05, momentum=0.1, affine=True, track_running_stats=True)\n",
       "        (2): ReLU(inplace=True)\n",
       "      )\n",
       "      (conv2): Sequential(\n",
       "        (0): Conv3DSimple(128, 128, kernel_size=(3, 3, 3), stride=(1, 1, 1), padding=(1, 1, 1), bias=False)\n",
       "        (1): BatchNorm3d(128, eps=1e-05, momentum=0.1, affine=True, track_running_stats=True)\n",
       "      )\n",
       "      (relu): ReLU(inplace=True)\n",
       "      (downsample): Sequential(\n",
       "        (0): Conv3d(64, 128, kernel_size=(1, 1, 1), stride=(2, 2, 2), bias=False)\n",
       "        (1): BatchNorm3d(128, eps=1e-05, momentum=0.1, affine=True, track_running_stats=True)\n",
       "      )\n",
       "    )\n",
       "    (1): BasicBlock(\n",
       "      (conv1): Sequential(\n",
       "        (0): Conv3DSimple(128, 128, kernel_size=(3, 3, 3), stride=(1, 1, 1), padding=(1, 1, 1), bias=False)\n",
       "        (1): BatchNorm3d(128, eps=1e-05, momentum=0.1, affine=True, track_running_stats=True)\n",
       "        (2): ReLU(inplace=True)\n",
       "      )\n",
       "      (conv2): Sequential(\n",
       "        (0): Conv3DSimple(128, 128, kernel_size=(3, 3, 3), stride=(1, 1, 1), padding=(1, 1, 1), bias=False)\n",
       "        (1): BatchNorm3d(128, eps=1e-05, momentum=0.1, affine=True, track_running_stats=True)\n",
       "      )\n",
       "      (relu): ReLU(inplace=True)\n",
       "    )\n",
       "  )\n",
       "  (layer3): Sequential(\n",
       "    (0): BasicBlock(\n",
       "      (conv1): Sequential(\n",
       "        (0): Conv3DSimple(128, 256, kernel_size=(3, 3, 3), stride=(2, 2, 2), padding=(1, 1, 1), bias=False)\n",
       "        (1): BatchNorm3d(256, eps=1e-05, momentum=0.1, affine=True, track_running_stats=True)\n",
       "        (2): ReLU(inplace=True)\n",
       "      )\n",
       "      (conv2): Sequential(\n",
       "        (0): Conv3DSimple(256, 256, kernel_size=(3, 3, 3), stride=(1, 1, 1), padding=(1, 1, 1), bias=False)\n",
       "        (1): BatchNorm3d(256, eps=1e-05, momentum=0.1, affine=True, track_running_stats=True)\n",
       "      )\n",
       "      (relu): ReLU(inplace=True)\n",
       "      (downsample): Sequential(\n",
       "        (0): Conv3d(128, 256, kernel_size=(1, 1, 1), stride=(2, 2, 2), bias=False)\n",
       "        (1): BatchNorm3d(256, eps=1e-05, momentum=0.1, affine=True, track_running_stats=True)\n",
       "      )\n",
       "    )\n",
       "    (1): BasicBlock(\n",
       "      (conv1): Sequential(\n",
       "        (0): Conv3DSimple(256, 256, kernel_size=(3, 3, 3), stride=(1, 1, 1), padding=(1, 1, 1), bias=False)\n",
       "        (1): BatchNorm3d(256, eps=1e-05, momentum=0.1, affine=True, track_running_stats=True)\n",
       "        (2): ReLU(inplace=True)\n",
       "      )\n",
       "      (conv2): Sequential(\n",
       "        (0): Conv3DSimple(256, 256, kernel_size=(3, 3, 3), stride=(1, 1, 1), padding=(1, 1, 1), bias=False)\n",
       "        (1): BatchNorm3d(256, eps=1e-05, momentum=0.1, affine=True, track_running_stats=True)\n",
       "      )\n",
       "      (relu): ReLU(inplace=True)\n",
       "    )\n",
       "  )\n",
       "  (layer4): Sequential(\n",
       "    (0): BasicBlock(\n",
       "      (conv1): Sequential(\n",
       "        (0): Conv3DSimple(256, 512, kernel_size=(3, 3, 3), stride=(2, 2, 2), padding=(1, 1, 1), bias=False)\n",
       "        (1): BatchNorm3d(512, eps=1e-05, momentum=0.1, affine=True, track_running_stats=True)\n",
       "        (2): ReLU(inplace=True)\n",
       "      )\n",
       "      (conv2): Sequential(\n",
       "        (0): Conv3DSimple(512, 512, kernel_size=(3, 3, 3), stride=(1, 1, 1), padding=(1, 1, 1), bias=False)\n",
       "        (1): BatchNorm3d(512, eps=1e-05, momentum=0.1, affine=True, track_running_stats=True)\n",
       "      )\n",
       "      (relu): ReLU(inplace=True)\n",
       "      (downsample): Sequential(\n",
       "        (0): Conv3d(256, 512, kernel_size=(1, 1, 1), stride=(2, 2, 2), bias=False)\n",
       "        (1): BatchNorm3d(512, eps=1e-05, momentum=0.1, affine=True, track_running_stats=True)\n",
       "      )\n",
       "    )\n",
       "    (1): BasicBlock(\n",
       "      (conv1): Sequential(\n",
       "        (0): Conv3DSimple(512, 512, kernel_size=(3, 3, 3), stride=(1, 1, 1), padding=(1, 1, 1), bias=False)\n",
       "        (1): BatchNorm3d(512, eps=1e-05, momentum=0.1, affine=True, track_running_stats=True)\n",
       "        (2): ReLU(inplace=True)\n",
       "      )\n",
       "      (conv2): Sequential(\n",
       "        (0): Conv3DSimple(512, 512, kernel_size=(3, 3, 3), stride=(1, 1, 1), padding=(1, 1, 1), bias=False)\n",
       "        (1): BatchNorm3d(512, eps=1e-05, momentum=0.1, affine=True, track_running_stats=True)\n",
       "      )\n",
       "      (relu): ReLU(inplace=True)\n",
       "    )\n",
       "  )\n",
       "  (avgpool): AdaptiveAvgPool3d(output_size=(1, 1, 1))\n",
       "  (fc): Linear(in_features=512, out_features=24, bias=True)\n",
       ")"
      ]
     },
     "execution_count": 12,
     "metadata": {},
     "output_type": "execute_result"
    }
   ],
   "source": [
    "model = r3d_18(weights=None)\n",
    "model.fc = nn.Linear(model.fc.in_features, num_classes)\n",
    "model.load_state_dict(torch.load('action_recognition_model.pth'))\n",
    "model.to(device)\n",
    "model.eval()"
   ]
  },
  {
   "cell_type": "markdown",
   "id": "eeedc22c-6600-4d21-9928-d836c3d490bd",
   "metadata": {},
   "source": [
    "### Функции для распознавания действий в видео"
   ]
  },
  {
   "cell_type": "code",
   "execution_count": 23,
   "id": "d011f15a-01fe-49a5-a1f6-aeb2a8c753cf",
   "metadata": {
    "execution": {
     "iopub.execute_input": "2023-11-12T06:53:40.921434Z",
     "iopub.status.busy": "2023-11-12T06:53:40.920959Z",
     "iopub.status.idle": "2023-11-12T06:53:40.930843Z",
     "shell.execute_reply": "2023-11-12T06:53:40.930306Z",
     "shell.execute_reply.started": "2023-11-12T06:53:40.921407Z"
    },
    "tags": []
   },
   "outputs": [],
   "source": [
    "import matplotlib.pyplot as plt\n",
    "import cv2\n",
    "\n",
    "def display_image(image):\n",
    "    plt.imshow(cv2.cvtColor(image, cv2.COLOR_BGR2RGB))\n",
    "    plt.axis('off')  # Отключить оси координат для чистого отображения\n",
    "    plt.show()"
   ]
  },
  {
   "cell_type": "markdown",
   "id": "d9f851ba-fe58-467b-a1bc-d1b7e627753b",
   "metadata": {},
   "source": [
    "### один кадр в секунду"
   ]
  },
  {
   "cell_type": "code",
   "execution_count": 13,
   "id": "eda5c8c0-7f75-4c87-861a-ca510949d10e",
   "metadata": {
    "execution": {
     "iopub.execute_input": "2023-11-12T06:38:01.291435Z",
     "iopub.status.busy": "2023-11-12T06:38:01.290653Z",
     "iopub.status.idle": "2023-11-12T06:38:01.343697Z",
     "shell.execute_reply": "2023-11-12T06:38:01.343033Z",
     "shell.execute_reply.started": "2023-11-12T06:38:01.291397Z"
    },
    "tags": []
   },
   "outputs": [],
   "source": [
    "def process_frame(frame, model, transform, device, class_name_to_idx, frame_number, fps):\n",
    "    # Обработка одного кадра в секунду\n",
    "    if frame_number % int(fps) == 0:\n",
    "        frame = cv2.cvtColor(frame, cv2.COLOR_BGR2RGB)\n",
    "        frame = Image.fromarray(frame)\n",
    "        frame = transform(frame).unsqueeze(0).to(device)\n",
    "\n",
    "        with torch.no_grad():\n",
    "            outputs = model(frame)\n",
    "            _, predicted = torch.max(outputs, 1)\n",
    "            class_name = [name for name, idx in class_name_to_idx.items() if idx == predicted.item()][0]\n",
    "            timestamp = frame_number / fps\n",
    "            \n",
    "            return class_name, timestamp\n",
    "    else:\n",
    "        return None\n"
   ]
  },
  {
   "cell_type": "markdown",
   "id": "800fd822-1e89-44cf-ad39-bfb6a6a6c522",
   "metadata": {},
   "source": [
    "### три кадра в секунду"
   ]
  },
  {
   "cell_type": "code",
   "execution_count": 14,
   "id": "d17ef09f-e1ff-448e-a254-1b867d0e667e",
   "metadata": {
    "execution": {
     "iopub.execute_input": "2023-11-12T06:38:03.116068Z",
     "iopub.status.busy": "2023-11-12T06:38:03.115423Z",
     "iopub.status.idle": "2023-11-12T06:38:03.129668Z",
     "shell.execute_reply": "2023-11-12T06:38:03.129083Z",
     "shell.execute_reply.started": "2023-11-12T06:38:03.116033Z"
    },
    "tags": []
   },
   "outputs": [],
   "source": [
    "import gc\n",
    "\n",
    "def process_frame_group(frame_group, model, transform, device, class_name_to_idx, timestamp, fps):\n",
    "    processed_frames = []\n",
    "    for frame in frame_group:\n",
    "        frame = cv2.cvtColor(frame, cv2.COLOR_BGR2RGB)\n",
    "        frame = Image.fromarray(frame)\n",
    "        frame = transform(frame)\n",
    "        processed_frames.append(frame)\n",
    "\n",
    "    # Стекирование кадров и добавление батч-размерности\n",
    "    frames_tensor = torch.stack(processed_frames).unsqueeze(0).to(device)\n",
    "\n",
    "    with torch.no_grad():\n",
    "        outputs = model(frames_tensor)\n",
    "        _, predicted = torch.max(outputs, 1)\n",
    "        class_name = [name for name, idx in class_name_to_idx.items() if idx == predicted.item()][0]\n",
    "    \n",
    "    del frames_tensor\n",
    "    gc.collect()\n",
    "    \n",
    "    return class_name, timestamp\n"
   ]
  },
  {
   "cell_type": "markdown",
   "id": "f5061572-c176-4dce-b344-67a86d745c3d",
   "metadata": {
    "execution": {
     "iopub.execute_input": "2023-11-12T05:32:45.657071Z",
     "iopub.status.busy": "2023-11-12T05:32:45.656366Z",
     "iopub.status.idle": "2023-11-12T05:32:45.666658Z",
     "shell.execute_reply": "2023-11-12T05:32:45.666114Z",
     "shell.execute_reply.started": "2023-11-12T05:32:45.657036Z"
    },
    "tags": []
   },
   "source": [
    "### Многопоточная обработка видео"
   ]
  },
  {
   "cell_type": "code",
   "execution_count": 19,
   "id": "85d730c8-a3df-4cf3-957d-a338cabb8869",
   "metadata": {
    "execution": {
     "iopub.execute_input": "2023-11-12T06:41:59.238368Z",
     "iopub.status.busy": "2023-11-12T06:41:59.237734Z",
     "iopub.status.idle": "2023-11-12T06:41:59.251962Z",
     "shell.execute_reply": "2023-11-12T06:41:59.251382Z",
     "shell.execute_reply.started": "2023-11-12T06:41:59.238339Z"
    },
    "tags": []
   },
   "outputs": [],
   "source": [
    "import concurrent.futures\n",
    "\n",
    "def process_video_parallel(video_path, model, transform, device, class_name_to_idx):\n",
    "    cap = cv2.VideoCapture(video_path)\n",
    "    fps = cap.get(cv2.CAP_PROP_FPS)\n",
    "    action_timestamps = {class_name: [] for class_name in class_name_to_idx.keys()}\n",
    "    \n",
    "    max_workers = 4  # Ограничение количества одновременных задач\n",
    "    \n",
    "    frames = []\n",
    "    while cap.isOpened():\n",
    "        ret, frame = cap.read()\n",
    "        if not ret:\n",
    "            break\n",
    "        frames.append(frame)\n",
    "    cap.release()\n",
    "\n",
    "    # Выборка трех кадров каждую секунду\n",
    "    frames_to_process = [frames[i:i+3] for i in range(0, len(frames), int(fps)) if i+3 <= len(frames)]\n",
    "    del frames\n",
    "    gc.collect()\n",
    "    with concurrent.futures.ThreadPoolExecutor(max_workers=max_workers) as executor:\n",
    "        future_to_frame = {executor.submit(process_frame_group, frame_group, model, transform, device, class_name_to_idx, idx / fps, fps): idx for idx, frame_group in enumerate(frames_to_process)}\n",
    "        for future in concurrent.futures.as_completed(future_to_frame):\n",
    "            result = future.result()\n",
    "            if result is not None:\n",
    "                class_name, timestamp = result\n",
    "                print(result)\n",
    "                display_image(frames_to_process[future_to_frame[future]][0])\n",
    "                action_timestamps[class_name].append(timestamp)\n",
    "            del result\n",
    "    del frames_to_process\n",
    "    gc.collect()  # Явный вызов сборщика мусора\n",
    "    return action_timestamps"
   ]
  },
  {
   "cell_type": "markdown",
   "id": "a7745824-49bc-4dc5-ba6e-1e5abe44e76f",
   "metadata": {},
   "source": [
    "### Однопоточная обработка видео"
   ]
  },
  {
   "cell_type": "code",
   "execution_count": 20,
   "id": "bd5eacfd-bc15-4f5a-9236-4b72b10bb92b",
   "metadata": {
    "execution": {
     "iopub.execute_input": "2023-11-12T06:42:02.069174Z",
     "iopub.status.busy": "2023-11-12T06:42:02.068529Z",
     "iopub.status.idle": "2023-11-12T06:42:02.105736Z",
     "shell.execute_reply": "2023-11-12T06:42:02.105093Z",
     "shell.execute_reply.started": "2023-11-12T06:42:02.069146Z"
    },
    "tags": []
   },
   "outputs": [],
   "source": [
    "def process_video(video_path, model, transform, device, class_name_to_idx):\n",
    "    cap = cv2.VideoCapture(video_path)\n",
    "    fps = cap.get(cv2.CAP_PROP_FPS)\n",
    "    action_timestamps = {class_name: [] for class_name in class_name_to_idx.keys()}\n",
    "\n",
    "    frames = []\n",
    "    while cap.isOpened():\n",
    "        ret, frame = cap.read()\n",
    "        if not ret:\n",
    "            break\n",
    "        frames.append(frame)\n",
    "    cap.release()\n",
    "\n",
    "    # Выборка трех кадров каждую секунду\n",
    "    frames_to_process = [frames[i:i+3] for i in range(0, len(frames), int(fps)) if i+3 <= len(frames)]\n",
    "    del frames\n",
    "    gc.collect()\n",
    "    print('Обработка видео...')\n",
    "\n",
    "    for idx, frame_group in enumerate(frames_to_process):\n",
    "        result = process_frame_group(frame_group, model, transform, device, class_name_to_idx, idx / fps, fps)\n",
    "        if result is not None:\n",
    "            class_name, timestamp = result\n",
    "            print(result)\n",
    "            display_image(frame_group[0])  # Отображение первого кадра в группе\n",
    "            action_timestamps[class_name].append(timestamp)\n",
    "\n",
    "    return action_timestamps\n"
   ]
  },
  {
   "cell_type": "markdown",
   "id": "ad023e57-a34d-4632-a923-e6ab59ebd7bc",
   "metadata": {},
   "source": [
    "### Обработка папки с видеоданными"
   ]
  },
  {
   "cell_type": "code",
   "execution_count": 21,
   "id": "973002cd-21c5-41c3-89fe-90a0709d66f7",
   "metadata": {
    "collapsed": true,
    "execution": {
     "iopub.execute_input": "2023-11-12T06:42:06.513317Z",
     "iopub.status.busy": "2023-11-12T06:42:06.512549Z",
     "iopub.status.idle": "2023-11-12T06:53:40.908144Z",
     "shell.execute_reply": "2023-11-12T06:53:40.907544Z",
     "shell.execute_reply.started": "2023-11-12T06:42:06.513280Z"
    },
    "jupyter": {
     "outputs_hidden": true
    },
    "tags": []
   },
   "outputs": [
    {
     "name": "stderr",
     "output_type": "stream",
     "text": [
      "  0%|          | 0/1397 [00:00<?, ?it/s]"
     ]
    },
    {
     "name": "stdout",
     "output_type": "stream",
     "text": [
      "Обработка видео...\n"
     ]
    },
    {
     "name": "stderr",
     "output_type": "stream",
     "text": [
      "  0%|          | 1/1397 [00:00<11:46,  1.98it/s]"
     ]
    },
    {
     "name": "stdout",
     "output_type": "stream",
     "text": [
      "('shoot_ball', 0.0)\n",
      "Ошибка при обработке видео test_data/test_dataset/001afca4-f375-43eb-93be-67bff5046313.avi: name 'display_image' is not defined\n",
      "Обработка видео...\n"
     ]
    },
    {
     "name": "stderr",
     "output_type": "stream",
     "text": [
      "  0%|          | 2/1397 [00:01<11:44,  1.98it/s]"
     ]
    },
    {
     "name": "stdout",
     "output_type": "stream",
     "text": [
      "('handstand', 0.0)\n",
      "Ошибка при обработке видео test_data/test_dataset/0061c38a-b8e9-4739-9690-18ea2528c8e1.avi: name 'display_image' is not defined\n",
      "Обработка видео...\n"
     ]
    },
    {
     "name": "stderr",
     "output_type": "stream",
     "text": [
      "  0%|          | 3/1397 [00:01<11:40,  1.99it/s]"
     ]
    },
    {
     "name": "stdout",
     "output_type": "stream",
     "text": [
      "('pick', 0.0)\n",
      "Ошибка при обработке видео test_data/test_dataset/008bfc66-7f83-4b22-844c-f1fa203850ac.avi: name 'display_image' is not defined\n",
      "Обработка видео...\n"
     ]
    },
    {
     "name": "stderr",
     "output_type": "stream",
     "text": [
      "  0%|          | 4/1397 [00:02<11:34,  2.00it/s]"
     ]
    },
    {
     "name": "stdout",
     "output_type": "stream",
     "text": [
      "('handstand', 0.0)\n",
      "Ошибка при обработке видео test_data/test_dataset/008dd2f4-ec80-46c2-87bd-174c31f92496.avi: name 'display_image' is not defined\n",
      "Обработка видео...\n",
      "('golf', 0.0)"
     ]
    },
    {
     "name": "stderr",
     "output_type": "stream",
     "text": [
      "  0%|          | 5/1397 [00:02<11:28,  2.02it/s]"
     ]
    },
    {
     "name": "stdout",
     "output_type": "stream",
     "text": [
      "\n",
      "Ошибка при обработке видео test_data/test_dataset/00b24106-a904-4aeb-8c56-d788e0a6e4a0.avi: name 'display_image' is not defined\n",
      "Обработка видео...\n"
     ]
    },
    {
     "name": "stderr",
     "output_type": "stream",
     "text": [
      "  0%|          | 6/1397 [00:02<11:27,  2.02it/s]"
     ]
    },
    {
     "name": "stdout",
     "output_type": "stream",
     "text": [
      "('flic_flac', 0.0)\n",
      "Ошибка при обработке видео test_data/test_dataset/00ea5bca-c7f7-4aed-a084-521c6350f656.avi: name 'display_image' is not defined\n",
      "Обработка видео...\n"
     ]
    },
    {
     "name": "stderr",
     "output_type": "stream",
     "text": [
      "  1%|          | 7/1397 [00:03<11:26,  2.03it/s]"
     ]
    },
    {
     "name": "stdout",
     "output_type": "stream",
     "text": [
      "('shoot_ball', 0.0)\n",
      "Ошибка при обработке видео test_data/test_dataset/00f4eb21-03f4-4717-9ee5-5297a5cce53c.avi: name 'display_image' is not defined\n",
      "Обработка видео...\n"
     ]
    },
    {
     "name": "stderr",
     "output_type": "stream",
     "text": [
      "  1%|          | 8/1397 [00:03<11:21,  2.04it/s]"
     ]
    },
    {
     "name": "stdout",
     "output_type": "stream",
     "text": [
      "('dive', 0.0)\n",
      "Ошибка при обработке видео test_data/test_dataset/00ff329b-deb1-4b85-a67a-1b0bdcf31bbe.avi: name 'display_image' is not defined\n",
      "Обработка видео...\n"
     ]
    },
    {
     "name": "stderr",
     "output_type": "stream",
     "text": [
      "  1%|          | 9/1397 [00:04<11:19,  2.04it/s]"
     ]
    },
    {
     "name": "stdout",
     "output_type": "stream",
     "text": [
      "('dive', 0.0)\n",
      "Ошибка при обработке видео test_data/test_dataset/01252ebd-1ba0-4cf4-a8ee-0ccda9668634.avi: name 'display_image' is not defined\n",
      "Обработка видео...\n"
     ]
    },
    {
     "name": "stderr",
     "output_type": "stream",
     "text": [
      "  1%|          | 10/1397 [00:04<11:19,  2.04it/s]"
     ]
    },
    {
     "name": "stdout",
     "output_type": "stream",
     "text": [
      "('fencing', 0.0)\n",
      "Ошибка при обработке видео test_data/test_dataset/012705c3-9eed-41a3-9dc5-4443b7be0abf.avi: name 'display_image' is not defined\n",
      "Обработка видео...\n"
     ]
    },
    {
     "name": "stderr",
     "output_type": "stream",
     "text": [
      "  1%|          | 11/1397 [00:05<11:21,  2.04it/s]"
     ]
    },
    {
     "name": "stdout",
     "output_type": "stream",
     "text": [
      "('shoot_ball', 0.0)\n",
      "Ошибка при обработке видео test_data/test_dataset/012c61d3-681b-406d-bf61-bd271f8d9de9.avi: name 'display_image' is not defined\n",
      "Обработка видео...\n"
     ]
    },
    {
     "name": "stderr",
     "output_type": "stream",
     "text": [
      "  1%|          | 12/1397 [00:05<11:22,  2.03it/s]"
     ]
    },
    {
     "name": "stdout",
     "output_type": "stream",
     "text": [
      "('swing_baseball', 0.0)\n",
      "Ошибка при обработке видео test_data/test_dataset/012cf8de-1f79-45b2-afa0-afbe823784a9.avi: name 'display_image' is not defined\n",
      "Обработка видео...\n"
     ]
    },
    {
     "name": "stderr",
     "output_type": "stream",
     "text": [
      "  1%|          | 13/1397 [00:06<11:20,  2.03it/s]"
     ]
    },
    {
     "name": "stdout",
     "output_type": "stream",
     "text": [
      "('dive', 0.0)\n",
      "Ошибка при обработке видео test_data/test_dataset/018481bc-77bf-47cb-b29b-3bf7ab561fd5.avi: name 'display_image' is not defined\n",
      "Обработка видео...\n"
     ]
    },
    {
     "name": "stderr",
     "output_type": "stream",
     "text": [
      "  1%|          | 14/1397 [00:06<11:34,  1.99it/s]"
     ]
    },
    {
     "name": "stdout",
     "output_type": "stream",
     "text": [
      "('jump', 0.0)\n",
      "Ошибка при обработке видео test_data/test_dataset/01c083be-21c9-448f-aa1a-c0b701683fdf.avi: name 'display_image' is not defined\n",
      "Обработка видео...\n"
     ]
    },
    {
     "name": "stderr",
     "output_type": "stream",
     "text": [
      "  1%|          | 15/1397 [00:07<11:31,  2.00it/s]"
     ]
    },
    {
     "name": "stdout",
     "output_type": "stream",
     "text": [
      "('golf', 0.0)\n",
      "Ошибка при обработке видео test_data/test_dataset/01f3f431-16a5-4021-b03d-c0854d4af889.avi: name 'display_image' is not defined\n",
      "Обработка видео...\n"
     ]
    },
    {
     "name": "stderr",
     "output_type": "stream",
     "text": [
      "  1%|          | 16/1397 [00:07<11:22,  2.02it/s]"
     ]
    },
    {
     "name": "stdout",
     "output_type": "stream",
     "text": [
      "('swing_baseball', 0.0)\n",
      "Ошибка при обработке видео test_data/test_dataset/02058a50-3325-4d70-ae79-99c6c03ecbd4.avi: name 'display_image' is not defined\n",
      "Обработка видео...\n",
      "('handstand', 0.0)"
     ]
    },
    {
     "name": "stderr",
     "output_type": "stream",
     "text": [
      "  1%|          | 17/1397 [00:08<11:17,  2.04it/s]"
     ]
    },
    {
     "name": "stdout",
     "output_type": "stream",
     "text": [
      "\n",
      "Ошибка при обработке видео test_data/test_dataset/024b527e-ef26-4dbf-8f66-dbb4c576faac.avi: name 'display_image' is not defined\n",
      "Обработка видео...\n"
     ]
    },
    {
     "name": "stderr",
     "output_type": "stream",
     "text": [
      "  1%|▏         | 18/1397 [00:08<11:20,  2.03it/s]"
     ]
    },
    {
     "name": "stdout",
     "output_type": "stream",
     "text": [
      "('dribble', 0.0)\n",
      "Ошибка при обработке видео test_data/test_dataset/0258af09-8ae5-4a10-8206-a5c5ae14aeca.avi: name 'display_image' is not defined\n",
      "Обработка видео...\n"
     ]
    },
    {
     "name": "stderr",
     "output_type": "stream",
     "text": [
      "  1%|▏         | 19/1397 [00:09<11:17,  2.03it/s]"
     ]
    },
    {
     "name": "stdout",
     "output_type": "stream",
     "text": [
      "('golf', 0.0)\n",
      "Ошибка при обработке видео test_data/test_dataset/026a483a-79dd-437d-8a33-cfca8b2a24c7.avi: name 'display_image' is not defined\n",
      "Обработка видео...\n"
     ]
    },
    {
     "name": "stderr",
     "output_type": "stream",
     "text": [
      "  1%|▏         | 20/1397 [00:09<11:10,  2.05it/s]"
     ]
    },
    {
     "name": "stdout",
     "output_type": "stream",
     "text": [
      "('shoot_ball', 0.0)\n",
      "Ошибка при обработке видео test_data/test_dataset/02731fd4-8d9d-45fc-9921-073f49203d63.avi: name 'display_image' is not defined\n",
      "Обработка видео...\n"
     ]
    },
    {
     "name": "stderr",
     "output_type": "stream",
     "text": [
      "  2%|▏         | 21/1397 [00:10<11:08,  2.06it/s]"
     ]
    },
    {
     "name": "stdout",
     "output_type": "stream",
     "text": [
      "('swing_baseball', 0.0)\n",
      "Ошибка при обработке видео test_data/test_dataset/0283ef4b-a34d-46db-aff4-d22946903d7a.avi: name 'display_image' is not defined\n",
      "Обработка видео...\n"
     ]
    },
    {
     "name": "stderr",
     "output_type": "stream",
     "text": [
      "  2%|▏         | 22/1397 [00:10<11:09,  2.05it/s]"
     ]
    },
    {
     "name": "stdout",
     "output_type": "stream",
     "text": [
      "('fencing', 0.0)\n",
      "Ошибка при обработке видео test_data/test_dataset/029bf368-fd4e-44e6-a995-bc3d22dcd253.avi: name 'display_image' is not defined\n",
      "Обработка видео...\n"
     ]
    },
    {
     "name": "stderr",
     "output_type": "stream",
     "text": [
      "  2%|▏         | 23/1397 [00:11<11:16,  2.03it/s]"
     ]
    },
    {
     "name": "stdout",
     "output_type": "stream",
     "text": [
      "('pullup', 0.0)\n",
      "Ошибка при обработке видео test_data/test_dataset/02b42a3b-0144-4323-979c-da76439594e6.avi: name 'display_image' is not defined\n",
      "Обработка видео...\n"
     ]
    },
    {
     "name": "stderr",
     "output_type": "stream",
     "text": [
      "  2%|▏         | 24/1397 [00:11<11:25,  2.00it/s]"
     ]
    },
    {
     "name": "stdout",
     "output_type": "stream",
     "text": [
      "('sword_exercise', 0.0)\n",
      "Ошибка при обработке видео test_data/test_dataset/02bf30a2-025b-4de7-993c-e011e1e0795d.avi: name 'display_image' is not defined\n",
      "Обработка видео...\n"
     ]
    },
    {
     "name": "stderr",
     "output_type": "stream",
     "text": [
      "  2%|▏         | 25/1397 [00:12<11:33,  1.98it/s]"
     ]
    },
    {
     "name": "stdout",
     "output_type": "stream",
     "text": [
      "('cartwheel', 0.0)\n",
      "Ошибка при обработке видео test_data/test_dataset/02daddab-8f40-4f1a-b694-7d89e7cf7e01.avi: name 'display_image' is not defined\n",
      "Обработка видео...\n"
     ]
    },
    {
     "name": "stderr",
     "output_type": "stream",
     "text": [
      "  2%|▏         | 26/1397 [00:12<11:28,  1.99it/s]"
     ]
    },
    {
     "name": "stdout",
     "output_type": "stream",
     "text": [
      "('pushup', 0.0)\n",
      "Ошибка при обработке видео test_data/test_dataset/0327d8a9-8f6d-4d80-afa7-7407dc6d1ee3.avi: name 'display_image' is not defined\n",
      "Обработка видео...\n"
     ]
    },
    {
     "name": "stderr",
     "output_type": "stream",
     "text": [
      "  2%|▏         | 27/1397 [00:13<11:19,  2.02it/s]"
     ]
    },
    {
     "name": "stdout",
     "output_type": "stream",
     "text": [
      "('pushup', 0.0)\n",
      "Ошибка при обработке видео test_data/test_dataset/03534796-0e5b-4aed-bc87-8609de08ec8a.avi: name 'display_image' is not defined\n",
      "Обработка видео...\n"
     ]
    },
    {
     "name": "stderr",
     "output_type": "stream",
     "text": [
      "  2%|▏         | 28/1397 [00:13<11:28,  1.99it/s]"
     ]
    },
    {
     "name": "stdout",
     "output_type": "stream",
     "text": [
      "('golf', 0.0)\n",
      "Ошибка при обработке видео test_data/test_dataset/03cbd1f4-34e2-44dc-8594-718d6fb0bba2.avi: name 'display_image' is not defined\n",
      "Обработка видео...\n"
     ]
    },
    {
     "name": "stderr",
     "output_type": "stream",
     "text": [
      "  2%|▏         | 29/1397 [00:14<11:24,  2.00it/s]"
     ]
    },
    {
     "name": "stdout",
     "output_type": "stream",
     "text": [
      "('fencing', 0.0)\n",
      "Ошибка при обработке видео test_data/test_dataset/03e94295-5102-4a34-8393-5f9f3658ccf7.avi: name 'display_image' is not defined\n",
      "Обработка видео...\n"
     ]
    },
    {
     "name": "stderr",
     "output_type": "stream",
     "text": [
      "  2%|▏         | 30/1397 [00:14<11:19,  2.01it/s]"
     ]
    },
    {
     "name": "stdout",
     "output_type": "stream",
     "text": [
      "('golf', 0.0)\n",
      "Ошибка при обработке видео test_data/test_dataset/041741b1-d3d3-4f05-a204-b4c7074863d2.avi: name 'display_image' is not defined\n",
      "Обработка видео...\n"
     ]
    },
    {
     "name": "stderr",
     "output_type": "stream",
     "text": [
      "  2%|▏         | 31/1397 [00:15<11:15,  2.02it/s]"
     ]
    },
    {
     "name": "stdout",
     "output_type": "stream",
     "text": [
      "('golf', 0.0)\n",
      "Ошибка при обработке видео test_data/test_dataset/0422ed21-9377-4ae8-af2e-9a9d99caec18.avi: name 'display_image' is not defined\n",
      "Обработка видео...\n"
     ]
    },
    {
     "name": "stderr",
     "output_type": "stream",
     "text": [
      "  2%|▏         | 32/1397 [00:15<11:17,  2.01it/s]"
     ]
    },
    {
     "name": "stdout",
     "output_type": "stream",
     "text": [
      "('handstand', 0.0)\n",
      "Ошибка при обработке видео test_data/test_dataset/0438bbde-9adf-46b9-9941-bbb1217609d3.avi: name 'display_image' is not defined\n",
      "Обработка видео...\n"
     ]
    },
    {
     "name": "stderr",
     "output_type": "stream",
     "text": [
      "  2%|▏         | 33/1397 [00:16<11:12,  2.03it/s]"
     ]
    },
    {
     "name": "stdout",
     "output_type": "stream",
     "text": [
      "('dive', 0.0)\n",
      "Ошибка при обработке видео test_data/test_dataset/044b15bb-a261-47a5-a480-9fdfa70ecdf4.avi: name 'display_image' is not defined\n",
      "Обработка видео...\n"
     ]
    },
    {
     "name": "stderr",
     "output_type": "stream",
     "text": [
      "  2%|▏         | 34/1397 [00:16<11:16,  2.01it/s]"
     ]
    },
    {
     "name": "stdout",
     "output_type": "stream",
     "text": [
      "('shoot_ball', 0.0)\n",
      "Ошибка при обработке видео test_data/test_dataset/044deaed-802b-48f8-bc6c-01fdc270ca2f.avi: name 'display_image' is not defined\n",
      "Обработка видео...\n"
     ]
    },
    {
     "name": "stderr",
     "output_type": "stream",
     "text": [
      "  3%|▎         | 35/1397 [00:17<11:24,  1.99it/s]"
     ]
    },
    {
     "name": "stdout",
     "output_type": "stream",
     "text": [
      "('sword_exercise', 0.0)\n",
      "Ошибка при обработке видео test_data/test_dataset/04673b51-b8ea-415e-9549-962f3f533711.avi: name 'display_image' is not defined\n",
      "Обработка видео...\n"
     ]
    },
    {
     "name": "stderr",
     "output_type": "stream",
     "text": [
      "  3%|▎         | 36/1397 [00:17<11:19,  2.00it/s]"
     ]
    },
    {
     "name": "stdout",
     "output_type": "stream",
     "text": [
      "('pushup', 0.0)\n",
      "Ошибка при обработке видео test_data/test_dataset/04681339-49b4-4c42-af24-ce07a96521bc.avi: name 'display_image' is not defined\n",
      "Обработка видео...\n"
     ]
    },
    {
     "name": "stderr",
     "output_type": "stream",
     "text": [
      "  3%|▎         | 37/1397 [00:18<11:16,  2.01it/s]"
     ]
    },
    {
     "name": "stdout",
     "output_type": "stream",
     "text": [
      "('sword_exercise', 0.0)\n",
      "Ошибка при обработке видео test_data/test_dataset/046cadbb-6892-4748-b52a-62c78a20b953.avi: name 'display_image' is not defined\n",
      "Обработка видео...\n"
     ]
    },
    {
     "name": "stderr",
     "output_type": "stream",
     "text": [
      "  3%|▎         | 38/1397 [00:18<11:13,  2.02it/s]"
     ]
    },
    {
     "name": "stdout",
     "output_type": "stream",
     "text": [
      "('handstand', 0.0)\n",
      "Ошибка при обработке видео test_data/test_dataset/047a60f0-c68b-4fc8-a6b7-07599eda16af.avi: name 'display_image' is not defined\n",
      "Обработка видео...\n"
     ]
    },
    {
     "name": "stderr",
     "output_type": "stream",
     "text": [
      "  3%|▎         | 39/1397 [00:19<11:14,  2.01it/s]"
     ]
    },
    {
     "name": "stdout",
     "output_type": "stream",
     "text": [
      "('handstand', 0.0)\n",
      "Ошибка при обработке видео test_data/test_dataset/047e3b26-7345-4e2d-94e0-4fe5a4833ab4.avi: name 'display_image' is not defined\n",
      "Обработка видео...\n"
     ]
    },
    {
     "name": "stderr",
     "output_type": "stream",
     "text": [
      "  3%|▎         | 40/1397 [00:19<11:08,  2.03it/s]"
     ]
    },
    {
     "name": "stdout",
     "output_type": "stream",
     "text": [
      "('pushup', 0.0)\n",
      "Ошибка при обработке видео test_data/test_dataset/04a2255c-3812-4ecc-a5ad-a1f58253ea17.avi: name 'display_image' is not defined\n",
      "Обработка видео...\n",
      "('golf', 0.0)"
     ]
    },
    {
     "name": "stderr",
     "output_type": "stream",
     "text": [
      "  3%|▎         | 41/1397 [00:20<11:18,  2.00it/s]"
     ]
    },
    {
     "name": "stdout",
     "output_type": "stream",
     "text": [
      "\n",
      "Ошибка при обработке видео test_data/test_dataset/04d1810a-e2db-4bbd-88e6-19c987cc1efa.avi: name 'display_image' is not defined\n",
      "Обработка видео...\n"
     ]
    },
    {
     "name": "stderr",
     "output_type": "stream",
     "text": [
      "  3%|▎         | 42/1397 [00:20<11:17,  2.00it/s]"
     ]
    },
    {
     "name": "stdout",
     "output_type": "stream",
     "text": [
      "('climb', 0.0)\n",
      "Ошибка при обработке видео test_data/test_dataset/04de4729-b089-4207-b156-a143c11d9d41.avi: name 'display_image' is not defined\n",
      "Обработка видео...\n"
     ]
    },
    {
     "name": "stderr",
     "output_type": "stream",
     "text": [
      "  3%|▎         | 43/1397 [00:21<11:12,  2.01it/s]"
     ]
    },
    {
     "name": "stdout",
     "output_type": "stream",
     "text": [
      "('handstand', 0.0)\n",
      "Ошибка при обработке видео test_data/test_dataset/04e5e779-13bb-4e7e-99ce-d62da4feb6ff.avi: name 'display_image' is not defined\n",
      "Обработка видео...\n",
      "('sword_exercise', 0.0)\n"
     ]
    },
    {
     "name": "stderr",
     "output_type": "stream",
     "text": [
      "  3%|▎         | 44/1397 [00:21<11:07,  2.03it/s]"
     ]
    },
    {
     "name": "stdout",
     "output_type": "stream",
     "text": [
      "Ошибка при обработке видео test_data/test_dataset/04f92afd-f5ce-456b-96a4-c15c654fb0b1.avi: name 'display_image' is not defined\n",
      "Обработка видео...\n"
     ]
    },
    {
     "name": "stderr",
     "output_type": "stream",
     "text": [
      "  3%|▎         | 45/1397 [00:22<11:03,  2.04it/s]"
     ]
    },
    {
     "name": "stdout",
     "output_type": "stream",
     "text": [
      "('shoot_ball', 0.0)\n",
      "Ошибка при обработке видео test_data/test_dataset/051aad51-8c3c-4a9a-a577-c45cc07222dc.avi: name 'display_image' is not defined\n",
      "Обработка видео...\n"
     ]
    },
    {
     "name": "stderr",
     "output_type": "stream",
     "text": [
      "  3%|▎         | 46/1397 [00:22<11:09,  2.02it/s]"
     ]
    },
    {
     "name": "stdout",
     "output_type": "stream",
     "text": [
      "('shoot_ball', 0.0)\n",
      "Ошибка при обработке видео test_data/test_dataset/059dca61-d208-4de8-a06f-9ef42b9beac9.avi: name 'display_image' is not defined\n",
      "Обработка видео...\n"
     ]
    },
    {
     "name": "stderr",
     "output_type": "stream",
     "text": [
      "  3%|▎         | 47/1397 [00:23<11:02,  2.04it/s]"
     ]
    },
    {
     "name": "stdout",
     "output_type": "stream",
     "text": [
      "('fencing', 0.0)\n",
      "Ошибка при обработке видео test_data/test_dataset/05cc7e97-e37c-400c-a538-9859d839a15f.avi: name 'display_image' is not defined\n",
      "Обработка видео...\n"
     ]
    },
    {
     "name": "stderr",
     "output_type": "stream",
     "text": [
      "  3%|▎         | 48/1397 [00:23<11:01,  2.04it/s]"
     ]
    },
    {
     "name": "stdout",
     "output_type": "stream",
     "text": [
      "('dive', 0.0)\n",
      "Ошибка при обработке видео test_data/test_dataset/05d183b0-e38e-427d-ad91-170ddf90c597.avi: name 'display_image' is not defined\n",
      "Обработка видео...\n"
     ]
    },
    {
     "name": "stderr",
     "output_type": "stream",
     "text": [
      "  4%|▎         | 49/1397 [00:24<10:59,  2.04it/s]"
     ]
    },
    {
     "name": "stdout",
     "output_type": "stream",
     "text": [
      "('handstand', 0.0)\n",
      "Ошибка при обработке видео test_data/test_dataset/064ba94d-dcb8-4156-8784-6bb440405de0.avi: name 'display_image' is not defined\n",
      "Обработка видео...\n"
     ]
    },
    {
     "name": "stderr",
     "output_type": "stream",
     "text": [
      "  4%|▎         | 50/1397 [00:24<11:05,  2.02it/s]"
     ]
    },
    {
     "name": "stdout",
     "output_type": "stream",
     "text": [
      "('golf', 0.0)\n",
      "Ошибка при обработке видео test_data/test_dataset/065043a4-25aa-4e93-8d5a-ae15491d3b9f.avi: name 'display_image' is not defined\n",
      "Обработка видео...\n"
     ]
    },
    {
     "name": "stderr",
     "output_type": "stream",
     "text": [
      "  4%|▎         | 51/1397 [00:25<11:06,  2.02it/s]"
     ]
    },
    {
     "name": "stdout",
     "output_type": "stream",
     "text": [
      "('sit', 0.0)\n",
      "Ошибка при обработке видео test_data/test_dataset/065e8844-7fab-4f75-bb16-2214c682e928.avi: name 'display_image' is not defined\n",
      "Обработка видео...\n"
     ]
    },
    {
     "name": "stderr",
     "output_type": "stream",
     "text": [
      "  4%|▎         | 52/1397 [00:25<11:02,  2.03it/s]"
     ]
    },
    {
     "name": "stdout",
     "output_type": "stream",
     "text": [
      "('catch', 0.0)\n",
      "Ошибка при обработке видео test_data/test_dataset/06b0dd3e-4f62-4078-90e0-8be563512988.avi: name 'display_image' is not defined\n",
      "Обработка видео...\n"
     ]
    },
    {
     "name": "stderr",
     "output_type": "stream",
     "text": [
      "  4%|▍         | 53/1397 [00:26<11:00,  2.03it/s]"
     ]
    },
    {
     "name": "stdout",
     "output_type": "stream",
     "text": [
      "('flic_flac', 0.0)\n",
      "Ошибка при обработке видео test_data/test_dataset/06b18866-8496-4cf9-ac97-649cf0c1ac94.avi: name 'display_image' is not defined\n",
      "Обработка видео...\n"
     ]
    },
    {
     "name": "stderr",
     "output_type": "stream",
     "text": [
      "Exception ignored in: <function _xla_gc_callback at 0x7f71dee4b640>\n",
      "Traceback (most recent call last):\n",
      "  File \"/usr/local/lib/python3.10/dist-packages/jax/_src/lib/__init__.py\", line 103, in _xla_gc_callback\n",
      "    def _xla_gc_callback(*args):\n",
      "KeyboardInterrupt: \n",
      "  4%|▍         | 54/1397 [00:26<10:59,  2.04it/s]"
     ]
    },
    {
     "name": "stdout",
     "output_type": "stream",
     "text": [
      "('golf', 0.0)\n",
      "Ошибка при обработке видео test_data/test_dataset/0764120e-9524-43e5-a93c-c0301a483cce.avi: name 'display_image' is not defined\n",
      "Обработка видео...\n"
     ]
    },
    {
     "name": "stderr",
     "output_type": "stream",
     "text": [
      "  4%|▍         | 55/1397 [00:27<11:00,  2.03it/s]"
     ]
    },
    {
     "name": "stdout",
     "output_type": "stream",
     "text": [
      "('flic_flac', 0.0)\n",
      "Ошибка при обработке видео test_data/test_dataset/077aea6d-1091-4223-82bb-e6907919249c.avi: name 'display_image' is not defined\n",
      "Обработка видео...\n"
     ]
    },
    {
     "name": "stderr",
     "output_type": "stream",
     "text": [
      "  4%|▍         | 56/1397 [00:27<10:59,  2.03it/s]"
     ]
    },
    {
     "name": "stdout",
     "output_type": "stream",
     "text": [
      "('dribble', 0.0)\n",
      "Ошибка при обработке видео test_data/test_dataset/07e0b0b9-9386-49d3-867c-246d05bbd5f3.avi: name 'display_image' is not defined\n",
      "Обработка видео...\n"
     ]
    },
    {
     "name": "stderr",
     "output_type": "stream",
     "text": [
      "  4%|▍         | 57/1397 [00:28<11:05,  2.01it/s]"
     ]
    },
    {
     "name": "stdout",
     "output_type": "stream",
     "text": [
      "('handstand', 0.0)\n",
      "Ошибка при обработке видео test_data/test_dataset/0804fcac-e733-4fc4-929a-06f6c90ff377.avi: name 'display_image' is not defined\n",
      "Обработка видео...\n"
     ]
    },
    {
     "name": "stderr",
     "output_type": "stream",
     "text": [
      "  4%|▍         | 58/1397 [00:28<10:58,  2.03it/s]"
     ]
    },
    {
     "name": "stdout",
     "output_type": "stream",
     "text": [
      "('pushup', 0.0)\n",
      "Ошибка при обработке видео test_data/test_dataset/082fab1f-fa69-4014-aa57-3adba9c773f9.avi: name 'display_image' is not defined\n",
      "Обработка видео...\n"
     ]
    },
    {
     "name": "stderr",
     "output_type": "stream",
     "text": [
      "  4%|▍         | 59/1397 [00:29<10:58,  2.03it/s]"
     ]
    },
    {
     "name": "stdout",
     "output_type": "stream",
     "text": [
      "('pushup', 0.0)\n",
      "Ошибка при обработке видео test_data/test_dataset/089741ea-e0d8-47a5-8a93-8961a87b6a52.avi: name 'display_image' is not defined\n",
      "Обработка видео...\n"
     ]
    },
    {
     "name": "stderr",
     "output_type": "stream",
     "text": [
      "  4%|▍         | 60/1397 [00:29<11:17,  1.97it/s]"
     ]
    },
    {
     "name": "stdout",
     "output_type": "stream",
     "text": [
      "('shoot_ball', 0.0)\n",
      "Ошибка при обработке видео test_data/test_dataset/08a57937-e514-4b7d-9fae-3c8150a76fef.avi: name 'display_image' is not defined\n",
      "Обработка видео...\n"
     ]
    },
    {
     "name": "stderr",
     "output_type": "stream",
     "text": [
      "  4%|▍         | 61/1397 [00:30<11:09,  1.99it/s]"
     ]
    },
    {
     "name": "stdout",
     "output_type": "stream",
     "text": [
      "('shoot_ball', 0.0)\n",
      "Ошибка при обработке видео test_data/test_dataset/08ae58be-43bc-4c9b-a8e5-3091e043f425.avi: name 'display_image' is not defined\n",
      "Обработка видео...\n"
     ]
    },
    {
     "name": "stderr",
     "output_type": "stream",
     "text": [
      "  4%|▍         | 62/1397 [00:30<11:03,  2.01it/s]"
     ]
    },
    {
     "name": "stdout",
     "output_type": "stream",
     "text": [
      "('pullup', 0.0)\n",
      "Ошибка при обработке видео test_data/test_dataset/08efe26a-ca7d-45bc-8f0c-5f30b26fba38.avi: name 'display_image' is not defined\n",
      "Обработка видео...\n",
      "('cartwheel', 0.0)"
     ]
    },
    {
     "name": "stderr",
     "output_type": "stream",
     "text": [
      "  5%|▍         | 63/1397 [00:31<11:03,  2.01it/s]"
     ]
    },
    {
     "name": "stdout",
     "output_type": "stream",
     "text": [
      "\n",
      "Ошибка при обработке видео test_data/test_dataset/0965240e-fefc-4b91-837f-7a0c328d2c23.avi: name 'display_image' is not defined\n",
      "Обработка видео...\n",
      "('golf', 0.0)\n",
      "Ошибка при обработке видео test_data/test_dataset/0966879d-851a-469b-91e3-9cf9321dc953.avi: name 'display_image' is not defined\n"
     ]
    },
    {
     "name": "stderr",
     "output_type": "stream",
     "text": [
      "  5%|▍         | 64/1397 [00:31<10:59,  2.02it/s]"
     ]
    },
    {
     "name": "stdout",
     "output_type": "stream",
     "text": [
      "Обработка видео...\n"
     ]
    },
    {
     "name": "stderr",
     "output_type": "stream",
     "text": [
      "  5%|▍         | 65/1397 [00:32<10:57,  2.03it/s]"
     ]
    },
    {
     "name": "stdout",
     "output_type": "stream",
     "text": [
      "('handstand', 0.0)\n",
      "Ошибка при обработке видео test_data/test_dataset/096e3923-2ea6-479d-9e06-784ff2940670.avi: name 'display_image' is not defined\n",
      "Обработка видео...\n"
     ]
    },
    {
     "name": "stderr",
     "output_type": "stream",
     "text": [
      "  5%|▍         | 66/1397 [00:32<10:52,  2.04it/s]"
     ]
    },
    {
     "name": "stdout",
     "output_type": "stream",
     "text": [
      "('dribble', 0.0)\n",
      "Ошибка при обработке видео test_data/test_dataset/09a4a287-335d-43db-917b-1ac774239dee.avi: name 'display_image' is not defined\n",
      "Обработка видео...\n"
     ]
    },
    {
     "name": "stderr",
     "output_type": "stream",
     "text": [
      "  5%|▍         | 67/1397 [00:33<10:54,  2.03it/s]"
     ]
    },
    {
     "name": "stdout",
     "output_type": "stream",
     "text": [
      "('golf', 0.0)\n",
      "Ошибка при обработке видео test_data/test_dataset/0a222c28-e83f-4012-bde4-b5057287face.avi: name 'display_image' is not defined\n",
      "Обработка видео...\n",
      "('fencing', 0.0)"
     ]
    },
    {
     "name": "stderr",
     "output_type": "stream",
     "text": [
      "  5%|▍         | 68/1397 [00:33<10:58,  2.02it/s]"
     ]
    },
    {
     "name": "stdout",
     "output_type": "stream",
     "text": [
      "\n",
      "Ошибка при обработке видео test_data/test_dataset/0a24bc2a-7963-4e87-bd04-5cb8982e8a96.avi: name 'display_image' is not defined\n",
      "Обработка видео...\n"
     ]
    },
    {
     "name": "stderr",
     "output_type": "stream",
     "text": [
      "  5%|▍         | 69/1397 [00:34<10:52,  2.04it/s]"
     ]
    },
    {
     "name": "stdout",
     "output_type": "stream",
     "text": [
      "('flic_flac', 0.0)\n",
      "Ошибка при обработке видео test_data/test_dataset/0a3957be-7e0b-403a-b7bf-b69a1e26258c.avi: name 'display_image' is not defined\n",
      "Обработка видео...\n"
     ]
    },
    {
     "name": "stderr",
     "output_type": "stream",
     "text": [
      "  5%|▌         | 70/1397 [00:34<10:48,  2.05it/s]"
     ]
    },
    {
     "name": "stdout",
     "output_type": "stream",
     "text": [
      "('jump', 0.0)\n",
      "Ошибка при обработке видео test_data/test_dataset/0a56592e-0e19-40ac-9fea-d31d3e549089.avi: name 'display_image' is not defined\n",
      "Обработка видео...\n"
     ]
    },
    {
     "name": "stderr",
     "output_type": "stream",
     "text": [
      "  5%|▌         | 71/1397 [00:35<10:49,  2.04it/s]"
     ]
    },
    {
     "name": "stdout",
     "output_type": "stream",
     "text": [
      "('hit', 0.0)\n",
      "Ошибка при обработке видео test_data/test_dataset/0a733ebd-b42b-4eca-a2b9-117222d09640.avi: name 'display_image' is not defined\n",
      "Обработка видео...\n"
     ]
    },
    {
     "name": "stderr",
     "output_type": "stream",
     "text": [
      "  5%|▌         | 72/1397 [00:35<10:49,  2.04it/s]"
     ]
    },
    {
     "name": "stdout",
     "output_type": "stream",
     "text": [
      "('dive', 0.0)\n",
      "Ошибка при обработке видео test_data/test_dataset/0a99262b-44da-4cac-9bad-f27bed200b63.avi: name 'display_image' is not defined\n",
      "Обработка видео...\n"
     ]
    },
    {
     "name": "stderr",
     "output_type": "stream",
     "text": [
      "  5%|▌         | 73/1397 [00:36<10:57,  2.01it/s]"
     ]
    },
    {
     "name": "stdout",
     "output_type": "stream",
     "text": [
      "('flic_flac', 0.0)\n",
      "Ошибка при обработке видео test_data/test_dataset/0a9ba392-5c94-45eb-8150-8ffe4724bb5e.avi: name 'display_image' is not defined\n",
      "Обработка видео...\n"
     ]
    },
    {
     "name": "stderr",
     "output_type": "stream",
     "text": [
      "  5%|▌         | 74/1397 [00:36<11:01,  2.00it/s]"
     ]
    },
    {
     "name": "stdout",
     "output_type": "stream",
     "text": [
      "('handstand', 0.0)\n",
      "Ошибка при обработке видео test_data/test_dataset/0aac1a6c-d47a-4289-b0d0-3eef1141b37d.avi: name 'display_image' is not defined\n",
      "Обработка видео...\n"
     ]
    },
    {
     "name": "stderr",
     "output_type": "stream",
     "text": [
      "  5%|▌         | 75/1397 [00:37<10:55,  2.02it/s]"
     ]
    },
    {
     "name": "stdout",
     "output_type": "stream",
     "text": [
      "('jump', 0.0)\n",
      "Ошибка при обработке видео test_data/test_dataset/0b4dbdac-2372-4aed-a80e-4e4cb0600f2b.avi: name 'display_image' is not defined\n",
      "Обработка видео...\n"
     ]
    },
    {
     "name": "stderr",
     "output_type": "stream",
     "text": [
      "  5%|▌         | 76/1397 [00:37<11:03,  1.99it/s]"
     ]
    },
    {
     "name": "stdout",
     "output_type": "stream",
     "text": [
      "('fencing', 0.0)\n",
      "Ошибка при обработке видео test_data/test_dataset/0b7aa9c1-2ac8-4cd9-81c8-8dd9abd9ce8f.avi: name 'display_image' is not defined\n",
      "Обработка видео...\n"
     ]
    },
    {
     "name": "stderr",
     "output_type": "stream",
     "text": [
      "  6%|▌         | 77/1397 [00:38<11:00,  2.00it/s]"
     ]
    },
    {
     "name": "stdout",
     "output_type": "stream",
     "text": [
      "('pullup', 0.0)\n",
      "Ошибка при обработке видео test_data/test_dataset/0bab2491-14ad-417c-9273-b6dcec79bba4.avi: name 'display_image' is not defined\n",
      "Обработка видео...\n"
     ]
    },
    {
     "name": "stderr",
     "output_type": "stream",
     "text": [
      "  6%|▌         | 78/1397 [00:38<10:51,  2.02it/s]"
     ]
    },
    {
     "name": "stdout",
     "output_type": "stream",
     "text": [
      "('swing_baseball', 0.0)\n",
      "Ошибка при обработке видео test_data/test_dataset/0c0f680a-b444-4fb8-bcc8-095ae687995b.avi: name 'display_image' is not defined\n",
      "Обработка видео...\n"
     ]
    },
    {
     "name": "stderr",
     "output_type": "stream",
     "text": [
      "  6%|▌         | 79/1397 [00:39<11:01,  1.99it/s]"
     ]
    },
    {
     "name": "stdout",
     "output_type": "stream",
     "text": [
      "('jump', 0.0)\n",
      "Ошибка при обработке видео test_data/test_dataset/0c18168f-4d8c-499f-9c52-b37491703f14.avi: name 'display_image' is not defined\n",
      "Обработка видео...\n",
      "('push', 0.0)"
     ]
    },
    {
     "name": "stderr",
     "output_type": "stream",
     "text": [
      "  6%|▌         | 80/1397 [00:39<10:52,  2.02it/s]"
     ]
    },
    {
     "name": "stdout",
     "output_type": "stream",
     "text": [
      "\n",
      "Ошибка при обработке видео test_data/test_dataset/0c3ee2ce-93a7-4b68-9405-e793f28f67d1.avi: name 'display_image' is not defined\n",
      "Обработка видео...\n"
     ]
    },
    {
     "name": "stderr",
     "output_type": "stream",
     "text": [
      "  6%|▌         | 81/1397 [00:40<10:46,  2.03it/s]"
     ]
    },
    {
     "name": "stdout",
     "output_type": "stream",
     "text": [
      "('handstand', 0.0)\n",
      "Ошибка при обработке видео test_data/test_dataset/0c4a6148-506f-4a76-859a-72d0910d0758.avi: name 'display_image' is not defined\n",
      "Обработка видео...\n",
      "('climb', 0.0)\n",
      "Ошибка при обработке видео test_data/test_dataset/0c747fa1-1c8f-4461-9669-d28fcd0c9943.avi: name 'display_image' is not defined\n"
     ]
    },
    {
     "name": "stderr",
     "output_type": "stream",
     "text": [
      "  6%|▌         | 82/1397 [00:40<10:41,  2.05it/s]"
     ]
    },
    {
     "name": "stdout",
     "output_type": "stream",
     "text": [
      "Обработка видео...\n"
     ]
    },
    {
     "name": "stderr",
     "output_type": "stream",
     "text": [
      "  6%|▌         | 83/1397 [00:41<10:43,  2.04it/s]"
     ]
    },
    {
     "name": "stdout",
     "output_type": "stream",
     "text": [
      "('handstand', 0.0)\n",
      "Ошибка при обработке видео test_data/test_dataset/0c7a3f8f-3e46-43be-8bb3-7dab7e61471e.avi: name 'display_image' is not defined\n",
      "Обработка видео...\n"
     ]
    },
    {
     "name": "stderr",
     "output_type": "stream",
     "text": [
      "  6%|▌         | 84/1397 [00:41<10:42,  2.04it/s]"
     ]
    },
    {
     "name": "stdout",
     "output_type": "stream",
     "text": [
      "('handstand', 0.0)\n",
      "Ошибка при обработке видео test_data/test_dataset/0cb37716-065e-444c-b80e-3fdfb150e381.avi: name 'display_image' is not defined\n",
      "Обработка видео...\n",
      "('flic_flac', 0.0)"
     ]
    },
    {
     "name": "stderr",
     "output_type": "stream",
     "text": [
      "  6%|▌         | 85/1397 [00:42<10:51,  2.01it/s]"
     ]
    },
    {
     "name": "stdout",
     "output_type": "stream",
     "text": [
      "\n",
      "Ошибка при обработке видео test_data/test_dataset/0cd695e5-eaa4-4395-91fa-b089852605c6.avi: name 'display_image' is not defined\n",
      "Обработка видео...\n"
     ]
    },
    {
     "name": "stderr",
     "output_type": "stream",
     "text": [
      "  6%|▌         | 86/1397 [00:42<10:54,  2.00it/s]"
     ]
    },
    {
     "name": "stdout",
     "output_type": "stream",
     "text": [
      "('dive', 0.0)\n",
      "Ошибка при обработке видео test_data/test_dataset/0ce0ba17-0052-4092-894c-cdcd6583509e.avi: name 'display_image' is not defined\n",
      "Обработка видео...\n"
     ]
    },
    {
     "name": "stderr",
     "output_type": "stream",
     "text": [
      "  6%|▌         | 87/1397 [00:43<10:51,  2.01it/s]"
     ]
    },
    {
     "name": "stdout",
     "output_type": "stream",
     "text": [
      "('handstand', 0.0)\n",
      "Ошибка при обработке видео test_data/test_dataset/0ce678e9-7c44-4d20-bba0-f67ba1568873.avi: name 'display_image' is not defined\n",
      "Обработка видео...\n"
     ]
    },
    {
     "name": "stderr",
     "output_type": "stream",
     "text": [
      "  6%|▋         | 88/1397 [00:43<10:47,  2.02it/s]"
     ]
    },
    {
     "name": "stdout",
     "output_type": "stream",
     "text": [
      "('pullup', 0.0)\n",
      "Ошибка при обработке видео test_data/test_dataset/0d38941f-641b-44a8-9d33-c477a68425e4.avi: name 'display_image' is not defined\n",
      "Обработка видео...\n"
     ]
    },
    {
     "name": "stderr",
     "output_type": "stream",
     "text": [
      "  6%|▋         | 89/1397 [00:44<10:57,  1.99it/s]"
     ]
    },
    {
     "name": "stdout",
     "output_type": "stream",
     "text": [
      "('sword_exercise', 0.0)\n",
      "Ошибка при обработке видео test_data/test_dataset/0d5232e9-84c1-4fc9-ba97-4fc620067ceb.avi: name 'display_image' is not defined\n",
      "Обработка видео...\n"
     ]
    },
    {
     "name": "stderr",
     "output_type": "stream",
     "text": [
      "  6%|▋         | 90/1397 [00:44<10:50,  2.01it/s]"
     ]
    },
    {
     "name": "stdout",
     "output_type": "stream",
     "text": [
      "('flic_flac', 0.0)\n",
      "Ошибка при обработке видео test_data/test_dataset/0d8b1241-faac-442b-9f21-5f2356b88a7c.avi: name 'display_image' is not defined\n",
      "Обработка видео...\n"
     ]
    },
    {
     "name": "stderr",
     "output_type": "stream",
     "text": [
      "  7%|▋         | 91/1397 [00:45<10:47,  2.02it/s]"
     ]
    },
    {
     "name": "stdout",
     "output_type": "stream",
     "text": [
      "('handstand', 0.0)\n",
      "Ошибка при обработке видео test_data/test_dataset/0dc0623b-6a19-4c64-a6a9-58bfaccf0336.avi: name 'display_image' is not defined\n",
      "Обработка видео...\n"
     ]
    },
    {
     "name": "stderr",
     "output_type": "stream",
     "text": [
      "  7%|▋         | 92/1397 [00:45<10:45,  2.02it/s]"
     ]
    },
    {
     "name": "stdout",
     "output_type": "stream",
     "text": [
      "('dive', 0.0)\n",
      "Ошибка при обработке видео test_data/test_dataset/0e1f665c-b000-4aa1-bcad-9792c3a5a301.avi: name 'display_image' is not defined\n",
      "Обработка видео...\n"
     ]
    },
    {
     "name": "stderr",
     "output_type": "stream",
     "text": [
      "  7%|▋         | 93/1397 [00:46<10:43,  2.03it/s]"
     ]
    },
    {
     "name": "stdout",
     "output_type": "stream",
     "text": [
      "('fencing', 0.0)\n",
      "Ошибка при обработке видео test_data/test_dataset/0e3ded73-5ec2-4c10-b9ba-ff9a1a9a3fcd.avi: name 'display_image' is not defined\n",
      "Обработка видео..."
     ]
    },
    {
     "name": "stderr",
     "output_type": "stream",
     "text": [
      "  7%|▋         | 94/1397 [00:46<10:40,  2.03it/s]"
     ]
    },
    {
     "name": "stdout",
     "output_type": "stream",
     "text": [
      "\n",
      "('push', 0.0)\n",
      "Ошибка при обработке видео test_data/test_dataset/0e85b560-3a73-4fa1-81f8-e0d8c5b6fd59.avi: name 'display_image' is not defined\n",
      "Обработка видео...\n"
     ]
    },
    {
     "name": "stderr",
     "output_type": "stream",
     "text": [
      "  7%|▋         | 95/1397 [00:47<10:40,  2.03it/s]"
     ]
    },
    {
     "name": "stdout",
     "output_type": "stream",
     "text": [
      "('pullup', 0.0)\n",
      "Ошибка при обработке видео test_data/test_dataset/0eb13a83-f78a-49a5-8815-3b42dd59335b.avi: name 'display_image' is not defined\n",
      "Обработка видео...\n"
     ]
    },
    {
     "name": "stderr",
     "output_type": "stream",
     "text": [
      "  7%|▋         | 96/1397 [00:47<10:39,  2.03it/s]"
     ]
    },
    {
     "name": "stdout",
     "output_type": "stream",
     "text": [
      "('handstand', 0.0)\n",
      "Ошибка при обработке видео test_data/test_dataset/0ee4c682-ced8-40f3-b312-c016de2e4ee2.avi: name 'display_image' is not defined\n",
      "Обработка видео...\n"
     ]
    },
    {
     "name": "stderr",
     "output_type": "stream",
     "text": [
      "  7%|▋         | 97/1397 [00:47<10:37,  2.04it/s]"
     ]
    },
    {
     "name": "stdout",
     "output_type": "stream",
     "text": [
      "('dive', 0.0)\n",
      "Ошибка при обработке видео test_data/test_dataset/0f42998e-c522-45fa-9e5e-98a88fea6b90.avi: name 'display_image' is not defined\n",
      "Обработка видео...\n"
     ]
    },
    {
     "name": "stderr",
     "output_type": "stream",
     "text": [
      "  7%|▋         | 98/1397 [00:48<10:35,  2.04it/s]"
     ]
    },
    {
     "name": "stdout",
     "output_type": "stream",
     "text": [
      "('pick', 0.0)\n",
      "Ошибка при обработке видео test_data/test_dataset/0f819d1e-2360-403b-ae53-867f81824c92.avi: name 'display_image' is not defined\n",
      "Обработка видео...\n"
     ]
    },
    {
     "name": "stderr",
     "output_type": "stream",
     "text": [
      "  7%|▋         | 99/1397 [00:48<10:35,  2.04it/s]"
     ]
    },
    {
     "name": "stdout",
     "output_type": "stream",
     "text": [
      "('dive', 0.0)\n",
      "Ошибка при обработке видео test_data/test_dataset/0ffd2052-eab6-4dbc-ae94-491d418854c4.avi: name 'display_image' is not defined\n",
      "Обработка видео...\n"
     ]
    },
    {
     "name": "stderr",
     "output_type": "stream",
     "text": [
      "  7%|▋         | 100/1397 [00:49<10:36,  2.04it/s]"
     ]
    },
    {
     "name": "stdout",
     "output_type": "stream",
     "text": [
      "('sword_exercise', 0.0)\n",
      "Ошибка при обработке видео test_data/test_dataset/10175b12-88b3-49fc-9586-d68ce3ac57ea.avi: name 'display_image' is not defined\n",
      "Обработка видео...\n"
     ]
    },
    {
     "name": "stderr",
     "output_type": "stream",
     "text": [
      "  7%|▋         | 101/1397 [00:49<10:33,  2.05it/s]"
     ]
    },
    {
     "name": "stdout",
     "output_type": "stream",
     "text": [
      "('handstand', 0.0)\n",
      "Ошибка при обработке видео test_data/test_dataset/109383b3-2374-4fc6-ad7f-adecb53dfc85.avi: name 'display_image' is not defined\n",
      "Обработка видео...\n"
     ]
    },
    {
     "name": "stderr",
     "output_type": "stream",
     "text": [
      "  7%|▋         | 102/1397 [00:50<10:31,  2.05it/s]"
     ]
    },
    {
     "name": "stdout",
     "output_type": "stream",
     "text": [
      "('golf', 0.0)\n",
      "Ошибка при обработке видео test_data/test_dataset/113533e7-e36b-4d73-968d-6f30e7bf47cf.avi: name 'display_image' is not defined\n",
      "Обработка видео...\n"
     ]
    },
    {
     "name": "stderr",
     "output_type": "stream",
     "text": [
      "  7%|▋         | 103/1397 [00:50<10:31,  2.05it/s]"
     ]
    },
    {
     "name": "stdout",
     "output_type": "stream",
     "text": [
      "('handstand', 0.0)\n",
      "Ошибка при обработке видео test_data/test_dataset/114af9b6-da6a-4dc0-bf87-2638fe4176f8.avi: name 'display_image' is not defined\n",
      "Обработка видео...\n",
      "('handstand', 0.0)"
     ]
    },
    {
     "name": "stderr",
     "output_type": "stream",
     "text": [
      "  7%|▋         | 104/1397 [00:51<10:34,  2.04it/s]"
     ]
    },
    {
     "name": "stdout",
     "output_type": "stream",
     "text": [
      "\n",
      "Ошибка при обработке видео test_data/test_dataset/1160aa32-4aa8-48b0-9cdc-09e136e7e10e.avi: name 'display_image' is not defined\n",
      "Обработка видео...\n"
     ]
    },
    {
     "name": "stderr",
     "output_type": "stream",
     "text": [
      "  8%|▊         | 105/1397 [00:51<10:36,  2.03it/s]"
     ]
    },
    {
     "name": "stdout",
     "output_type": "stream",
     "text": [
      "('handstand', 0.0)\n",
      "Ошибка при обработке видео test_data/test_dataset/1180daa1-01ca-4346-86c9-a9ddbcbeddc6.avi: name 'display_image' is not defined\n",
      "Обработка видео...\n"
     ]
    },
    {
     "name": "stderr",
     "output_type": "stream",
     "text": [
      "  8%|▊         | 106/1397 [00:52<10:36,  2.03it/s]"
     ]
    },
    {
     "name": "stdout",
     "output_type": "stream",
     "text": [
      "('handstand', 0.0)\n",
      "Ошибка при обработке видео test_data/test_dataset/11a71aba-eacf-4f9a-9b8b-9b8314e23706.avi: name 'display_image' is not defined\n",
      "Обработка видео...\n"
     ]
    },
    {
     "name": "stderr",
     "output_type": "stream",
     "text": [
      "  8%|▊         | 107/1397 [00:52<10:35,  2.03it/s]"
     ]
    },
    {
     "name": "stdout",
     "output_type": "stream",
     "text": [
      "('flic_flac', 0.0)\n",
      "Ошибка при обработке видео test_data/test_dataset/124ebd73-cbad-486e-8b07-ecc64f896632.avi: name 'display_image' is not defined\n",
      "Обработка видео...\n"
     ]
    },
    {
     "name": "stderr",
     "output_type": "stream",
     "text": [
      "  8%|▊         | 108/1397 [00:53<10:31,  2.04it/s]"
     ]
    },
    {
     "name": "stdout",
     "output_type": "stream",
     "text": [
      "('golf', 0.0)\n",
      "Ошибка при обработке видео test_data/test_dataset/1270d776-7fff-4dbe-ac63-d75eef808625.avi: name 'display_image' is not defined\n",
      "Обработка видео...\n"
     ]
    },
    {
     "name": "stderr",
     "output_type": "stream",
     "text": [
      "  8%|▊         | 109/1397 [00:53<10:34,  2.03it/s]"
     ]
    },
    {
     "name": "stdout",
     "output_type": "stream",
     "text": [
      "('handstand', 0.0)\n",
      "Ошибка при обработке видео test_data/test_dataset/12776c77-258f-4657-bc73-671a5b2f43b4.avi: name 'display_image' is not defined\n",
      "Обработка видео...\n"
     ]
    },
    {
     "name": "stderr",
     "output_type": "stream",
     "text": [
      "  8%|▊         | 110/1397 [00:54<10:39,  2.01it/s]"
     ]
    },
    {
     "name": "stdout",
     "output_type": "stream",
     "text": [
      "('handstand', 0.0)\n",
      "Ошибка при обработке видео test_data/test_dataset/12a809b4-6e8a-4312-997e-f07ca82dff1e.avi: name 'display_image' is not defined\n",
      "Обработка видео...\n"
     ]
    },
    {
     "name": "stderr",
     "output_type": "stream",
     "text": [
      "  8%|▊         | 111/1397 [00:54<10:43,  2.00it/s]"
     ]
    },
    {
     "name": "stdout",
     "output_type": "stream",
     "text": [
      "('dribble', 0.0)\n",
      "Ошибка при обработке видео test_data/test_dataset/12dee7c7-72ce-4ef9-aa78-8fcdf763dce2.avi: name 'display_image' is not defined\n",
      "Обработка видео...\n",
      "('shoot_ball', 0.0)"
     ]
    },
    {
     "name": "stderr",
     "output_type": "stream",
     "text": [
      "  8%|▊         | 112/1397 [00:55<10:38,  2.01it/s]"
     ]
    },
    {
     "name": "stdout",
     "output_type": "stream",
     "text": [
      "\n",
      "Ошибка при обработке видео test_data/test_dataset/12eefb97-179d-49aa-8215-8eb40f13d77f.avi: name 'display_image' is not defined\n",
      "Обработка видео...\n"
     ]
    },
    {
     "name": "stderr",
     "output_type": "stream",
     "text": [
      "  8%|▊         | 113/1397 [00:55<10:42,  2.00it/s]"
     ]
    },
    {
     "name": "stdout",
     "output_type": "stream",
     "text": [
      "('handstand', 0.0)\n",
      "Ошибка при обработке видео test_data/test_dataset/1307cce9-159b-4001-a22d-7714bfd1c7aa.avi: name 'display_image' is not defined\n",
      "Обработка видео...\n"
     ]
    },
    {
     "name": "stderr",
     "output_type": "stream",
     "text": [
      "  8%|▊         | 114/1397 [00:56<10:38,  2.01it/s]"
     ]
    },
    {
     "name": "stdout",
     "output_type": "stream",
     "text": [
      "('shoot_ball', 0.0)\n",
      "Ошибка при обработке видео test_data/test_dataset/131a6dc7-6f79-4cbe-be4f-a04a737ad103.avi: name 'display_image' is not defined\n",
      "Обработка видео...\n",
      "('cartwheel', 0.0)"
     ]
    },
    {
     "name": "stderr",
     "output_type": "stream",
     "text": [
      "  8%|▊         | 115/1397 [00:56<10:43,  1.99it/s]"
     ]
    },
    {
     "name": "stdout",
     "output_type": "stream",
     "text": [
      "\n",
      "Ошибка при обработке видео test_data/test_dataset/137a8b01-1474-49cd-9778-7f07ed1104f2.avi: name 'display_image' is not defined\n",
      "Обработка видео...\n"
     ]
    },
    {
     "name": "stderr",
     "output_type": "stream",
     "text": [
      "  8%|▊         | 116/1397 [00:57<10:39,  2.00it/s]"
     ]
    },
    {
     "name": "stdout",
     "output_type": "stream",
     "text": [
      "('shoot_ball', 0.0)\n",
      "Ошибка при обработке видео test_data/test_dataset/13df0ad0-3258-47d1-b686-7c6ed04181aa.avi: name 'display_image' is not defined\n",
      "Обработка видео...\n"
     ]
    },
    {
     "name": "stderr",
     "output_type": "stream",
     "text": [
      "  8%|▊         | 117/1397 [00:57<10:34,  2.02it/s]"
     ]
    },
    {
     "name": "stdout",
     "output_type": "stream",
     "text": [
      "('dive', 0.0)\n",
      "Ошибка при обработке видео test_data/test_dataset/1478a5be-a50d-4aff-a618-0e9a59b9bafd.avi: name 'display_image' is not defined\n",
      "Обработка видео...\n"
     ]
    },
    {
     "name": "stderr",
     "output_type": "stream",
     "text": [
      "  8%|▊         | 118/1397 [00:58<10:34,  2.02it/s]"
     ]
    },
    {
     "name": "stdout",
     "output_type": "stream",
     "text": [
      "('pullup', 0.0)\n",
      "Ошибка при обработке видео test_data/test_dataset/14be7d5c-afde-4019-a75e-2541e5d80957.avi: name 'display_image' is not defined\n",
      "Обработка видео...\n"
     ]
    },
    {
     "name": "stderr",
     "output_type": "stream",
     "text": [
      "  9%|▊         | 119/1397 [00:58<10:33,  2.02it/s]"
     ]
    },
    {
     "name": "stdout",
     "output_type": "stream",
     "text": [
      "('handstand', 0.0)\n",
      "Ошибка при обработке видео test_data/test_dataset/14c4d47e-d3b5-49c0-b609-c161a918d00c.avi: name 'display_image' is not defined\n",
      "Обработка видео...\n"
     ]
    },
    {
     "name": "stderr",
     "output_type": "stream",
     "text": [
      "  9%|▊         | 120/1397 [00:59<10:31,  2.02it/s]"
     ]
    },
    {
     "name": "stdout",
     "output_type": "stream",
     "text": [
      "('handstand', 0.0)\n",
      "Ошибка при обработке видео test_data/test_dataset/14e874d0-2ff5-4a2d-93e4-fdd9d761aa75.avi: name 'display_image' is not defined\n",
      "Обработка видео...\n"
     ]
    },
    {
     "name": "stderr",
     "output_type": "stream",
     "text": [
      "  9%|▊         | 121/1397 [00:59<10:29,  2.03it/s]"
     ]
    },
    {
     "name": "stdout",
     "output_type": "stream",
     "text": [
      "('handstand', 0.0)\n",
      "Ошибка при обработке видео test_data/test_dataset/154e60fd-a5bb-4498-8190-67449e6cfb3c.avi: name 'display_image' is not defined\n",
      "Обработка видео...\n",
      "('dribble', 0.0)"
     ]
    },
    {
     "name": "stderr",
     "output_type": "stream",
     "text": [
      "  9%|▊         | 122/1397 [01:00<10:34,  2.01it/s]"
     ]
    },
    {
     "name": "stdout",
     "output_type": "stream",
     "text": [
      "\n",
      "Ошибка при обработке видео test_data/test_dataset/157fd3ed-d41f-4133-86d7-723c14fb9625.avi: name 'display_image' is not defined\n",
      "Обработка видео...\n"
     ]
    },
    {
     "name": "stderr",
     "output_type": "stream",
     "text": [
      "  9%|▉         | 123/1397 [01:00<10:33,  2.01it/s]"
     ]
    },
    {
     "name": "stdout",
     "output_type": "stream",
     "text": [
      "('pick', 0.0)\n",
      "Ошибка при обработке видео test_data/test_dataset/15d28fe2-f555-484b-933d-d3beee0d6335.avi: name 'display_image' is not defined\n",
      "Обработка видео...\n"
     ]
    },
    {
     "name": "stderr",
     "output_type": "stream",
     "text": [
      "  9%|▉         | 124/1397 [01:01<10:30,  2.02it/s]"
     ]
    },
    {
     "name": "stdout",
     "output_type": "stream",
     "text": [
      "('cartwheel', 0.0)\n",
      "Ошибка при обработке видео test_data/test_dataset/15d5e993-6d19-4ea5-9884-c2048fe1c9d0.avi: name 'display_image' is not defined\n",
      "Обработка видео...\n"
     ]
    },
    {
     "name": "stderr",
     "output_type": "stream",
     "text": [
      "  9%|▉         | 125/1397 [01:01<10:26,  2.03it/s]"
     ]
    },
    {
     "name": "stdout",
     "output_type": "stream",
     "text": [
      "('golf', 0.0)\n",
      "Ошибка при обработке видео test_data/test_dataset/15f4643b-0baf-4993-8b6d-c2dfc4dddc60.avi: name 'display_image' is not defined\n",
      "Обработка видео...\n"
     ]
    },
    {
     "name": "stderr",
     "output_type": "stream",
     "text": [
      "  9%|▉         | 126/1397 [01:02<10:26,  2.03it/s]"
     ]
    },
    {
     "name": "stdout",
     "output_type": "stream",
     "text": [
      "('handstand', 0.0)\n",
      "Ошибка при обработке видео test_data/test_dataset/15fcc9af-55a3-4121-8e99-77bd4ebd6296.avi: name 'display_image' is not defined\n",
      "Обработка видео...\n"
     ]
    },
    {
     "name": "stderr",
     "output_type": "stream",
     "text": [
      "  9%|▉         | 127/1397 [01:02<10:23,  2.04it/s]"
     ]
    },
    {
     "name": "stdout",
     "output_type": "stream",
     "text": [
      "('cartwheel', 0.0)\n",
      "Ошибка при обработке видео test_data/test_dataset/1607d0a7-7582-4883-a4b6-2e8063cbcc3f.avi: name 'display_image' is not defined\n",
      "Обработка видео...\n"
     ]
    },
    {
     "name": "stderr",
     "output_type": "stream",
     "text": [
      "  9%|▉         | 128/1397 [01:03<10:24,  2.03it/s]"
     ]
    },
    {
     "name": "stdout",
     "output_type": "stream",
     "text": [
      "('jump', 0.0)\n",
      "Ошибка при обработке видео test_data/test_dataset/161c24aa-e8c4-49c4-bc83-32601bad036b.avi: name 'display_image' is not defined\n",
      "Обработка видео...\n"
     ]
    },
    {
     "name": "stderr",
     "output_type": "stream",
     "text": [
      "  9%|▉         | 129/1397 [01:03<10:24,  2.03it/s]"
     ]
    },
    {
     "name": "stdout",
     "output_type": "stream",
     "text": [
      "('golf', 0.0)\n",
      "Ошибка при обработке видео test_data/test_dataset/1657b8a3-df10-4077-a903-3d973dda72a5.avi: name 'display_image' is not defined\n",
      "Обработка видео...\n"
     ]
    },
    {
     "name": "stderr",
     "output_type": "stream",
     "text": [
      "  9%|▉         | 130/1397 [01:04<10:21,  2.04it/s]"
     ]
    },
    {
     "name": "stdout",
     "output_type": "stream",
     "text": [
      "('handstand', 0.0)\n",
      "Ошибка при обработке видео test_data/test_dataset/16b8777d-bfe5-4c3c-a001-8d22f4f1d6fc.avi: name 'display_image' is not defined\n",
      "Обработка видео...\n"
     ]
    },
    {
     "name": "stderr",
     "output_type": "stream",
     "text": [
      "  9%|▉         | 131/1397 [01:04<10:21,  2.04it/s]"
     ]
    },
    {
     "name": "stdout",
     "output_type": "stream",
     "text": [
      "('hit', 0.0)\n",
      "Ошибка при обработке видео test_data/test_dataset/16e61436-6b83-4c2b-8923-e6e26b4093d6.avi: name 'display_image' is not defined\n",
      "Обработка видео...\n"
     ]
    },
    {
     "name": "stderr",
     "output_type": "stream",
     "text": [
      "  9%|▉         | 132/1397 [01:05<10:24,  2.03it/s]"
     ]
    },
    {
     "name": "stdout",
     "output_type": "stream",
     "text": [
      "('cartwheel', 0.0)\n",
      "Ошибка при обработке видео test_data/test_dataset/16eb3f60-ce47-4cad-ad58-be6db47a83aa.avi: name 'display_image' is not defined\n",
      "Обработка видео...\n"
     ]
    },
    {
     "name": "stderr",
     "output_type": "stream",
     "text": [
      " 10%|▉         | 133/1397 [01:05<10:27,  2.01it/s]"
     ]
    },
    {
     "name": "stdout",
     "output_type": "stream",
     "text": [
      "('shoot_ball', 0.0)\n",
      "Ошибка при обработке видео test_data/test_dataset/16f7b299-d7e5-4143-8a24-17212af95413.avi: name 'display_image' is not defined\n",
      "Обработка видео...\n"
     ]
    },
    {
     "name": "stderr",
     "output_type": "stream",
     "text": [
      " 10%|▉         | 134/1397 [01:06<10:28,  2.01it/s]"
     ]
    },
    {
     "name": "stdout",
     "output_type": "stream",
     "text": [
      "('handstand', 0.0)\n",
      "Ошибка при обработке видео test_data/test_dataset/17306bbe-e6ac-411e-8f71-65f5842fa229.avi: name 'display_image' is not defined\n",
      "Обработка видео...\n"
     ]
    },
    {
     "name": "stderr",
     "output_type": "stream",
     "text": [
      " 10%|▉         | 135/1397 [01:06<10:26,  2.01it/s]"
     ]
    },
    {
     "name": "stdout",
     "output_type": "stream",
     "text": [
      "('dive', 0.0)\n",
      "Ошибка при обработке видео test_data/test_dataset/17313812-c893-43ef-b874-90b8aa8c3296.avi: name 'display_image' is not defined\n",
      "Обработка видео...\n"
     ]
    },
    {
     "name": "stderr",
     "output_type": "stream",
     "text": [
      " 10%|▉         | 136/1397 [01:07<10:21,  2.03it/s]"
     ]
    },
    {
     "name": "stdout",
     "output_type": "stream",
     "text": [
      "('dive', 0.0)\n",
      "Ошибка при обработке видео test_data/test_dataset/17339d94-5ff3-4fe1-8682-c9e09821f38c.avi: name 'display_image' is not defined\n",
      "Обработка видео...\n"
     ]
    },
    {
     "name": "stderr",
     "output_type": "stream",
     "text": [
      " 10%|▉         | 137/1397 [01:07<10:18,  2.04it/s]"
     ]
    },
    {
     "name": "stdout",
     "output_type": "stream",
     "text": [
      "('golf', 0.0)\n",
      "Ошибка при обработке видео test_data/test_dataset/17418329-1844-44b4-8409-daa79a106dc7.avi: name 'display_image' is not defined\n",
      "Обработка видео...\n"
     ]
    },
    {
     "name": "stderr",
     "output_type": "stream",
     "text": [
      " 10%|▉         | 138/1397 [01:08<10:13,  2.05it/s]"
     ]
    },
    {
     "name": "stdout",
     "output_type": "stream",
     "text": [
      "('shoot_ball', 0.0)\n",
      "Ошибка при обработке видео test_data/test_dataset/1767b7ce-846e-45f0-b4ae-d46132e3bea2.avi: name 'display_image' is not defined\n",
      "Обработка видео...\n"
     ]
    },
    {
     "name": "stderr",
     "output_type": "stream",
     "text": [
      " 10%|▉         | 139/1397 [01:08<10:17,  2.04it/s]"
     ]
    },
    {
     "name": "stdout",
     "output_type": "stream",
     "text": [
      "('handstand', 0.0)\n",
      "Ошибка при обработке видео test_data/test_dataset/17a250cf-03f3-45a9-9ce0-cff6c02331c1.avi: name 'display_image' is not defined\n",
      "Обработка видео...\n"
     ]
    },
    {
     "name": "stderr",
     "output_type": "stream",
     "text": [
      " 10%|█         | 140/1397 [01:09<10:16,  2.04it/s]"
     ]
    },
    {
     "name": "stdout",
     "output_type": "stream",
     "text": [
      "('pushup', 0.0)\n",
      "Ошибка при обработке видео test_data/test_dataset/18169658-1445-4311-87e8-5b5f6367c499.avi: name 'display_image' is not defined\n",
      "Обработка видео...\n"
     ]
    },
    {
     "name": "stderr",
     "output_type": "stream",
     "text": [
      " 10%|█         | 141/1397 [01:09<10:16,  2.04it/s]"
     ]
    },
    {
     "name": "stdout",
     "output_type": "stream",
     "text": [
      "('dribble', 0.0)\n",
      "Ошибка при обработке видео test_data/test_dataset/1831d38a-93df-4b42-934b-0f0da0de27a6.avi: name 'display_image' is not defined\n",
      "Обработка видео...\n"
     ]
    },
    {
     "name": "stderr",
     "output_type": "stream",
     "text": [
      " 10%|█         | 142/1397 [01:10<10:16,  2.04it/s]"
     ]
    },
    {
     "name": "stdout",
     "output_type": "stream",
     "text": [
      "('dive', 0.0)\n",
      "Ошибка при обработке видео test_data/test_dataset/1891daaa-f7d5-45d5-8041-75f1d8ff23ad.avi: name 'display_image' is not defined\n",
      "Обработка видео...\n"
     ]
    },
    {
     "name": "stderr",
     "output_type": "stream",
     "text": [
      " 10%|█         | 143/1397 [01:10<10:15,  2.04it/s]"
     ]
    },
    {
     "name": "stdout",
     "output_type": "stream",
     "text": [
      "('swing_baseball', 0.0)\n",
      "Ошибка при обработке видео test_data/test_dataset/18b705db-a23a-42f7-9ac4-3719da838c63.avi: name 'display_image' is not defined\n",
      "Обработка видео...\n"
     ]
    },
    {
     "name": "stderr",
     "output_type": "stream",
     "text": [
      " 10%|█         | 144/1397 [01:11<10:25,  2.00it/s]"
     ]
    },
    {
     "name": "stdout",
     "output_type": "stream",
     "text": [
      "('cartwheel', 0.0)\n",
      "Ошибка при обработке видео test_data/test_dataset/18d39703-2d37-462e-bd6a-abac6f949a76.avi: name 'display_image' is not defined\n",
      "Обработка видео...\n"
     ]
    },
    {
     "name": "stderr",
     "output_type": "stream",
     "text": [
      " 10%|█         | 145/1397 [01:11<10:20,  2.02it/s]"
     ]
    },
    {
     "name": "stdout",
     "output_type": "stream",
     "text": [
      "('push', 0.0)\n",
      "Ошибка при обработке видео test_data/test_dataset/1901d588-3bd3-4172-a186-0de99947531b.avi: name 'display_image' is not defined\n",
      "Обработка видео...\n"
     ]
    },
    {
     "name": "stderr",
     "output_type": "stream",
     "text": [
      " 10%|█         | 146/1397 [01:12<10:15,  2.03it/s]"
     ]
    },
    {
     "name": "stdout",
     "output_type": "stream",
     "text": [
      "('shoot_ball', 0.0)\n",
      "Ошибка при обработке видео test_data/test_dataset/1924916a-bcd0-422b-962a-36069fed14ac.avi: name 'display_image' is not defined\n",
      "Обработка видео..."
     ]
    },
    {
     "name": "stderr",
     "output_type": "stream",
     "text": [
      " 11%|█         | 147/1397 [01:12<10:13,  2.04it/s]"
     ]
    },
    {
     "name": "stdout",
     "output_type": "stream",
     "text": [
      "\n",
      "('handstand', 0.0)\n",
      "Ошибка при обработке видео test_data/test_dataset/19739a27-2bef-4fc6-8d4a-6a0381e5469b.avi: name 'display_image' is not defined\n",
      "Обработка видео...\n"
     ]
    },
    {
     "name": "stderr",
     "output_type": "stream",
     "text": [
      " 11%|█         | 148/1397 [01:13<10:10,  2.05it/s]"
     ]
    },
    {
     "name": "stdout",
     "output_type": "stream",
     "text": [
      "('clap', 0.0)\n",
      "Ошибка при обработке видео test_data/test_dataset/19c1a63a-5e28-4009-92e2-21919e9edc1c.avi: name 'display_image' is not defined\n",
      "Обработка видео...\n"
     ]
    },
    {
     "name": "stderr",
     "output_type": "stream",
     "text": [
      " 11%|█         | 149/1397 [01:13<10:08,  2.05it/s]"
     ]
    },
    {
     "name": "stdout",
     "output_type": "stream",
     "text": [
      "('dive', 0.0)\n",
      "Ошибка при обработке видео test_data/test_dataset/1a24dbc3-e572-45a3-ae02-322a51c2c7e0.avi: name 'display_image' is not defined\n",
      "Обработка видео...\n"
     ]
    },
    {
     "name": "stderr",
     "output_type": "stream",
     "text": [
      " 11%|█         | 150/1397 [01:14<10:04,  2.06it/s]"
     ]
    },
    {
     "name": "stdout",
     "output_type": "stream",
     "text": [
      "('handstand', 0.0)\n",
      "Ошибка при обработке видео test_data/test_dataset/1a4a0625-4a93-4a92-b364-801cad8ef80b.avi: name 'display_image' is not defined\n",
      "Обработка видео...\n",
      "('pushup', 0.0)"
     ]
    },
    {
     "name": "stderr",
     "output_type": "stream",
     "text": [
      " 11%|█         | 151/1397 [01:14<10:06,  2.06it/s]"
     ]
    },
    {
     "name": "stdout",
     "output_type": "stream",
     "text": [
      "\n",
      "Ошибка при обработке видео test_data/test_dataset/1a6791a4-fb91-41c1-928d-ee9a3785d410.avi: name 'display_image' is not defined\n",
      "Обработка видео...\n"
     ]
    },
    {
     "name": "stderr",
     "output_type": "stream",
     "text": [
      " 11%|█         | 152/1397 [01:15<10:06,  2.05it/s]"
     ]
    },
    {
     "name": "stdout",
     "output_type": "stream",
     "text": [
      "('handstand', 0.0)\n",
      "Ошибка при обработке видео test_data/test_dataset/1a7590c2-5327-4c2b-ae1a-d8226de4c534.avi: name 'display_image' is not defined\n",
      "Обработка видео...\n"
     ]
    },
    {
     "name": "stderr",
     "output_type": "stream",
     "text": [
      " 11%|█         | 153/1397 [01:15<10:06,  2.05it/s]"
     ]
    },
    {
     "name": "stdout",
     "output_type": "stream",
     "text": [
      "('shoot_ball', 0.0)\n",
      "Ошибка при обработке видео test_data/test_dataset/1a99828e-e7e7-4d11-8817-39944e623253.avi: name 'display_image' is not defined\n",
      "Обработка видео...\n"
     ]
    },
    {
     "name": "stderr",
     "output_type": "stream",
     "text": [
      " 11%|█         | 154/1397 [01:16<10:20,  2.00it/s]"
     ]
    },
    {
     "name": "stdout",
     "output_type": "stream",
     "text": [
      "('flic_flac', 0.0)\n",
      "Ошибка при обработке видео test_data/test_dataset/1a9ef1a9-15ff-477e-88c8-fd4a65b65f8c.avi: name 'display_image' is not defined\n",
      "Обработка видео...\n"
     ]
    },
    {
     "name": "stderr",
     "output_type": "stream",
     "text": [
      " 11%|█         | 155/1397 [01:16<10:25,  1.99it/s]"
     ]
    },
    {
     "name": "stdout",
     "output_type": "stream",
     "text": [
      "('handstand', 0.0)\n",
      "Ошибка при обработке видео test_data/test_dataset/1b1edf3d-23b9-4418-87f3-033869d8c444.avi: name 'display_image' is not defined\n",
      "Обработка видео...\n"
     ]
    },
    {
     "name": "stderr",
     "output_type": "stream",
     "text": [
      " 11%|█         | 156/1397 [01:17<10:21,  2.00it/s]"
     ]
    },
    {
     "name": "stdout",
     "output_type": "stream",
     "text": [
      "('pullup', 0.0)\n",
      "Ошибка при обработке видео test_data/test_dataset/1b1f9023-7bb4-4a72-8f58-88f31222a1b0.avi: name 'display_image' is not defined\n",
      "Обработка видео...\n"
     ]
    },
    {
     "name": "stderr",
     "output_type": "stream",
     "text": [
      " 11%|█         | 157/1397 [01:17<10:16,  2.01it/s]"
     ]
    },
    {
     "name": "stdout",
     "output_type": "stream",
     "text": [
      "('swing_baseball', 0.0)\n",
      "Ошибка при обработке видео test_data/test_dataset/1b2b2743-7bf3-4800-b473-0e0707ea8326.avi: name 'display_image' is not defined\n",
      "Обработка видео...\n",
      "('sit', 0.0)"
     ]
    },
    {
     "name": "stderr",
     "output_type": "stream",
     "text": [
      " 11%|█▏        | 158/1397 [01:18<10:12,  2.02it/s]"
     ]
    },
    {
     "name": "stdout",
     "output_type": "stream",
     "text": [
      "\n",
      "Ошибка при обработке видео test_data/test_dataset/1b2c6523-06c0-4c5a-be96-8c7413e9ed9b.avi: name 'display_image' is not defined\n",
      "Обработка видео...\n"
     ]
    },
    {
     "name": "stderr",
     "output_type": "stream",
     "text": [
      " 11%|█▏        | 159/1397 [01:18<10:10,  2.03it/s]"
     ]
    },
    {
     "name": "stdout",
     "output_type": "stream",
     "text": [
      "('sit', 0.0)\n",
      "Ошибка при обработке видео test_data/test_dataset/1b546d9b-3798-49a2-9532-46d27bcc635f.avi: name 'display_image' is not defined\n",
      "Обработка видео...\n"
     ]
    },
    {
     "name": "stderr",
     "output_type": "stream",
     "text": [
      " 11%|█▏        | 160/1397 [01:19<10:09,  2.03it/s]"
     ]
    },
    {
     "name": "stdout",
     "output_type": "stream",
     "text": [
      "('pushup', 0.0)\n",
      "Ошибка при обработке видео test_data/test_dataset/1b6f51df-ef2a-4372-a281-f4638ca82d4f.avi: name 'display_image' is not defined\n",
      "Обработка видео...\n"
     ]
    },
    {
     "name": "stderr",
     "output_type": "stream",
     "text": [
      " 12%|█▏        | 161/1397 [01:19<10:06,  2.04it/s]"
     ]
    },
    {
     "name": "stdout",
     "output_type": "stream",
     "text": [
      "('handstand', 0.0)\n",
      "Ошибка при обработке видео test_data/test_dataset/1b9cc81f-518f-4f0a-adbf-c5f673eb52a1.avi: name 'display_image' is not defined\n",
      "Обработка видео...\n",
      "('pick', 0.0)"
     ]
    },
    {
     "name": "stderr",
     "output_type": "stream",
     "text": [
      " 12%|█▏        | 162/1397 [01:20<10:12,  2.02it/s]"
     ]
    },
    {
     "name": "stdout",
     "output_type": "stream",
     "text": [
      "\n",
      "Ошибка при обработке видео test_data/test_dataset/1ba73ed1-6464-440a-9520-b69795a4cbba.avi: name 'display_image' is not defined\n",
      "Обработка видео...\n"
     ]
    },
    {
     "name": "stderr",
     "output_type": "stream",
     "text": [
      " 12%|█▏        | 163/1397 [01:20<10:12,  2.02it/s]"
     ]
    },
    {
     "name": "stdout",
     "output_type": "stream",
     "text": [
      "('swing_baseball', 0.0)\n",
      "Ошибка при обработке видео test_data/test_dataset/1bff8834-66ee-4a2e-9a00-0fef71050f74.avi: name 'display_image' is not defined\n",
      "Обработка видео...\n"
     ]
    },
    {
     "name": "stderr",
     "output_type": "stream",
     "text": [
      " 12%|█▏        | 164/1397 [01:21<10:07,  2.03it/s]"
     ]
    },
    {
     "name": "stdout",
     "output_type": "stream",
     "text": [
      "('sword_exercise', 0.0)\n",
      "Ошибка при обработке видео test_data/test_dataset/1c66219c-5fdf-4366-8548-a80edc43f7ee.avi: name 'display_image' is not defined\n",
      "Обработка видео...\n"
     ]
    },
    {
     "name": "stderr",
     "output_type": "stream",
     "text": [
      " 12%|█▏        | 165/1397 [01:21<10:07,  2.03it/s]"
     ]
    },
    {
     "name": "stdout",
     "output_type": "stream",
     "text": [
      "('jump', 0.0)\n",
      "Ошибка при обработке видео test_data/test_dataset/1d271b11-684a-4d82-ac4a-3973ec3b2378.avi: name 'display_image' is not defined\n",
      "Обработка видео...\n"
     ]
    },
    {
     "name": "stderr",
     "output_type": "stream",
     "text": [
      " 12%|█▏        | 166/1397 [01:22<10:08,  2.02it/s]"
     ]
    },
    {
     "name": "stdout",
     "output_type": "stream",
     "text": [
      "('handstand', 0.0)\n",
      "Ошибка при обработке видео test_data/test_dataset/1d476b49-dbbb-4603-ae93-df0ea60ed28b.avi: name 'display_image' is not defined\n",
      "Обработка видео...\n"
     ]
    },
    {
     "name": "stderr",
     "output_type": "stream",
     "text": [
      " 12%|█▏        | 167/1397 [01:22<10:05,  2.03it/s]"
     ]
    },
    {
     "name": "stdout",
     "output_type": "stream",
     "text": [
      "('cartwheel', 0.0)\n",
      "Ошибка при обработке видео test_data/test_dataset/1ddad7a9-1536-4389-b5f7-f366df728199.avi: name 'display_image' is not defined\n",
      "Обработка видео...\n"
     ]
    },
    {
     "name": "stderr",
     "output_type": "stream",
     "text": [
      " 12%|█▏        | 168/1397 [01:23<10:05,  2.03it/s]"
     ]
    },
    {
     "name": "stdout",
     "output_type": "stream",
     "text": [
      "('throw', 0.0)\n",
      "Ошибка при обработке видео test_data/test_dataset/1de524ab-4d51-4f2c-a13d-cfceb7d15391.avi: name 'display_image' is not defined\n",
      "Обработка видео...\n"
     ]
    },
    {
     "name": "stderr",
     "output_type": "stream",
     "text": [
      " 12%|█▏        | 169/1397 [01:23<10:03,  2.03it/s]"
     ]
    },
    {
     "name": "stdout",
     "output_type": "stream",
     "text": [
      "('climb', 0.0)\n",
      "Ошибка при обработке видео test_data/test_dataset/1df2773d-1233-4481-b7a6-cd2d20b164e0.avi: name 'display_image' is not defined\n",
      "Обработка видео...\n"
     ]
    },
    {
     "name": "stderr",
     "output_type": "stream",
     "text": [
      " 12%|█▏        | 170/1397 [01:24<10:07,  2.02it/s]"
     ]
    },
    {
     "name": "stdout",
     "output_type": "stream",
     "text": [
      "('handstand', 0.0)\n",
      "Ошибка при обработке видео test_data/test_dataset/1df2caf5-fbb9-4aa6-b1fa-d438141ae601.avi: name 'display_image' is not defined\n",
      "Обработка видео...\n"
     ]
    },
    {
     "name": "stderr",
     "output_type": "stream",
     "text": [
      " 12%|█▏        | 171/1397 [01:24<10:08,  2.01it/s]"
     ]
    },
    {
     "name": "stdout",
     "output_type": "stream",
     "text": [
      "('push', 0.0)\n",
      "Ошибка при обработке видео test_data/test_dataset/1dfe2a0b-1440-40da-b160-e528f9b1b1d8.avi: name 'display_image' is not defined\n",
      "Обработка видео...\n"
     ]
    },
    {
     "name": "stderr",
     "output_type": "stream",
     "text": [
      " 12%|█▏        | 172/1397 [01:25<10:09,  2.01it/s]"
     ]
    },
    {
     "name": "stdout",
     "output_type": "stream",
     "text": [
      "('pick', 0.0)\n",
      "Ошибка при обработке видео test_data/test_dataset/1e2091be-ece3-4df0-8edb-bdbdd7ff25c8.avi: name 'display_image' is not defined\n",
      "Обработка видео...\n"
     ]
    },
    {
     "name": "stderr",
     "output_type": "stream",
     "text": [
      " 12%|█▏        | 173/1397 [01:25<10:06,  2.02it/s]"
     ]
    },
    {
     "name": "stdout",
     "output_type": "stream",
     "text": [
      "('climb', 0.0)\n",
      "Ошибка при обработке видео test_data/test_dataset/1e544966-735a-4100-ba81-be0fb07474bb.avi: name 'display_image' is not defined\n",
      "Обработка видео...\n"
     ]
    },
    {
     "name": "stderr",
     "output_type": "stream",
     "text": [
      " 12%|█▏        | 174/1397 [01:26<10:05,  2.02it/s]"
     ]
    },
    {
     "name": "stdout",
     "output_type": "stream",
     "text": [
      "('sword_exercise', 0.0)\n",
      "Ошибка при обработке видео test_data/test_dataset/1e548e28-c9ff-4ff5-907e-06d9a59322b9.avi: name 'display_image' is not defined\n",
      "Обработка видео...\n"
     ]
    },
    {
     "name": "stderr",
     "output_type": "stream",
     "text": [
      " 13%|█▎        | 175/1397 [01:26<10:02,  2.03it/s]"
     ]
    },
    {
     "name": "stdout",
     "output_type": "stream",
     "text": [
      "('swing_baseball', 0.0)\n",
      "Ошибка при обработке видео test_data/test_dataset/1e72c6a7-500e-4f44-9f35-ac1e99b793af.avi: name 'display_image' is not defined\n",
      "Обработка видео...\n"
     ]
    },
    {
     "name": "stderr",
     "output_type": "stream",
     "text": [
      " 13%|█▎        | 176/1397 [01:26<10:00,  2.03it/s]"
     ]
    },
    {
     "name": "stdout",
     "output_type": "stream",
     "text": [
      "('golf', 0.0)\n",
      "Ошибка при обработке видео test_data/test_dataset/1e816270-be66-4630-bb61-b25aae6c9417.avi: name 'display_image' is not defined\n",
      "Обработка видео...\n"
     ]
    },
    {
     "name": "stderr",
     "output_type": "stream",
     "text": [
      " 13%|█▎        | 177/1397 [01:27<10:01,  2.03it/s]"
     ]
    },
    {
     "name": "stdout",
     "output_type": "stream",
     "text": [
      "('cartwheel', 0.0)\n",
      "Ошибка при обработке видео test_data/test_dataset/1e8a7337-f862-4ec2-a93e-730bbc6fb024.avi: name 'display_image' is not defined\n",
      "Обработка видео...\n"
     ]
    },
    {
     "name": "stderr",
     "output_type": "stream",
     "text": [
      " 13%|█▎        | 178/1397 [01:27<09:57,  2.04it/s]"
     ]
    },
    {
     "name": "stdout",
     "output_type": "stream",
     "text": [
      "('golf', 0.0)\n",
      "Ошибка при обработке видео test_data/test_dataset/1ea9cee0-cfbd-40ce-aafe-16197ec95a82.avi: name 'display_image' is not defined\n",
      "Обработка видео...\n"
     ]
    },
    {
     "name": "stderr",
     "output_type": "stream",
     "text": [
      " 13%|█▎        | 179/1397 [01:28<09:53,  2.05it/s]"
     ]
    },
    {
     "name": "stdout",
     "output_type": "stream",
     "text": [
      "('cartwheel', 0.0)\n",
      "Ошибка при обработке видео test_data/test_dataset/1f143874-1e55-44f0-adec-791a89a49b0e.avi: name 'display_image' is not defined\n",
      "Обработка видео...\n"
     ]
    },
    {
     "name": "stderr",
     "output_type": "stream",
     "text": [
      " 13%|█▎        | 180/1397 [01:28<09:53,  2.05it/s]"
     ]
    },
    {
     "name": "stdout",
     "output_type": "stream",
     "text": [
      "('throw', 0.0)\n",
      "Ошибка при обработке видео test_data/test_dataset/1f326263-7f5f-42ea-a89b-a281644b5a90.avi: name 'display_image' is not defined\n",
      "Обработка видео...\n"
     ]
    },
    {
     "name": "stderr",
     "output_type": "stream",
     "text": [
      " 13%|█▎        | 181/1397 [01:29<09:49,  2.06it/s]"
     ]
    },
    {
     "name": "stdout",
     "output_type": "stream",
     "text": [
      "('swing_baseball', 0.0)\n",
      "Ошибка при обработке видео test_data/test_dataset/1f892dd8-7a6e-4d18-8a3f-4c95e3343183.avi: name 'display_image' is not defined\n",
      "Обработка видео...\n"
     ]
    },
    {
     "name": "stderr",
     "output_type": "stream",
     "text": [
      " 13%|█▎        | 182/1397 [01:29<09:48,  2.06it/s]"
     ]
    },
    {
     "name": "stdout",
     "output_type": "stream",
     "text": [
      "('handstand', 0.0)\n",
      "Ошибка при обработке видео test_data/test_dataset/2003930c-e159-4ca0-b5f4-9efb94e5e3f9.avi: name 'display_image' is not defined\n",
      "Обработка видео...\n"
     ]
    },
    {
     "name": "stderr",
     "output_type": "stream",
     "text": [
      " 13%|█▎        | 183/1397 [01:30<09:49,  2.06it/s]"
     ]
    },
    {
     "name": "stdout",
     "output_type": "stream",
     "text": [
      "('dribble', 0.0)\n",
      "Ошибка при обработке видео test_data/test_dataset/2080a83e-a0d1-428a-a467-24637556b253.avi: name 'display_image' is not defined\n",
      "Обработка видео...\n"
     ]
    },
    {
     "name": "stderr",
     "output_type": "stream",
     "text": [
      " 13%|█▎        | 184/1397 [01:30<09:52,  2.05it/s]"
     ]
    },
    {
     "name": "stdout",
     "output_type": "stream",
     "text": [
      "('sit', 0.0)\n",
      "Ошибка при обработке видео test_data/test_dataset/208ca870-cff3-4496-b16f-b9c2b7eff065.avi: name 'display_image' is not defined\n",
      "Обработка видео...\n"
     ]
    },
    {
     "name": "stderr",
     "output_type": "stream",
     "text": [
      " 13%|█▎        | 185/1397 [01:31<09:51,  2.05it/s]"
     ]
    },
    {
     "name": "stdout",
     "output_type": "stream",
     "text": [
      "('pushup', 0.0)\n",
      "Ошибка при обработке видео test_data/test_dataset/20909e3a-709e-4e98-adcd-203235cbca42.avi: name 'display_image' is not defined\n",
      "Обработка видео...\n"
     ]
    },
    {
     "name": "stderr",
     "output_type": "stream",
     "text": [
      "Exception ignored in: <function _xla_gc_callback at 0x7f71dee4b640>\n",
      "Traceback (most recent call last):\n",
      "  File \"/usr/local/lib/python3.10/dist-packages/jax/_src/lib/__init__.py\", line 103, in _xla_gc_callback\n",
      "    def _xla_gc_callback(*args):\n",
      "KeyboardInterrupt: \n",
      " 13%|█▎        | 186/1397 [01:31<09:51,  2.05it/s]"
     ]
    },
    {
     "name": "stdout",
     "output_type": "stream",
     "text": [
      "('fencing', 0.0)\n",
      "Ошибка при обработке видео test_data/test_dataset/20c3c7b7-df13-46a7-bd1d-59e58ee6cf32.avi: name 'display_image' is not defined\n",
      "Обработка видео...\n"
     ]
    },
    {
     "name": "stderr",
     "output_type": "stream",
     "text": [
      " 13%|█▎        | 187/1397 [01:32<09:52,  2.04it/s]"
     ]
    },
    {
     "name": "stdout",
     "output_type": "stream",
     "text": [
      "('sit', 0.0)\n",
      "Ошибка при обработке видео test_data/test_dataset/20ec3422-69ff-4ff2-a4b7-9db5ff5eb676.avi: name 'display_image' is not defined\n",
      "Обработка видео...\n"
     ]
    },
    {
     "name": "stderr",
     "output_type": "stream",
     "text": [
      " 13%|█▎        | 188/1397 [01:32<09:57,  2.02it/s]"
     ]
    },
    {
     "name": "stdout",
     "output_type": "stream",
     "text": [
      "('cartwheel', 0.0)\n",
      "Ошибка при обработке видео test_data/test_dataset/2114df36-1e93-4e0c-9991-275af1c4034f.avi: name 'display_image' is not defined\n",
      "Обработка видео...\n"
     ]
    },
    {
     "name": "stderr",
     "output_type": "stream",
     "text": [
      "Exception ignored in: <function _xla_gc_callback at 0x7f71dee4b640>\n",
      "Traceback (most recent call last):\n",
      "  File \"/usr/local/lib/python3.10/dist-packages/jax/_src/lib/__init__.py\", line 103, in _xla_gc_callback\n",
      "    def _xla_gc_callback(*args):\n",
      "KeyboardInterrupt: \n",
      " 14%|█▎        | 189/1397 [01:33<09:56,  2.02it/s]"
     ]
    },
    {
     "name": "stdout",
     "output_type": "stream",
     "text": [
      "('pushup', 0.0)\n",
      "Ошибка при обработке видео test_data/test_dataset/21289183-a94b-4b9c-a729-f851e3cb7b41.avi: name 'display_image' is not defined\n"
     ]
    },
    {
     "name": "stderr",
     "output_type": "stream",
     "text": [
      "Exception ignored in: <function _xla_gc_callback at 0x7f71dee4b640>\n",
      "Traceback (most recent call last):\n",
      "  File \"/usr/local/lib/python3.10/dist-packages/jax/_src/lib/__init__.py\", line 103, in _xla_gc_callback\n",
      "    def _xla_gc_callback(*args):\n",
      "KeyboardInterrupt: \n"
     ]
    },
    {
     "name": "stdout",
     "output_type": "stream",
     "text": [
      "Обработка видео...\n"
     ]
    },
    {
     "name": "stderr",
     "output_type": "stream",
     "text": [
      " 14%|█▎        | 190/1397 [01:33<09:55,  2.03it/s]"
     ]
    },
    {
     "name": "stdout",
     "output_type": "stream",
     "text": [
      "('golf', 0.0)\n",
      "Ошибка при обработке видео test_data/test_dataset/213c435d-4580-4afb-8334-58dd12ddf6be.avi: name 'display_image' is not defined\n",
      "Обработка видео...\n"
     ]
    },
    {
     "name": "stderr",
     "output_type": "stream",
     "text": [
      " 14%|█▎        | 191/1397 [01:34<09:51,  2.04it/s]"
     ]
    },
    {
     "name": "stdout",
     "output_type": "stream",
     "text": [
      "('pushup', 0.0)\n",
      "Ошибка при обработке видео test_data/test_dataset/2163dfcf-5d15-41b8-ab7c-b19e0d030109.avi: name 'display_image' is not defined\n",
      "Обработка видео...\n",
      "('golf', 0.0)\n",
      "Ошибка при обработке видео test_data/test_dataset/2193aa26-3841-4b37-afaa-3d80d7fb39af.avi: name 'display_image' is not defined\n"
     ]
    },
    {
     "name": "stderr",
     "output_type": "stream",
     "text": [
      " 14%|█▎        | 192/1397 [01:34<09:50,  2.04it/s]"
     ]
    },
    {
     "name": "stdout",
     "output_type": "stream",
     "text": [
      "Обработка видео...\n"
     ]
    },
    {
     "name": "stderr",
     "output_type": "stream",
     "text": [
      " 14%|█▍        | 193/1397 [01:35<09:52,  2.03it/s]"
     ]
    },
    {
     "name": "stdout",
     "output_type": "stream",
     "text": [
      "('shoot_ball', 0.0)\n",
      "Ошибка при обработке видео test_data/test_dataset/21ba4b0e-4656-463b-865d-469e34e1ba75.avi: name 'display_image' is not defined\n",
      "Обработка видео...\n"
     ]
    },
    {
     "name": "stderr",
     "output_type": "stream",
     "text": [
      " 14%|█▍        | 194/1397 [01:35<09:56,  2.02it/s]"
     ]
    },
    {
     "name": "stdout",
     "output_type": "stream",
     "text": [
      "('flic_flac', 0.0)\n",
      "Ошибка при обработке видео test_data/test_dataset/21d8d11f-ba0b-433e-b15a-9e2df7d522c2.avi: name 'display_image' is not defined\n",
      "Обработка видео...\n"
     ]
    },
    {
     "name": "stderr",
     "output_type": "stream",
     "text": [
      " 14%|█▍        | 195/1397 [01:36<09:57,  2.01it/s]"
     ]
    },
    {
     "name": "stdout",
     "output_type": "stream",
     "text": [
      "('handstand', 0.0)\n",
      "Ошибка при обработке видео test_data/test_dataset/22418368-d06e-443d-9c9b-1d38bc7d287b.avi: name 'display_image' is not defined\n",
      "Обработка видео...\n"
     ]
    },
    {
     "name": "stderr",
     "output_type": "stream",
     "text": [
      " 14%|█▍        | 196/1397 [01:36<09:55,  2.02it/s]"
     ]
    },
    {
     "name": "stdout",
     "output_type": "stream",
     "text": [
      "('push', 0.0)\n",
      "Ошибка при обработке видео test_data/test_dataset/22834c6a-85aa-4ef6-a2fb-daaedc36e842.avi: name 'display_image' is not defined\n",
      "Обработка видео...\n"
     ]
    },
    {
     "name": "stderr",
     "output_type": "stream",
     "text": [
      " 14%|█▍        | 197/1397 [01:37<09:59,  2.00it/s]"
     ]
    },
    {
     "name": "stdout",
     "output_type": "stream",
     "text": [
      "('pushup', 0.0)\n",
      "Ошибка при обработке видео test_data/test_dataset/22991306-7ecb-4368-a27a-800172b3412a.avi: name 'display_image' is not defined\n",
      "Обработка видео...\n"
     ]
    },
    {
     "name": "stderr",
     "output_type": "stream",
     "text": [
      " 14%|█▍        | 198/1397 [01:37<09:55,  2.01it/s]"
     ]
    },
    {
     "name": "stdout",
     "output_type": "stream",
     "text": [
      "('cartwheel', 0.0)\n",
      "Ошибка при обработке видео test_data/test_dataset/22a8e000-f920-4141-90f1-1ba87f088132.avi: name 'display_image' is not defined\n",
      "Обработка видео...\n"
     ]
    },
    {
     "name": "stderr",
     "output_type": "stream",
     "text": [
      " 14%|█▍        | 199/1397 [01:38<09:56,  2.01it/s]"
     ]
    },
    {
     "name": "stdout",
     "output_type": "stream",
     "text": [
      "('pullup', 0.0)\n",
      "Ошибка при обработке видео test_data/test_dataset/22b44a7c-2ead-4748-8b67-862976ab5860.avi: name 'display_image' is not defined\n",
      "Обработка видео...\n"
     ]
    },
    {
     "name": "stderr",
     "output_type": "stream",
     "text": [
      " 14%|█▍        | 200/1397 [01:38<09:52,  2.02it/s]"
     ]
    },
    {
     "name": "stdout",
     "output_type": "stream",
     "text": [
      "('handstand', 0.0)\n",
      "Ошибка при обработке видео test_data/test_dataset/22c6d776-d64f-4d93-ad83-ae3c063c54ed.avi: name 'display_image' is not defined\n",
      "Обработка видео...\n"
     ]
    },
    {
     "name": "stderr",
     "output_type": "stream",
     "text": [
      " 14%|█▍        | 201/1397 [01:39<09:54,  2.01it/s]"
     ]
    },
    {
     "name": "stdout",
     "output_type": "stream",
     "text": [
      "('pullup', 0.0)\n",
      "Ошибка при обработке видео test_data/test_dataset/22f1076f-b428-41ba-9587-d9b7997969ad.avi: name 'display_image' is not defined\n",
      "Обработка видео...\n"
     ]
    },
    {
     "name": "stderr",
     "output_type": "stream",
     "text": [
      " 14%|█▍        | 202/1397 [01:39<09:56,  2.00it/s]"
     ]
    },
    {
     "name": "stdout",
     "output_type": "stream",
     "text": [
      "('pullup', 0.0)\n",
      "Ошибка при обработке видео test_data/test_dataset/2304c1c0-087a-428d-8fd0-65a6b88c3b78.avi: name 'display_image' is not defined\n",
      "Обработка видео...\n"
     ]
    },
    {
     "name": "stderr",
     "output_type": "stream",
     "text": [
      " 15%|█▍        | 203/1397 [01:40<09:59,  1.99it/s]"
     ]
    },
    {
     "name": "stdout",
     "output_type": "stream",
     "text": [
      "('swing_baseball', 0.0)\n",
      "Ошибка при обработке видео test_data/test_dataset/2355fb84-76ce-40bf-bc4a-66a932ca1222.avi: name 'display_image' is not defined\n",
      "Обработка видео...\n"
     ]
    },
    {
     "name": "stderr",
     "output_type": "stream",
     "text": [
      " 15%|█▍        | 204/1397 [01:40<09:57,  2.00it/s]"
     ]
    },
    {
     "name": "stdout",
     "output_type": "stream",
     "text": [
      "('sword_exercise', 0.0)\n",
      "Ошибка при обработке видео test_data/test_dataset/23ba0ece-4d0d-4b41-9de0-4b64b22e7cfb.avi: name 'display_image' is not defined\n",
      "Обработка видео...\n"
     ]
    },
    {
     "name": "stderr",
     "output_type": "stream",
     "text": [
      " 15%|█▍        | 205/1397 [01:41<09:52,  2.01it/s]"
     ]
    },
    {
     "name": "stdout",
     "output_type": "stream",
     "text": [
      "('cartwheel', 0.0)\n",
      "Ошибка при обработке видео test_data/test_dataset/240e72a0-c118-4b09-aa09-ec78105cb20c.avi: name 'display_image' is not defined\n",
      "Обработка видео...\n"
     ]
    },
    {
     "name": "stderr",
     "output_type": "stream",
     "text": [
      " 15%|█▍        | 206/1397 [01:41<09:52,  2.01it/s]"
     ]
    },
    {
     "name": "stdout",
     "output_type": "stream",
     "text": [
      "('pushup', 0.0)\n",
      "Ошибка при обработке видео test_data/test_dataset/2439f4f1-36e3-4dd6-a94c-64e39a6ef044.avi: name 'display_image' is not defined\n",
      "Обработка видео...\n"
     ]
    },
    {
     "name": "stderr",
     "output_type": "stream",
     "text": [
      " 15%|█▍        | 207/1397 [01:42<09:49,  2.02it/s]"
     ]
    },
    {
     "name": "stdout",
     "output_type": "stream",
     "text": [
      "('shoot_ball', 0.0)\n",
      "Ошибка при обработке видео test_data/test_dataset/2452767a-e5d9-42bc-aeae-62a262e6682f.avi: name 'display_image' is not defined\n",
      "Обработка видео...\n"
     ]
    },
    {
     "name": "stderr",
     "output_type": "stream",
     "text": [
      " 15%|█▍        | 208/1397 [01:42<09:51,  2.01it/s]"
     ]
    },
    {
     "name": "stdout",
     "output_type": "stream",
     "text": [
      "('handstand', 0.0)\n",
      "Ошибка при обработке видео test_data/test_dataset/245fb153-bb13-412b-9691-530444ba3910.avi: name 'display_image' is not defined\n",
      "Обработка видео...\n"
     ]
    },
    {
     "name": "stderr",
     "output_type": "stream",
     "text": [
      " 15%|█▍        | 209/1397 [01:43<09:49,  2.02it/s]"
     ]
    },
    {
     "name": "stdout",
     "output_type": "stream",
     "text": [
      "('throw', 0.0)\n",
      "Ошибка при обработке видео test_data/test_dataset/248df996-434b-44f5-bbb5-b502c20d0b79.avi: name 'display_image' is not defined\n",
      "Обработка видео...\n"
     ]
    },
    {
     "name": "stderr",
     "output_type": "stream",
     "text": [
      " 15%|█▌        | 210/1397 [01:43<09:50,  2.01it/s]"
     ]
    },
    {
     "name": "stdout",
     "output_type": "stream",
     "text": [
      "('dive', 0.0)\n",
      "Ошибка при обработке видео test_data/test_dataset/249e4f0e-654c-4204-a63b-5c1892fc424b.avi: name 'display_image' is not defined\n",
      "Обработка видео...\n"
     ]
    },
    {
     "name": "stderr",
     "output_type": "stream",
     "text": [
      " 15%|█▌        | 211/1397 [01:44<09:47,  2.02it/s]"
     ]
    },
    {
     "name": "stdout",
     "output_type": "stream",
     "text": [
      "('shoot_ball', 0.0)\n",
      "Ошибка при обработке видео test_data/test_dataset/24ac52c2-dc54-49c5-8bf3-7ab3f752f387.avi: name 'display_image' is not defined\n",
      "Обработка видео...\n"
     ]
    },
    {
     "name": "stderr",
     "output_type": "stream",
     "text": [
      " 15%|█▌        | 212/1397 [01:44<09:47,  2.02it/s]"
     ]
    },
    {
     "name": "stdout",
     "output_type": "stream",
     "text": [
      "('catch', 0.0)\n",
      "Ошибка при обработке видео test_data/test_dataset/2520e296-450d-4d5b-9328-25526b3fa263.avi: name 'display_image' is not defined\n",
      "Обработка видео...\n"
     ]
    },
    {
     "name": "stderr",
     "output_type": "stream",
     "text": [
      " 15%|█▌        | 213/1397 [01:45<09:42,  2.03it/s]"
     ]
    },
    {
     "name": "stdout",
     "output_type": "stream",
     "text": [
      "('pullup', 0.0)\n",
      "Ошибка при обработке видео test_data/test_dataset/259e98ce-ccad-4247-bda6-6ed01de9980f.avi: name 'display_image' is not defined\n",
      "Обработка видео...\n"
     ]
    },
    {
     "name": "stderr",
     "output_type": "stream",
     "text": [
      " 15%|█▌        | 214/1397 [01:45<09:39,  2.04it/s]"
     ]
    },
    {
     "name": "stdout",
     "output_type": "stream",
     "text": [
      "('swing_baseball', 0.0)\n",
      "Ошибка при обработке видео test_data/test_dataset/25a528f2-0f0d-416e-8a3e-661cb225e261.avi: name 'display_image' is not defined\n",
      "Обработка видео...\n"
     ]
    },
    {
     "name": "stderr",
     "output_type": "stream",
     "text": [
      " 15%|█▌        | 215/1397 [01:46<09:38,  2.04it/s]"
     ]
    },
    {
     "name": "stdout",
     "output_type": "stream",
     "text": [
      "('swing_baseball', 0.0)\n",
      "Ошибка при обработке видео test_data/test_dataset/25cdc51c-ae0b-49f4-803f-ccaefcb36546.avi: name 'display_image' is not defined\n",
      "Обработка видео...\n"
     ]
    },
    {
     "name": "stderr",
     "output_type": "stream",
     "text": [
      " 15%|█▌        | 216/1397 [01:46<09:38,  2.04it/s]"
     ]
    },
    {
     "name": "stdout",
     "output_type": "stream",
     "text": [
      "('throw', 0.0)\n",
      "Ошибка при обработке видео test_data/test_dataset/25cf6987-4d6d-404c-8789-b8a8ae0a3321.avi: name 'display_image' is not defined\n",
      "Обработка видео...\n"
     ]
    },
    {
     "name": "stderr",
     "output_type": "stream",
     "text": [
      " 16%|█▌        | 217/1397 [01:47<09:36,  2.05it/s]"
     ]
    },
    {
     "name": "stdout",
     "output_type": "stream",
     "text": [
      "('dive', 0.0)\n",
      "Ошибка при обработке видео test_data/test_dataset/25d30130-67a2-4d4d-a6c6-a9386723c3f6.avi: name 'display_image' is not defined\n",
      "Обработка видео...\n",
      "('catch', 0.0)\n",
      "Ошибка при обработке видео test_data/test_dataset/25e2bcf5-0aee-4f1e-be0b-914dd6cedeb1.avi: name 'display_image' is not defined\n"
     ]
    },
    {
     "name": "stderr",
     "output_type": "stream",
     "text": [
      " 16%|█▌        | 218/1397 [01:47<09:37,  2.04it/s]"
     ]
    },
    {
     "name": "stdout",
     "output_type": "stream",
     "text": [
      "Обработка видео...\n"
     ]
    },
    {
     "name": "stderr",
     "output_type": "stream",
     "text": [
      " 16%|█▌        | 219/1397 [01:48<09:36,  2.04it/s]"
     ]
    },
    {
     "name": "stdout",
     "output_type": "stream",
     "text": [
      "('sit', 0.0)\n",
      "Ошибка при обработке видео test_data/test_dataset/261d12fe-0691-425b-a787-5520af8584a3.avi: name 'display_image' is not defined\n",
      "Обработка видео...\n"
     ]
    },
    {
     "name": "stderr",
     "output_type": "stream",
     "text": [
      " 16%|█▌        | 220/1397 [01:48<09:54,  1.98it/s]"
     ]
    },
    {
     "name": "stdout",
     "output_type": "stream",
     "text": [
      "('handstand', 0.0)\n",
      "Ошибка при обработке видео test_data/test_dataset/26273d0a-a9da-4ed6-b693-6b9a4c4b7929.avi: name 'display_image' is not defined\n",
      "Обработка видео...\n"
     ]
    },
    {
     "name": "stderr",
     "output_type": "stream",
     "text": [
      " 16%|█▌        | 221/1397 [01:49<09:48,  2.00it/s]"
     ]
    },
    {
     "name": "stdout",
     "output_type": "stream",
     "text": [
      "('pour', 0.0)\n",
      "Ошибка при обработке видео test_data/test_dataset/262faaa1-66b1-4d74-a459-54499892374c.avi: name 'display_image' is not defined\n",
      "Обработка видео...\n"
     ]
    },
    {
     "name": "stderr",
     "output_type": "stream",
     "text": [
      " 16%|█▌        | 222/1397 [01:49<09:50,  1.99it/s]"
     ]
    },
    {
     "name": "stdout",
     "output_type": "stream",
     "text": [
      "('pushup', 0.0)\n",
      "Ошибка при обработке видео test_data/test_dataset/26a41d38-04eb-4175-bf4d-35063bfac691.avi: name 'display_image' is not defined\n",
      "Обработка видео...\n"
     ]
    },
    {
     "name": "stderr",
     "output_type": "stream",
     "text": [
      " 16%|█▌        | 223/1397 [01:50<09:45,  2.00it/s]"
     ]
    },
    {
     "name": "stdout",
     "output_type": "stream",
     "text": [
      "('dive', 0.0)\n",
      "Ошибка при обработке видео test_data/test_dataset/26f832a2-67bb-465c-a4e0-ba0d62ad2e84.avi: name 'display_image' is not defined\n",
      "Обработка видео...\n"
     ]
    },
    {
     "name": "stderr",
     "output_type": "stream",
     "text": [
      " 16%|█▌        | 224/1397 [01:50<09:44,  2.01it/s]"
     ]
    },
    {
     "name": "stdout",
     "output_type": "stream",
     "text": [
      "('dive', 0.0)\n",
      "Ошибка при обработке видео test_data/test_dataset/2724211d-8141-4f93-9a82-0c57fa754781.avi: name 'display_image' is not defined\n",
      "Обработка видео...\n"
     ]
    },
    {
     "name": "stderr",
     "output_type": "stream",
     "text": [
      " 16%|█▌        | 225/1397 [01:51<09:41,  2.02it/s]"
     ]
    },
    {
     "name": "stdout",
     "output_type": "stream",
     "text": [
      "('golf', 0.0)\n",
      "Ошибка при обработке видео test_data/test_dataset/273ce9d5-7d66-462c-9e32-340e82f2a738.avi: name 'display_image' is not defined\n",
      "Обработка видео...\n"
     ]
    },
    {
     "name": "stderr",
     "output_type": "stream",
     "text": [
      " 16%|█▌        | 226/1397 [01:51<09:39,  2.02it/s]"
     ]
    },
    {
     "name": "stdout",
     "output_type": "stream",
     "text": [
      "('pullup', 0.0)\n",
      "Ошибка при обработке видео test_data/test_dataset/27553cff-1007-4ffb-91c1-61d7a2383a93.avi: name 'display_image' is not defined\n",
      "Обработка видео...\n"
     ]
    },
    {
     "name": "stderr",
     "output_type": "stream",
     "text": [
      " 16%|█▌        | 227/1397 [01:52<09:37,  2.03it/s]"
     ]
    },
    {
     "name": "stdout",
     "output_type": "stream",
     "text": [
      "('pullup', 0.0)\n",
      "Ошибка при обработке видео test_data/test_dataset/276cea63-1ace-47f7-8712-ad2ce79ca278.avi: name 'display_image' is not defined\n",
      "Обработка видео...\n"
     ]
    },
    {
     "name": "stderr",
     "output_type": "stream",
     "text": [
      " 16%|█▋        | 228/1397 [01:52<09:35,  2.03it/s]"
     ]
    },
    {
     "name": "stdout",
     "output_type": "stream",
     "text": [
      "('dive', 0.0)\n",
      "Ошибка при обработке видео test_data/test_dataset/27779022-0b42-495d-b8bf-9cd7714b8575.avi: name 'display_image' is not defined\n",
      "Обработка видео...\n"
     ]
    },
    {
     "name": "stderr",
     "output_type": "stream",
     "text": [
      " 16%|█▋        | 229/1397 [01:53<09:35,  2.03it/s]"
     ]
    },
    {
     "name": "stdout",
     "output_type": "stream",
     "text": [
      "('handstand', 0.0)\n",
      "Ошибка при обработке видео test_data/test_dataset/27dd43ab-788d-40ea-807b-5d9c9a53ee7c.avi: name 'display_image' is not defined\n",
      "Обработка видео...\n"
     ]
    },
    {
     "name": "stderr",
     "output_type": "stream",
     "text": [
      " 16%|█▋        | 230/1397 [01:53<09:34,  2.03it/s]"
     ]
    },
    {
     "name": "stdout",
     "output_type": "stream",
     "text": [
      "('pullup', 0.0)\n",
      "Ошибка при обработке видео test_data/test_dataset/27f15f72-da22-4285-a494-9b59ca16cab6.avi: name 'display_image' is not defined\n",
      "Обработка видео...\n"
     ]
    },
    {
     "name": "stderr",
     "output_type": "stream",
     "text": [
      " 17%|█▋        | 231/1397 [01:54<09:37,  2.02it/s]"
     ]
    },
    {
     "name": "stdout",
     "output_type": "stream",
     "text": [
      "('handstand', 0.0)\n",
      "Ошибка при обработке видео test_data/test_dataset/28084a3d-7f52-4b39-b93f-8a70be8956e1.avi: name 'display_image' is not defined\n",
      "Обработка видео...\n"
     ]
    },
    {
     "name": "stderr",
     "output_type": "stream",
     "text": [
      " 17%|█▋        | 232/1397 [01:54<09:35,  2.02it/s]"
     ]
    },
    {
     "name": "stdout",
     "output_type": "stream",
     "text": [
      "('pullup', 0.0)\n",
      "Ошибка при обработке видео test_data/test_dataset/2832a139-7876-479f-9613-ddccda5a902a.avi: name 'display_image' is not defined\n",
      "Обработка видео...\n"
     ]
    },
    {
     "name": "stderr",
     "output_type": "stream",
     "text": [
      " 17%|█▋        | 233/1397 [01:55<09:39,  2.01it/s]"
     ]
    },
    {
     "name": "stdout",
     "output_type": "stream",
     "text": [
      "('hit', 0.0)\n",
      "Ошибка при обработке видео test_data/test_dataset/288485bd-1ee6-4ea6-a1ec-23ed87a2e4ca.avi: name 'display_image' is not defined\n",
      "Обработка видео...\n"
     ]
    },
    {
     "name": "stderr",
     "output_type": "stream",
     "text": [
      " 17%|█▋        | 234/1397 [01:55<09:39,  2.01it/s]"
     ]
    },
    {
     "name": "stdout",
     "output_type": "stream",
     "text": [
      "('dribble', 0.0)\n",
      "Ошибка при обработке видео test_data/test_dataset/289eeb5f-357e-45a6-9936-a6afb6314430.avi: name 'display_image' is not defined\n",
      "Обработка видео...\n"
     ]
    },
    {
     "name": "stderr",
     "output_type": "stream",
     "text": [
      " 17%|█▋        | 235/1397 [01:56<09:36,  2.02it/s]"
     ]
    },
    {
     "name": "stdout",
     "output_type": "stream",
     "text": [
      "('sword_exercise', 0.0)\n",
      "Ошибка при обработке видео test_data/test_dataset/28d1f13c-caa9-42d4-ae8c-868c0ae2bb59.avi: name 'display_image' is not defined\n",
      "Обработка видео...\n"
     ]
    },
    {
     "name": "stderr",
     "output_type": "stream",
     "text": [
      " 17%|█▋        | 236/1397 [01:56<09:32,  2.03it/s]"
     ]
    },
    {
     "name": "stdout",
     "output_type": "stream",
     "text": [
      "('push', 0.0)\n",
      "Ошибка при обработке видео test_data/test_dataset/28e0d1c8-e3ac-4812-ba36-15a4cbe8e770.avi: name 'display_image' is not defined\n",
      "Обработка видео...\n"
     ]
    },
    {
     "name": "stderr",
     "output_type": "stream",
     "text": [
      " 17%|█▋        | 237/1397 [01:57<09:32,  2.03it/s]"
     ]
    },
    {
     "name": "stdout",
     "output_type": "stream",
     "text": [
      "('fencing', 0.0)\n",
      "Ошибка при обработке видео test_data/test_dataset/2907e887-8036-4a68-a4af-41f4fb3cad6d.avi: name 'display_image' is not defined\n",
      "Обработка видео...\n"
     ]
    },
    {
     "name": "stderr",
     "output_type": "stream",
     "text": [
      " 17%|█▋        | 238/1397 [01:57<09:35,  2.02it/s]"
     ]
    },
    {
     "name": "stdout",
     "output_type": "stream",
     "text": [
      "('golf', 0.0)\n",
      "Ошибка при обработке видео test_data/test_dataset/293e005b-cc64-48d3-af89-2dcbaff1b2fa.avi: name 'display_image' is not defined\n",
      "Обработка видео...\n"
     ]
    },
    {
     "name": "stderr",
     "output_type": "stream",
     "text": [
      " 17%|█▋        | 239/1397 [01:58<09:31,  2.03it/s]"
     ]
    },
    {
     "name": "stdout",
     "output_type": "stream",
     "text": [
      "('swing_baseball', 0.0)\n",
      "Ошибка при обработке видео test_data/test_dataset/297915e4-cd57-4fe9-bd72-119e6528d39a.avi: name 'display_image' is not defined\n",
      "Обработка видео...\n"
     ]
    },
    {
     "name": "stderr",
     "output_type": "stream",
     "text": [
      " 17%|█▋        | 240/1397 [01:58<09:25,  2.05it/s]"
     ]
    },
    {
     "name": "stdout",
     "output_type": "stream",
     "text": [
      "('dive', 0.0)\n",
      "Ошибка при обработке видео test_data/test_dataset/297c762e-72eb-4ea7-85d4-756c950f5ef0.avi: name 'display_image' is not defined\n",
      "Обработка видео...\n"
     ]
    },
    {
     "name": "stderr",
     "output_type": "stream",
     "text": [
      " 17%|█▋        | 241/1397 [01:59<09:21,  2.06it/s]"
     ]
    },
    {
     "name": "stdout",
     "output_type": "stream",
     "text": [
      "('cartwheel', 0.0)\n",
      "Ошибка при обработке видео test_data/test_dataset/2994e09d-7a3f-4b4e-ba1a-3dcfccc24fbd.avi: name 'display_image' is not defined\n",
      "Обработка видео...\n"
     ]
    },
    {
     "name": "stderr",
     "output_type": "stream",
     "text": [
      " 17%|█▋        | 242/1397 [01:59<09:23,  2.05it/s]"
     ]
    },
    {
     "name": "stdout",
     "output_type": "stream",
     "text": [
      "('swing_baseball', 0.0)\n",
      "Ошибка при обработке видео test_data/test_dataset/29d6d0c3-8f92-49ff-9f49-62acc09ae0bd.avi: name 'display_image' is not defined\n",
      "Обработка видео...\n"
     ]
    },
    {
     "name": "stderr",
     "output_type": "stream",
     "text": [
      " 17%|█▋        | 243/1397 [02:00<09:25,  2.04it/s]"
     ]
    },
    {
     "name": "stdout",
     "output_type": "stream",
     "text": [
      "('flic_flac', 0.0)\n",
      "Ошибка при обработке видео test_data/test_dataset/29d6d59e-0b68-44c1-9555-b24e9a383b3d.avi: name 'display_image' is not defined\n",
      "Обработка видео..."
     ]
    },
    {
     "name": "stderr",
     "output_type": "stream",
     "text": [
      " 17%|█▋        | 244/1397 [02:00<09:24,  2.04it/s]"
     ]
    },
    {
     "name": "stdout",
     "output_type": "stream",
     "text": [
      "\n",
      "('dive', 0.0)\n",
      "Ошибка при обработке видео test_data/test_dataset/29f4d55e-e6e3-4ba8-8505-ed2e263072b2.avi: name 'display_image' is not defined\n",
      "Обработка видео...\n"
     ]
    },
    {
     "name": "stderr",
     "output_type": "stream",
     "text": [
      " 18%|█▊        | 245/1397 [02:01<09:32,  2.01it/s]"
     ]
    },
    {
     "name": "stdout",
     "output_type": "stream",
     "text": [
      "('cartwheel', 0.0)\n",
      "Ошибка при обработке видео test_data/test_dataset/2a49b91f-2408-4bb4-9c2f-65ba2d0d6b77.avi: name 'display_image' is not defined\n",
      "Обработка видео...\n"
     ]
    },
    {
     "name": "stderr",
     "output_type": "stream",
     "text": [
      " 18%|█▊        | 246/1397 [02:01<09:33,  2.01it/s]"
     ]
    },
    {
     "name": "stdout",
     "output_type": "stream",
     "text": [
      "('pullup', 0.0)\n",
      "Ошибка при обработке видео test_data/test_dataset/2ab65bc6-ed3a-4822-96e8-82b5fc8df70b.avi: name 'display_image' is not defined\n",
      "Обработка видео...\n"
     ]
    },
    {
     "name": "stderr",
     "output_type": "stream",
     "text": [
      " 18%|█▊        | 247/1397 [02:02<09:31,  2.01it/s]"
     ]
    },
    {
     "name": "stdout",
     "output_type": "stream",
     "text": [
      "('dive', 0.0)\n",
      "Ошибка при обработке видео test_data/test_dataset/2acb625d-e88d-4776-9c0b-cfe8311e35d4.avi: name 'display_image' is not defined\n",
      "Обработка видео...\n"
     ]
    },
    {
     "name": "stderr",
     "output_type": "stream",
     "text": [
      " 18%|█▊        | 248/1397 [02:02<09:28,  2.02it/s]"
     ]
    },
    {
     "name": "stdout",
     "output_type": "stream",
     "text": [
      "('pullup', 0.0)\n",
      "Ошибка при обработке видео test_data/test_dataset/2afdc05c-82e5-49b8-86fa-12be6d77456b.avi: name 'display_image' is not defined\n",
      "Обработка видео...\n"
     ]
    },
    {
     "name": "stderr",
     "output_type": "stream",
     "text": [
      " 18%|█▊        | 249/1397 [02:03<09:24,  2.03it/s]"
     ]
    },
    {
     "name": "stdout",
     "output_type": "stream",
     "text": [
      "('shoot_ball', 0.0)\n",
      "Ошибка при обработке видео test_data/test_dataset/2b0aa12d-b9f7-433e-be87-dfe1079e2105.avi: name 'display_image' is not defined\n",
      "Обработка видео...\n"
     ]
    },
    {
     "name": "stderr",
     "output_type": "stream",
     "text": [
      " 18%|█▊        | 250/1397 [02:03<09:20,  2.05it/s]"
     ]
    },
    {
     "name": "stdout",
     "output_type": "stream",
     "text": [
      "('shoot_ball', 0.0)\n",
      "Ошибка при обработке видео test_data/test_dataset/2b166aa0-777a-43c1-8e30-84b91a4c24b9.avi: name 'display_image' is not defined\n",
      "Обработка видео...\n"
     ]
    },
    {
     "name": "stderr",
     "output_type": "stream",
     "text": [
      " 18%|█▊        | 251/1397 [02:03<09:22,  2.04it/s]"
     ]
    },
    {
     "name": "stdout",
     "output_type": "stream",
     "text": [
      "('flic_flac', 0.0)\n",
      "Ошибка при обработке видео test_data/test_dataset/2b462fe9-defd-421b-8be2-77e4e32b23ed.avi: name 'display_image' is not defined\n",
      "Обработка видео...\n"
     ]
    },
    {
     "name": "stderr",
     "output_type": "stream",
     "text": [
      " 18%|█▊        | 252/1397 [02:04<09:20,  2.04it/s]"
     ]
    },
    {
     "name": "stdout",
     "output_type": "stream",
     "text": [
      "('dive', 0.0)\n",
      "Ошибка при обработке видео test_data/test_dataset/2b8605cf-2c03-4d1e-91d9-1a29d3ba0471.avi: name 'display_image' is not defined\n",
      "Обработка видео...\n"
     ]
    },
    {
     "name": "stderr",
     "output_type": "stream",
     "text": [
      " 18%|█▊        | 253/1397 [02:05<09:28,  2.01it/s]"
     ]
    },
    {
     "name": "stdout",
     "output_type": "stream",
     "text": [
      "('golf', 0.0)\n",
      "Ошибка при обработке видео test_data/test_dataset/2ba376f4-63f8-4b7d-9f58-c4731b555e68.avi: name 'display_image' is not defined\n",
      "Обработка видео...\n"
     ]
    },
    {
     "name": "stderr",
     "output_type": "stream",
     "text": [
      " 18%|█▊        | 254/1397 [02:05<09:23,  2.03it/s]"
     ]
    },
    {
     "name": "stdout",
     "output_type": "stream",
     "text": [
      "('pushup', 0.0)\n",
      "Ошибка при обработке видео test_data/test_dataset/2bad090e-d847-4160-a280-9758640568aa.avi: name 'display_image' is not defined\n",
      "Обработка видео...\n"
     ]
    },
    {
     "name": "stderr",
     "output_type": "stream",
     "text": [
      " 18%|█▊        | 255/1397 [02:05<09:21,  2.03it/s]"
     ]
    },
    {
     "name": "stdout",
     "output_type": "stream",
     "text": [
      "('golf', 0.0)\n",
      "Ошибка при обработке видео test_data/test_dataset/2bb8e249-e806-432a-8438-fb0ab769322e.avi: name 'display_image' is not defined\n",
      "Обработка видео...\n"
     ]
    },
    {
     "name": "stderr",
     "output_type": "stream",
     "text": [
      " 18%|█▊        | 256/1397 [02:06<09:19,  2.04it/s]"
     ]
    },
    {
     "name": "stdout",
     "output_type": "stream",
     "text": [
      "('golf', 0.0)\n",
      "Ошибка при обработке видео test_data/test_dataset/2bc6b01c-bf0b-4100-a79f-ea2170b1a22f.avi: name 'display_image' is not defined\n",
      "Обработка видео...\n"
     ]
    },
    {
     "name": "stderr",
     "output_type": "stream",
     "text": [
      " 18%|█▊        | 257/1397 [02:06<09:17,  2.04it/s]"
     ]
    },
    {
     "name": "stdout",
     "output_type": "stream",
     "text": [
      "('dive', 0.0)\n",
      "Ошибка при обработке видео test_data/test_dataset/2c423095-aa05-4e98-b905-de1d9e17e567.avi: name 'display_image' is not defined\n",
      "Обработка видео...\n"
     ]
    },
    {
     "name": "stderr",
     "output_type": "stream",
     "text": [
      " 18%|█▊        | 258/1397 [02:07<09:14,  2.05it/s]"
     ]
    },
    {
     "name": "stdout",
     "output_type": "stream",
     "text": [
      "('dribble', 0.0)\n",
      "Ошибка при обработке видео test_data/test_dataset/2c4f0f0b-6c05-4b89-81e4-d1e2843ab720.avi: name 'display_image' is not defined\n",
      "Обработка видео...\n"
     ]
    },
    {
     "name": "stderr",
     "output_type": "stream",
     "text": [
      " 19%|█▊        | 259/1397 [02:07<09:12,  2.06it/s]"
     ]
    },
    {
     "name": "stdout",
     "output_type": "stream",
     "text": [
      "('dribble', 0.0)\n",
      "Ошибка при обработке видео test_data/test_dataset/2c6bfe1b-7af8-409b-84e2-dfe6a1a2588c.avi: name 'display_image' is not defined\n",
      "Обработка видео...\n"
     ]
    },
    {
     "name": "stderr",
     "output_type": "stream",
     "text": [
      " 19%|█▊        | 260/1397 [02:08<09:16,  2.04it/s]"
     ]
    },
    {
     "name": "stdout",
     "output_type": "stream",
     "text": [
      "('dive', 0.0)\n",
      "Ошибка при обработке видео test_data/test_dataset/2cb8a6ac-dc1b-46a4-80dc-5dee3bb39b5b.avi: name 'display_image' is not defined\n",
      "Обработка видео...\n"
     ]
    },
    {
     "name": "stderr",
     "output_type": "stream",
     "text": [
      " 19%|█▊        | 261/1397 [02:08<09:15,  2.05it/s]"
     ]
    },
    {
     "name": "stdout",
     "output_type": "stream",
     "text": [
      "('swing_baseball', 0.0)\n",
      "Ошибка при обработке видео test_data/test_dataset/2cfe502e-5c22-4cc2-a658-381af2c48210.avi: name 'display_image' is not defined\n",
      "Обработка видео...\n"
     ]
    },
    {
     "name": "stderr",
     "output_type": "stream",
     "text": [
      " 19%|█▉        | 262/1397 [02:09<09:17,  2.04it/s]"
     ]
    },
    {
     "name": "stdout",
     "output_type": "stream",
     "text": [
      "('handstand', 0.0)\n",
      "Ошибка при обработке видео test_data/test_dataset/2d1fb220-6a01-4c83-a96d-b7383f88bcbd.avi: name 'display_image' is not defined\n",
      "Обработка видео...\n"
     ]
    },
    {
     "name": "stderr",
     "output_type": "stream",
     "text": [
      " 19%|█▉        | 263/1397 [02:09<09:15,  2.04it/s]"
     ]
    },
    {
     "name": "stdout",
     "output_type": "stream",
     "text": [
      "('fencing', 0.0)\n",
      "Ошибка при обработке видео test_data/test_dataset/2d2a630a-f21a-466a-81f4-c87a0ccc3e07.avi: name 'display_image' is not defined\n",
      "Обработка видео...\n",
      "('throw', 0.0)"
     ]
    },
    {
     "name": "stderr",
     "output_type": "stream",
     "text": [
      " 19%|█▉        | 264/1397 [02:10<09:29,  1.99it/s]"
     ]
    },
    {
     "name": "stdout",
     "output_type": "stream",
     "text": [
      "\n",
      "Ошибка при обработке видео test_data/test_dataset/2d5f02b8-9045-4cd1-988e-6fd1206bf480.avi: name 'display_image' is not defined\n",
      "Обработка видео...\n"
     ]
    },
    {
     "name": "stderr",
     "output_type": "stream",
     "text": [
      " 19%|█▉        | 265/1397 [02:10<09:26,  2.00it/s]"
     ]
    },
    {
     "name": "stdout",
     "output_type": "stream",
     "text": [
      "('golf', 0.0)\n",
      "Ошибка при обработке видео test_data/test_dataset/2d7322bd-10e1-491f-9895-e78e7cd17bd8.avi: name 'display_image' is not defined\n",
      "Обработка видео...\n"
     ]
    },
    {
     "name": "stderr",
     "output_type": "stream",
     "text": [
      " 19%|█▉        | 266/1397 [02:11<09:21,  2.01it/s]"
     ]
    },
    {
     "name": "stdout",
     "output_type": "stream",
     "text": [
      "('handstand', 0.0)\n",
      "Ошибка при обработке видео test_data/test_dataset/2d9509d5-fc0c-4efe-8d0f-7d1d11f910bf.avi: name 'display_image' is not defined\n",
      "Обработка видео...\n"
     ]
    },
    {
     "name": "stderr",
     "output_type": "stream",
     "text": [
      " 19%|█▉        | 267/1397 [02:11<09:17,  2.03it/s]"
     ]
    },
    {
     "name": "stdout",
     "output_type": "stream",
     "text": [
      "('handstand', 0.0)\n",
      "Ошибка при обработке видео test_data/test_dataset/2db2ebf0-aaf7-4890-9fd1-946bd74cda50.avi: name 'display_image' is not defined\n",
      "Обработка видео...\n"
     ]
    },
    {
     "name": "stderr",
     "output_type": "stream",
     "text": [
      " 19%|█▉        | 268/1397 [02:12<09:13,  2.04it/s]"
     ]
    },
    {
     "name": "stdout",
     "output_type": "stream",
     "text": [
      "('pullup', 0.0)\n",
      "Ошибка при обработке видео test_data/test_dataset/2de681ea-b735-481e-b31e-8c8f4f4535e1.avi: name 'display_image' is not defined\n",
      "Обработка видео...\n"
     ]
    },
    {
     "name": "stderr",
     "output_type": "stream",
     "text": [
      " 19%|█▉        | 269/1397 [02:12<09:10,  2.05it/s]"
     ]
    },
    {
     "name": "stdout",
     "output_type": "stream",
     "text": [
      "('swing_baseball', 0.0)\n",
      "Ошибка при обработке видео test_data/test_dataset/2e5a6f70-bdb7-4940-8008-523f41861c71.avi: name 'display_image' is not defined\n",
      "Обработка видео...\n"
     ]
    },
    {
     "name": "stderr",
     "output_type": "stream",
     "text": [
      " 19%|█▉        | 270/1397 [02:13<09:08,  2.05it/s]"
     ]
    },
    {
     "name": "stdout",
     "output_type": "stream",
     "text": [
      "('pullup', 0.0)\n",
      "Ошибка при обработке видео test_data/test_dataset/2e8b2ca9-ad9f-4f44-8ed7-1cfd231b45dd.avi: name 'display_image' is not defined\n",
      "Обработка видео...\n"
     ]
    },
    {
     "name": "stderr",
     "output_type": "stream",
     "text": [
      " 19%|█▉        | 271/1397 [02:13<09:07,  2.06it/s]"
     ]
    },
    {
     "name": "stdout",
     "output_type": "stream",
     "text": [
      "('pick', 0.0)\n",
      "Ошибка при обработке видео test_data/test_dataset/2eda28f7-b492-4541-83f8-e9acfac12ceb.avi: name 'display_image' is not defined\n",
      "Обработка видео...\n"
     ]
    },
    {
     "name": "stderr",
     "output_type": "stream",
     "text": [
      " 19%|█▉        | 272/1397 [02:14<09:06,  2.06it/s]"
     ]
    },
    {
     "name": "stdout",
     "output_type": "stream",
     "text": [
      "('swing_baseball', 0.0)\n",
      "Ошибка при обработке видео test_data/test_dataset/2efa8605-edfd-4913-b651-7964259dac09.avi: name 'display_image' is not defined\n",
      "Обработка видео...\n"
     ]
    },
    {
     "name": "stderr",
     "output_type": "stream",
     "text": [
      " 20%|█▉        | 273/1397 [02:14<09:10,  2.04it/s]"
     ]
    },
    {
     "name": "stdout",
     "output_type": "stream",
     "text": [
      "('pushup', 0.0)\n",
      "Ошибка при обработке видео test_data/test_dataset/2f3c5e48-cf6b-4309-ae05-d6d5f90795b6.avi: name 'display_image' is not defined\n",
      "Обработка видео...\n"
     ]
    },
    {
     "name": "stderr",
     "output_type": "stream",
     "text": [
      " 20%|█▉        | 274/1397 [02:15<09:13,  2.03it/s]"
     ]
    },
    {
     "name": "stdout",
     "output_type": "stream",
     "text": [
      "('shoot_ball', 0.0)\n",
      "Ошибка при обработке видео test_data/test_dataset/303c8b11-7efb-4605-a8a7-0f98ebd89a5c.avi: name 'display_image' is not defined\n",
      "Обработка видео...\n"
     ]
    },
    {
     "name": "stderr",
     "output_type": "stream",
     "text": [
      " 20%|█▉        | 275/1397 [02:15<09:23,  1.99it/s]"
     ]
    },
    {
     "name": "stdout",
     "output_type": "stream",
     "text": [
      "('dive', 0.0)\n",
      "Ошибка при обработке видео test_data/test_dataset/306a8692-77f5-4c12-8941-ef3301b80181.avi: name 'display_image' is not defined\n",
      "Обработка видео...\n"
     ]
    },
    {
     "name": "stderr",
     "output_type": "stream",
     "text": [
      " 20%|█▉        | 276/1397 [02:16<09:19,  2.00it/s]"
     ]
    },
    {
     "name": "stdout",
     "output_type": "stream",
     "text": [
      "('pullup', 0.0)\n",
      "Ошибка при обработке видео test_data/test_dataset/30aa2d6c-4c08-415b-892b-9e769fd5a57c.avi: name 'display_image' is not defined\n",
      "Обработка видео...\n"
     ]
    },
    {
     "name": "stderr",
     "output_type": "stream",
     "text": [
      " 20%|█▉        | 277/1397 [02:16<09:15,  2.02it/s]"
     ]
    },
    {
     "name": "stdout",
     "output_type": "stream",
     "text": [
      "('cartwheel', 0.0)\n",
      "Ошибка при обработке видео test_data/test_dataset/30b52eee-009a-4986-9a1d-298d0d28ebdb.avi: name 'display_image' is not defined\n",
      "Обработка видео...\n"
     ]
    },
    {
     "name": "stderr",
     "output_type": "stream",
     "text": [
      " 20%|█▉        | 278/1397 [02:17<09:15,  2.01it/s]"
     ]
    },
    {
     "name": "stdout",
     "output_type": "stream",
     "text": [
      "('pullup', 0.0)\n",
      "Ошибка при обработке видео test_data/test_dataset/30c638e3-263e-4f5d-9473-13e40a1d1481.avi: name 'display_image' is not defined\n",
      "Обработка видео...\n"
     ]
    },
    {
     "name": "stderr",
     "output_type": "stream",
     "text": [
      " 20%|█▉        | 279/1397 [02:17<09:10,  2.03it/s]"
     ]
    },
    {
     "name": "stdout",
     "output_type": "stream",
     "text": [
      "('dive', 0.0)\n",
      "Ошибка при обработке видео test_data/test_dataset/30ce81c9-a1eb-4ba9-8dcc-a83eab7d44d8.avi: name 'display_image' is not defined\n",
      "Обработка видео...\n"
     ]
    },
    {
     "name": "stderr",
     "output_type": "stream",
     "text": [
      " 20%|██        | 280/1397 [02:18<09:13,  2.02it/s]"
     ]
    },
    {
     "name": "stdout",
     "output_type": "stream",
     "text": [
      "('handstand', 0.0)\n",
      "Ошибка при обработке видео test_data/test_dataset/30f846c5-56ac-4f9e-89ab-6d19b1797f6a.avi: name 'display_image' is not defined\n",
      "Обработка видео...\n"
     ]
    },
    {
     "name": "stderr",
     "output_type": "stream",
     "text": [
      " 20%|██        | 281/1397 [02:18<09:13,  2.02it/s]"
     ]
    },
    {
     "name": "stdout",
     "output_type": "stream",
     "text": [
      "('pullup', 0.0)\n",
      "Ошибка при обработке видео test_data/test_dataset/310594c6-d331-4351-81a1-3b7e5f70a001.avi: name 'display_image' is not defined\n",
      "Обработка видео...\n"
     ]
    },
    {
     "name": "stderr",
     "output_type": "stream",
     "text": [
      " 20%|██        | 282/1397 [02:19<09:10,  2.03it/s]"
     ]
    },
    {
     "name": "stdout",
     "output_type": "stream",
     "text": [
      "('swing_baseball', 0.0)\n",
      "Ошибка при обработке видео test_data/test_dataset/3118443d-99a6-460d-8366-da7f79ca3ed3.avi: name 'display_image' is not defined\n",
      "Обработка видео...\n",
      "('golf', 0.0)\n"
     ]
    },
    {
     "name": "stderr",
     "output_type": "stream",
     "text": [
      " 20%|██        | 283/1397 [02:19<09:10,  2.02it/s]"
     ]
    },
    {
     "name": "stdout",
     "output_type": "stream",
     "text": [
      "Ошибка при обработке видео test_data/test_dataset/317280c3-d4c8-4c26-83c9-9b467a6ed280.avi: name 'display_image' is not defined\n",
      "Обработка видео...\n"
     ]
    },
    {
     "name": "stderr",
     "output_type": "stream",
     "text": [
      " 20%|██        | 284/1397 [02:20<09:10,  2.02it/s]"
     ]
    },
    {
     "name": "stdout",
     "output_type": "stream",
     "text": [
      "('cartwheel', 0.0)\n",
      "Ошибка при обработке видео test_data/test_dataset/319d91d6-15f2-4bf1-97a8-e75aa8d11227.avi: name 'display_image' is not defined\n",
      "Обработка видео...\n"
     ]
    },
    {
     "name": "stderr",
     "output_type": "stream",
     "text": [
      " 20%|██        | 285/1397 [02:20<09:08,  2.03it/s]"
     ]
    },
    {
     "name": "stdout",
     "output_type": "stream",
     "text": [
      "('handstand', 0.0)\n",
      "Ошибка при обработке видео test_data/test_dataset/31abeb09-6ba4-4798-b010-95970fecaa40.avi: name 'display_image' is not defined\n",
      "Обработка видео...\n"
     ]
    },
    {
     "name": "stderr",
     "output_type": "stream",
     "text": [
      " 20%|██        | 286/1397 [02:21<09:13,  2.01it/s]"
     ]
    },
    {
     "name": "stdout",
     "output_type": "stream",
     "text": [
      "('pullup', 0.0)\n",
      "Ошибка при обработке видео test_data/test_dataset/321ee79d-04ff-4768-bda8-6042ff66819c.avi: name 'display_image' is not defined\n",
      "Обработка видео...\n",
      "('dive', 0.0)"
     ]
    },
    {
     "name": "stderr",
     "output_type": "stream",
     "text": [
      " 21%|██        | 287/1397 [02:21<09:10,  2.01it/s]"
     ]
    },
    {
     "name": "stdout",
     "output_type": "stream",
     "text": [
      "\n",
      "Ошибка при обработке видео test_data/test_dataset/3226b192-fbe8-4568-ac56-69e67e2afcb0.avi: name 'display_image' is not defined\n",
      "Обработка видео...\n"
     ]
    },
    {
     "name": "stderr",
     "output_type": "stream",
     "text": [
      " 21%|██        | 288/1397 [02:22<09:16,  1.99it/s]"
     ]
    },
    {
     "name": "stdout",
     "output_type": "stream",
     "text": [
      "('sword_exercise', 0.0)\n",
      "Ошибка при обработке видео test_data/test_dataset/322b0384-6dc9-4bbb-83f3-74f7b26c6ef9.avi: name 'display_image' is not defined\n",
      "Обработка видео...\n"
     ]
    },
    {
     "name": "stderr",
     "output_type": "stream",
     "text": [
      " 21%|██        | 289/1397 [02:22<09:18,  1.98it/s]"
     ]
    },
    {
     "name": "stdout",
     "output_type": "stream",
     "text": [
      "('dribble', 0.0)\n",
      "Ошибка при обработке видео test_data/test_dataset/324d545e-1061-4354-a134-124ec9f37fa3.avi: name 'display_image' is not defined\n",
      "Обработка видео...\n"
     ]
    },
    {
     "name": "stderr",
     "output_type": "stream",
     "text": [
      " 21%|██        | 290/1397 [02:23<09:13,  2.00it/s]"
     ]
    },
    {
     "name": "stdout",
     "output_type": "stream",
     "text": [
      "('handstand', 0.0)\n",
      "Ошибка при обработке видео test_data/test_dataset/328b46da-584a-47e7-9a70-43ae1be03808.avi: name 'display_image' is not defined\n",
      "Обработка видео...\n"
     ]
    },
    {
     "name": "stderr",
     "output_type": "stream",
     "text": [
      " 21%|██        | 291/1397 [02:23<09:13,  2.00it/s]"
     ]
    },
    {
     "name": "stdout",
     "output_type": "stream",
     "text": [
      "('pullup', 0.0)\n",
      "Ошибка при обработке видео test_data/test_dataset/32cd48e7-c876-40d4-862e-9f97bf7bab4a.avi: name 'display_image' is not defined\n",
      "Обработка видео..."
     ]
    },
    {
     "name": "stderr",
     "output_type": "stream",
     "text": [
      " 21%|██        | 292/1397 [02:24<09:11,  2.00it/s]"
     ]
    },
    {
     "name": "stdout",
     "output_type": "stream",
     "text": [
      "\n",
      "('jump', 0.0)\n",
      "Ошибка при обработке видео test_data/test_dataset/32d387af-662e-4f21-b900-9d39d91a699e.avi: name 'display_image' is not defined\n",
      "Обработка видео...\n"
     ]
    },
    {
     "name": "stderr",
     "output_type": "stream",
     "text": [
      " 21%|██        | 293/1397 [02:24<09:14,  1.99it/s]"
     ]
    },
    {
     "name": "stdout",
     "output_type": "stream",
     "text": [
      "('jump', 0.0)\n",
      "Ошибка при обработке видео test_data/test_dataset/32e86352-88dd-43bb-a5be-00cd8ae5d176.avi: name 'display_image' is not defined\n",
      "Обработка видео...\n"
     ]
    },
    {
     "name": "stderr",
     "output_type": "stream",
     "text": [
      " 21%|██        | 294/1397 [02:25<09:08,  2.01it/s]"
     ]
    },
    {
     "name": "stdout",
     "output_type": "stream",
     "text": [
      "('pullup', 0.0)\n",
      "Ошибка при обработке видео test_data/test_dataset/335ff382-0f75-4506-8e6a-791d719d2ad7.avi: name 'display_image' is not defined\n",
      "Обработка видео...\n"
     ]
    },
    {
     "name": "stderr",
     "output_type": "stream",
     "text": [
      " 21%|██        | 295/1397 [02:25<09:09,  2.01it/s]"
     ]
    },
    {
     "name": "stdout",
     "output_type": "stream",
     "text": [
      "('dribble', 0.0)\n",
      "Ошибка при обработке видео test_data/test_dataset/3486b7a1-adc5-471f-830b-fbab546869a4.avi: name 'display_image' is not defined\n",
      "Обработка видео...\n"
     ]
    },
    {
     "name": "stderr",
     "output_type": "stream",
     "text": [
      " 21%|██        | 296/1397 [02:26<09:08,  2.01it/s]"
     ]
    },
    {
     "name": "stdout",
     "output_type": "stream",
     "text": [
      "('sword_exercise', 0.0)\n",
      "Ошибка при обработке видео test_data/test_dataset/349ec0c0-11a4-4ca7-a66f-1dc446a1da91.avi: name 'display_image' is not defined\n",
      "Обработка видео...\n"
     ]
    },
    {
     "name": "stderr",
     "output_type": "stream",
     "text": [
      " 21%|██▏       | 297/1397 [02:26<09:02,  2.03it/s]"
     ]
    },
    {
     "name": "stdout",
     "output_type": "stream",
     "text": [
      "('pushup', 0.0)\n",
      "Ошибка при обработке видео test_data/test_dataset/34aed6b0-6023-44a6-ab95-5675b5555f52.avi: name 'display_image' is not defined\n",
      "Обработка видео...\n"
     ]
    },
    {
     "name": "stderr",
     "output_type": "stream",
     "text": [
      " 21%|██▏       | 298/1397 [02:27<09:00,  2.03it/s]"
     ]
    },
    {
     "name": "stdout",
     "output_type": "stream",
     "text": [
      "('golf', 0.0)\n",
      "Ошибка при обработке видео test_data/test_dataset/34d409e7-5b32-409b-9d17-627ccd67116d.avi: name 'display_image' is not defined\n",
      "Обработка видео...\n"
     ]
    },
    {
     "name": "stderr",
     "output_type": "stream",
     "text": [
      " 21%|██▏       | 299/1397 [02:27<08:57,  2.04it/s]"
     ]
    },
    {
     "name": "stdout",
     "output_type": "stream",
     "text": [
      "('golf', 0.0)\n",
      "Ошибка при обработке видео test_data/test_dataset/34d76315-5ebd-4c18-926b-d57012228e6e.avi: name 'display_image' is not defined\n",
      "Обработка видео...\n"
     ]
    },
    {
     "name": "stderr",
     "output_type": "stream",
     "text": [
      " 21%|██▏       | 300/1397 [02:28<09:01,  2.03it/s]"
     ]
    },
    {
     "name": "stdout",
     "output_type": "stream",
     "text": [
      "('swing_baseball', 0.0)\n",
      "Ошибка при обработке видео test_data/test_dataset/34e720be-ddd8-44e7-9766-e71532d990bf.avi: name 'display_image' is not defined\n",
      "Обработка видео...\n"
     ]
    },
    {
     "name": "stderr",
     "output_type": "stream",
     "text": [
      " 22%|██▏       | 301/1397 [02:28<09:02,  2.02it/s]"
     ]
    },
    {
     "name": "stdout",
     "output_type": "stream",
     "text": [
      "('handstand', 0.0)\n",
      "Ошибка при обработке видео test_data/test_dataset/35116ddb-fb6b-4f35-b2c4-9396ce6201f9.avi: name 'display_image' is not defined\n",
      "Обработка видео...\n"
     ]
    },
    {
     "name": "stderr",
     "output_type": "stream",
     "text": [
      " 22%|██▏       | 302/1397 [02:29<09:07,  2.00it/s]"
     ]
    },
    {
     "name": "stdout",
     "output_type": "stream",
     "text": [
      "('shoot_ball', 0.0)\n",
      "Ошибка при обработке видео test_data/test_dataset/352d1d7c-9d72-4370-93a8-a181fd6958f0.avi: name 'display_image' is not defined\n",
      "Обработка видео...\n"
     ]
    },
    {
     "name": "stderr",
     "output_type": "stream",
     "text": [
      " 22%|██▏       | 303/1397 [02:29<09:08,  1.99it/s]"
     ]
    },
    {
     "name": "stdout",
     "output_type": "stream",
     "text": [
      "('dive', 0.0)\n",
      "Ошибка при обработке видео test_data/test_dataset/35937eab-8864-4f42-a176-acee51b9697d.avi: name 'display_image' is not defined\n",
      "Обработка видео...\n"
     ]
    },
    {
     "name": "stderr",
     "output_type": "stream",
     "text": [
      " 22%|██▏       | 304/1397 [02:30<09:12,  1.98it/s]"
     ]
    },
    {
     "name": "stdout",
     "output_type": "stream",
     "text": [
      "('cartwheel', 0.0)\n",
      "Ошибка при обработке видео test_data/test_dataset/35c0c5b5-b56c-4d8b-b304-ccb90abd9373.avi: name 'display_image' is not defined\n",
      "Обработка видео...\n"
     ]
    },
    {
     "name": "stderr",
     "output_type": "stream",
     "text": [
      " 22%|██▏       | 305/1397 [02:30<09:10,  1.98it/s]"
     ]
    },
    {
     "name": "stdout",
     "output_type": "stream",
     "text": [
      "('throw', 0.0)\n",
      "Ошибка при обработке видео test_data/test_dataset/35d77cf8-b789-4168-8002-a4c5a83bbc59.avi: name 'display_image' is not defined\n",
      "Обработка видео...\n"
     ]
    },
    {
     "name": "stderr",
     "output_type": "stream",
     "text": [
      " 22%|██▏       | 306/1397 [02:31<09:06,  1.99it/s]"
     ]
    },
    {
     "name": "stdout",
     "output_type": "stream",
     "text": [
      "('dive', 0.0)\n",
      "Ошибка при обработке видео test_data/test_dataset/35f33928-c980-4212-97d1-ad08d6ea5758.avi: name 'display_image' is not defined\n",
      "Обработка видео...\n",
      "('jump', 0.0)"
     ]
    },
    {
     "name": "stderr",
     "output_type": "stream",
     "text": [
      " 22%|██▏       | 307/1397 [02:31<09:11,  1.98it/s]"
     ]
    },
    {
     "name": "stdout",
     "output_type": "stream",
     "text": [
      "\n",
      "Ошибка при обработке видео test_data/test_dataset/3603f94d-9bdc-4a46-82eb-e1ac1432ddd1.avi: name 'display_image' is not defined\n",
      "Обработка видео...\n"
     ]
    },
    {
     "name": "stderr",
     "output_type": "stream",
     "text": [
      " 22%|██▏       | 308/1397 [02:32<09:12,  1.97it/s]"
     ]
    },
    {
     "name": "stdout",
     "output_type": "stream",
     "text": [
      "('jump', 0.0)\n",
      "Ошибка при обработке видео test_data/test_dataset/360b1b98-ba81-4e81-b51e-43ffebdb5706.avi: name 'display_image' is not defined\n",
      "Обработка видео...\n"
     ]
    },
    {
     "name": "stderr",
     "output_type": "stream",
     "text": [
      " 22%|██▏       | 309/1397 [02:32<09:04,  2.00it/s]"
     ]
    },
    {
     "name": "stdout",
     "output_type": "stream",
     "text": [
      "('golf', 0.0)\n",
      "Ошибка при обработке видео test_data/test_dataset/36170ba5-cb5b-44fe-aaaf-921206cc1329.avi: name 'display_image' is not defined\n",
      "Обработка видео...\n"
     ]
    },
    {
     "name": "stderr",
     "output_type": "stream",
     "text": [
      " 22%|██▏       | 310/1397 [02:33<09:01,  2.01it/s]"
     ]
    },
    {
     "name": "stdout",
     "output_type": "stream",
     "text": [
      "('sword_exercise', 0.0)\n",
      "Ошибка при обработке видео test_data/test_dataset/362a1e46-8d43-4d84-ab96-e019d317f69e.avi: name 'display_image' is not defined\n",
      "Обработка видео...\n",
      "('golf', 0.0)"
     ]
    },
    {
     "name": "stderr",
     "output_type": "stream",
     "text": [
      " 22%|██▏       | 311/1397 [02:33<08:56,  2.03it/s]"
     ]
    },
    {
     "name": "stdout",
     "output_type": "stream",
     "text": [
      "\n",
      "Ошибка при обработке видео test_data/test_dataset/362e203f-97e8-4e39-ad9a-df5f85820cd0.avi: name 'display_image' is not defined\n",
      "Обработка видео...\n"
     ]
    },
    {
     "name": "stderr",
     "output_type": "stream",
     "text": [
      " 22%|██▏       | 312/1397 [02:34<08:57,  2.02it/s]"
     ]
    },
    {
     "name": "stdout",
     "output_type": "stream",
     "text": [
      "('cartwheel', 0.0)\n",
      "Ошибка при обработке видео test_data/test_dataset/3634028f-f4e8-471e-84b1-8a0562903c3b.avi: name 'display_image' is not defined\n",
      "Обработка видео...\n"
     ]
    },
    {
     "name": "stderr",
     "output_type": "stream",
     "text": [
      " 22%|██▏       | 313/1397 [02:34<08:53,  2.03it/s]"
     ]
    },
    {
     "name": "stdout",
     "output_type": "stream",
     "text": [
      "('handstand', 0.0)\n",
      "Ошибка при обработке видео test_data/test_dataset/36b57f3d-d51d-4185-a182-bd7a27eebc61.avi: name 'display_image' is not defined\n",
      "Обработка видео...\n"
     ]
    },
    {
     "name": "stderr",
     "output_type": "stream",
     "text": [
      " 22%|██▏       | 314/1397 [02:35<08:48,  2.05it/s]"
     ]
    },
    {
     "name": "stdout",
     "output_type": "stream",
     "text": [
      "('golf', 0.0)\n",
      "Ошибка при обработке видео test_data/test_dataset/36e95381-2e0a-4ee6-948f-7deeb5954985.avi: name 'display_image' is not defined\n",
      "Обработка видео...\n"
     ]
    },
    {
     "name": "stderr",
     "output_type": "stream",
     "text": [
      " 23%|██▎       | 315/1397 [02:35<08:45,  2.06it/s]"
     ]
    },
    {
     "name": "stdout",
     "output_type": "stream",
     "text": [
      "('golf', 0.0)\n",
      "Ошибка при обработке видео test_data/test_dataset/36f192f0-4859-4bca-a6de-eb4562da867c.avi: name 'display_image' is not defined\n",
      "Обработка видео...\n"
     ]
    },
    {
     "name": "stderr",
     "output_type": "stream",
     "text": [
      " 23%|██▎       | 316/1397 [02:36<08:45,  2.06it/s]"
     ]
    },
    {
     "name": "stdout",
     "output_type": "stream",
     "text": [
      "('pushup', 0.0)\n",
      "Ошибка при обработке видео test_data/test_dataset/378062ca-442b-43bc-9528-b522d3b65c65.avi: name 'display_image' is not defined\n",
      "Обработка видео...\n"
     ]
    },
    {
     "name": "stderr",
     "output_type": "stream",
     "text": [
      " 23%|██▎       | 317/1397 [02:36<08:48,  2.04it/s]"
     ]
    },
    {
     "name": "stdout",
     "output_type": "stream",
     "text": [
      "('pullup', 0.0)\n",
      "Ошибка при обработке видео test_data/test_dataset/37c4741c-e81b-4d2b-bc67-3d310238478e.avi: name 'display_image' is not defined\n",
      "Обработка видео...\n"
     ]
    },
    {
     "name": "stderr",
     "output_type": "stream",
     "text": [
      " 23%|██▎       | 318/1397 [02:37<08:53,  2.02it/s]"
     ]
    },
    {
     "name": "stdout",
     "output_type": "stream",
     "text": [
      "('pullup', 0.0)\n",
      "Ошибка при обработке видео test_data/test_dataset/3809dffa-055f-42f3-a71b-5d8d5d590676.avi: name 'display_image' is not defined\n",
      "Обработка видео...\n"
     ]
    },
    {
     "name": "stderr",
     "output_type": "stream",
     "text": [
      " 23%|██▎       | 319/1397 [02:37<08:49,  2.04it/s]"
     ]
    },
    {
     "name": "stdout",
     "output_type": "stream",
     "text": [
      "('shoot_ball', 0.0)\n",
      "Ошибка при обработке видео test_data/test_dataset/383f45ff-203b-418c-8c32-06b0708c5bbd.avi: name 'display_image' is not defined\n",
      "Обработка видео...\n"
     ]
    },
    {
     "name": "stderr",
     "output_type": "stream",
     "text": [
      " 23%|██▎       | 320/1397 [02:38<08:47,  2.04it/s]"
     ]
    },
    {
     "name": "stdout",
     "output_type": "stream",
     "text": [
      "('cartwheel', 0.0)\n",
      "Ошибка при обработке видео test_data/test_dataset/384d4033-0c40-4d12-99f9-941a4d54f257.avi: name 'display_image' is not defined\n",
      "Обработка видео...\n"
     ]
    },
    {
     "name": "stderr",
     "output_type": "stream",
     "text": [
      " 23%|██▎       | 321/1397 [02:38<08:59,  1.99it/s]"
     ]
    },
    {
     "name": "stdout",
     "output_type": "stream",
     "text": [
      "('shoot_ball', 0.0)\n",
      "Ошибка при обработке видео test_data/test_dataset/38a510c4-8660-4009-a106-2ac78b253740.avi: name 'display_image' is not defined\n",
      "Обработка видео...\n"
     ]
    },
    {
     "name": "stderr",
     "output_type": "stream",
     "text": [
      " 23%|██▎       | 322/1397 [02:39<08:53,  2.01it/s]"
     ]
    },
    {
     "name": "stdout",
     "output_type": "stream",
     "text": [
      "('golf', 0.0)\n",
      "Ошибка при обработке видео test_data/test_dataset/38c1a6de-bc84-448d-b0fe-c71f8b993b19.avi: name 'display_image' is not defined\n",
      "Обработка видео...\n"
     ]
    },
    {
     "name": "stderr",
     "output_type": "stream",
     "text": [
      " 23%|██▎       | 323/1397 [02:39<08:55,  2.01it/s]"
     ]
    },
    {
     "name": "stdout",
     "output_type": "stream",
     "text": [
      "('pullup', 0.0)\n",
      "Ошибка при обработке видео test_data/test_dataset/38f118f5-8913-47ff-950b-504bef42f7f8.avi: name 'display_image' is not defined\n",
      "Обработка видео...\n"
     ]
    },
    {
     "name": "stderr",
     "output_type": "stream",
     "text": [
      " 23%|██▎       | 324/1397 [02:40<09:16,  1.93it/s]"
     ]
    },
    {
     "name": "stdout",
     "output_type": "stream",
     "text": [
      "('golf', 0.0)\n",
      "Ошибка при обработке видео test_data/test_dataset/39509f8e-6283-4d5e-9998-1e8db45bd063.avi: name 'display_image' is not defined\n",
      "Обработка видео...\n"
     ]
    },
    {
     "name": "stderr",
     "output_type": "stream",
     "text": [
      " 23%|██▎       | 325/1397 [02:40<09:11,  1.94it/s]"
     ]
    },
    {
     "name": "stdout",
     "output_type": "stream",
     "text": [
      "('fencing', 0.0)\n",
      "Ошибка при обработке видео test_data/test_dataset/395e6a2a-7f4b-4dae-a6d2-18da40e556b0.avi: name 'display_image' is not defined\n",
      "Обработка видео...\n"
     ]
    },
    {
     "name": "stderr",
     "output_type": "stream",
     "text": [
      " 23%|██▎       | 326/1397 [02:41<09:06,  1.96it/s]"
     ]
    },
    {
     "name": "stdout",
     "output_type": "stream",
     "text": [
      "('fencing', 0.0)\n",
      "Ошибка при обработке видео test_data/test_dataset/3978e370-a4a1-4040-869c-3eeb63a68d54.avi: name 'display_image' is not defined\n",
      "Обработка видео...\n"
     ]
    },
    {
     "name": "stderr",
     "output_type": "stream",
     "text": [
      " 23%|██▎       | 327/1397 [02:41<09:06,  1.96it/s]"
     ]
    },
    {
     "name": "stdout",
     "output_type": "stream",
     "text": [
      "('golf', 0.0)\n",
      "Ошибка при обработке видео test_data/test_dataset/39c81581-295a-4753-b99f-70af6edf9d41.avi: name 'display_image' is not defined\n",
      "Обработка видео...\n"
     ]
    },
    {
     "name": "stderr",
     "output_type": "stream",
     "text": [
      " 23%|██▎       | 328/1397 [02:42<09:11,  1.94it/s]"
     ]
    },
    {
     "name": "stdout",
     "output_type": "stream",
     "text": [
      "('throw', 0.0)\n",
      "Ошибка при обработке видео test_data/test_dataset/39ddc63d-99b7-40be-b50f-e9ee677008f7.avi: name 'display_image' is not defined\n",
      "Обработка видео...\n"
     ]
    },
    {
     "name": "stderr",
     "output_type": "stream",
     "text": [
      " 24%|██▎       | 329/1397 [02:42<09:04,  1.96it/s]"
     ]
    },
    {
     "name": "stdout",
     "output_type": "stream",
     "text": [
      "('pullup', 0.0)\n",
      "Ошибка при обработке видео test_data/test_dataset/3a16e511-3d9a-47ca-aa2e-006b0910c4cd.avi: name 'display_image' is not defined\n",
      "Обработка видео...\n"
     ]
    },
    {
     "name": "stderr",
     "output_type": "stream",
     "text": [
      " 24%|██▎       | 330/1397 [02:43<08:58,  1.98it/s]"
     ]
    },
    {
     "name": "stdout",
     "output_type": "stream",
     "text": [
      "('pullup', 0.0)\n",
      "Ошибка при обработке видео test_data/test_dataset/3a483384-279d-4c7a-9a19-c4d1b4327a9a.avi: name 'display_image' is not defined\n",
      "Обработка видео...\n"
     ]
    },
    {
     "name": "stderr",
     "output_type": "stream",
     "text": [
      " 24%|██▎       | 331/1397 [02:43<08:51,  2.01it/s]"
     ]
    },
    {
     "name": "stdout",
     "output_type": "stream",
     "text": [
      "('handstand', 0.0)\n",
      "Ошибка при обработке видео test_data/test_dataset/3a6786b2-1958-4d69-9be9-7400d59cef14.avi: name 'display_image' is not defined\n",
      "Обработка видео...\n"
     ]
    },
    {
     "name": "stderr",
     "output_type": "stream",
     "text": [
      " 24%|██▍       | 332/1397 [02:44<08:47,  2.02it/s]"
     ]
    },
    {
     "name": "stdout",
     "output_type": "stream",
     "text": [
      "('dive', 0.0)\n",
      "Ошибка при обработке видео test_data/test_dataset/3b01aae3-064b-4057-903a-b3a4c5df6932.avi: name 'display_image' is not defined\n",
      "Обработка видео...\n",
      "('push', 0.0)\n",
      "Ошибка при обработке видео test_data/test_dataset/3b059f8c-a3fd-4c4e-ae7d-345703604964.avi: name 'display_image' is not defined\n"
     ]
    },
    {
     "name": "stderr",
     "output_type": "stream",
     "text": [
      " 24%|██▍       | 333/1397 [02:44<08:48,  2.01it/s]"
     ]
    },
    {
     "name": "stdout",
     "output_type": "stream",
     "text": [
      "Обработка видео...\n"
     ]
    },
    {
     "name": "stderr",
     "output_type": "stream",
     "text": [
      " 24%|██▍       | 334/1397 [02:45<08:46,  2.02it/s]"
     ]
    },
    {
     "name": "stdout",
     "output_type": "stream",
     "text": [
      "('golf', 0.0)\n",
      "Ошибка при обработке видео test_data/test_dataset/3b10413c-eea8-4eba-8cf9-f7188ba337b6.avi: name 'display_image' is not defined\n",
      "Обработка видео...\n"
     ]
    },
    {
     "name": "stderr",
     "output_type": "stream",
     "text": [
      " 24%|██▍       | 335/1397 [02:45<08:48,  2.01it/s]"
     ]
    },
    {
     "name": "stdout",
     "output_type": "stream",
     "text": [
      "('pullup', 0.0)\n",
      "Ошибка при обработке видео test_data/test_dataset/3b4c4cfa-2ad7-4d68-959a-9d601df4ece6.avi: name 'display_image' is not defined\n",
      "Обработка видео...\n"
     ]
    },
    {
     "name": "stderr",
     "output_type": "stream",
     "text": [
      " 24%|██▍       | 336/1397 [02:46<08:44,  2.02it/s]"
     ]
    },
    {
     "name": "stdout",
     "output_type": "stream",
     "text": [
      "('shoot_ball', 0.0)\n",
      "Ошибка при обработке видео test_data/test_dataset/3bbacec8-5a11-432d-bae3-ab5246001b0f.avi: name 'display_image' is not defined\n",
      "Обработка видео...\n"
     ]
    },
    {
     "name": "stderr",
     "output_type": "stream",
     "text": [
      " 24%|██▍       | 337/1397 [02:46<08:43,  2.03it/s]"
     ]
    },
    {
     "name": "stdout",
     "output_type": "stream",
     "text": [
      "('cartwheel', 0.0)\n",
      "Ошибка при обработке видео test_data/test_dataset/3be9ae96-e4f9-4586-a406-a91585346d60.avi: name 'display_image' is not defined\n",
      "Обработка видео...\n"
     ]
    },
    {
     "name": "stderr",
     "output_type": "stream",
     "text": [
      " 24%|██▍       | 338/1397 [02:47<08:42,  2.03it/s]"
     ]
    },
    {
     "name": "stdout",
     "output_type": "stream",
     "text": [
      "('pushup', 0.0)\n",
      "Ошибка при обработке видео test_data/test_dataset/3bf01003-c4fd-4cfc-8111-fec99269f9a0.avi: name 'display_image' is not defined\n",
      "Обработка видео...\n"
     ]
    },
    {
     "name": "stderr",
     "output_type": "stream",
     "text": [
      " 24%|██▍       | 339/1397 [02:47<08:51,  1.99it/s]"
     ]
    },
    {
     "name": "stdout",
     "output_type": "stream",
     "text": [
      "('shoot_ball', 0.0)\n",
      "Ошибка при обработке видео test_data/test_dataset/3bf701cb-3cc9-4045-8547-09091313c93c.avi: name 'display_image' is not defined\n",
      "Обработка видео...\n"
     ]
    },
    {
     "name": "stderr",
     "output_type": "stream",
     "text": [
      " 24%|██▍       | 340/1397 [02:48<08:49,  2.00it/s]"
     ]
    },
    {
     "name": "stdout",
     "output_type": "stream",
     "text": [
      "('handstand', 0.0)\n",
      "Ошибка при обработке видео test_data/test_dataset/3bf9584a-d0eb-4535-a741-4f66a3610f55.avi: name 'display_image' is not defined\n",
      "Обработка видео...\n"
     ]
    },
    {
     "name": "stderr",
     "output_type": "stream",
     "text": [
      " 24%|██▍       | 341/1397 [02:48<08:44,  2.01it/s]"
     ]
    },
    {
     "name": "stdout",
     "output_type": "stream",
     "text": [
      "('flic_flac', 0.0)\n",
      "Ошибка при обработке видео test_data/test_dataset/3c0bc838-9c17-4f8e-b550-b4f9377e2fac.avi: name 'display_image' is not defined\n",
      "Обработка видео...\n"
     ]
    },
    {
     "name": "stderr",
     "output_type": "stream",
     "text": [
      " 24%|██▍       | 342/1397 [02:49<08:47,  2.00it/s]"
     ]
    },
    {
     "name": "stdout",
     "output_type": "stream",
     "text": [
      "('flic_flac', 0.0)\n",
      "Ошибка при обработке видео test_data/test_dataset/3c4550eb-6bc2-4d75-84c2-6a9f70f46063.avi: name 'display_image' is not defined\n",
      "Обработка видео...\n"
     ]
    },
    {
     "name": "stderr",
     "output_type": "stream",
     "text": [
      " 25%|██▍       | 343/1397 [02:49<08:43,  2.01it/s]"
     ]
    },
    {
     "name": "stdout",
     "output_type": "stream",
     "text": [
      "('climb', 0.0)\n",
      "Ошибка при обработке видео test_data/test_dataset/3c98cde0-3182-48c6-805a-30da2d73b969.avi: name 'display_image' is not defined\n",
      "Обработка видео...\n"
     ]
    },
    {
     "name": "stderr",
     "output_type": "stream",
     "text": [
      " 25%|██▍       | 344/1397 [02:50<08:38,  2.03it/s]"
     ]
    },
    {
     "name": "stdout",
     "output_type": "stream",
     "text": [
      "('catch', 0.0)\n",
      "Ошибка при обработке видео test_data/test_dataset/3cefe45e-a41a-496a-b685-91be0a09a5f0.avi: name 'display_image' is not defined\n",
      "Обработка видео...\n"
     ]
    },
    {
     "name": "stderr",
     "output_type": "stream",
     "text": [
      " 25%|██▍       | 345/1397 [02:50<08:36,  2.04it/s]"
     ]
    },
    {
     "name": "stdout",
     "output_type": "stream",
     "text": [
      "('shoot_ball', 0.0)\n",
      "Ошибка при обработке видео test_data/test_dataset/3d3cb41d-f0fe-4dc0-b06f-3a43134bcef3.avi: name 'display_image' is not defined\n",
      "Обработка видео...\n"
     ]
    },
    {
     "name": "stderr",
     "output_type": "stream",
     "text": [
      " 25%|██▍       | 346/1397 [02:51<08:36,  2.04it/s]"
     ]
    },
    {
     "name": "stdout",
     "output_type": "stream",
     "text": [
      "('dive', 0.0)\n",
      "Ошибка при обработке видео test_data/test_dataset/3da32922-fe46-4217-9c78-bcb525f4fa3d.avi: name 'display_image' is not defined\n",
      "Обработка видео...\n"
     ]
    },
    {
     "name": "stderr",
     "output_type": "stream",
     "text": [
      " 25%|██▍       | 347/1397 [02:51<08:41,  2.01it/s]"
     ]
    },
    {
     "name": "stdout",
     "output_type": "stream",
     "text": [
      "('dive', 0.0)\n",
      "Ошибка при обработке видео test_data/test_dataset/3dde1994-9f06-46d9-9dc8-5c1ddf2bd7da.avi: name 'display_image' is not defined\n",
      "Обработка видео...\n",
      "('throw', 0.0)"
     ]
    },
    {
     "name": "stderr",
     "output_type": "stream",
     "text": [
      " 25%|██▍       | 348/1397 [02:52<08:36,  2.03it/s]"
     ]
    },
    {
     "name": "stdout",
     "output_type": "stream",
     "text": [
      "\n",
      "Ошибка при обработке видео test_data/test_dataset/3e0d5dad-6173-4db4-a559-5618306d51d9.avi: name 'display_image' is not defined\n",
      "Обработка видео...\n"
     ]
    },
    {
     "name": "stderr",
     "output_type": "stream",
     "text": [
      " 25%|██▍       | 349/1397 [02:52<08:38,  2.02it/s]"
     ]
    },
    {
     "name": "stdout",
     "output_type": "stream",
     "text": [
      "('shoot_ball', 0.0)\n",
      "Ошибка при обработке видео test_data/test_dataset/3e819d86-4171-4e23-93a2-8d50ac4752ba.avi: name 'display_image' is not defined\n",
      "Обработка видео...\n"
     ]
    },
    {
     "name": "stderr",
     "output_type": "stream",
     "text": [
      " 25%|██▌       | 350/1397 [02:53<08:44,  2.00it/s]"
     ]
    },
    {
     "name": "stdout",
     "output_type": "stream",
     "text": [
      "('shoot_ball', 0.0)\n",
      "Ошибка при обработке видео test_data/test_dataset/3eb2eeca-fce0-4690-8b36-12f1fbbbfff7.avi: name 'display_image' is not defined\n",
      "Обработка видео...\n"
     ]
    },
    {
     "name": "stderr",
     "output_type": "stream",
     "text": [
      " 25%|██▌       | 351/1397 [02:53<08:41,  2.01it/s]"
     ]
    },
    {
     "name": "stdout",
     "output_type": "stream",
     "text": [
      "('pushup', 0.0)\n",
      "Ошибка при обработке видео test_data/test_dataset/3f3767ac-dfc8-4534-9c1a-809ea4c9b911.avi: name 'display_image' is not defined\n",
      "Обработка видео...\n"
     ]
    },
    {
     "name": "stderr",
     "output_type": "stream",
     "text": [
      " 25%|██▌       | 352/1397 [02:54<08:38,  2.01it/s]"
     ]
    },
    {
     "name": "stdout",
     "output_type": "stream",
     "text": [
      "('flic_flac', 0.0)\n",
      "Ошибка при обработке видео test_data/test_dataset/3f7bc8ae-4ba6-4062-b8de-724cc40c2ffe.avi: name 'display_image' is not defined\n",
      "Обработка видео...\n"
     ]
    },
    {
     "name": "stderr",
     "output_type": "stream",
     "text": [
      " 25%|██▌       | 353/1397 [02:54<08:39,  2.01it/s]"
     ]
    },
    {
     "name": "stdout",
     "output_type": "stream",
     "text": [
      "('dribble', 0.0)\n",
      "Ошибка при обработке видео test_data/test_dataset/3f8a46c7-f1f8-4f21-b412-554026a94da3.avi: name 'display_image' is not defined\n",
      "Обработка видео...\n",
      "('swing_baseball', 0.0)\n",
      "Ошибка при обработке видео test_data/test_dataset/3fa0515c-c75c-489b-88c7-798aefe6387d.avi: name 'display_image' is not defined\n"
     ]
    },
    {
     "name": "stderr",
     "output_type": "stream",
     "text": [
      " 25%|██▌       | 354/1397 [02:55<08:41,  2.00it/s]"
     ]
    },
    {
     "name": "stdout",
     "output_type": "stream",
     "text": [
      "Обработка видео...\n"
     ]
    },
    {
     "name": "stderr",
     "output_type": "stream",
     "text": [
      " 25%|██▌       | 355/1397 [02:55<08:37,  2.02it/s]"
     ]
    },
    {
     "name": "stdout",
     "output_type": "stream",
     "text": [
      "('dive', 0.0)\n",
      "Ошибка при обработке видео test_data/test_dataset/3ff8986f-adc8-4c5c-b9d1-6d0b38a1603f.avi: name 'display_image' is not defined\n",
      "Обработка видео...\n"
     ]
    },
    {
     "name": "stderr",
     "output_type": "stream",
     "text": [
      " 25%|██▌       | 356/1397 [02:56<08:32,  2.03it/s]"
     ]
    },
    {
     "name": "stdout",
     "output_type": "stream",
     "text": [
      "('cartwheel', 0.0)\n",
      "Ошибка при обработке видео test_data/test_dataset/404204f9-7b27-4b06-a4d2-8632fd8e4b4a.avi: name 'display_image' is not defined\n",
      "Обработка видео...\n"
     ]
    },
    {
     "name": "stderr",
     "output_type": "stream",
     "text": [
      " 26%|██▌       | 357/1397 [02:56<08:31,  2.03it/s]"
     ]
    },
    {
     "name": "stdout",
     "output_type": "stream",
     "text": [
      "('dive', 0.0)\n",
      "Ошибка при обработке видео test_data/test_dataset/41036e6b-6067-4765-a99d-38d9035488c5.avi: name 'display_image' is not defined\n",
      "Обработка видео...\n"
     ]
    },
    {
     "name": "stderr",
     "output_type": "stream",
     "text": [
      " 26%|██▌       | 358/1397 [02:57<08:31,  2.03it/s]"
     ]
    },
    {
     "name": "stdout",
     "output_type": "stream",
     "text": [
      "('dive', 0.0)\n",
      "Ошибка при обработке видео test_data/test_dataset/4120c001-aaaa-49c9-b675-8fa60f92cce4.avi: name 'display_image' is not defined\n",
      "Обработка видео...\n"
     ]
    },
    {
     "name": "stderr",
     "output_type": "stream",
     "text": [
      " 26%|██▌       | 359/1397 [02:57<08:30,  2.03it/s]"
     ]
    },
    {
     "name": "stdout",
     "output_type": "stream",
     "text": [
      "('golf', 0.0)\n",
      "Ошибка при обработке видео test_data/test_dataset/41447eb8-70c5-4bc9-a7e1-cd9abe2bf1c2.avi: name 'display_image' is not defined\n",
      "Обработка видео...\n"
     ]
    },
    {
     "name": "stderr",
     "output_type": "stream",
     "text": [
      " 26%|██▌       | 360/1397 [02:58<08:41,  1.99it/s]"
     ]
    },
    {
     "name": "stdout",
     "output_type": "stream",
     "text": [
      "('pullup', 0.0)\n",
      "Ошибка при обработке видео test_data/test_dataset/417559e5-ee25-4aa6-b310-002545d04c27.avi: name 'display_image' is not defined\n",
      "Обработка видео...\n"
     ]
    },
    {
     "name": "stderr",
     "output_type": "stream",
     "text": [
      " 26%|██▌       | 361/1397 [02:58<08:35,  2.01it/s]"
     ]
    },
    {
     "name": "stdout",
     "output_type": "stream",
     "text": [
      "('dive', 0.0)\n",
      "Ошибка при обработке видео test_data/test_dataset/41b2a02c-b6d1-4dfc-b478-870db28040b5.avi: name 'display_image' is not defined\n",
      "Обработка видео...\n"
     ]
    },
    {
     "name": "stderr",
     "output_type": "stream",
     "text": [
      " 26%|██▌       | 362/1397 [02:59<08:29,  2.03it/s]"
     ]
    },
    {
     "name": "stdout",
     "output_type": "stream",
     "text": [
      "('handstand', 0.0)\n",
      "Ошибка при обработке видео test_data/test_dataset/41d1ceb5-b270-4109-a1d0-c167d42f8b47.avi: name 'display_image' is not defined\n",
      "Обработка видео...\n"
     ]
    },
    {
     "name": "stderr",
     "output_type": "stream",
     "text": [
      " 26%|██▌       | 363/1397 [02:59<08:27,  2.04it/s]"
     ]
    },
    {
     "name": "stdout",
     "output_type": "stream",
     "text": [
      "('dive', 0.0)\n",
      "Ошибка при обработке видео test_data/test_dataset/433e575d-eb75-4bee-8199-d21ff93ddd3b.avi: name 'display_image' is not defined\n",
      "Обработка видео...\n"
     ]
    },
    {
     "name": "stderr",
     "output_type": "stream",
     "text": [
      " 26%|██▌       | 364/1397 [03:00<08:25,  2.05it/s]"
     ]
    },
    {
     "name": "stdout",
     "output_type": "stream",
     "text": [
      "('pushup', 0.0)\n",
      "Ошибка при обработке видео test_data/test_dataset/436d6211-c5bd-48bd-9fdd-9c3dbb9770a6.avi: name 'display_image' is not defined\n",
      "Обработка видео...\n",
      "('throw', 0.0)"
     ]
    },
    {
     "name": "stderr",
     "output_type": "stream",
     "text": [
      " 26%|██▌       | 365/1397 [03:00<08:25,  2.04it/s]"
     ]
    },
    {
     "name": "stdout",
     "output_type": "stream",
     "text": [
      "\n",
      "Ошибка при обработке видео test_data/test_dataset/43a3e64b-95e0-440b-8109-485fbb31ca22.avi: name 'display_image' is not defined\n",
      "Обработка видео...\n"
     ]
    },
    {
     "name": "stderr",
     "output_type": "stream",
     "text": [
      " 26%|██▌       | 366/1397 [03:01<08:29,  2.02it/s]"
     ]
    },
    {
     "name": "stdout",
     "output_type": "stream",
     "text": [
      "('cartwheel', 0.0)\n",
      "Ошибка при обработке видео test_data/test_dataset/43afec97-277e-41f2-9509-927c42c7d282.avi: name 'display_image' is not defined\n",
      "Обработка видео...\n"
     ]
    },
    {
     "name": "stderr",
     "output_type": "stream",
     "text": [
      " 26%|██▋       | 367/1397 [03:01<08:29,  2.02it/s]"
     ]
    },
    {
     "name": "stdout",
     "output_type": "stream",
     "text": [
      "('dive', 0.0)\n",
      "Ошибка при обработке видео test_data/test_dataset/43ba1c86-f75c-41d6-81bf-3c16558386fb.avi: name 'display_image' is not defined\n",
      "Обработка видео...\n"
     ]
    },
    {
     "name": "stderr",
     "output_type": "stream",
     "text": [
      " 26%|██▋       | 368/1397 [03:02<08:30,  2.02it/s]"
     ]
    },
    {
     "name": "stdout",
     "output_type": "stream",
     "text": [
      "('throw', 0.0)\n",
      "Ошибка при обработке видео test_data/test_dataset/43bf520f-b5d0-466d-8ec3-ad189f366cd4.avi: name 'display_image' is not defined\n",
      "Обработка видео...\n"
     ]
    },
    {
     "name": "stderr",
     "output_type": "stream",
     "text": [
      " 26%|██▋       | 369/1397 [03:02<08:27,  2.03it/s]"
     ]
    },
    {
     "name": "stdout",
     "output_type": "stream",
     "text": [
      "('golf', 0.0)\n",
      "Ошибка при обработке видео test_data/test_dataset/43c7196d-39c0-4ca0-94dd-cb9b0bb15fa0.avi: name 'display_image' is not defined\n",
      "Обработка видео...\n"
     ]
    },
    {
     "name": "stderr",
     "output_type": "stream",
     "text": [
      " 26%|██▋       | 370/1397 [03:03<08:23,  2.04it/s]"
     ]
    },
    {
     "name": "stdout",
     "output_type": "stream",
     "text": [
      "('pushup', 0.0)\n",
      "Ошибка при обработке видео test_data/test_dataset/43f2f023-ed42-4982-b60f-41a46bb1cf7f.avi: name 'display_image' is not defined\n",
      "Обработка видео...\n"
     ]
    },
    {
     "name": "stderr",
     "output_type": "stream",
     "text": [
      " 27%|██▋       | 371/1397 [03:03<08:27,  2.02it/s]"
     ]
    },
    {
     "name": "stdout",
     "output_type": "stream",
     "text": [
      "('pullup', 0.0)\n",
      "Ошибка при обработке видео test_data/test_dataset/443f2f5f-4036-4a93-9354-7db376580bfb.avi: name 'display_image' is not defined\n",
      "Обработка видео...\n"
     ]
    },
    {
     "name": "stderr",
     "output_type": "stream",
     "text": [
      " 27%|██▋       | 372/1397 [03:04<08:24,  2.03it/s]"
     ]
    },
    {
     "name": "stdout",
     "output_type": "stream",
     "text": [
      "('sword_exercise', 0.0)\n",
      "Ошибка при обработке видео test_data/test_dataset/444dc190-08f3-4501-9f0a-ee202ee5daea.avi: name 'display_image' is not defined\n",
      "Обработка видео...\n"
     ]
    },
    {
     "name": "stderr",
     "output_type": "stream",
     "text": [
      " 27%|██▋       | 373/1397 [03:04<08:22,  2.04it/s]"
     ]
    },
    {
     "name": "stdout",
     "output_type": "stream",
     "text": [
      "('dribble', 0.0)\n",
      "Ошибка при обработке видео test_data/test_dataset/44526c43-2677-46c9-9899-c7314c08c992.avi: name 'display_image' is not defined\n",
      "Обработка видео...\n",
      "('climb', 0.0)"
     ]
    },
    {
     "name": "stderr",
     "output_type": "stream",
     "text": [
      " 27%|██▋       | 374/1397 [03:04<08:22,  2.04it/s]"
     ]
    },
    {
     "name": "stdout",
     "output_type": "stream",
     "text": [
      "\n",
      "Ошибка при обработке видео test_data/test_dataset/44706843-5004-4843-b031-0aaffc337fcd.avi: name 'display_image' is not defined\n",
      "Обработка видео...\n",
      "('dribble', 0.0)\n"
     ]
    },
    {
     "name": "stderr",
     "output_type": "stream",
     "text": [
      " 27%|██▋       | 375/1397 [03:05<08:20,  2.04it/s]"
     ]
    },
    {
     "name": "stdout",
     "output_type": "stream",
     "text": [
      "Ошибка при обработке видео test_data/test_dataset/4474b67f-4662-499b-907e-5af0c159d264.avi: name 'display_image' is not defined\n",
      "Обработка видео...\n"
     ]
    },
    {
     "name": "stderr",
     "output_type": "stream",
     "text": [
      " 27%|██▋       | 376/1397 [03:05<08:19,  2.04it/s]"
     ]
    },
    {
     "name": "stdout",
     "output_type": "stream",
     "text": [
      "('cartwheel', 0.0)\n",
      "Ошибка при обработке видео test_data/test_dataset/4474febe-09d9-491b-962c-f6f8e67e5614.avi: name 'display_image' is not defined\n",
      "Обработка видео...\n"
     ]
    },
    {
     "name": "stderr",
     "output_type": "stream",
     "text": [
      " 27%|██▋       | 377/1397 [03:06<08:17,  2.05it/s]"
     ]
    },
    {
     "name": "stdout",
     "output_type": "stream",
     "text": [
      "('pushup', 0.0)\n",
      "Ошибка при обработке видео test_data/test_dataset/4492ec49-19a6-45f3-84c2-d106b8e5cd6a.avi: name 'display_image' is not defined\n",
      "Обработка видео...\n",
      "('dive', 0.0)"
     ]
    },
    {
     "name": "stderr",
     "output_type": "stream",
     "text": [
      " 27%|██▋       | 378/1397 [03:06<08:20,  2.04it/s]"
     ]
    },
    {
     "name": "stdout",
     "output_type": "stream",
     "text": [
      "\n",
      "Ошибка при обработке видео test_data/test_dataset/44a57e53-5c0c-4743-a561-04b398a1de24.avi: name 'display_image' is not defined\n",
      "Обработка видео...\n"
     ]
    },
    {
     "name": "stderr",
     "output_type": "stream",
     "text": [
      " 27%|██▋       | 379/1397 [03:07<08:20,  2.03it/s]"
     ]
    },
    {
     "name": "stdout",
     "output_type": "stream",
     "text": [
      "('sit', 0.0)\n",
      "Ошибка при обработке видео test_data/test_dataset/44ab56dd-b59a-4a7a-bc5c-b050973c1448.avi: name 'display_image' is not defined\n",
      "Обработка видео...\n"
     ]
    },
    {
     "name": "stderr",
     "output_type": "stream",
     "text": [
      " 27%|██▋       | 380/1397 [03:07<08:22,  2.02it/s]"
     ]
    },
    {
     "name": "stdout",
     "output_type": "stream",
     "text": [
      "('golf', 0.0)\n",
      "Ошибка при обработке видео test_data/test_dataset/44f64ea4-28ad-4e08-9edf-866f30cf6dda.avi: name 'display_image' is not defined\n",
      "Обработка видео...\n"
     ]
    },
    {
     "name": "stderr",
     "output_type": "stream",
     "text": [
      " 27%|██▋       | 381/1397 [03:08<08:20,  2.03it/s]"
     ]
    },
    {
     "name": "stdout",
     "output_type": "stream",
     "text": [
      "('sword_exercise', 0.0)\n",
      "Ошибка при обработке видео test_data/test_dataset/45025adc-0cea-4b4f-961f-3b0eba2110ae.avi: name 'display_image' is not defined\n",
      "Обработка видео...\n"
     ]
    },
    {
     "name": "stderr",
     "output_type": "stream",
     "text": [
      " 27%|██▋       | 382/1397 [03:08<08:20,  2.03it/s]"
     ]
    },
    {
     "name": "stdout",
     "output_type": "stream",
     "text": [
      "('jump', 0.0)\n",
      "Ошибка при обработке видео test_data/test_dataset/4503cff8-c155-419c-babd-d3c2ac4e5b18.avi: name 'display_image' is not defined\n",
      "Обработка видео...\n"
     ]
    },
    {
     "name": "stderr",
     "output_type": "stream",
     "text": [
      " 27%|██▋       | 383/1397 [03:09<08:20,  2.03it/s]"
     ]
    },
    {
     "name": "stdout",
     "output_type": "stream",
     "text": [
      "('flic_flac', 0.0)\n",
      "Ошибка при обработке видео test_data/test_dataset/451758f8-1d22-45bc-b29e-b16becd22b7a.avi: name 'display_image' is not defined\n",
      "Обработка видео...\n",
      "('swing_baseball', 0.0)"
     ]
    },
    {
     "name": "stderr",
     "output_type": "stream",
     "text": [
      " 27%|██▋       | 384/1397 [03:09<08:17,  2.03it/s]"
     ]
    },
    {
     "name": "stdout",
     "output_type": "stream",
     "text": [
      "\n",
      "Ошибка при обработке видео test_data/test_dataset/455089fd-a014-4fea-a9d5-f501c9a8ed6d.avi: name 'display_image' is not defined\n",
      "Обработка видео...\n",
      "('handstand', 0.0)\n",
      "Ошибка при обработке видео test_data/test_dataset/45aeb165-0dc0-4fae-8925-ae6304743d92.avi: name 'display_image' is not defined\n"
     ]
    },
    {
     "name": "stderr",
     "output_type": "stream",
     "text": [
      " 28%|██▊       | 385/1397 [03:10<08:17,  2.04it/s]"
     ]
    },
    {
     "name": "stdout",
     "output_type": "stream",
     "text": [
      "Обработка видео...\n"
     ]
    },
    {
     "name": "stderr",
     "output_type": "stream",
     "text": [
      " 28%|██▊       | 386/1397 [03:10<08:14,  2.05it/s]"
     ]
    },
    {
     "name": "stdout",
     "output_type": "stream",
     "text": [
      "('dribble', 0.0)\n",
      "Ошибка при обработке видео test_data/test_dataset/45d0faa7-ebf9-4978-bf95-9e9314afe8e0.avi: name 'display_image' is not defined\n",
      "Обработка видео...\n"
     ]
    },
    {
     "name": "stderr",
     "output_type": "stream",
     "text": [
      " 28%|██▊       | 387/1397 [03:11<08:13,  2.05it/s]"
     ]
    },
    {
     "name": "stdout",
     "output_type": "stream",
     "text": [
      "('dribble', 0.0)\n",
      "Ошибка при обработке видео test_data/test_dataset/45e35813-d5a4-4955-9852-1ed74b30f0cc.avi: name 'display_image' is not defined\n",
      "Обработка видео...\n"
     ]
    },
    {
     "name": "stderr",
     "output_type": "stream",
     "text": [
      " 28%|██▊       | 388/1397 [03:11<08:18,  2.02it/s]"
     ]
    },
    {
     "name": "stdout",
     "output_type": "stream",
     "text": [
      "('dive', 0.0)\n",
      "Ошибка при обработке видео test_data/test_dataset/468e4d18-0d3f-40e1-89d1-017b68e347be.avi: name 'display_image' is not defined\n",
      "Обработка видео...\n"
     ]
    },
    {
     "name": "stderr",
     "output_type": "stream",
     "text": [
      " 28%|██▊       | 389/1397 [03:12<08:19,  2.02it/s]"
     ]
    },
    {
     "name": "stdout",
     "output_type": "stream",
     "text": [
      "('handstand', 0.0)\n",
      "Ошибка при обработке видео test_data/test_dataset/46abd798-b7a5-458e-8517-9537896d2715.avi: name 'display_image' is not defined\n",
      "Обработка видео...\n"
     ]
    },
    {
     "name": "stderr",
     "output_type": "stream",
     "text": [
      " 28%|██▊       | 390/1397 [03:12<08:16,  2.03it/s]"
     ]
    },
    {
     "name": "stdout",
     "output_type": "stream",
     "text": [
      "('sword_exercise', 0.0)\n",
      "Ошибка при обработке видео test_data/test_dataset/46bdc06e-aed5-4685-8a36-66ee6c1b3c97.avi: name 'display_image' is not defined\n",
      "Обработка видео...\n"
     ]
    },
    {
     "name": "stderr",
     "output_type": "stream",
     "text": [
      " 28%|██▊       | 391/1397 [03:13<08:13,  2.04it/s]"
     ]
    },
    {
     "name": "stdout",
     "output_type": "stream",
     "text": [
      "('swing_baseball', 0.0)\n",
      "Ошибка при обработке видео test_data/test_dataset/4702c0a0-66eb-4079-819f-6bdc06fb4eb4.avi: name 'display_image' is not defined\n",
      "Обработка видео...\n"
     ]
    },
    {
     "name": "stderr",
     "output_type": "stream",
     "text": [
      " 28%|██▊       | 392/1397 [03:13<08:13,  2.04it/s]"
     ]
    },
    {
     "name": "stdout",
     "output_type": "stream",
     "text": [
      "('shoot_ball', 0.0)\n",
      "Ошибка при обработке видео test_data/test_dataset/47124de6-612f-43f5-8b10-78d9579eab13.avi: name 'display_image' is not defined\n",
      "Обработка видео...\n"
     ]
    },
    {
     "name": "stderr",
     "output_type": "stream",
     "text": [
      " 28%|██▊       | 393/1397 [03:14<08:12,  2.04it/s]"
     ]
    },
    {
     "name": "stdout",
     "output_type": "stream",
     "text": [
      "('shoot_ball', 0.0)\n",
      "Ошибка при обработке видео test_data/test_dataset/4743c997-1e9b-4401-9c5a-79e292bfe2f1.avi: name 'display_image' is not defined\n",
      "Обработка видео...\n"
     ]
    },
    {
     "name": "stderr",
     "output_type": "stream",
     "text": [
      " 28%|██▊       | 394/1397 [03:14<08:14,  2.03it/s]"
     ]
    },
    {
     "name": "stdout",
     "output_type": "stream",
     "text": [
      "('climb', 0.0)\n",
      "Ошибка при обработке видео test_data/test_dataset/47e596e4-570d-4661-910e-ef8470316115.avi: name 'display_image' is not defined\n",
      "Обработка видео..."
     ]
    },
    {
     "name": "stderr",
     "output_type": "stream",
     "text": [
      " 28%|██▊       | 395/1397 [03:15<08:14,  2.03it/s]"
     ]
    },
    {
     "name": "stdout",
     "output_type": "stream",
     "text": [
      "\n",
      "('golf', 0.0)\n",
      "Ошибка при обработке видео test_data/test_dataset/47f12ec8-0122-4530-b5f1-be255fa74a67.avi: name 'display_image' is not defined\n",
      "Обработка видео...\n"
     ]
    },
    {
     "name": "stderr",
     "output_type": "stream",
     "text": [
      " 28%|██▊       | 396/1397 [03:15<08:20,  2.00it/s]"
     ]
    },
    {
     "name": "stdout",
     "output_type": "stream",
     "text": [
      "('situp', 0.0)\n",
      "Ошибка при обработке видео test_data/test_dataset/480baf20-137d-4a8a-a57c-ed2039272b1f.avi: name 'display_image' is not defined\n",
      "Обработка видео...\n",
      "('fencing', 0.0)"
     ]
    },
    {
     "name": "stderr",
     "output_type": "stream",
     "text": [
      " 28%|██▊       | 397/1397 [03:16<08:21,  1.99it/s]"
     ]
    },
    {
     "name": "stdout",
     "output_type": "stream",
     "text": [
      "\n",
      "Ошибка при обработке видео test_data/test_dataset/4815ace5-2e09-47f2-8441-b5453ae665b7.avi: name 'display_image' is not defined\n",
      "Обработка видео...\n"
     ]
    },
    {
     "name": "stderr",
     "output_type": "stream",
     "text": [
      " 28%|██▊       | 398/1397 [03:16<08:21,  1.99it/s]"
     ]
    },
    {
     "name": "stdout",
     "output_type": "stream",
     "text": [
      "('handstand', 0.0)\n",
      "Ошибка при обработке видео test_data/test_dataset/48fe5d5c-54bd-405b-b78f-11703662d490.avi: name 'display_image' is not defined\n",
      "Обработка видео...\n"
     ]
    },
    {
     "name": "stderr",
     "output_type": "stream",
     "text": [
      " 29%|██▊       | 399/1397 [03:17<08:22,  1.99it/s]"
     ]
    },
    {
     "name": "stdout",
     "output_type": "stream",
     "text": [
      "('pullup', 0.0)\n",
      "Ошибка при обработке видео test_data/test_dataset/4907ba4a-6722-4ca0-8e57-594f44b4b973.avi: name 'display_image' is not defined\n",
      "Обработка видео...\n"
     ]
    },
    {
     "name": "stderr",
     "output_type": "stream",
     "text": [
      " 29%|██▊       | 400/1397 [03:17<08:17,  2.00it/s]"
     ]
    },
    {
     "name": "stdout",
     "output_type": "stream",
     "text": [
      "('pushup', 0.0)\n",
      "Ошибка при обработке видео test_data/test_dataset/491be14d-ce08-4473-a3fd-3a93cb539350.avi: name 'display_image' is not defined\n",
      "Обработка видео...\n"
     ]
    },
    {
     "name": "stderr",
     "output_type": "stream",
     "text": [
      " 29%|██▊       | 401/1397 [03:18<08:18,  2.00it/s]"
     ]
    },
    {
     "name": "stdout",
     "output_type": "stream",
     "text": [
      "('pullup', 0.0)\n",
      "Ошибка при обработке видео test_data/test_dataset/4925b378-3bb8-4725-b9ce-ae318c46e19f.avi: name 'display_image' is not defined\n",
      "Обработка видео...\n"
     ]
    },
    {
     "name": "stderr",
     "output_type": "stream",
     "text": [
      " 29%|██▉       | 402/1397 [03:18<08:17,  2.00it/s]"
     ]
    },
    {
     "name": "stdout",
     "output_type": "stream",
     "text": [
      "('dribble', 0.0)\n",
      "Ошибка при обработке видео test_data/test_dataset/493666ab-8803-4de9-a6d6-02caabd28be8.avi: name 'display_image' is not defined\n",
      "Обработка видео...\n"
     ]
    },
    {
     "name": "stderr",
     "output_type": "stream",
     "text": [
      " 29%|██▉       | 403/1397 [03:19<08:26,  1.96it/s]"
     ]
    },
    {
     "name": "stdout",
     "output_type": "stream",
     "text": [
      "('dive', 0.0)\n",
      "Ошибка при обработке видео test_data/test_dataset/4955401b-e795-407a-b8d5-2984ae55a8bc.avi: name 'display_image' is not defined\n",
      "Обработка видео...\n"
     ]
    },
    {
     "name": "stderr",
     "output_type": "stream",
     "text": [
      " 29%|██▉       | 404/1397 [03:19<08:21,  1.98it/s]"
     ]
    },
    {
     "name": "stdout",
     "output_type": "stream",
     "text": [
      "('shoot_ball', 0.0)\n",
      "Ошибка при обработке видео test_data/test_dataset/49a0887b-07cb-49e8-a621-32cb13b40514.avi: name 'display_image' is not defined\n",
      "Обработка видео...\n"
     ]
    },
    {
     "name": "stderr",
     "output_type": "stream",
     "text": [
      " 29%|██▉       | 405/1397 [03:20<08:34,  1.93it/s]"
     ]
    },
    {
     "name": "stdout",
     "output_type": "stream",
     "text": [
      "('golf', 0.0)\n",
      "Ошибка при обработке видео test_data/test_dataset/49a9c487-c307-4dfc-a613-72a56f438676.avi: name 'display_image' is not defined\n",
      "Обработка видео...\n"
     ]
    },
    {
     "name": "stderr",
     "output_type": "stream",
     "text": [
      " 29%|██▉       | 406/1397 [03:20<08:30,  1.94it/s]"
     ]
    },
    {
     "name": "stdout",
     "output_type": "stream",
     "text": [
      "('shoot_ball', 0.0)\n",
      "Ошибка при обработке видео test_data/test_dataset/49e91e64-7df6-4f4c-b8c3-3d7b3698f553.avi: name 'display_image' is not defined\n",
      "Обработка видео...\n"
     ]
    },
    {
     "name": "stderr",
     "output_type": "stream",
     "text": [
      " 29%|██▉       | 407/1397 [03:21<08:32,  1.93it/s]"
     ]
    },
    {
     "name": "stdout",
     "output_type": "stream",
     "text": [
      "('golf', 0.0)\n",
      "Ошибка при обработке видео test_data/test_dataset/49efd6d1-797d-42a7-972f-8f4c010c963a.avi: name 'display_image' is not defined\n",
      "Обработка видео...\n"
     ]
    },
    {
     "name": "stderr",
     "output_type": "stream",
     "text": [
      " 29%|██▉       | 408/1397 [03:21<08:27,  1.95it/s]"
     ]
    },
    {
     "name": "stdout",
     "output_type": "stream",
     "text": [
      "('sit', 0.0)\n",
      "Ошибка при обработке видео test_data/test_dataset/49f3655c-8ae0-4a9e-b57e-f8b503073cf0.avi: name 'display_image' is not defined\n",
      "Обработка видео...\n"
     ]
    },
    {
     "name": "stderr",
     "output_type": "stream",
     "text": [
      " 29%|██▉       | 409/1397 [03:22<08:25,  1.95it/s]"
     ]
    },
    {
     "name": "stdout",
     "output_type": "stream",
     "text": [
      "('sword_exercise', 0.0)\n",
      "Ошибка при обработке видео test_data/test_dataset/49f870e9-dcde-407c-aaf5-8f0044394343.avi: name 'display_image' is not defined\n",
      "Обработка видео...\n"
     ]
    },
    {
     "name": "stderr",
     "output_type": "stream",
     "text": [
      " 29%|██▉       | 410/1397 [03:22<08:20,  1.97it/s]"
     ]
    },
    {
     "name": "stdout",
     "output_type": "stream",
     "text": [
      "('throw', 0.0)\n",
      "Ошибка при обработке видео test_data/test_dataset/4a045961-1753-4197-a718-73a1dd5e75e4.avi: name 'display_image' is not defined\n",
      "Обработка видео...\n"
     ]
    },
    {
     "name": "stderr",
     "output_type": "stream",
     "text": [
      " 29%|██▉       | 411/1397 [03:23<08:15,  1.99it/s]"
     ]
    },
    {
     "name": "stdout",
     "output_type": "stream",
     "text": [
      "('clap', 0.0)\n",
      "Ошибка при обработке видео test_data/test_dataset/4a8abb88-a4ea-4e10-bd9d-ee86b1141dad.avi: name 'display_image' is not defined\n",
      "Обработка видео...\n"
     ]
    },
    {
     "name": "stderr",
     "output_type": "stream",
     "text": [
      " 29%|██▉       | 412/1397 [03:23<08:12,  2.00it/s]"
     ]
    },
    {
     "name": "stdout",
     "output_type": "stream",
     "text": [
      "('dribble', 0.0)\n",
      "Ошибка при обработке видео test_data/test_dataset/4aa18399-d9ec-4a83-a20a-75731b5cfc7a.avi: name 'display_image' is not defined\n",
      "Обработка видео...\n"
     ]
    },
    {
     "name": "stderr",
     "output_type": "stream",
     "text": [
      " 30%|██▉       | 413/1397 [03:24<08:14,  1.99it/s]"
     ]
    },
    {
     "name": "stdout",
     "output_type": "stream",
     "text": [
      "('jump', 0.0)\n",
      "Ошибка при обработке видео test_data/test_dataset/4aa9e269-b8d3-4a55-83e5-425eae826549.avi: name 'display_image' is not defined\n",
      "Обработка видео...\n"
     ]
    },
    {
     "name": "stderr",
     "output_type": "stream",
     "text": [
      " 30%|██▉       | 414/1397 [03:24<08:13,  1.99it/s]"
     ]
    },
    {
     "name": "stdout",
     "output_type": "stream",
     "text": [
      "('golf', 0.0)\n",
      "Ошибка при обработке видео test_data/test_dataset/4b2e01d2-a3ae-4f33-95f3-6ea33f26feed.avi: name 'display_image' is not defined\n",
      "Обработка видео...\n"
     ]
    },
    {
     "name": "stderr",
     "output_type": "stream",
     "text": [
      " 30%|██▉       | 415/1397 [03:25<08:09,  2.01it/s]"
     ]
    },
    {
     "name": "stdout",
     "output_type": "stream",
     "text": [
      "('pick', 0.0)\n",
      "Ошибка при обработке видео test_data/test_dataset/4b4ded99-869d-447c-9d3c-fce43aa98a24.avi: name 'display_image' is not defined\n",
      "Обработка видео...\n"
     ]
    },
    {
     "name": "stderr",
     "output_type": "stream",
     "text": [
      " 30%|██▉       | 416/1397 [03:25<08:07,  2.01it/s]"
     ]
    },
    {
     "name": "stdout",
     "output_type": "stream",
     "text": [
      "('pullup', 0.0)\n",
      "Ошибка при обработке видео test_data/test_dataset/4b73c852-07fb-4ea1-9abd-0d3d25689b70.avi: name 'display_image' is not defined\n",
      "Обработка видео...\n"
     ]
    },
    {
     "name": "stderr",
     "output_type": "stream",
     "text": [
      " 30%|██▉       | 417/1397 [03:26<08:08,  2.01it/s]"
     ]
    },
    {
     "name": "stdout",
     "output_type": "stream",
     "text": [
      "('climb', 0.0)\n",
      "Ошибка при обработке видео test_data/test_dataset/4b75284f-f3d3-401d-b3e3-056332653238.avi: name 'display_image' is not defined\n",
      "Обработка видео...\n"
     ]
    },
    {
     "name": "stderr",
     "output_type": "stream",
     "text": [
      " 30%|██▉       | 418/1397 [03:26<08:06,  2.01it/s]"
     ]
    },
    {
     "name": "stdout",
     "output_type": "stream",
     "text": [
      "('pullup', 0.0)\n",
      "Ошибка при обработке видео test_data/test_dataset/4b78e9ef-fc44-47f5-a94d-6612b69d05f4.avi: name 'display_image' is not defined\n",
      "Обработка видео...\n"
     ]
    },
    {
     "name": "stderr",
     "output_type": "stream",
     "text": [
      " 30%|██▉       | 419/1397 [03:27<08:08,  2.00it/s]"
     ]
    },
    {
     "name": "stdout",
     "output_type": "stream",
     "text": [
      "('golf', 0.0)\n",
      "Ошибка при обработке видео test_data/test_dataset/4bb4aaaf-2269-4773-a1a9-8c334631596c.avi: name 'display_image' is not defined\n",
      "Обработка видео...\n"
     ]
    },
    {
     "name": "stderr",
     "output_type": "stream",
     "text": [
      " 30%|███       | 420/1397 [03:27<08:04,  2.02it/s]"
     ]
    },
    {
     "name": "stdout",
     "output_type": "stream",
     "text": [
      "('cartwheel', 0.0)\n",
      "Ошибка при обработке видео test_data/test_dataset/4befecfe-02f9-4841-a3c9-5b99842f8be1.avi: name 'display_image' is not defined\n",
      "Обработка видео...\n"
     ]
    },
    {
     "name": "stderr",
     "output_type": "stream",
     "text": [
      " 30%|███       | 421/1397 [03:28<08:00,  2.03it/s]"
     ]
    },
    {
     "name": "stdout",
     "output_type": "stream",
     "text": [
      "('climb', 0.0)\n",
      "Ошибка при обработке видео test_data/test_dataset/4c013667-db04-414d-b294-f54518e91eac.avi: name 'display_image' is not defined\n",
      "Обработка видео...\n"
     ]
    },
    {
     "name": "stderr",
     "output_type": "stream",
     "text": [
      " 30%|███       | 422/1397 [03:28<08:03,  2.02it/s]"
     ]
    },
    {
     "name": "stdout",
     "output_type": "stream",
     "text": [
      "('flic_flac', 0.0)\n",
      "Ошибка при обработке видео test_data/test_dataset/4cc72cf5-36c5-44c7-b08a-05299bc3759e.avi: name 'display_image' is not defined\n",
      "Обработка видео...\n"
     ]
    },
    {
     "name": "stderr",
     "output_type": "stream",
     "text": [
      " 30%|███       | 423/1397 [03:29<08:03,  2.01it/s]"
     ]
    },
    {
     "name": "stdout",
     "output_type": "stream",
     "text": [
      "('handstand', 0.0)\n",
      "Ошибка при обработке видео test_data/test_dataset/4cca9b27-1617-4ffd-8781-5c31655a386c.avi: name 'display_image' is not defined\n",
      "Обработка видео...\n"
     ]
    },
    {
     "name": "stderr",
     "output_type": "stream",
     "text": [
      " 30%|███       | 424/1397 [03:29<08:08,  1.99it/s]"
     ]
    },
    {
     "name": "stdout",
     "output_type": "stream",
     "text": [
      "('pick', 0.0)\n",
      "Ошибка при обработке видео test_data/test_dataset/4cd3ae5d-f628-436b-bb01-27eb14e67f78.avi: name 'display_image' is not defined\n",
      "Обработка видео...\n"
     ]
    },
    {
     "name": "stderr",
     "output_type": "stream",
     "text": [
      " 30%|███       | 425/1397 [03:30<08:02,  2.01it/s]"
     ]
    },
    {
     "name": "stdout",
     "output_type": "stream",
     "text": [
      "('handstand', 0.0)\n",
      "Ошибка при обработке видео test_data/test_dataset/4d1450b8-252e-4107-b75c-2453a90daf78.avi: name 'display_image' is not defined\n",
      "Обработка видео...\n"
     ]
    },
    {
     "name": "stderr",
     "output_type": "stream",
     "text": [
      " 30%|███       | 426/1397 [03:30<08:00,  2.02it/s]"
     ]
    },
    {
     "name": "stdout",
     "output_type": "stream",
     "text": [
      "('shoot_ball', 0.0)\n",
      "Ошибка при обработке видео test_data/test_dataset/4d5c7af4-06e0-4211-90ba-0aa4cb6ae450.avi: name 'display_image' is not defined\n",
      "Обработка видео...\n"
     ]
    },
    {
     "name": "stderr",
     "output_type": "stream",
     "text": [
      " 31%|███       | 427/1397 [03:31<08:01,  2.01it/s]"
     ]
    },
    {
     "name": "stdout",
     "output_type": "stream",
     "text": [
      "('dive', 0.0)\n",
      "Ошибка при обработке видео test_data/test_dataset/4d789df6-b315-4c83-887c-6c34729c2fe0.avi: name 'display_image' is not defined\n",
      "Обработка видео...\n"
     ]
    },
    {
     "name": "stderr",
     "output_type": "stream",
     "text": [
      " 31%|███       | 428/1397 [03:31<07:57,  2.03it/s]"
     ]
    },
    {
     "name": "stdout",
     "output_type": "stream",
     "text": [
      "('cartwheel', 0.0)\n",
      "Ошибка при обработке видео test_data/test_dataset/4db46851-68be-48d3-81f5-96777bb67212.avi: name 'display_image' is not defined\n",
      "Обработка видео...\n"
     ]
    },
    {
     "name": "stderr",
     "output_type": "stream",
     "text": [
      " 31%|███       | 429/1397 [03:32<07:57,  2.03it/s]"
     ]
    },
    {
     "name": "stdout",
     "output_type": "stream",
     "text": [
      "('pushup', 0.0)\n",
      "Ошибка при обработке видео test_data/test_dataset/4db80876-7a5c-4a0c-839f-552efb7f36d0.avi: name 'display_image' is not defined\n",
      "Обработка видео...\n"
     ]
    },
    {
     "name": "stderr",
     "output_type": "stream",
     "text": [
      " 31%|███       | 430/1397 [03:32<08:01,  2.01it/s]"
     ]
    },
    {
     "name": "stdout",
     "output_type": "stream",
     "text": [
      "('jump', 0.0)\n",
      "Ошибка при обработке видео test_data/test_dataset/4e3bbdeb-6d32-49e1-b0fd-d28ba203a4ec.avi: name 'display_image' is not defined\n",
      "Обработка видео...\n"
     ]
    },
    {
     "name": "stderr",
     "output_type": "stream",
     "text": [
      " 31%|███       | 431/1397 [03:33<08:01,  2.01it/s]"
     ]
    },
    {
     "name": "stdout",
     "output_type": "stream",
     "text": [
      "('sword_exercise', 0.0)\n",
      "Ошибка при обработке видео test_data/test_dataset/4e3ce108-9bae-430c-9364-149bf59c9d21.avi: name 'display_image' is not defined\n",
      "Обработка видео...\n"
     ]
    },
    {
     "name": "stderr",
     "output_type": "stream",
     "text": [
      " 31%|███       | 432/1397 [03:33<08:00,  2.01it/s]"
     ]
    },
    {
     "name": "stdout",
     "output_type": "stream",
     "text": [
      "('pullup', 0.0)\n",
      "Ошибка при обработке видео test_data/test_dataset/4e40ee07-f211-4310-8f55-5532178abd4d.avi: name 'display_image' is not defined\n",
      "Обработка видео...\n"
     ]
    },
    {
     "name": "stderr",
     "output_type": "stream",
     "text": [
      " 31%|███       | 433/1397 [03:34<07:58,  2.02it/s]"
     ]
    },
    {
     "name": "stdout",
     "output_type": "stream",
     "text": [
      "('dive', 0.0)\n",
      "Ошибка при обработке видео test_data/test_dataset/4ec82c0c-df4c-4605-add1-889e350af95b.avi: name 'display_image' is not defined\n",
      "Обработка видео...\n"
     ]
    },
    {
     "name": "stderr",
     "output_type": "stream",
     "text": [
      " 31%|███       | 434/1397 [03:34<07:54,  2.03it/s]"
     ]
    },
    {
     "name": "stdout",
     "output_type": "stream",
     "text": [
      "('golf', 0.0)\n",
      "Ошибка при обработке видео test_data/test_dataset/4ecdb0f4-c531-477d-860e-920bdfd7ad6f.avi: name 'display_image' is not defined\n",
      "Обработка видео...\n"
     ]
    },
    {
     "name": "stderr",
     "output_type": "stream",
     "text": [
      " 31%|███       | 435/1397 [03:35<08:10,  1.96it/s]"
     ]
    },
    {
     "name": "stdout",
     "output_type": "stream",
     "text": [
      "('handstand', 0.0)\n",
      "Ошибка при обработке видео test_data/test_dataset/4ed5a572-7e24-4e62-b8f3-944a562c1452.avi: name 'display_image' is not defined\n",
      "Обработка видео...\n"
     ]
    },
    {
     "name": "stderr",
     "output_type": "stream",
     "text": [
      " 31%|███       | 436/1397 [03:35<08:04,  1.98it/s]"
     ]
    },
    {
     "name": "stdout",
     "output_type": "stream",
     "text": [
      "('pullup', 0.0)\n",
      "Ошибка при обработке видео test_data/test_dataset/4f514f72-96c3-4ab9-ade8-ae266367a1a5.avi: name 'display_image' is not defined\n",
      "Обработка видео...\n"
     ]
    },
    {
     "name": "stderr",
     "output_type": "stream",
     "text": [
      " 31%|███▏      | 437/1397 [03:36<08:01,  1.99it/s]"
     ]
    },
    {
     "name": "stdout",
     "output_type": "stream",
     "text": [
      "('throw', 0.0)\n",
      "Ошибка при обработке видео test_data/test_dataset/4f713c23-abcb-4bcb-9d91-e26ad6417fe8.avi: name 'display_image' is not defined\n",
      "Обработка видео...\n"
     ]
    },
    {
     "name": "stderr",
     "output_type": "stream",
     "text": [
      " 31%|███▏      | 438/1397 [03:36<08:01,  1.99it/s]"
     ]
    },
    {
     "name": "stdout",
     "output_type": "stream",
     "text": [
      "('swing_baseball', 0.0)\n",
      "Ошибка при обработке видео test_data/test_dataset/4f899795-c823-4208-a8ec-74f9268f3cf5.avi: name 'display_image' is not defined\n",
      "Обработка видео...\n"
     ]
    },
    {
     "name": "stderr",
     "output_type": "stream",
     "text": [
      " 31%|███▏      | 439/1397 [03:37<08:00,  2.00it/s]"
     ]
    },
    {
     "name": "stdout",
     "output_type": "stream",
     "text": [
      "('handstand', 0.0)\n",
      "Ошибка при обработке видео test_data/test_dataset/4fa19d94-979f-4c5d-b858-51da7b3fc84b.avi: name 'display_image' is not defined\n",
      "Обработка видео...\n"
     ]
    },
    {
     "name": "stderr",
     "output_type": "stream",
     "text": [
      " 31%|███▏      | 440/1397 [03:37<07:57,  2.00it/s]"
     ]
    },
    {
     "name": "stdout",
     "output_type": "stream",
     "text": [
      "('handstand', 0.0)\n",
      "Ошибка при обработке видео test_data/test_dataset/4fa25a43-5437-4cc6-b6e7-406a95d85c6e.avi: name 'display_image' is not defined\n",
      "Обработка видео...\n"
     ]
    },
    {
     "name": "stderr",
     "output_type": "stream",
     "text": [
      " 32%|███▏      | 441/1397 [03:38<07:56,  2.01it/s]"
     ]
    },
    {
     "name": "stdout",
     "output_type": "stream",
     "text": [
      "('flic_flac', 0.0)\n",
      "Ошибка при обработке видео test_data/test_dataset/4fa3f824-c067-4d9d-b92f-22a449bdc2fa.avi: name 'display_image' is not defined\n",
      "Обработка видео...\n"
     ]
    },
    {
     "name": "stderr",
     "output_type": "stream",
     "text": [
      " 32%|███▏      | 442/1397 [03:38<07:52,  2.02it/s]"
     ]
    },
    {
     "name": "stdout",
     "output_type": "stream",
     "text": [
      "('golf', 0.0)\n",
      "Ошибка при обработке видео test_data/test_dataset/4fad895f-c03b-4b62-b9f4-3c7598049e8a.avi: name 'display_image' is not defined\n",
      "Обработка видео...\n"
     ]
    },
    {
     "name": "stderr",
     "output_type": "stream",
     "text": [
      " 32%|███▏      | 443/1397 [03:39<07:51,  2.03it/s]"
     ]
    },
    {
     "name": "stdout",
     "output_type": "stream",
     "text": [
      "('handstand', 0.0)\n",
      "Ошибка при обработке видео test_data/test_dataset/4fc2a43e-3229-4e1f-9506-43037f99f7b9.avi: name 'display_image' is not defined\n",
      "Обработка видео...\n"
     ]
    },
    {
     "name": "stderr",
     "output_type": "stream",
     "text": [
      " 32%|███▏      | 444/1397 [03:39<07:52,  2.02it/s]"
     ]
    },
    {
     "name": "stdout",
     "output_type": "stream",
     "text": [
      "('shoot_ball', 0.0)\n",
      "Ошибка при обработке видео test_data/test_dataset/4fc758b8-9597-4245-bd17-4ccd86d6b818.avi: name 'display_image' is not defined\n",
      "Обработка видео...\n"
     ]
    },
    {
     "name": "stderr",
     "output_type": "stream",
     "text": [
      " 32%|███▏      | 445/1397 [03:40<07:56,  2.00it/s]"
     ]
    },
    {
     "name": "stdout",
     "output_type": "stream",
     "text": [
      "('pullup', 0.0)\n",
      "Ошибка при обработке видео test_data/test_dataset/4fe29e4a-01ab-4529-b3f9-065daf0835a6.avi: name 'display_image' is not defined\n",
      "Обработка видео...\n"
     ]
    },
    {
     "name": "stderr",
     "output_type": "stream",
     "text": [
      " 32%|███▏      | 446/1397 [03:40<07:56,  2.00it/s]"
     ]
    },
    {
     "name": "stdout",
     "output_type": "stream",
     "text": [
      "('handstand', 0.0)\n",
      "Ошибка при обработке видео test_data/test_dataset/5019477c-a3ed-4f01-ae39-5d1d039256ae.avi: name 'display_image' is not defined\n",
      "Обработка видео...\n"
     ]
    },
    {
     "name": "stderr",
     "output_type": "stream",
     "text": [
      " 32%|███▏      | 447/1397 [03:41<07:58,  1.98it/s]"
     ]
    },
    {
     "name": "stdout",
     "output_type": "stream",
     "text": [
      "('pick', 0.0)\n",
      "Ошибка при обработке видео test_data/test_dataset/502c8b91-7f1a-482b-9a51-f6e14cd95445.avi: name 'display_image' is not defined\n",
      "Обработка видео...\n"
     ]
    },
    {
     "name": "stderr",
     "output_type": "stream",
     "text": [
      " 32%|███▏      | 448/1397 [03:41<07:56,  1.99it/s]"
     ]
    },
    {
     "name": "stdout",
     "output_type": "stream",
     "text": [
      "('dribble', 0.0)\n",
      "Ошибка при обработке видео test_data/test_dataset/50abf906-2e8a-411d-9c6c-f4311b47ced0.avi: name 'display_image' is not defined\n",
      "Обработка видео...\n"
     ]
    },
    {
     "name": "stderr",
     "output_type": "stream",
     "text": [
      " 32%|███▏      | 449/1397 [03:42<07:56,  1.99it/s]"
     ]
    },
    {
     "name": "stdout",
     "output_type": "stream",
     "text": [
      "('throw', 0.0)\n",
      "Ошибка при обработке видео test_data/test_dataset/510836f0-6d64-4d06-af0e-4257510547be.avi: name 'display_image' is not defined\n",
      "Обработка видео...\n"
     ]
    },
    {
     "name": "stderr",
     "output_type": "stream",
     "text": [
      " 32%|███▏      | 450/1397 [03:42<07:59,  1.98it/s]"
     ]
    },
    {
     "name": "stdout",
     "output_type": "stream",
     "text": [
      "('handstand', 0.0)\n",
      "Ошибка при обработке видео test_data/test_dataset/513cd8a2-ca92-428a-abaf-d18fe80a8e23.avi: name 'display_image' is not defined\n",
      "Обработка видео...\n"
     ]
    },
    {
     "name": "stderr",
     "output_type": "stream",
     "text": [
      " 32%|███▏      | 451/1397 [03:43<07:57,  1.98it/s]"
     ]
    },
    {
     "name": "stdout",
     "output_type": "stream",
     "text": [
      "('pullup', 0.0)\n",
      "Ошибка при обработке видео test_data/test_dataset/514c8c3f-70fd-411f-b328-e74907da83d0.avi: name 'display_image' is not defined\n",
      "Обработка видео...\n"
     ]
    },
    {
     "name": "stderr",
     "output_type": "stream",
     "text": [
      " 32%|███▏      | 452/1397 [03:43<07:55,  1.99it/s]"
     ]
    },
    {
     "name": "stdout",
     "output_type": "stream",
     "text": [
      "('dribble', 0.0)\n",
      "Ошибка при обработке видео test_data/test_dataset/51987370-7959-4c1a-ad27-6a124fd506cc.avi: name 'display_image' is not defined\n",
      "Обработка видео...\n"
     ]
    },
    {
     "name": "stderr",
     "output_type": "stream",
     "text": [
      " 32%|███▏      | 453/1397 [03:44<07:54,  1.99it/s]"
     ]
    },
    {
     "name": "stdout",
     "output_type": "stream",
     "text": [
      "('pullup', 0.0)\n",
      "Ошибка при обработке видео test_data/test_dataset/51b8f986-4b21-4d54-8240-2e0d19902e9c.avi: name 'display_image' is not defined\n",
      "Обработка видео...\n"
     ]
    },
    {
     "name": "stderr",
     "output_type": "stream",
     "text": [
      " 32%|███▏      | 454/1397 [03:44<07:52,  2.00it/s]"
     ]
    },
    {
     "name": "stdout",
     "output_type": "stream",
     "text": [
      "('swing_baseball', 0.0)\n",
      "Ошибка при обработке видео test_data/test_dataset/52063e30-c10a-44de-8301-d3cbf1b283bc.avi: name 'display_image' is not defined\n",
      "Обработка видео...\n"
     ]
    },
    {
     "name": "stderr",
     "output_type": "stream",
     "text": [
      " 33%|███▎      | 455/1397 [03:45<07:49,  2.01it/s]"
     ]
    },
    {
     "name": "stdout",
     "output_type": "stream",
     "text": [
      "('handstand', 0.0)\n",
      "Ошибка при обработке видео test_data/test_dataset/52bb9b83-7561-49b7-9d56-c90f53ad4b6e.avi: name 'display_image' is not defined\n",
      "Обработка видео...\n"
     ]
    },
    {
     "name": "stderr",
     "output_type": "stream",
     "text": [
      " 33%|███▎      | 456/1397 [03:45<08:00,  1.96it/s]"
     ]
    },
    {
     "name": "stdout",
     "output_type": "stream",
     "text": [
      "('shoot_ball', 0.0)\n",
      "Ошибка при обработке видео test_data/test_dataset/533bf5ec-d945-4c8b-8209-ef9b64f764a0.avi: name 'display_image' is not defined\n",
      "Обработка видео...\n",
      "('push', 0.0)"
     ]
    },
    {
     "name": "stderr",
     "output_type": "stream",
     "text": [
      " 33%|███▎      | 457/1397 [03:46<07:56,  1.97it/s]"
     ]
    },
    {
     "name": "stdout",
     "output_type": "stream",
     "text": [
      "\n",
      "Ошибка при обработке видео test_data/test_dataset/5355d49d-05c1-4113-968d-a9176cd0278d.avi: name 'display_image' is not defined\n",
      "Обработка видео...\n"
     ]
    },
    {
     "name": "stderr",
     "output_type": "stream",
     "text": [
      " 33%|███▎      | 458/1397 [03:46<07:52,  1.99it/s]"
     ]
    },
    {
     "name": "stdout",
     "output_type": "stream",
     "text": [
      "('fencing', 0.0)\n",
      "Ошибка при обработке видео test_data/test_dataset/536eb235-bdca-4dac-8d3a-698ad28bcb0f.avi: name 'display_image' is not defined\n",
      "Обработка видео...\n"
     ]
    },
    {
     "name": "stderr",
     "output_type": "stream",
     "text": [
      " 33%|███▎      | 459/1397 [03:47<07:48,  2.00it/s]"
     ]
    },
    {
     "name": "stdout",
     "output_type": "stream",
     "text": [
      "('pick', 0.0)\n",
      "Ошибка при обработке видео test_data/test_dataset/53871e7f-2c07-4dbf-b88f-3ace4212dc74.avi: name 'display_image' is not defined\n",
      "Обработка видео...\n"
     ]
    },
    {
     "name": "stderr",
     "output_type": "stream",
     "text": [
      " 33%|███▎      | 460/1397 [03:47<07:44,  2.02it/s]"
     ]
    },
    {
     "name": "stdout",
     "output_type": "stream",
     "text": [
      "('dribble', 0.0)\n",
      "Ошибка при обработке видео test_data/test_dataset/53adb606-eacc-4436-851f-197bbdae5662.avi: name 'display_image' is not defined\n",
      "Обработка видео...\n"
     ]
    },
    {
     "name": "stderr",
     "output_type": "stream",
     "text": [
      " 33%|███▎      | 461/1397 [03:48<07:41,  2.03it/s]"
     ]
    },
    {
     "name": "stdout",
     "output_type": "stream",
     "text": [
      "('golf', 0.0)\n",
      "Ошибка при обработке видео test_data/test_dataset/53cf60a8-19c1-4168-92dc-064c4f56681b.avi: name 'display_image' is not defined\n",
      "Обработка видео...\n"
     ]
    },
    {
     "name": "stderr",
     "output_type": "stream",
     "text": [
      " 33%|███▎      | 462/1397 [03:48<07:41,  2.03it/s]"
     ]
    },
    {
     "name": "stdout",
     "output_type": "stream",
     "text": [
      "('pullup', 0.0)\n",
      "Ошибка при обработке видео test_data/test_dataset/54c2be62-b38c-4235-b5be-bb0b3112994e.avi: name 'display_image' is not defined\n",
      "Обработка видео...\n"
     ]
    },
    {
     "name": "stderr",
     "output_type": "stream",
     "text": [
      " 33%|███▎      | 463/1397 [03:49<07:37,  2.04it/s]"
     ]
    },
    {
     "name": "stdout",
     "output_type": "stream",
     "text": [
      "('situp', 0.0)\n",
      "Ошибка при обработке видео test_data/test_dataset/54d2fa5a-4d15-444c-b076-016a636a9c42.avi: name 'display_image' is not defined\n",
      "Обработка видео...\n"
     ]
    },
    {
     "name": "stderr",
     "output_type": "stream",
     "text": [
      " 33%|███▎      | 464/1397 [03:49<07:35,  2.05it/s]"
     ]
    },
    {
     "name": "stdout",
     "output_type": "stream",
     "text": [
      "('sword_exercise', 0.0)\n",
      "Ошибка при обработке видео test_data/test_dataset/54f23621-4cba-4ed1-928e-951cfe891366.avi: name 'display_image' is not defined\n",
      "Обработка видео...\n"
     ]
    },
    {
     "name": "stderr",
     "output_type": "stream",
     "text": [
      " 33%|███▎      | 465/1397 [03:50<07:35,  2.04it/s]"
     ]
    },
    {
     "name": "stdout",
     "output_type": "stream",
     "text": [
      "('cartwheel', 0.0)\n",
      "Ошибка при обработке видео test_data/test_dataset/54f951c3-144e-4811-ac3e-834ea5fe31ab.avi: name 'display_image' is not defined\n",
      "Обработка видео...\n",
      "('pushup', 0.0)"
     ]
    },
    {
     "name": "stderr",
     "output_type": "stream",
     "text": [
      " 33%|███▎      | 466/1397 [03:50<07:34,  2.05it/s]"
     ]
    },
    {
     "name": "stdout",
     "output_type": "stream",
     "text": [
      "\n",
      "Ошибка при обработке видео test_data/test_dataset/552c729c-668b-47b6-af3e-51b869761122.avi: name 'display_image' is not defined\n",
      "Обработка видео...\n"
     ]
    },
    {
     "name": "stderr",
     "output_type": "stream",
     "text": [
      " 33%|███▎      | 467/1397 [03:51<07:40,  2.02it/s]"
     ]
    },
    {
     "name": "stdout",
     "output_type": "stream",
     "text": [
      "('swing_baseball', 0.0)\n",
      "Ошибка при обработке видео test_data/test_dataset/559e2e10-3e95-42da-bf91-0e0d44c3b673.avi: name 'display_image' is not defined\n",
      "Обработка видео...\n"
     ]
    },
    {
     "name": "stderr",
     "output_type": "stream",
     "text": [
      " 34%|███▎      | 468/1397 [03:51<07:39,  2.02it/s]"
     ]
    },
    {
     "name": "stdout",
     "output_type": "stream",
     "text": [
      "('pullup', 0.0)\n",
      "Ошибка при обработке видео test_data/test_dataset/56348981-a45f-4a2e-a84f-cd5175bab7fb.avi: name 'display_image' is not defined\n",
      "Обработка видео...\n"
     ]
    },
    {
     "name": "stderr",
     "output_type": "stream",
     "text": [
      " 34%|███▎      | 469/1397 [03:52<07:43,  2.00it/s]"
     ]
    },
    {
     "name": "stdout",
     "output_type": "stream",
     "text": [
      "('pick', 0.0)\n",
      "Ошибка при обработке видео test_data/test_dataset/5649334a-cf2a-41e7-8306-f107bf1b6f94.avi: name 'display_image' is not defined\n",
      "Обработка видео...\n"
     ]
    },
    {
     "name": "stderr",
     "output_type": "stream",
     "text": [
      " 34%|███▎      | 470/1397 [03:52<07:42,  2.00it/s]"
     ]
    },
    {
     "name": "stdout",
     "output_type": "stream",
     "text": [
      "('handstand', 0.0)\n",
      "Ошибка при обработке видео test_data/test_dataset/564acd36-4f8c-495f-b013-1cdcef0789bb.avi: name 'display_image' is not defined\n",
      "Обработка видео...\n"
     ]
    },
    {
     "name": "stderr",
     "output_type": "stream",
     "text": [
      " 34%|███▎      | 471/1397 [03:53<07:39,  2.02it/s]"
     ]
    },
    {
     "name": "stdout",
     "output_type": "stream",
     "text": [
      "('dribble', 0.0)\n",
      "Ошибка при обработке видео test_data/test_dataset/5655b0c9-f5fd-4320-81a7-b369f3720490.avi: name 'display_image' is not defined\n",
      "Обработка видео...\n"
     ]
    },
    {
     "name": "stderr",
     "output_type": "stream",
     "text": [
      " 34%|███▍      | 472/1397 [03:53<07:38,  2.02it/s]"
     ]
    },
    {
     "name": "stdout",
     "output_type": "stream",
     "text": [
      "('handstand', 0.0)\n",
      "Ошибка при обработке видео test_data/test_dataset/56a80f8d-5b55-4584-877e-0d528f734508.avi: name 'display_image' is not defined\n",
      "Обработка видео...\n"
     ]
    },
    {
     "name": "stderr",
     "output_type": "stream",
     "text": [
      " 34%|███▍      | 473/1397 [03:54<07:39,  2.01it/s]"
     ]
    },
    {
     "name": "stdout",
     "output_type": "stream",
     "text": [
      "('fencing', 0.0)\n",
      "Ошибка при обработке видео test_data/test_dataset/56aa263e-6a0b-4079-8bf6-6a16ab9c255c.avi: name 'display_image' is not defined\n",
      "Обработка видео...\n"
     ]
    },
    {
     "name": "stderr",
     "output_type": "stream",
     "text": [
      " 34%|███▍      | 474/1397 [03:54<07:38,  2.01it/s]"
     ]
    },
    {
     "name": "stdout",
     "output_type": "stream",
     "text": [
      "('cartwheel', 0.0)\n",
      "Ошибка при обработке видео test_data/test_dataset/56ac58da-210b-4875-a83b-750f1584cc08.avi: name 'display_image' is not defined\n",
      "Обработка видео...\n"
     ]
    },
    {
     "name": "stderr",
     "output_type": "stream",
     "text": [
      " 34%|███▍      | 475/1397 [03:55<07:37,  2.01it/s]"
     ]
    },
    {
     "name": "stdout",
     "output_type": "stream",
     "text": [
      "('dive', 0.0)\n",
      "Ошибка при обработке видео test_data/test_dataset/56e848e9-9daa-4782-9179-874d3787d0c9.avi: name 'display_image' is not defined\n",
      "Обработка видео...\n",
      "('fencing', 0.0)"
     ]
    },
    {
     "name": "stderr",
     "output_type": "stream",
     "text": [
      " 34%|███▍      | 476/1397 [03:55<07:37,  2.01it/s]"
     ]
    },
    {
     "name": "stdout",
     "output_type": "stream",
     "text": [
      "\n",
      "Ошибка при обработке видео test_data/test_dataset/56f584c4-5157-4ebc-a8bc-c8c8ac0f71ba.avi: name 'display_image' is not defined\n",
      "Обработка видео...\n"
     ]
    },
    {
     "name": "stderr",
     "output_type": "stream",
     "text": [
      " 34%|███▍      | 477/1397 [03:56<07:36,  2.02it/s]"
     ]
    },
    {
     "name": "stdout",
     "output_type": "stream",
     "text": [
      "('push', 0.0)\n",
      "Ошибка при обработке видео test_data/test_dataset/5710967d-ed9b-4194-a9a8-84b6d8045635.avi: name 'display_image' is not defined\n",
      "Обработка видео...\n"
     ]
    },
    {
     "name": "stderr",
     "output_type": "stream",
     "text": [
      " 34%|███▍      | 478/1397 [03:56<07:39,  2.00it/s]"
     ]
    },
    {
     "name": "stdout",
     "output_type": "stream",
     "text": [
      "('handstand', 0.0)\n",
      "Ошибка при обработке видео test_data/test_dataset/571ab390-c23c-40b0-9575-0e459714be43.avi: name 'display_image' is not defined\n",
      "Обработка видео...\n"
     ]
    },
    {
     "name": "stderr",
     "output_type": "stream",
     "text": [
      " 34%|███▍      | 479/1397 [03:57<07:38,  2.00it/s]"
     ]
    },
    {
     "name": "stdout",
     "output_type": "stream",
     "text": [
      "('jump', 0.0)\n",
      "Ошибка при обработке видео test_data/test_dataset/5722aecf-ae08-4e9c-b974-46baefb9a009.avi: name 'display_image' is not defined\n",
      "Обработка видео...\n"
     ]
    },
    {
     "name": "stderr",
     "output_type": "stream",
     "text": [
      " 34%|███▍      | 480/1397 [03:57<07:35,  2.01it/s]"
     ]
    },
    {
     "name": "stdout",
     "output_type": "stream",
     "text": [
      "('shoot_ball', 0.0)\n",
      "Ошибка при обработке видео test_data/test_dataset/5733c37f-19c9-4451-be2a-c558ce405010.avi: name 'display_image' is not defined\n",
      "Обработка видео...\n"
     ]
    },
    {
     "name": "stderr",
     "output_type": "stream",
     "text": [
      " 34%|███▍      | 481/1397 [03:58<07:36,  2.01it/s]"
     ]
    },
    {
     "name": "stdout",
     "output_type": "stream",
     "text": [
      "('pushup', 0.0)\n",
      "Ошибка при обработке видео test_data/test_dataset/5765cd30-8b79-431f-93aa-4a02243af6a0.avi: name 'display_image' is not defined\n",
      "Обработка видео...\n"
     ]
    },
    {
     "name": "stderr",
     "output_type": "stream",
     "text": [
      " 35%|███▍      | 482/1397 [03:58<07:34,  2.01it/s]"
     ]
    },
    {
     "name": "stdout",
     "output_type": "stream",
     "text": [
      "('catch', 0.0)\n",
      "Ошибка при обработке видео test_data/test_dataset/57d759aa-79a7-42e5-a1ab-88ef2d8071e7.avi: name 'display_image' is not defined\n",
      "Обработка видео...\n"
     ]
    },
    {
     "name": "stderr",
     "output_type": "stream",
     "text": [
      " 35%|███▍      | 483/1397 [03:59<07:34,  2.01it/s]"
     ]
    },
    {
     "name": "stdout",
     "output_type": "stream",
     "text": [
      "('swing_baseball', 0.0)\n",
      "Ошибка при обработке видео test_data/test_dataset/57e0230b-f74b-4009-8ec2-934fc6579c98.avi: name 'display_image' is not defined\n",
      "Обработка видео...\n"
     ]
    },
    {
     "name": "stderr",
     "output_type": "stream",
     "text": [
      " 35%|███▍      | 484/1397 [03:59<07:32,  2.02it/s]"
     ]
    },
    {
     "name": "stdout",
     "output_type": "stream",
     "text": [
      "('handstand', 0.0)\n",
      "Ошибка при обработке видео test_data/test_dataset/57f6adcc-0255-48a8-a931-393ec95a3d12.avi: name 'display_image' is not defined\n",
      "Обработка видео...\n"
     ]
    },
    {
     "name": "stderr",
     "output_type": "stream",
     "text": [
      " 35%|███▍      | 485/1397 [04:00<07:29,  2.03it/s]"
     ]
    },
    {
     "name": "stdout",
     "output_type": "stream",
     "text": [
      "('pushup', 0.0)\n",
      "Ошибка при обработке видео test_data/test_dataset/585c3707-fae0-4228-b658-029ee7a5069d.avi: name 'display_image' is not defined\n",
      "Обработка видео...\n"
     ]
    },
    {
     "name": "stderr",
     "output_type": "stream",
     "text": [
      " 35%|███▍      | 486/1397 [04:00<07:30,  2.02it/s]"
     ]
    },
    {
     "name": "stdout",
     "output_type": "stream",
     "text": [
      "('swing_baseball', 0.0)\n",
      "Ошибка при обработке видео test_data/test_dataset/58863a0b-4a18-41fa-b7b5-637ae40e147b.avi: name 'display_image' is not defined\n",
      "Обработка видео...\n"
     ]
    },
    {
     "name": "stderr",
     "output_type": "stream",
     "text": [
      " 35%|███▍      | 487/1397 [04:01<07:28,  2.03it/s]"
     ]
    },
    {
     "name": "stdout",
     "output_type": "stream",
     "text": [
      "('climb', 0.0)\n",
      "Ошибка при обработке видео test_data/test_dataset/5888115e-4e0f-48ee-adf8-ee6095de7933.avi: name 'display_image' is not defined\n",
      "Обработка видео...\n"
     ]
    },
    {
     "name": "stderr",
     "output_type": "stream",
     "text": [
      " 35%|███▍      | 488/1397 [04:01<07:28,  2.02it/s]"
     ]
    },
    {
     "name": "stdout",
     "output_type": "stream",
     "text": [
      "('swing_baseball', 0.0)\n",
      "Ошибка при обработке видео test_data/test_dataset/5894fca1-34dd-499e-8b3c-1d795577627b.avi: name 'display_image' is not defined\n",
      "Обработка видео...\n"
     ]
    },
    {
     "name": "stderr",
     "output_type": "stream",
     "text": [
      " 35%|███▌      | 489/1397 [04:02<07:33,  2.00it/s]"
     ]
    },
    {
     "name": "stdout",
     "output_type": "stream",
     "text": [
      "('shoot_ball', 0.0)\n",
      "Ошибка при обработке видео test_data/test_dataset/58c21b9a-3fee-4b7f-842a-7c170d7a0125.avi: name 'display_image' is not defined\n",
      "Обработка видео...\n"
     ]
    },
    {
     "name": "stderr",
     "output_type": "stream",
     "text": [
      " 35%|███▌      | 490/1397 [04:02<07:30,  2.01it/s]"
     ]
    },
    {
     "name": "stdout",
     "output_type": "stream",
     "text": [
      "('dive', 0.0)\n",
      "Ошибка при обработке видео test_data/test_dataset/58f9d8a1-7ed9-4b6f-9dd7-7ff26cfb7ce2.avi: name 'display_image' is not defined\n",
      "Обработка видео...\n"
     ]
    },
    {
     "name": "stderr",
     "output_type": "stream",
     "text": [
      " 35%|███▌      | 491/1397 [04:03<07:28,  2.02it/s]"
     ]
    },
    {
     "name": "stdout",
     "output_type": "stream",
     "text": [
      "('dive', 0.0)\n",
      "Ошибка при обработке видео test_data/test_dataset/590598dd-9bdd-47e0-a2f9-7252ba59d0da.avi: name 'display_image' is not defined\n",
      "Обработка видео...\n"
     ]
    },
    {
     "name": "stderr",
     "output_type": "stream",
     "text": [
      " 35%|███▌      | 492/1397 [04:03<07:24,  2.03it/s]"
     ]
    },
    {
     "name": "stdout",
     "output_type": "stream",
     "text": [
      "('shoot_ball', 0.0)\n",
      "Ошибка при обработке видео test_data/test_dataset/590be779-1ce4-40b4-828e-6dea999f2ce6.avi: name 'display_image' is not defined\n",
      "Обработка видео...\n"
     ]
    },
    {
     "name": "stderr",
     "output_type": "stream",
     "text": [
      " 35%|███▌      | 493/1397 [04:04<07:27,  2.02it/s]"
     ]
    },
    {
     "name": "stdout",
     "output_type": "stream",
     "text": [
      "('fencing', 0.0)\n",
      "Ошибка при обработке видео test_data/test_dataset/59242143-3c24-4b5b-a2ab-84330c898ad4.avi: name 'display_image' is not defined\n",
      "Обработка видео...\n"
     ]
    },
    {
     "name": "stderr",
     "output_type": "stream",
     "text": [
      " 35%|███▌      | 494/1397 [04:04<07:25,  2.03it/s]"
     ]
    },
    {
     "name": "stdout",
     "output_type": "stream",
     "text": [
      "('dive', 0.0)\n",
      "Ошибка при обработке видео test_data/test_dataset/593670e4-3216-44a6-8624-3391a072cd74.avi: name 'display_image' is not defined\n",
      "Обработка видео...\n"
     ]
    },
    {
     "name": "stderr",
     "output_type": "stream",
     "text": [
      " 35%|███▌      | 495/1397 [04:05<07:22,  2.04it/s]"
     ]
    },
    {
     "name": "stdout",
     "output_type": "stream",
     "text": [
      "('swing_baseball', 0.0)\n",
      "Ошибка при обработке видео test_data/test_dataset/5937f80f-645c-44c9-9fe7-d8867b65d706.avi: name 'display_image' is not defined\n",
      "Обработка видео...\n"
     ]
    },
    {
     "name": "stderr",
     "output_type": "stream",
     "text": [
      " 36%|███▌      | 496/1397 [04:05<07:22,  2.04it/s]"
     ]
    },
    {
     "name": "stdout",
     "output_type": "stream",
     "text": [
      "('dive', 0.0)\n",
      "Ошибка при обработке видео test_data/test_dataset/59433c92-dba8-416d-b5aa-c634179fc992.avi: name 'display_image' is not defined\n",
      "Обработка видео...\n",
      "('dive', 0.0)"
     ]
    },
    {
     "name": "stderr",
     "output_type": "stream",
     "text": [
      " 36%|███▌      | 497/1397 [04:06<07:23,  2.03it/s]"
     ]
    },
    {
     "name": "stdout",
     "output_type": "stream",
     "text": [
      "\n",
      "Ошибка при обработке видео test_data/test_dataset/596fb8bd-e604-420f-9950-e1554a65b602.avi: name 'display_image' is not defined\n",
      "Обработка видео...\n"
     ]
    },
    {
     "name": "stderr",
     "output_type": "stream",
     "text": [
      " 36%|███▌      | 498/1397 [04:06<07:24,  2.02it/s]"
     ]
    },
    {
     "name": "stdout",
     "output_type": "stream",
     "text": [
      "('pullup', 0.0)\n",
      "Ошибка при обработке видео test_data/test_dataset/5993a753-e0c6-42b6-aeec-dc024264abda.avi: name 'display_image' is not defined\n",
      "Обработка видео...\n"
     ]
    },
    {
     "name": "stderr",
     "output_type": "stream",
     "text": [
      " 36%|███▌      | 499/1397 [04:07<07:31,  1.99it/s]"
     ]
    },
    {
     "name": "stdout",
     "output_type": "stream",
     "text": [
      "('sword_exercise', 0.0)\n",
      "Ошибка при обработке видео test_data/test_dataset/59c7ac90-49a7-4ca4-a061-75ed305e7588.avi: name 'display_image' is not defined\n",
      "Обработка видео...\n"
     ]
    },
    {
     "name": "stderr",
     "output_type": "stream",
     "text": [
      " 36%|███▌      | 500/1397 [04:07<07:30,  1.99it/s]"
     ]
    },
    {
     "name": "stdout",
     "output_type": "stream",
     "text": [
      "('shoot_ball', 0.0)\n",
      "Ошибка при обработке видео test_data/test_dataset/59ea2711-b5d2-4e8f-a862-449e158d194b.avi: name 'display_image' is not defined\n",
      "Обработка видео...\n"
     ]
    },
    {
     "name": "stderr",
     "output_type": "stream",
     "text": [
      " 36%|███▌      | 501/1397 [04:08<07:26,  2.00it/s]"
     ]
    },
    {
     "name": "stdout",
     "output_type": "stream",
     "text": [
      "('handstand', 0.0)\n",
      "Ошибка при обработке видео test_data/test_dataset/5a88514c-c599-46f3-84fa-e4a33c5da11e.avi: name 'display_image' is not defined\n",
      "Обработка видео...\n"
     ]
    },
    {
     "name": "stderr",
     "output_type": "stream",
     "text": [
      " 36%|███▌      | 502/1397 [04:08<07:23,  2.02it/s]"
     ]
    },
    {
     "name": "stdout",
     "output_type": "stream",
     "text": [
      "('pullup', 0.0)\n",
      "Ошибка при обработке видео test_data/test_dataset/5aeed423-b3a6-49d9-af72-a93b48198a5a.avi: name 'display_image' is not defined\n",
      "Обработка видео...\n"
     ]
    },
    {
     "name": "stderr",
     "output_type": "stream",
     "text": [
      " 36%|███▌      | 503/1397 [04:09<07:22,  2.02it/s]"
     ]
    },
    {
     "name": "stdout",
     "output_type": "stream",
     "text": [
      "('pullup', 0.0)\n",
      "Ошибка при обработке видео test_data/test_dataset/5b64fede-1889-40ed-87e7-d53742af936b.avi: name 'display_image' is not defined\n",
      "Обработка видео...\n"
     ]
    },
    {
     "name": "stderr",
     "output_type": "stream",
     "text": [
      " 36%|███▌      | 504/1397 [04:09<07:20,  2.03it/s]"
     ]
    },
    {
     "name": "stdout",
     "output_type": "stream",
     "text": [
      "('swing_baseball', 0.0)\n",
      "Ошибка при обработке видео test_data/test_dataset/5b6db136-7560-4155-bfaa-863779df1122.avi: name 'display_image' is not defined\n",
      "Обработка видео...\n"
     ]
    },
    {
     "name": "stderr",
     "output_type": "stream",
     "text": [
      " 36%|███▌      | 505/1397 [04:10<07:17,  2.04it/s]"
     ]
    },
    {
     "name": "stdout",
     "output_type": "stream",
     "text": [
      "('pullup', 0.0)\n",
      "Ошибка при обработке видео test_data/test_dataset/5bbced6f-6413-4d76-ba11-f49b80e3c24e.avi: name 'display_image' is not defined\n",
      "Обработка видео...\n"
     ]
    },
    {
     "name": "stderr",
     "output_type": "stream",
     "text": [
      " 36%|███▌      | 506/1397 [04:10<07:20,  2.02it/s]"
     ]
    },
    {
     "name": "stdout",
     "output_type": "stream",
     "text": [
      "('handstand', 0.0)\n",
      "Ошибка при обработке видео test_data/test_dataset/5bcaa973-e576-4657-8f24-53407252bc0e.avi: name 'display_image' is not defined\n",
      "Обработка видео...\n"
     ]
    },
    {
     "name": "stderr",
     "output_type": "stream",
     "text": [
      " 36%|███▋      | 507/1397 [04:11<07:18,  2.03it/s]"
     ]
    },
    {
     "name": "stdout",
     "output_type": "stream",
     "text": [
      "('golf', 0.0)\n",
      "Ошибка при обработке видео test_data/test_dataset/5c0cdd3d-9d0f-4c14-bb20-4acf20d8f7a2.avi: name 'display_image' is not defined\n",
      "Обработка видео...\n"
     ]
    },
    {
     "name": "stderr",
     "output_type": "stream",
     "text": [
      " 36%|███▋      | 508/1397 [04:11<07:18,  2.03it/s]"
     ]
    },
    {
     "name": "stdout",
     "output_type": "stream",
     "text": [
      "('hit', 0.0)\n",
      "Ошибка при обработке видео test_data/test_dataset/5c1136c7-72d2-4b70-be61-83081b0576bb.avi: name 'display_image' is not defined\n",
      "Обработка видео...\n",
      "('sword_exercise', 0.0)"
     ]
    },
    {
     "name": "stderr",
     "output_type": "stream",
     "text": [
      " 36%|███▋      | 509/1397 [04:12<07:20,  2.02it/s]"
     ]
    },
    {
     "name": "stdout",
     "output_type": "stream",
     "text": [
      "\n",
      "Ошибка при обработке видео test_data/test_dataset/5c3544d3-7253-491f-9a22-3ba8f7c7918a.avi: name 'display_image' is not defined\n",
      "Обработка видео...\n",
      "('shoot_ball', 0.0)"
     ]
    },
    {
     "name": "stderr",
     "output_type": "stream",
     "text": [
      " 37%|███▋      | 510/1397 [04:12<07:20,  2.01it/s]"
     ]
    },
    {
     "name": "stdout",
     "output_type": "stream",
     "text": [
      "\n",
      "Ошибка при обработке видео test_data/test_dataset/5c4a6ac9-0884-4fbc-8f97-9b56e4225b13.avi: name 'display_image' is not defined\n",
      "Обработка видео...\n"
     ]
    },
    {
     "name": "stderr",
     "output_type": "stream",
     "text": [
      " 37%|███▋      | 511/1397 [04:13<07:24,  1.99it/s]"
     ]
    },
    {
     "name": "stdout",
     "output_type": "stream",
     "text": [
      "('dribble', 0.0)\n",
      "Ошибка при обработке видео test_data/test_dataset/5c5a9052-71c9-4570-b0a6-ad97dab2c3e7.avi: name 'display_image' is not defined\n",
      "Обработка видео...\n"
     ]
    },
    {
     "name": "stderr",
     "output_type": "stream",
     "text": [
      " 37%|███▋      | 512/1397 [04:13<07:23,  1.99it/s]"
     ]
    },
    {
     "name": "stdout",
     "output_type": "stream",
     "text": [
      "('cartwheel', 0.0)\n",
      "Ошибка при обработке видео test_data/test_dataset/5c5e93bb-1784-4c21-b044-60fb1911c899.avi: name 'display_image' is not defined\n",
      "Обработка видео...\n"
     ]
    },
    {
     "name": "stderr",
     "output_type": "stream",
     "text": [
      " 37%|███▋      | 513/1397 [04:14<07:21,  2.00it/s]"
     ]
    },
    {
     "name": "stdout",
     "output_type": "stream",
     "text": [
      "('dribble', 0.0)\n",
      "Ошибка при обработке видео test_data/test_dataset/5c6b1582-3e04-4cdb-8ec1-6a71e629cde9.avi: name 'display_image' is not defined\n",
      "Обработка видео...\n"
     ]
    },
    {
     "name": "stderr",
     "output_type": "stream",
     "text": [
      " 37%|███▋      | 514/1397 [04:14<07:18,  2.01it/s]"
     ]
    },
    {
     "name": "stdout",
     "output_type": "stream",
     "text": [
      "('golf', 0.0)\n",
      "Ошибка при обработке видео test_data/test_dataset/5c77b0b6-b047-4116-b1de-7341c395281c.avi: name 'display_image' is not defined\n",
      "Обработка видео...\n"
     ]
    },
    {
     "name": "stderr",
     "output_type": "stream",
     "text": [
      " 37%|███▋      | 515/1397 [04:15<07:17,  2.02it/s]"
     ]
    },
    {
     "name": "stdout",
     "output_type": "stream",
     "text": [
      "('flic_flac', 0.0)\n",
      "Ошибка при обработке видео test_data/test_dataset/5c8334ae-0705-4a36-8432-9fc78fcbdaa8.avi: name 'display_image' is not defined\n",
      "Обработка видео...\n"
     ]
    },
    {
     "name": "stderr",
     "output_type": "stream",
     "text": [
      " 37%|███▋      | 516/1397 [04:15<07:22,  1.99it/s]"
     ]
    },
    {
     "name": "stdout",
     "output_type": "stream",
     "text": [
      "('pick', 0.0)\n",
      "Ошибка при обработке видео test_data/test_dataset/5cadfa93-668b-4b40-8e7e-2760b4c308c8.avi: name 'display_image' is not defined\n",
      "Обработка видео...\n"
     ]
    },
    {
     "name": "stderr",
     "output_type": "stream",
     "text": [
      " 37%|███▋      | 517/1397 [04:16<07:20,  2.00it/s]"
     ]
    },
    {
     "name": "stdout",
     "output_type": "stream",
     "text": [
      "('shoot_ball', 0.0)\n",
      "Ошибка при обработке видео test_data/test_dataset/5cc34a2a-6e65-443c-933f-6cc94c5392d7.avi: name 'display_image' is not defined\n",
      "Обработка видео...\n"
     ]
    },
    {
     "name": "stderr",
     "output_type": "stream",
     "text": [
      " 37%|███▋      | 518/1397 [04:16<07:19,  2.00it/s]"
     ]
    },
    {
     "name": "stdout",
     "output_type": "stream",
     "text": [
      "('dive', 0.0)\n",
      "Ошибка при обработке видео test_data/test_dataset/5cfce9ad-5596-46dc-af1f-e1303f956da8.avi: name 'display_image' is not defined\n",
      "Обработка видео...\n"
     ]
    },
    {
     "name": "stderr",
     "output_type": "stream",
     "text": [
      " 37%|███▋      | 519/1397 [04:17<07:17,  2.01it/s]"
     ]
    },
    {
     "name": "stdout",
     "output_type": "stream",
     "text": [
      "('handstand', 0.0)\n",
      "Ошибка при обработке видео test_data/test_dataset/5d76cd51-6c22-44ae-8c4f-f363b3423816.avi: name 'display_image' is not defined\n",
      "Обработка видео...\n"
     ]
    },
    {
     "name": "stderr",
     "output_type": "stream",
     "text": [
      " 37%|███▋      | 520/1397 [04:17<07:15,  2.01it/s]"
     ]
    },
    {
     "name": "stdout",
     "output_type": "stream",
     "text": [
      "('pour', 0.0)\n",
      "Ошибка при обработке видео test_data/test_dataset/5dd13f0b-0275-4ab2-9214-62b0b56f8213.avi: name 'display_image' is not defined\n",
      "Обработка видео...\n"
     ]
    },
    {
     "name": "stderr",
     "output_type": "stream",
     "text": [
      " 37%|███▋      | 521/1397 [04:18<07:15,  2.01it/s]"
     ]
    },
    {
     "name": "stdout",
     "output_type": "stream",
     "text": [
      "('pour', 0.0)\n",
      "Ошибка при обработке видео test_data/test_dataset/5e130a22-b14c-45d5-b114-e5e4289cd47c.avi: name 'display_image' is not defined\n",
      "Обработка видео...\n"
     ]
    },
    {
     "name": "stderr",
     "output_type": "stream",
     "text": [
      " 37%|███▋      | 522/1397 [04:18<07:18,  1.99it/s]"
     ]
    },
    {
     "name": "stdout",
     "output_type": "stream",
     "text": [
      "('pick', 0.0)\n",
      "Ошибка при обработке видео test_data/test_dataset/5e3d2ecc-6e9e-4c8e-93be-7d220e4878cb.avi: name 'display_image' is not defined\n",
      "Обработка видео...\n"
     ]
    },
    {
     "name": "stderr",
     "output_type": "stream",
     "text": [
      " 37%|███▋      | 523/1397 [04:19<07:16,  2.00it/s]"
     ]
    },
    {
     "name": "stdout",
     "output_type": "stream",
     "text": [
      "('handstand', 0.0)\n",
      "Ошибка при обработке видео test_data/test_dataset/5e5d505c-ca8f-45df-94b8-e1280492e5b8.avi: name 'display_image' is not defined\n",
      "Обработка видео...\n",
      "('pour', 0.0)\n",
      "Ошибка при обработке видео test_data/test_dataset/5e8a1fa3-27bc-4282-a32d-ceb4a0ca6149.avi: name 'display_image' is not defined"
     ]
    },
    {
     "name": "stderr",
     "output_type": "stream",
     "text": [
      " 38%|███▊      | 524/1397 [04:19<07:13,  2.01it/s]"
     ]
    },
    {
     "name": "stdout",
     "output_type": "stream",
     "text": [
      "\n",
      "Обработка видео...\n"
     ]
    },
    {
     "name": "stderr",
     "output_type": "stream",
     "text": [
      " 38%|███▊      | 525/1397 [04:20<07:11,  2.02it/s]"
     ]
    },
    {
     "name": "stdout",
     "output_type": "stream",
     "text": [
      "('swing_baseball', 0.0)\n",
      "Ошибка при обработке видео test_data/test_dataset/5ea2bb03-68b3-4eb6-89b1-4db9aa4b6b96.avi: name 'display_image' is not defined\n",
      "Обработка видео...\n"
     ]
    },
    {
     "name": "stderr",
     "output_type": "stream",
     "text": [
      " 38%|███▊      | 526/1397 [04:20<07:08,  2.03it/s]"
     ]
    },
    {
     "name": "stdout",
     "output_type": "stream",
     "text": [
      "('pushup', 0.0)\n",
      "Ошибка при обработке видео test_data/test_dataset/5eb014ad-d202-40af-9552-6f40ef7db2fa.avi: name 'display_image' is not defined\n",
      "Обработка видео...\n",
      "('pushup', 0.0)\n",
      "Ошибка при обработке видео test_data/test_dataset/5f4e760e-03da-4557-97e7-93bb08f2a40a.avi: name 'display_image' is not defined\n"
     ]
    },
    {
     "name": "stderr",
     "output_type": "stream",
     "text": [
      " 38%|███▊      | 527/1397 [04:21<07:08,  2.03it/s]"
     ]
    },
    {
     "name": "stdout",
     "output_type": "stream",
     "text": [
      "Обработка видео...\n"
     ]
    },
    {
     "name": "stderr",
     "output_type": "stream",
     "text": [
      " 38%|███▊      | 528/1397 [04:21<07:07,  2.03it/s]"
     ]
    },
    {
     "name": "stdout",
     "output_type": "stream",
     "text": [
      "('golf', 0.0)\n",
      "Ошибка при обработке видео test_data/test_dataset/5f8cb2de-7931-4be5-9830-9aba381bf830.avi: name 'display_image' is not defined\n",
      "Обработка видео...\n"
     ]
    },
    {
     "name": "stderr",
     "output_type": "stream",
     "text": [
      " 38%|███▊      | 529/1397 [04:22<07:10,  2.02it/s]"
     ]
    },
    {
     "name": "stdout",
     "output_type": "stream",
     "text": [
      "('golf', 0.0)\n",
      "Ошибка при обработке видео test_data/test_dataset/5f928ac6-80c7-42a1-a92b-2ed9633f7c35.avi: name 'display_image' is not defined\n",
      "Обработка видео...\n"
     ]
    },
    {
     "name": "stderr",
     "output_type": "stream",
     "text": [
      " 38%|███▊      | 530/1397 [04:22<07:08,  2.02it/s]"
     ]
    },
    {
     "name": "stdout",
     "output_type": "stream",
     "text": [
      "('sword_exercise', 0.0)\n",
      "Ошибка при обработке видео test_data/test_dataset/5f92f8cb-737f-4e2f-8d38-0de944753125.avi: name 'display_image' is not defined\n",
      "Обработка видео...\n"
     ]
    },
    {
     "name": "stderr",
     "output_type": "stream",
     "text": [
      " 38%|███▊      | 531/1397 [04:23<07:13,  2.00it/s]"
     ]
    },
    {
     "name": "stdout",
     "output_type": "stream",
     "text": [
      "('swing_baseball', 0.0)\n",
      "Ошибка при обработке видео test_data/test_dataset/5f9a9c12-87c5-4926-8f8c-5dba7acf1171.avi: name 'display_image' is not defined\n",
      "Обработка видео...\n",
      "('swing_baseball', 0.0)"
     ]
    },
    {
     "name": "stderr",
     "output_type": "stream",
     "text": [
      " 38%|███▊      | 532/1397 [04:23<07:12,  2.00it/s]"
     ]
    },
    {
     "name": "stdout",
     "output_type": "stream",
     "text": [
      "\n",
      "Ошибка при обработке видео test_data/test_dataset/5ffd9ade-c3fd-4b18-b0a8-480d4dbf7435.avi: name 'display_image' is not defined\n",
      "Обработка видео...\n"
     ]
    },
    {
     "name": "stderr",
     "output_type": "stream",
     "text": [
      " 38%|███▊      | 533/1397 [04:24<07:12,  2.00it/s]"
     ]
    },
    {
     "name": "stdout",
     "output_type": "stream",
     "text": [
      "('handstand', 0.0)\n",
      "Ошибка при обработке видео test_data/test_dataset/5ffde866-e83b-4973-a5d7-0121b256b472.avi: name 'display_image' is not defined\n",
      "Обработка видео...\n",
      "('pushup', 0.0)\n"
     ]
    },
    {
     "name": "stderr",
     "output_type": "stream",
     "text": [
      " 38%|███▊      | 534/1397 [04:24<07:10,  2.01it/s]"
     ]
    },
    {
     "name": "stdout",
     "output_type": "stream",
     "text": [
      "Ошибка при обработке видео test_data/test_dataset/60525785-990d-4dd5-9b48-7451422af520.avi: name 'display_image' is not defined\n",
      "Обработка видео...\n"
     ]
    },
    {
     "name": "stderr",
     "output_type": "stream",
     "text": [
      " 38%|███▊      | 535/1397 [04:25<07:08,  2.01it/s]"
     ]
    },
    {
     "name": "stdout",
     "output_type": "stream",
     "text": [
      "('shoot_ball', 0.0)\n",
      "Ошибка при обработке видео test_data/test_dataset/60761cc2-2822-4189-a4e9-bbe170ffb90c.avi: name 'display_image' is not defined\n",
      "Обработка видео...\n"
     ]
    },
    {
     "name": "stderr",
     "output_type": "stream",
     "text": [
      " 38%|███▊      | 536/1397 [04:25<07:08,  2.01it/s]"
     ]
    },
    {
     "name": "stdout",
     "output_type": "stream",
     "text": [
      "('pullup', 0.0)\n",
      "Ошибка при обработке видео test_data/test_dataset/60ad1875-f534-404d-9991-8f7b0e987cd5.avi: name 'display_image' is not defined\n",
      "Обработка видео...\n"
     ]
    },
    {
     "name": "stderr",
     "output_type": "stream",
     "text": [
      " 38%|███▊      | 537/1397 [04:26<07:07,  2.01it/s]"
     ]
    },
    {
     "name": "stdout",
     "output_type": "stream",
     "text": [
      "('cartwheel', 0.0)\n",
      "Ошибка при обработке видео test_data/test_dataset/60e418e2-8d44-4d77-8d18-ec18725d802b.avi: name 'display_image' is not defined\n",
      "Обработка видео...\n"
     ]
    },
    {
     "name": "stderr",
     "output_type": "stream",
     "text": [
      " 39%|███▊      | 538/1397 [04:26<07:04,  2.02it/s]"
     ]
    },
    {
     "name": "stdout",
     "output_type": "stream",
     "text": [
      "('pick', 0.0)\n",
      "Ошибка при обработке видео test_data/test_dataset/60ed9363-4e4c-4745-9a5e-d91fe68b6f7e.avi: name 'display_image' is not defined\n",
      "Обработка видео...\n"
     ]
    },
    {
     "name": "stderr",
     "output_type": "stream",
     "text": [
      " 39%|███▊      | 539/1397 [04:27<07:04,  2.02it/s]"
     ]
    },
    {
     "name": "stdout",
     "output_type": "stream",
     "text": [
      "('cartwheel', 0.0)\n",
      "Ошибка при обработке видео test_data/test_dataset/60fc5d07-625b-441e-8c77-5cb0d80740e8.avi: name 'display_image' is not defined\n",
      "Обработка видео...\n"
     ]
    },
    {
     "name": "stderr",
     "output_type": "stream",
     "text": [
      " 39%|███▊      | 540/1397 [04:27<07:02,  2.03it/s]"
     ]
    },
    {
     "name": "stdout",
     "output_type": "stream",
     "text": [
      "('golf', 0.0)\n",
      "Ошибка при обработке видео test_data/test_dataset/61688b7f-686c-470c-9974-300d8a42783a.avi: name 'display_image' is not defined\n",
      "Обработка видео...\n"
     ]
    },
    {
     "name": "stderr",
     "output_type": "stream",
     "text": [
      " 39%|███▊      | 541/1397 [04:28<07:04,  2.02it/s]"
     ]
    },
    {
     "name": "stdout",
     "output_type": "stream",
     "text": [
      "('cartwheel', 0.0)\n",
      "Ошибка при обработке видео test_data/test_dataset/6195153b-9e48-4a3a-bf6d-c07e55156672.avi: name 'display_image' is not defined\n",
      "Обработка видео...\n"
     ]
    },
    {
     "name": "stderr",
     "output_type": "stream",
     "text": [
      " 39%|███▉      | 542/1397 [04:28<07:01,  2.03it/s]"
     ]
    },
    {
     "name": "stdout",
     "output_type": "stream",
     "text": [
      "('pullup', 0.0)\n",
      "Ошибка при обработке видео test_data/test_dataset/619e89e3-d33a-4ee5-88d1-68dff0cce716.avi: name 'display_image' is not defined\n",
      "Обработка видео...\n"
     ]
    },
    {
     "name": "stderr",
     "output_type": "stream",
     "text": [
      " 39%|███▉      | 543/1397 [04:29<07:03,  2.02it/s]"
     ]
    },
    {
     "name": "stdout",
     "output_type": "stream",
     "text": [
      "('shoot_ball', 0.0)\n",
      "Ошибка при обработке видео test_data/test_dataset/62020245-3d6f-4951-b587-c69a77a9cd30.avi: name 'display_image' is not defined\n",
      "Обработка видео...\n"
     ]
    },
    {
     "name": "stderr",
     "output_type": "stream",
     "text": [
      " 39%|███▉      | 544/1397 [04:29<07:04,  2.01it/s]"
     ]
    },
    {
     "name": "stdout",
     "output_type": "stream",
     "text": [
      "('pick', 0.0)\n",
      "Ошибка при обработке видео test_data/test_dataset/620d76b7-5c6c-4f2a-81a9-b66d605a2da7.avi: name 'display_image' is not defined\n",
      "Обработка видео...\n"
     ]
    },
    {
     "name": "stderr",
     "output_type": "stream",
     "text": [
      " 39%|███▉      | 545/1397 [04:30<07:02,  2.01it/s]"
     ]
    },
    {
     "name": "stdout",
     "output_type": "stream",
     "text": [
      "('handstand', 0.0)\n",
      "Ошибка при обработке видео test_data/test_dataset/6252d3c4-a5c3-4038-a30e-5b732527fee2.avi: name 'display_image' is not defined\n",
      "Обработка видео...\n"
     ]
    },
    {
     "name": "stderr",
     "output_type": "stream",
     "text": [
      " 39%|███▉      | 546/1397 [04:30<07:03,  2.01it/s]"
     ]
    },
    {
     "name": "stdout",
     "output_type": "stream",
     "text": [
      "('hit', 0.0)\n",
      "Ошибка при обработке видео test_data/test_dataset/62593376-985f-4a7f-b874-b1961662461c.avi: name 'display_image' is not defined\n",
      "Обработка видео...\n"
     ]
    },
    {
     "name": "stderr",
     "output_type": "stream",
     "text": [
      " 39%|███▉      | 547/1397 [04:31<07:01,  2.02it/s]"
     ]
    },
    {
     "name": "stdout",
     "output_type": "stream",
     "text": [
      "('pullup', 0.0)\n",
      "Ошибка при обработке видео test_data/test_dataset/625d7451-9234-490b-af3b-503d1acd2d76.avi: name 'display_image' is not defined\n",
      "Обработка видео...\n"
     ]
    },
    {
     "name": "stderr",
     "output_type": "stream",
     "text": [
      " 39%|███▉      | 548/1397 [04:31<07:03,  2.00it/s]"
     ]
    },
    {
     "name": "stdout",
     "output_type": "stream",
     "text": [
      "('pullup', 0.0)\n",
      "Ошибка при обработке видео test_data/test_dataset/625e7927-960f-41fc-a8be-48a78669951d.avi: name 'display_image' is not defined\n",
      "Обработка видео...\n"
     ]
    },
    {
     "name": "stderr",
     "output_type": "stream",
     "text": [
      " 39%|███▉      | 549/1397 [04:32<07:01,  2.01it/s]"
     ]
    },
    {
     "name": "stdout",
     "output_type": "stream",
     "text": [
      "('shoot_ball', 0.0)\n",
      "Ошибка при обработке видео test_data/test_dataset/6263d608-f6bc-4319-bf10-353ef2e77d1e.avi: name 'display_image' is not defined\n",
      "Обработка видео...\n",
      "('sit', 0.0)"
     ]
    },
    {
     "name": "stderr",
     "output_type": "stream",
     "text": [
      " 39%|███▉      | 550/1397 [04:32<06:58,  2.02it/s]"
     ]
    },
    {
     "name": "stdout",
     "output_type": "stream",
     "text": [
      "\n",
      "Ошибка при обработке видео test_data/test_dataset/629e7369-a44a-4f31-871d-835ac2db3c6b.avi: name 'display_image' is not defined\n",
      "Обработка видео...\n",
      "('pullup', 0.0)"
     ]
    },
    {
     "name": "stderr",
     "output_type": "stream",
     "text": [
      " 39%|███▉      | 551/1397 [04:33<06:57,  2.03it/s]"
     ]
    },
    {
     "name": "stdout",
     "output_type": "stream",
     "text": [
      "\n",
      "Ошибка при обработке видео test_data/test_dataset/63080bc6-e061-42e2-b9b6-c036598a3012.avi: name 'display_image' is not defined\n",
      "Обработка видео...\n"
     ]
    },
    {
     "name": "stderr",
     "output_type": "stream",
     "text": [
      " 40%|███▉      | 552/1397 [04:33<06:57,  2.02it/s]"
     ]
    },
    {
     "name": "stdout",
     "output_type": "stream",
     "text": [
      "('sword_exercise', 0.0)\n",
      "Ошибка при обработке видео test_data/test_dataset/63154102-5d70-4677-af11-4bc0af9a930a.avi: name 'display_image' is not defined\n",
      "Обработка видео...\n",
      "('swing_baseball', 0.0)"
     ]
    },
    {
     "name": "stderr",
     "output_type": "stream",
     "text": [
      " 40%|███▉      | 553/1397 [04:34<07:01,  2.00it/s]"
     ]
    },
    {
     "name": "stdout",
     "output_type": "stream",
     "text": [
      "\n",
      "Ошибка при обработке видео test_data/test_dataset/6327a8fb-6f75-4406-b7e4-01d113f69bf0.avi: name 'display_image' is not defined\n",
      "Обработка видео...\n"
     ]
    },
    {
     "name": "stderr",
     "output_type": "stream",
     "text": [
      " 40%|███▉      | 554/1397 [04:34<07:05,  1.98it/s]"
     ]
    },
    {
     "name": "stdout",
     "output_type": "stream",
     "text": [
      "('shoot_ball', 0.0)\n",
      "Ошибка при обработке видео test_data/test_dataset/63298a09-bcb1-4af7-b4ea-5578ff21afc0.avi: name 'display_image' is not defined\n",
      "Обработка видео...\n",
      "('shoot_ball', 0.0)"
     ]
    },
    {
     "name": "stderr",
     "output_type": "stream",
     "text": [
      " 40%|███▉      | 555/1397 [04:35<07:01,  2.00it/s]"
     ]
    },
    {
     "name": "stdout",
     "output_type": "stream",
     "text": [
      "\n",
      "Ошибка при обработке видео test_data/test_dataset/639d3ca6-11d9-4d0e-9a72-ed14edc38f21.avi: name 'display_image' is not defined\n",
      "Обработка видео...\n"
     ]
    },
    {
     "name": "stderr",
     "output_type": "stream",
     "text": [
      " 40%|███▉      | 556/1397 [04:35<06:58,  2.01it/s]"
     ]
    },
    {
     "name": "stdout",
     "output_type": "stream",
     "text": [
      "('handstand', 0.0)\n",
      "Ошибка при обработке видео test_data/test_dataset/63a14e81-1992-42ba-81cf-f887f0b6a8d8.avi: name 'display_image' is not defined\n",
      "Обработка видео...\n"
     ]
    },
    {
     "name": "stderr",
     "output_type": "stream",
     "text": [
      " 40%|███▉      | 557/1397 [04:36<06:56,  2.02it/s]"
     ]
    },
    {
     "name": "stdout",
     "output_type": "stream",
     "text": [
      "('golf', 0.0)\n",
      "Ошибка при обработке видео test_data/test_dataset/63d2ba62-a35d-49fd-8db2-cdbe04260f34.avi: name 'display_image' is not defined\n",
      "Обработка видео...\n"
     ]
    },
    {
     "name": "stderr",
     "output_type": "stream",
     "text": [
      " 40%|███▉      | 558/1397 [04:36<06:56,  2.02it/s]"
     ]
    },
    {
     "name": "stdout",
     "output_type": "stream",
     "text": [
      "('golf', 0.0)\n",
      "Ошибка при обработке видео test_data/test_dataset/63e84805-8c09-456b-bab0-9fd4b05ebe28.avi: name 'display_image' is not defined\n",
      "Обработка видео...\n"
     ]
    },
    {
     "name": "stderr",
     "output_type": "stream",
     "text": [
      " 40%|████      | 559/1397 [04:37<06:52,  2.03it/s]"
     ]
    },
    {
     "name": "stdout",
     "output_type": "stream",
     "text": [
      "('flic_flac', 0.0)\n",
      "Ошибка при обработке видео test_data/test_dataset/63feba90-5794-421d-83b8-1c02ff195ff1.avi: name 'display_image' is not defined\n",
      "Обработка видео...\n",
      "('shoot_ball', 0.0)"
     ]
    },
    {
     "name": "stderr",
     "output_type": "stream",
     "text": [
      " 40%|████      | 560/1397 [04:37<06:51,  2.04it/s]"
     ]
    },
    {
     "name": "stdout",
     "output_type": "stream",
     "text": [
      "\n",
      "Ошибка при обработке видео test_data/test_dataset/64248df3-74d7-4e67-b35d-6e038d11644a.avi: name 'display_image' is not defined\n",
      "Обработка видео...\n"
     ]
    },
    {
     "name": "stderr",
     "output_type": "stream",
     "text": [
      " 40%|████      | 561/1397 [04:38<06:51,  2.03it/s]"
     ]
    },
    {
     "name": "stdout",
     "output_type": "stream",
     "text": [
      "('swing_baseball', 0.0)\n",
      "Ошибка при обработке видео test_data/test_dataset/642fe998-e35f-4ff2-ae6a-bfbdf113a51b.avi: name 'display_image' is not defined\n",
      "Обработка видео...\n",
      "('golf', 0.0)"
     ]
    },
    {
     "name": "stderr",
     "output_type": "stream",
     "text": [
      " 40%|████      | 562/1397 [04:38<06:48,  2.04it/s]"
     ]
    },
    {
     "name": "stdout",
     "output_type": "stream",
     "text": [
      "\n",
      "Ошибка при обработке видео test_data/test_dataset/64983734-6e18-4d81-ba2b-2bbcb2064e72.avi: name 'display_image' is not defined\n",
      "Обработка видео...\n"
     ]
    },
    {
     "name": "stderr",
     "output_type": "stream",
     "text": [
      " 40%|████      | 563/1397 [04:38<06:48,  2.04it/s]"
     ]
    },
    {
     "name": "stdout",
     "output_type": "stream",
     "text": [
      "('throw', 0.0)\n",
      "Ошибка при обработке видео test_data/test_dataset/64d258ee-16dd-4f29-8c4f-823f5dde6c65.avi: name 'display_image' is not defined\n",
      "Обработка видео...\n"
     ]
    },
    {
     "name": "stderr",
     "output_type": "stream",
     "text": [
      " 40%|████      | 564/1397 [04:39<06:54,  2.01it/s]"
     ]
    },
    {
     "name": "stdout",
     "output_type": "stream",
     "text": [
      "('dive', 0.0)\n",
      "Ошибка при обработке видео test_data/test_dataset/65012f68-eb4e-4962-8c70-a916e128235c.avi: name 'display_image' is not defined\n",
      "Обработка видео...\n"
     ]
    },
    {
     "name": "stderr",
     "output_type": "stream",
     "text": [
      " 40%|████      | 565/1397 [04:39<06:53,  2.01it/s]"
     ]
    },
    {
     "name": "stdout",
     "output_type": "stream",
     "text": [
      "('handstand', 0.0)\n",
      "Ошибка при обработке видео test_data/test_dataset/650abd19-3344-4f00-9dd9-feb8b8ed996f.avi: name 'display_image' is not defined\n",
      "Обработка видео...\n"
     ]
    },
    {
     "name": "stderr",
     "output_type": "stream",
     "text": [
      " 41%|████      | 566/1397 [04:40<06:52,  2.02it/s]"
     ]
    },
    {
     "name": "stdout",
     "output_type": "stream",
     "text": [
      "('golf', 0.0)\n",
      "Ошибка при обработке видео test_data/test_dataset/654aed59-2db5-4c7f-b176-3a585d797f1d.avi: name 'display_image' is not defined\n",
      "Обработка видео...\n"
     ]
    },
    {
     "name": "stderr",
     "output_type": "stream",
     "text": [
      " 41%|████      | 567/1397 [04:40<06:53,  2.01it/s]"
     ]
    },
    {
     "name": "stdout",
     "output_type": "stream",
     "text": [
      "('shoot_ball', 0.0)\n",
      "Ошибка при обработке видео test_data/test_dataset/657b40f5-1df5-4581-bbff-08268563e265.avi: name 'display_image' is not defined\n",
      "Обработка видео...\n"
     ]
    },
    {
     "name": "stderr",
     "output_type": "stream",
     "text": [
      " 41%|████      | 568/1397 [04:41<06:54,  2.00it/s]"
     ]
    },
    {
     "name": "stdout",
     "output_type": "stream",
     "text": [
      "('shoot_ball', 0.0)\n",
      "Ошибка при обработке видео test_data/test_dataset/65adfca8-5097-45a7-8447-c4eacd18ce22.avi: name 'display_image' is not defined\n",
      "Обработка видео...\n"
     ]
    },
    {
     "name": "stderr",
     "output_type": "stream",
     "text": [
      " 41%|████      | 569/1397 [04:41<06:50,  2.02it/s]"
     ]
    },
    {
     "name": "stdout",
     "output_type": "stream",
     "text": [
      "('push', 0.0)\n",
      "Ошибка при обработке видео test_data/test_dataset/65c7ce2d-726e-4aa5-bc6f-79f4b666fc1c.avi: name 'display_image' is not defined\n",
      "Обработка видео...\n"
     ]
    },
    {
     "name": "stderr",
     "output_type": "stream",
     "text": [
      " 41%|████      | 570/1397 [04:42<06:49,  2.02it/s]"
     ]
    },
    {
     "name": "stdout",
     "output_type": "stream",
     "text": [
      "('dribble', 0.0)\n",
      "Ошибка при обработке видео test_data/test_dataset/66478c11-857c-4c4d-b97f-e224749d414e.avi: name 'display_image' is not defined\n",
      "Обработка видео...\n"
     ]
    },
    {
     "name": "stderr",
     "output_type": "stream",
     "text": [
      " 41%|████      | 571/1397 [04:42<06:47,  2.03it/s]"
     ]
    },
    {
     "name": "stdout",
     "output_type": "stream",
     "text": [
      "('golf', 0.0)\n",
      "Ошибка при обработке видео test_data/test_dataset/668466dd-ea64-433c-84cc-015a90d21fc4.avi: name 'display_image' is not defined\n",
      "Обработка видео...\n"
     ]
    },
    {
     "name": "stderr",
     "output_type": "stream",
     "text": [
      " 41%|████      | 572/1397 [04:43<06:48,  2.02it/s]"
     ]
    },
    {
     "name": "stdout",
     "output_type": "stream",
     "text": [
      "('situp', 0.0)\n",
      "Ошибка при обработке видео test_data/test_dataset/668df1f9-d313-4eb6-a496-339a00f7032d.avi: name 'display_image' is not defined\n",
      "Обработка видео...\n"
     ]
    },
    {
     "name": "stderr",
     "output_type": "stream",
     "text": [
      " 41%|████      | 573/1397 [04:43<06:49,  2.01it/s]"
     ]
    },
    {
     "name": "stdout",
     "output_type": "stream",
     "text": [
      "('dribble', 0.0)\n",
      "Ошибка при обработке видео test_data/test_dataset/6693a9d7-bd47-4da9-a745-523c151cd6e2.avi: name 'display_image' is not defined\n",
      "Обработка видео...\n"
     ]
    },
    {
     "name": "stderr",
     "output_type": "stream",
     "text": [
      " 41%|████      | 574/1397 [04:44<06:51,  2.00it/s]"
     ]
    },
    {
     "name": "stdout",
     "output_type": "stream",
     "text": [
      "('sword_exercise', 0.0)\n",
      "Ошибка при обработке видео test_data/test_dataset/66a4b832-d24c-4f75-9dff-fd2d9d536a06.avi: name 'display_image' is not defined\n",
      "Обработка видео...\n"
     ]
    },
    {
     "name": "stderr",
     "output_type": "stream",
     "text": [
      " 41%|████      | 575/1397 [04:44<06:53,  1.99it/s]"
     ]
    },
    {
     "name": "stdout",
     "output_type": "stream",
     "text": [
      "('situp', 0.0)\n",
      "Ошибка при обработке видео test_data/test_dataset/66aef590-3cf6-4909-8b8f-9536d41b9a8e.avi: name 'display_image' is not defined\n",
      "Обработка видео...\n"
     ]
    },
    {
     "name": "stderr",
     "output_type": "stream",
     "text": [
      " 41%|████      | 576/1397 [04:45<06:51,  2.00it/s]"
     ]
    },
    {
     "name": "stdout",
     "output_type": "stream",
     "text": [
      "('handstand', 0.0)\n",
      "Ошибка при обработке видео test_data/test_dataset/66ca383d-edd7-40bc-91f2-9db68785a1c9.avi: name 'display_image' is not defined\n",
      "Обработка видео...\n"
     ]
    },
    {
     "name": "stderr",
     "output_type": "stream",
     "text": [
      " 41%|████▏     | 577/1397 [04:45<06:47,  2.01it/s]"
     ]
    },
    {
     "name": "stdout",
     "output_type": "stream",
     "text": [
      "('dive', 0.0)\n",
      "Ошибка при обработке видео test_data/test_dataset/67187a46-535c-4604-97e7-65796bcdc29b.avi: name 'display_image' is not defined\n",
      "Обработка видео...\n"
     ]
    },
    {
     "name": "stderr",
     "output_type": "stream",
     "text": [
      " 41%|████▏     | 578/1397 [04:46<06:47,  2.01it/s]"
     ]
    },
    {
     "name": "stdout",
     "output_type": "stream",
     "text": [
      "('pullup', 0.0)\n",
      "Ошибка при обработке видео test_data/test_dataset/6731f368-36d7-473e-8fdf-d231ffa23ea1.avi: name 'display_image' is not defined\n",
      "Обработка видео...\n"
     ]
    },
    {
     "name": "stderr",
     "output_type": "stream",
     "text": [
      " 41%|████▏     | 579/1397 [04:46<06:44,  2.02it/s]"
     ]
    },
    {
     "name": "stdout",
     "output_type": "stream",
     "text": [
      "('situp', 0.0)\n",
      "Ошибка при обработке видео test_data/test_dataset/676a4e6b-9a35-4ead-9324-077313235437.avi: name 'display_image' is not defined\n",
      "Обработка видео...\n"
     ]
    },
    {
     "name": "stderr",
     "output_type": "stream",
     "text": [
      " 42%|████▏     | 580/1397 [04:47<06:43,  2.02it/s]"
     ]
    },
    {
     "name": "stdout",
     "output_type": "stream",
     "text": [
      "('pullup', 0.0)\n",
      "Ошибка при обработке видео test_data/test_dataset/67f578ae-160f-437c-a083-b2d4ec2fe216.avi: name 'display_image' is not defined\n",
      "Обработка видео...\n"
     ]
    },
    {
     "name": "stderr",
     "output_type": "stream",
     "text": [
      " 42%|████▏     | 581/1397 [04:47<06:42,  2.02it/s]"
     ]
    },
    {
     "name": "stdout",
     "output_type": "stream",
     "text": [
      "('dive', 0.0)\n",
      "Ошибка при обработке видео test_data/test_dataset/6814bca0-14fa-498e-b0d6-a744dd701e1f.avi: name 'display_image' is not defined\n",
      "Обработка видео...\n"
     ]
    },
    {
     "name": "stderr",
     "output_type": "stream",
     "text": [
      " 42%|████▏     | 582/1397 [04:48<06:45,  2.01it/s]"
     ]
    },
    {
     "name": "stdout",
     "output_type": "stream",
     "text": [
      "('jump', 0.0)\n",
      "Ошибка при обработке видео test_data/test_dataset/688ce29b-a644-492a-be32-5fb2be1f6008.avi: name 'display_image' is not defined\n",
      "Обработка видео...\n"
     ]
    },
    {
     "name": "stderr",
     "output_type": "stream",
     "text": [
      " 42%|████▏     | 583/1397 [04:48<06:42,  2.02it/s]"
     ]
    },
    {
     "name": "stdout",
     "output_type": "stream",
     "text": [
      "('swing_baseball', 0.0)\n",
      "Ошибка при обработке видео test_data/test_dataset/68e3bf94-797a-4b54-8ac5-b1d9d1298ad3.avi: name 'display_image' is not defined\n",
      "Обработка видео...\n"
     ]
    },
    {
     "name": "stderr",
     "output_type": "stream",
     "text": [
      " 42%|████▏     | 584/1397 [04:49<06:41,  2.03it/s]"
     ]
    },
    {
     "name": "stdout",
     "output_type": "stream",
     "text": [
      "('dive', 0.0)\n",
      "Ошибка при обработке видео test_data/test_dataset/6933c205-abdb-40b6-926d-322d136d89fa.avi: name 'display_image' is not defined\n",
      "Обработка видео...\n"
     ]
    },
    {
     "name": "stderr",
     "output_type": "stream",
     "text": [
      " 42%|████▏     | 585/1397 [04:49<06:39,  2.03it/s]"
     ]
    },
    {
     "name": "stdout",
     "output_type": "stream",
     "text": [
      "('catch', 0.0)\n",
      "Ошибка при обработке видео test_data/test_dataset/695e0e21-e025-459f-a862-eb3856295e75.avi: name 'display_image' is not defined\n",
      "Обработка видео...\n"
     ]
    },
    {
     "name": "stderr",
     "output_type": "stream",
     "text": [
      " 42%|████▏     | 586/1397 [04:50<06:42,  2.02it/s]"
     ]
    },
    {
     "name": "stdout",
     "output_type": "stream",
     "text": [
      "('pullup', 0.0)\n",
      "Ошибка при обработке видео test_data/test_dataset/69c3c538-f2f2-4a9c-95fb-efbd1bc65228.avi: name 'display_image' is not defined\n",
      "Обработка видео...\n"
     ]
    },
    {
     "name": "stderr",
     "output_type": "stream",
     "text": [
      " 42%|████▏     | 587/1397 [04:50<06:42,  2.01it/s]"
     ]
    },
    {
     "name": "stdout",
     "output_type": "stream",
     "text": [
      "('swing_baseball', 0.0)\n",
      "Ошибка при обработке видео test_data/test_dataset/69c7ec34-08e5-4d6b-af46-79e2b1680db4.avi: name 'display_image' is not defined\n",
      "Обработка видео...\n"
     ]
    },
    {
     "name": "stderr",
     "output_type": "stream",
     "text": [
      " 42%|████▏     | 588/1397 [04:51<06:41,  2.01it/s]"
     ]
    },
    {
     "name": "stdout",
     "output_type": "stream",
     "text": [
      "('push', 0.0)\n",
      "Ошибка при обработке видео test_data/test_dataset/6a31d087-d29e-4533-b61e-76c8d7e0c49f.avi: name 'display_image' is not defined\n",
      "Обработка видео...\n"
     ]
    },
    {
     "name": "stderr",
     "output_type": "stream",
     "text": [
      " 42%|████▏     | 589/1397 [04:51<06:42,  2.01it/s]"
     ]
    },
    {
     "name": "stdout",
     "output_type": "stream",
     "text": [
      "('dive', 0.0)\n",
      "Ошибка при обработке видео test_data/test_dataset/6ae02c9a-20ac-4529-b376-7c46ad290e90.avi: name 'display_image' is not defined\n",
      "Обработка видео...\n"
     ]
    },
    {
     "name": "stderr",
     "output_type": "stream",
     "text": [
      " 42%|████▏     | 590/1397 [04:52<06:39,  2.02it/s]"
     ]
    },
    {
     "name": "stdout",
     "output_type": "stream",
     "text": [
      "('handstand', 0.0)\n",
      "Ошибка при обработке видео test_data/test_dataset/6ae5edc4-f558-4daa-b565-efa122d26ee8.avi: name 'display_image' is not defined\n",
      "Обработка видео...\n"
     ]
    },
    {
     "name": "stderr",
     "output_type": "stream",
     "text": [
      " 42%|████▏     | 591/1397 [04:52<06:40,  2.01it/s]"
     ]
    },
    {
     "name": "stdout",
     "output_type": "stream",
     "text": [
      "('swing_baseball', 0.0)\n",
      "Ошибка при обработке видео test_data/test_dataset/6b30243c-fc17-44c6-8649-9150f1186ee1.avi: name 'display_image' is not defined\n",
      "Обработка видео...\n",
      "('golf', 0.0)"
     ]
    },
    {
     "name": "stderr",
     "output_type": "stream",
     "text": [
      " 42%|████▏     | 592/1397 [04:53<06:39,  2.02it/s]"
     ]
    },
    {
     "name": "stdout",
     "output_type": "stream",
     "text": [
      "\n",
      "Ошибка при обработке видео test_data/test_dataset/6b4526f9-bb40-41d4-9fef-f3cf2608310e.avi: name 'display_image' is not defined\n",
      "Обработка видео...\n"
     ]
    },
    {
     "name": "stderr",
     "output_type": "stream",
     "text": [
      " 42%|████▏     | 593/1397 [04:53<06:39,  2.01it/s]"
     ]
    },
    {
     "name": "stdout",
     "output_type": "stream",
     "text": [
      "('pullup', 0.0)\n",
      "Ошибка при обработке видео test_data/test_dataset/6b7b4daa-df65-4714-b824-0827a1a21b00.avi: name 'display_image' is not defined\n",
      "Обработка видео...\n"
     ]
    },
    {
     "name": "stderr",
     "output_type": "stream",
     "text": [
      " 43%|████▎     | 594/1397 [04:54<06:37,  2.02it/s]"
     ]
    },
    {
     "name": "stdout",
     "output_type": "stream",
     "text": [
      "('cartwheel', 0.0)\n",
      "Ошибка при обработке видео test_data/test_dataset/6bb469af-6795-44b0-9ca6-1dd5fb7734af.avi: name 'display_image' is not defined\n",
      "Обработка видео...\n"
     ]
    },
    {
     "name": "stderr",
     "output_type": "stream",
     "text": [
      " 43%|████▎     | 595/1397 [04:54<06:37,  2.02it/s]"
     ]
    },
    {
     "name": "stdout",
     "output_type": "stream",
     "text": [
      "('sword_exercise', 0.0)\n",
      "Ошибка при обработке видео test_data/test_dataset/6bb9924d-4158-4729-91f6-976c693e97e6.avi: name 'display_image' is not defined\n",
      "Обработка видео...\n"
     ]
    },
    {
     "name": "stderr",
     "output_type": "stream",
     "text": [
      " 43%|████▎     | 596/1397 [04:55<06:44,  1.98it/s]"
     ]
    },
    {
     "name": "stdout",
     "output_type": "stream",
     "text": [
      "('handstand', 0.0)\n",
      "Ошибка при обработке видео test_data/test_dataset/6c1b6d57-e1a3-4dbc-af1e-ec6677491dcf.avi: name 'display_image' is not defined\n",
      "Обработка видео...\n"
     ]
    },
    {
     "name": "stderr",
     "output_type": "stream",
     "text": [
      " 43%|████▎     | 597/1397 [04:55<06:40,  2.00it/s]"
     ]
    },
    {
     "name": "stdout",
     "output_type": "stream",
     "text": [
      "('flic_flac', 0.0)\n",
      "Ошибка при обработке видео test_data/test_dataset/6c6b5266-c09c-4e7d-9466-8fb6a49a2b6b.avi: name 'display_image' is not defined\n",
      "Обработка видео...\n"
     ]
    },
    {
     "name": "stderr",
     "output_type": "stream",
     "text": [
      " 43%|████▎     | 598/1397 [04:56<06:38,  2.01it/s]"
     ]
    },
    {
     "name": "stdout",
     "output_type": "stream",
     "text": [
      "('dribble', 0.0)\n",
      "Ошибка при обработке видео test_data/test_dataset/6d386ebe-32d9-4111-b53f-e168fccbdae5.avi: name 'display_image' is not defined\n",
      "Обработка видео...\n"
     ]
    },
    {
     "name": "stderr",
     "output_type": "stream",
     "text": [
      " 43%|████▎     | 599/1397 [04:56<06:43,  1.98it/s]"
     ]
    },
    {
     "name": "stdout",
     "output_type": "stream",
     "text": [
      "('jump', 0.0)\n",
      "Ошибка при обработке видео test_data/test_dataset/6d3a16cb-011d-4cda-a4a5-ae4c11c53511.avi: name 'display_image' is not defined\n",
      "Обработка видео...\n"
     ]
    },
    {
     "name": "stderr",
     "output_type": "stream",
     "text": [
      " 43%|████▎     | 600/1397 [04:57<06:45,  1.96it/s]"
     ]
    },
    {
     "name": "stdout",
     "output_type": "stream",
     "text": [
      "('handstand', 0.0)\n",
      "Ошибка при обработке видео test_data/test_dataset/6d60bab2-4df4-4bf6-b7b6-36e70715e6a0.avi: name 'display_image' is not defined\n",
      "Обработка видео...\n"
     ]
    },
    {
     "name": "stderr",
     "output_type": "stream",
     "text": [
      " 43%|████▎     | 601/1397 [04:57<06:44,  1.97it/s]"
     ]
    },
    {
     "name": "stdout",
     "output_type": "stream",
     "text": [
      "('sit', 0.0)\n",
      "Ошибка при обработке видео test_data/test_dataset/6d8b7c80-559b-4666-b65b-93c31851d39e.avi: name 'display_image' is not defined\n",
      "Обработка видео...\n"
     ]
    },
    {
     "name": "stderr",
     "output_type": "stream",
     "text": [
      " 43%|████▎     | 602/1397 [04:58<06:42,  1.97it/s]"
     ]
    },
    {
     "name": "stdout",
     "output_type": "stream",
     "text": [
      "('golf', 0.0)\n",
      "Ошибка при обработке видео test_data/test_dataset/6dbd199f-9a44-4b3f-a7ea-86c97c49fa52.avi: name 'display_image' is not defined\n",
      "Обработка видео...\n",
      "('dive', 0.0)"
     ]
    },
    {
     "name": "stderr",
     "output_type": "stream",
     "text": [
      " 43%|████▎     | 603/1397 [04:58<06:39,  1.99it/s]"
     ]
    },
    {
     "name": "stdout",
     "output_type": "stream",
     "text": [
      "\n",
      "Ошибка при обработке видео test_data/test_dataset/6dd95622-79da-482c-a80c-0729baaf3f9b.avi: name 'display_image' is not defined\n",
      "Обработка видео...\n"
     ]
    },
    {
     "name": "stderr",
     "output_type": "stream",
     "text": [
      " 43%|████▎     | 604/1397 [04:59<06:35,  2.01it/s]"
     ]
    },
    {
     "name": "stdout",
     "output_type": "stream",
     "text": [
      "('shoot_ball', 0.0)\n",
      "Ошибка при обработке видео test_data/test_dataset/6de6a6ba-fb72-4cad-b8e5-26daac4233a2.avi: name 'display_image' is not defined\n",
      "Обработка видео...\n"
     ]
    },
    {
     "name": "stderr",
     "output_type": "stream",
     "text": [
      " 43%|████▎     | 605/1397 [04:59<06:33,  2.01it/s]"
     ]
    },
    {
     "name": "stdout",
     "output_type": "stream",
     "text": [
      "('dribble', 0.0)\n",
      "Ошибка при обработке видео test_data/test_dataset/6deda3f4-6b88-47a5-891b-05c969bdd770.avi: name 'display_image' is not defined\n",
      "Обработка видео...\n"
     ]
    },
    {
     "name": "stderr",
     "output_type": "stream",
     "text": [
      " 43%|████▎     | 606/1397 [05:00<06:32,  2.01it/s]"
     ]
    },
    {
     "name": "stdout",
     "output_type": "stream",
     "text": [
      "('golf', 0.0)\n",
      "Ошибка при обработке видео test_data/test_dataset/6dfc2855-b901-435f-b7a2-11c2f337177e.avi: name 'display_image' is not defined\n",
      "Обработка видео...\n"
     ]
    },
    {
     "name": "stderr",
     "output_type": "stream",
     "text": [
      " 43%|████▎     | 607/1397 [05:00<06:31,  2.02it/s]"
     ]
    },
    {
     "name": "stdout",
     "output_type": "stream",
     "text": [
      "('handstand', 0.0)\n",
      "Ошибка при обработке видео test_data/test_dataset/6e74600b-969a-4a60-adc3-c35a1d5ceec2.avi: name 'display_image' is not defined\n",
      "Обработка видео...\n",
      "('dive', 0.0)"
     ]
    },
    {
     "name": "stderr",
     "output_type": "stream",
     "text": [
      " 44%|████▎     | 608/1397 [05:01<06:29,  2.02it/s]"
     ]
    },
    {
     "name": "stdout",
     "output_type": "stream",
     "text": [
      "\n",
      "Ошибка при обработке видео test_data/test_dataset/6e85e668-7a6c-4d20-94a4-478e25b51862.avi: name 'display_image' is not defined\n",
      "Обработка видео...\n"
     ]
    },
    {
     "name": "stderr",
     "output_type": "stream",
     "text": [
      " 44%|████▎     | 609/1397 [05:01<06:29,  2.03it/s]"
     ]
    },
    {
     "name": "stdout",
     "output_type": "stream",
     "text": [
      "('dive', 0.0)\n",
      "Ошибка при обработке видео test_data/test_dataset/6e9411e9-70aa-4688-8b7a-dfc3f6f4f948.avi: name 'display_image' is not defined\n",
      "Обработка видео...\n"
     ]
    },
    {
     "name": "stderr",
     "output_type": "stream",
     "text": [
      " 44%|████▎     | 610/1397 [05:02<06:24,  2.05it/s]"
     ]
    },
    {
     "name": "stdout",
     "output_type": "stream",
     "text": [
      "('throw', 0.0)\n",
      "Ошибка при обработке видео test_data/test_dataset/6f1d003e-dd2f-485c-bc59-dea41605b60d.avi: name 'display_image' is not defined\n",
      "Обработка видео...\n"
     ]
    },
    {
     "name": "stderr",
     "output_type": "stream",
     "text": [
      " 44%|████▎     | 611/1397 [05:02<06:24,  2.05it/s]"
     ]
    },
    {
     "name": "stdout",
     "output_type": "stream",
     "text": [
      "('flic_flac', 0.0)\n",
      "Ошибка при обработке видео test_data/test_dataset/6f4ac1f2-bee5-40d3-93b7-329c42d017e7.avi: name 'display_image' is not defined\n",
      "Обработка видео...\n"
     ]
    },
    {
     "name": "stderr",
     "output_type": "stream",
     "text": [
      " 44%|████▍     | 612/1397 [05:03<06:29,  2.01it/s]"
     ]
    },
    {
     "name": "stdout",
     "output_type": "stream",
     "text": [
      "('flic_flac', 0.0)\n",
      "Ошибка при обработке видео test_data/test_dataset/6fdcce00-3bab-4afb-8433-a89527651485.avi: name 'display_image' is not defined\n",
      "Обработка видео...\n"
     ]
    },
    {
     "name": "stderr",
     "output_type": "stream",
     "text": [
      " 44%|████▍     | 613/1397 [05:03<06:30,  2.01it/s]"
     ]
    },
    {
     "name": "stdout",
     "output_type": "stream",
     "text": [
      "('throw', 0.0)\n",
      "Ошибка при обработке видео test_data/test_dataset/70177af3-ccf8-473a-a4b7-c7cd2b4358de.avi: name 'display_image' is not defined\n",
      "Обработка видео...\n"
     ]
    },
    {
     "name": "stderr",
     "output_type": "stream",
     "text": [
      " 44%|████▍     | 614/1397 [05:04<06:30,  2.01it/s]"
     ]
    },
    {
     "name": "stdout",
     "output_type": "stream",
     "text": [
      "('jump', 0.0)\n",
      "Ошибка при обработке видео test_data/test_dataset/701ec9d0-2845-49bb-9a8a-92a2ef50abd8.avi: name 'display_image' is not defined\n",
      "Обработка видео...\n",
      "('handstand', 0.0)"
     ]
    },
    {
     "name": "stderr",
     "output_type": "stream",
     "text": [
      " 44%|████▍     | 615/1397 [05:04<06:28,  2.01it/s]"
     ]
    },
    {
     "name": "stdout",
     "output_type": "stream",
     "text": [
      "\n",
      "Ошибка при обработке видео test_data/test_dataset/706601c7-fe1e-4985-9d7d-8e069f2970f0.avi: name 'display_image' is not defined\n",
      "Обработка видео...\n"
     ]
    },
    {
     "name": "stderr",
     "output_type": "stream",
     "text": [
      " 44%|████▍     | 616/1397 [05:05<06:26,  2.02it/s]"
     ]
    },
    {
     "name": "stdout",
     "output_type": "stream",
     "text": [
      "('handstand', 0.0)\n",
      "Ошибка при обработке видео test_data/test_dataset/70948974-df6f-425a-92b8-dc3e063b9c1f.avi: name 'display_image' is not defined\n",
      "Обработка видео...\n"
     ]
    },
    {
     "name": "stderr",
     "output_type": "stream",
     "text": [
      " 44%|████▍     | 617/1397 [05:05<06:37,  1.96it/s]"
     ]
    },
    {
     "name": "stdout",
     "output_type": "stream",
     "text": [
      "('jump', 0.0)\n",
      "Ошибка при обработке видео test_data/test_dataset/70acefc9-b11f-4ff7-b701-850cce66d894.avi: name 'display_image' is not defined\n",
      "Обработка видео...\n"
     ]
    },
    {
     "name": "stderr",
     "output_type": "stream",
     "text": [
      " 44%|████▍     | 618/1397 [05:06<06:30,  2.00it/s]"
     ]
    },
    {
     "name": "stdout",
     "output_type": "stream",
     "text": [
      "('pushup', 0.0)\n",
      "Ошибка при обработке видео test_data/test_dataset/70f007e3-5eca-4bb9-ba52-a42d100e5a57.avi: name 'display_image' is not defined\n",
      "Обработка видео...\n"
     ]
    },
    {
     "name": "stderr",
     "output_type": "stream",
     "text": [
      " 44%|████▍     | 619/1397 [05:06<06:26,  2.01it/s]"
     ]
    },
    {
     "name": "stdout",
     "output_type": "stream",
     "text": [
      "('cartwheel', 0.0)\n",
      "Ошибка при обработке видео test_data/test_dataset/711adcc8-1951-4731-82c4-e1f43a9694c4.avi: name 'display_image' is not defined\n",
      "Обработка видео...\n"
     ]
    },
    {
     "name": "stderr",
     "output_type": "stream",
     "text": [
      " 44%|████▍     | 620/1397 [05:07<06:27,  2.01it/s]"
     ]
    },
    {
     "name": "stdout",
     "output_type": "stream",
     "text": [
      "('jump', 0.0)\n",
      "Ошибка при обработке видео test_data/test_dataset/711c943b-a159-4ba5-83de-1de7e0254d35.avi: name 'display_image' is not defined\n",
      "Обработка видео...\n"
     ]
    },
    {
     "name": "stderr",
     "output_type": "stream",
     "text": [
      " 44%|████▍     | 621/1397 [05:07<06:24,  2.02it/s]"
     ]
    },
    {
     "name": "stdout",
     "output_type": "stream",
     "text": [
      "('swing_baseball', 0.0)\n",
      "Ошибка при обработке видео test_data/test_dataset/7166451b-11ba-4259-b1dc-f35d9e677589.avi: name 'display_image' is not defined\n",
      "Обработка видео...\n"
     ]
    },
    {
     "name": "stderr",
     "output_type": "stream",
     "text": [
      " 45%|████▍     | 622/1397 [05:08<06:25,  2.01it/s]"
     ]
    },
    {
     "name": "stdout",
     "output_type": "stream",
     "text": [
      "('cartwheel', 0.0)\n",
      "Ошибка при обработке видео test_data/test_dataset/718eaba7-9335-4843-ac0c-6b1b46bfb2a6.avi: name 'display_image' is not defined\n",
      "Обработка видео...\n"
     ]
    },
    {
     "name": "stderr",
     "output_type": "stream",
     "text": [
      " 45%|████▍     | 623/1397 [05:08<06:24,  2.01it/s]"
     ]
    },
    {
     "name": "stdout",
     "output_type": "stream",
     "text": [
      "('jump', 0.0)\n",
      "Ошибка при обработке видео test_data/test_dataset/718f8310-0a94-4114-a8d4-122421fe05ad.avi: name 'display_image' is not defined\n",
      "Обработка видео...\n"
     ]
    },
    {
     "name": "stderr",
     "output_type": "stream",
     "text": [
      " 45%|████▍     | 624/1397 [05:09<06:22,  2.02it/s]"
     ]
    },
    {
     "name": "stdout",
     "output_type": "stream",
     "text": [
      "('draw_sword', 0.0)\n",
      "Ошибка при обработке видео test_data/test_dataset/71eceaeb-7624-4d96-9143-2d975215be35.avi: name 'display_image' is not defined\n",
      "Обработка видео...\n"
     ]
    },
    {
     "name": "stderr",
     "output_type": "stream",
     "text": [
      " 45%|████▍     | 625/1397 [05:09<06:20,  2.03it/s]"
     ]
    },
    {
     "name": "stdout",
     "output_type": "stream",
     "text": [
      "('pushup', 0.0)\n",
      "Ошибка при обработке видео test_data/test_dataset/71eee8a4-ad53-4d01-aafd-dd8ea364164a.avi: name 'display_image' is not defined\n",
      "Обработка видео...\n"
     ]
    },
    {
     "name": "stderr",
     "output_type": "stream",
     "text": [
      " 45%|████▍     | 626/1397 [05:10<06:19,  2.03it/s]"
     ]
    },
    {
     "name": "stdout",
     "output_type": "stream",
     "text": [
      "('swing_baseball', 0.0)\n",
      "Ошибка при обработке видео test_data/test_dataset/7238b5a1-4767-4d08-b3bd-f3e66a038493.avi: name 'display_image' is not defined\n",
      "Обработка видео...\n"
     ]
    },
    {
     "name": "stderr",
     "output_type": "stream",
     "text": [
      " 45%|████▍     | 627/1397 [05:10<06:18,  2.03it/s]"
     ]
    },
    {
     "name": "stdout",
     "output_type": "stream",
     "text": [
      "('pullup', 0.0)\n",
      "Ошибка при обработке видео test_data/test_dataset/7240a86c-c796-4193-bd84-77fa16b9877d.avi: name 'display_image' is not defined\n",
      "Обработка видео...\n"
     ]
    },
    {
     "name": "stderr",
     "output_type": "stream",
     "text": [
      " 45%|████▍     | 628/1397 [05:11<06:20,  2.02it/s]"
     ]
    },
    {
     "name": "stdout",
     "output_type": "stream",
     "text": [
      "('hit', 0.0)\n",
      "Ошибка при обработке видео test_data/test_dataset/728bd5d3-adad-4041-8993-ae50b5a70547.avi: name 'display_image' is not defined\n",
      "Обработка видео...\n"
     ]
    },
    {
     "name": "stderr",
     "output_type": "stream",
     "text": [
      " 45%|████▌     | 629/1397 [05:11<06:20,  2.02it/s]"
     ]
    },
    {
     "name": "stdout",
     "output_type": "stream",
     "text": [
      "('climb', 0.0)\n",
      "Ошибка при обработке видео test_data/test_dataset/72bbcf1c-41e8-4723-a54f-24c44dde597a.avi: name 'display_image' is not defined\n",
      "Обработка видео...\n",
      "('pullup', 0.0)"
     ]
    },
    {
     "name": "stderr",
     "output_type": "stream",
     "text": [
      " 45%|████▌     | 630/1397 [05:12<06:18,  2.03it/s]"
     ]
    },
    {
     "name": "stdout",
     "output_type": "stream",
     "text": [
      "\n",
      "Ошибка при обработке видео test_data/test_dataset/72c7b17c-97f8-4750-a1d1-fa4ae46bfa6f.avi: name 'display_image' is not defined\n",
      "Обработка видео...\n"
     ]
    },
    {
     "name": "stderr",
     "output_type": "stream",
     "text": [
      " 45%|████▌     | 631/1397 [05:12<06:19,  2.02it/s]"
     ]
    },
    {
     "name": "stdout",
     "output_type": "stream",
     "text": [
      "('pick', 0.0)\n",
      "Ошибка при обработке видео test_data/test_dataset/733367df-e217-4c8a-984e-d1c66105b4fa.avi: name 'display_image' is not defined\n",
      "Обработка видео...\n"
     ]
    },
    {
     "name": "stderr",
     "output_type": "stream",
     "text": [
      " 45%|████▌     | 632/1397 [05:13<06:15,  2.04it/s]"
     ]
    },
    {
     "name": "stdout",
     "output_type": "stream",
     "text": [
      "('handstand', 0.0)\n",
      "Ошибка при обработке видео test_data/test_dataset/7361b364-e90a-4cfa-937f-b6cc8c12d3d5.avi: name 'display_image' is not defined\n",
      "Обработка видео...\n",
      "('pullup', 0.0)"
     ]
    },
    {
     "name": "stderr",
     "output_type": "stream",
     "text": [
      " 45%|████▌     | 633/1397 [05:13<06:15,  2.04it/s]"
     ]
    },
    {
     "name": "stdout",
     "output_type": "stream",
     "text": [
      "\n",
      "Ошибка при обработке видео test_data/test_dataset/738236ec-5ba0-45f9-8a8a-10ea05010b5b.avi: name 'display_image' is not defined\n",
      "Обработка видео...\n"
     ]
    },
    {
     "name": "stderr",
     "output_type": "stream",
     "text": [
      " 45%|████▌     | 634/1397 [05:14<06:13,  2.04it/s]"
     ]
    },
    {
     "name": "stdout",
     "output_type": "stream",
     "text": [
      "('handstand', 0.0)\n",
      "Ошибка при обработке видео test_data/test_dataset/7386e92e-ab66-443e-944c-70b193654081.avi: name 'display_image' is not defined\n",
      "Обработка видео...\n"
     ]
    },
    {
     "name": "stderr",
     "output_type": "stream",
     "text": [
      " 45%|████▌     | 635/1397 [05:14<06:13,  2.04it/s]"
     ]
    },
    {
     "name": "stdout",
     "output_type": "stream",
     "text": [
      "('pushup', 0.0)\n",
      "Ошибка при обработке видео test_data/test_dataset/73baafd8-dc5d-4667-93c4-7d88fc818750.avi: name 'display_image' is not defined\n",
      "Обработка видео...\n"
     ]
    },
    {
     "name": "stderr",
     "output_type": "stream",
     "text": [
      " 46%|████▌     | 636/1397 [05:15<06:20,  2.00it/s]"
     ]
    },
    {
     "name": "stdout",
     "output_type": "stream",
     "text": [
      "('sword_exercise', 0.0)\n",
      "Ошибка при обработке видео test_data/test_dataset/73e9b02d-1b7b-4644-bce0-302a9eb366e5.avi: name 'display_image' is not defined\n",
      "Обработка видео...\n"
     ]
    },
    {
     "name": "stderr",
     "output_type": "stream",
     "text": [
      " 46%|████▌     | 637/1397 [05:15<06:18,  2.01it/s]"
     ]
    },
    {
     "name": "stdout",
     "output_type": "stream",
     "text": [
      "('pullup', 0.0)\n",
      "Ошибка при обработке видео test_data/test_dataset/7431b4da-1fbf-44f3-a146-996d653b096e.avi: name 'display_image' is not defined\n",
      "Обработка видео...\n"
     ]
    },
    {
     "name": "stderr",
     "output_type": "stream",
     "text": [
      " 46%|████▌     | 638/1397 [05:16<06:16,  2.02it/s]"
     ]
    },
    {
     "name": "stdout",
     "output_type": "stream",
     "text": [
      "('pullup', 0.0)\n",
      "Ошибка при обработке видео test_data/test_dataset/7461eedb-32dd-45f4-a745-d954c1143a40.avi: name 'display_image' is not defined\n",
      "Обработка видео...\n"
     ]
    },
    {
     "name": "stderr",
     "output_type": "stream",
     "text": [
      " 46%|████▌     | 639/1397 [05:16<06:18,  2.00it/s]"
     ]
    },
    {
     "name": "stdout",
     "output_type": "stream",
     "text": [
      "('jump', 0.0)\n",
      "Ошибка при обработке видео test_data/test_dataset/7466272f-8fe6-4c26-95cf-fcbefe061fd0.avi: name 'display_image' is not defined\n",
      "Обработка видео...\n"
     ]
    },
    {
     "name": "stderr",
     "output_type": "stream",
     "text": [
      " 46%|████▌     | 640/1397 [05:17<06:18,  2.00it/s]"
     ]
    },
    {
     "name": "stdout",
     "output_type": "stream",
     "text": [
      "('handstand', 0.0)\n",
      "Ошибка при обработке видео test_data/test_dataset/74ceea82-bae6-4f02-9764-7409959d9c6a.avi: name 'display_image' is not defined\n",
      "Обработка видео...\n"
     ]
    },
    {
     "name": "stderr",
     "output_type": "stream",
     "text": [
      " 46%|████▌     | 641/1397 [05:17<06:14,  2.02it/s]"
     ]
    },
    {
     "name": "stdout",
     "output_type": "stream",
     "text": [
      "('pullup', 0.0)\n",
      "Ошибка при обработке видео test_data/test_dataset/74d6d132-973a-4319-a9c7-92d22cfbb398.avi: name 'display_image' is not defined\n",
      "Обработка видео...\n",
      "('pullup', 0.0)"
     ]
    },
    {
     "name": "stderr",
     "output_type": "stream",
     "text": [
      " 46%|████▌     | 642/1397 [05:18<06:13,  2.02it/s]"
     ]
    },
    {
     "name": "stdout",
     "output_type": "stream",
     "text": [
      "\n",
      "Ошибка при обработке видео test_data/test_dataset/751933fe-c1fb-48f1-80c2-37b01ccb4738.avi: name 'display_image' is not defined\n",
      "Обработка видео...\n"
     ]
    },
    {
     "name": "stderr",
     "output_type": "stream",
     "text": [
      " 46%|████▌     | 643/1397 [05:18<06:10,  2.03it/s]"
     ]
    },
    {
     "name": "stdout",
     "output_type": "stream",
     "text": [
      "('dive', 0.0)\n",
      "Ошибка при обработке видео test_data/test_dataset/75549fbb-efe2-415d-bd61-d74e3d7c8530.avi: name 'display_image' is not defined\n",
      "Обработка видео...\n"
     ]
    },
    {
     "name": "stderr",
     "output_type": "stream",
     "text": [
      " 46%|████▌     | 644/1397 [05:19<06:08,  2.04it/s]"
     ]
    },
    {
     "name": "stdout",
     "output_type": "stream",
     "text": [
      "('shoot_ball', 0.0)\n",
      "Ошибка при обработке видео test_data/test_dataset/758b6aeb-d720-4201-a81a-8bb61f5d080c.avi: name 'display_image' is not defined\n",
      "Обработка видео...\n"
     ]
    },
    {
     "name": "stderr",
     "output_type": "stream",
     "text": [
      " 46%|████▌     | 645/1397 [05:19<06:07,  2.05it/s]"
     ]
    },
    {
     "name": "stdout",
     "output_type": "stream",
     "text": [
      "('swing_baseball', 0.0)\n",
      "Ошибка при обработке видео test_data/test_dataset/7599fcab-9533-444c-a6f8-8c4edba786e7.avi: name 'display_image' is not defined\n",
      "Обработка видео...\n"
     ]
    },
    {
     "name": "stderr",
     "output_type": "stream",
     "text": [
      " 46%|████▌     | 646/1397 [05:20<06:10,  2.03it/s]"
     ]
    },
    {
     "name": "stdout",
     "output_type": "stream",
     "text": [
      "('dribble', 0.0)\n",
      "Ошибка при обработке видео test_data/test_dataset/75a4fbd8-2380-4208-a302-f4939dc2c0cc.avi: name 'display_image' is not defined\n",
      "Обработка видео...\n"
     ]
    },
    {
     "name": "stderr",
     "output_type": "stream",
     "text": [
      " 46%|████▋     | 647/1397 [05:20<06:08,  2.03it/s]"
     ]
    },
    {
     "name": "stdout",
     "output_type": "stream",
     "text": [
      "('flic_flac', 0.0)\n",
      "Ошибка при обработке видео test_data/test_dataset/75c4d2d1-2a59-4c6b-8c4c-87fc2dbf6296.avi: name 'display_image' is not defined\n",
      "Обработка видео...\n"
     ]
    },
    {
     "name": "stderr",
     "output_type": "stream",
     "text": [
      " 46%|████▋     | 648/1397 [05:21<06:08,  2.03it/s]"
     ]
    },
    {
     "name": "stdout",
     "output_type": "stream",
     "text": [
      "('dribble', 0.0)\n",
      "Ошибка при обработке видео test_data/test_dataset/76050152-8599-4d96-af89-8b2335214ec2.avi: name 'display_image' is not defined\n",
      "Обработка видео...\n"
     ]
    },
    {
     "name": "stderr",
     "output_type": "stream",
     "text": [
      " 46%|████▋     | 649/1397 [05:21<06:09,  2.02it/s]"
     ]
    },
    {
     "name": "stdout",
     "output_type": "stream",
     "text": [
      "('fencing', 0.0)\n",
      "Ошибка при обработке видео test_data/test_dataset/766de6cf-57da-425d-9874-855cc8cd30d6.avi: name 'display_image' is not defined\n",
      "Обработка видео...\n"
     ]
    },
    {
     "name": "stderr",
     "output_type": "stream",
     "text": [
      " 47%|████▋     | 650/1397 [05:22<06:10,  2.02it/s]"
     ]
    },
    {
     "name": "stdout",
     "output_type": "stream",
     "text": [
      "('handstand', 0.0)\n",
      "Ошибка при обработке видео test_data/test_dataset/7701bfab-fd82-458e-a434-97648bbb4cae.avi: name 'display_image' is not defined\n",
      "Обработка видео...\n",
      "('pushup', 0.0)"
     ]
    },
    {
     "name": "stderr",
     "output_type": "stream",
     "text": [
      " 47%|████▋     | 651/1397 [05:22<06:11,  2.01it/s]"
     ]
    },
    {
     "name": "stdout",
     "output_type": "stream",
     "text": [
      "\n",
      "Ошибка при обработке видео test_data/test_dataset/773dff33-4132-4f8a-a179-406f5fda45b3.avi: name 'display_image' is not defined\n",
      "Обработка видео...\n"
     ]
    },
    {
     "name": "stderr",
     "output_type": "stream",
     "text": [
      " 47%|████▋     | 652/1397 [05:23<06:10,  2.01it/s]"
     ]
    },
    {
     "name": "stdout",
     "output_type": "stream",
     "text": [
      "('handstand', 0.0)\n",
      "Ошибка при обработке видео test_data/test_dataset/774780f5-7c05-48f3-bf7f-e72a5ba1abf9.avi: name 'display_image' is not defined\n",
      "Обработка видео...\n"
     ]
    },
    {
     "name": "stderr",
     "output_type": "stream",
     "text": [
      " 47%|████▋     | 653/1397 [05:23<06:09,  2.01it/s]"
     ]
    },
    {
     "name": "stdout",
     "output_type": "stream",
     "text": [
      "('pushup', 0.0)\n",
      "Ошибка при обработке видео test_data/test_dataset/77781c45-07d3-4628-ab15-428c4e6a8f3f.avi: name 'display_image' is not defined\n",
      "Обработка видео...\n"
     ]
    },
    {
     "name": "stderr",
     "output_type": "stream",
     "text": [
      " 47%|████▋     | 654/1397 [05:24<06:13,  1.99it/s]"
     ]
    },
    {
     "name": "stdout",
     "output_type": "stream",
     "text": [
      "('dive', 0.0)\n",
      "Ошибка при обработке видео test_data/test_dataset/7788cb4a-8967-47bf-9f71-92fb8ec2c2b6.avi: name 'display_image' is not defined\n",
      "Обработка видео...\n"
     ]
    },
    {
     "name": "stderr",
     "output_type": "stream",
     "text": [
      " 47%|████▋     | 655/1397 [05:24<06:16,  1.97it/s]"
     ]
    },
    {
     "name": "stdout",
     "output_type": "stream",
     "text": [
      "('jump', 0.0)\n",
      "Ошибка при обработке видео test_data/test_dataset/77ae9d12-4255-454c-b927-7cec9ee68c9c.avi: name 'display_image' is not defined\n",
      "Обработка видео...\n"
     ]
    },
    {
     "name": "stderr",
     "output_type": "stream",
     "text": [
      " 47%|████▋     | 656/1397 [05:25<06:11,  1.99it/s]"
     ]
    },
    {
     "name": "stdout",
     "output_type": "stream",
     "text": [
      "('pick', 0.0)\n",
      "Ошибка при обработке видео test_data/test_dataset/77c3ff70-39e4-43c6-bc82-14d72ad04b80.avi: name 'display_image' is not defined\n",
      "Обработка видео...\n",
      "('sword_exercise', 0.0)"
     ]
    },
    {
     "name": "stderr",
     "output_type": "stream",
     "text": [
      " 47%|████▋     | 657/1397 [05:25<06:08,  2.01it/s]"
     ]
    },
    {
     "name": "stdout",
     "output_type": "stream",
     "text": [
      "\n",
      "Ошибка при обработке видео test_data/test_dataset/780905c7-f824-4f86-9ca5-903ccca2792a.avi: name 'display_image' is not defined\n",
      "Обработка видео...\n"
     ]
    },
    {
     "name": "stderr",
     "output_type": "stream",
     "text": [
      " 47%|████▋     | 658/1397 [05:26<06:09,  2.00it/s]"
     ]
    },
    {
     "name": "stdout",
     "output_type": "stream",
     "text": [
      "('pullup', 0.0)\n",
      "Ошибка при обработке видео test_data/test_dataset/781650b0-ca70-42b6-b023-0d91e6e81bfa.avi: name 'display_image' is not defined\n",
      "Обработка видео...\n"
     ]
    },
    {
     "name": "stderr",
     "output_type": "stream",
     "text": [
      " 47%|████▋     | 659/1397 [05:26<06:09,  2.00it/s]"
     ]
    },
    {
     "name": "stdout",
     "output_type": "stream",
     "text": [
      "('golf', 0.0)\n",
      "Ошибка при обработке видео test_data/test_dataset/782941eb-db31-4fa0-b167-0ecce0129c43.avi: name 'display_image' is not defined\n",
      "Обработка видео...\n"
     ]
    },
    {
     "name": "stderr",
     "output_type": "stream",
     "text": [
      " 47%|████▋     | 660/1397 [05:27<06:11,  1.99it/s]"
     ]
    },
    {
     "name": "stdout",
     "output_type": "stream",
     "text": [
      "('golf', 0.0)\n",
      "Ошибка при обработке видео test_data/test_dataset/784ac53b-7c8a-4ce9-bf10-76c2f0569ea2.avi: name 'display_image' is not defined\n",
      "Обработка видео...\n"
     ]
    },
    {
     "name": "stderr",
     "output_type": "stream",
     "text": [
      " 47%|████▋     | 661/1397 [05:27<06:08,  2.00it/s]"
     ]
    },
    {
     "name": "stdout",
     "output_type": "stream",
     "text": [
      "('handstand', 0.0)\n",
      "Ошибка при обработке видео test_data/test_dataset/7881a651-4e4e-47f6-bbe7-297cdc43f913.avi: name 'display_image' is not defined\n",
      "Обработка видео...\n"
     ]
    },
    {
     "name": "stderr",
     "output_type": "stream",
     "text": [
      " 47%|████▋     | 662/1397 [05:28<06:06,  2.01it/s]"
     ]
    },
    {
     "name": "stdout",
     "output_type": "stream",
     "text": [
      "('pick', 0.0)\n",
      "Ошибка при обработке видео test_data/test_dataset/789f241a-9da3-438a-902c-851dd04d47a2.avi: name 'display_image' is not defined\n",
      "Обработка видео...\n"
     ]
    },
    {
     "name": "stderr",
     "output_type": "stream",
     "text": [
      " 47%|████▋     | 663/1397 [05:28<06:07,  2.00it/s]"
     ]
    },
    {
     "name": "stdout",
     "output_type": "stream",
     "text": [
      "('pullup', 0.0)\n",
      "Ошибка при обработке видео test_data/test_dataset/7935fdf0-9e38-4c0f-addd-b92d78e13cdc.avi: name 'display_image' is not defined\n",
      "Обработка видео...\n"
     ]
    },
    {
     "name": "stderr",
     "output_type": "stream",
     "text": [
      " 48%|████▊     | 664/1397 [05:29<06:05,  2.00it/s]"
     ]
    },
    {
     "name": "stdout",
     "output_type": "stream",
     "text": [
      "('catch', 0.0)\n",
      "Ошибка при обработке видео test_data/test_dataset/795606f3-c74d-45ef-b9d1-17dea056df2d.avi: name 'display_image' is not defined\n",
      "Обработка видео...\n"
     ]
    },
    {
     "name": "stderr",
     "output_type": "stream",
     "text": [
      " 48%|████▊     | 665/1397 [05:29<06:03,  2.02it/s]"
     ]
    },
    {
     "name": "stdout",
     "output_type": "stream",
     "text": [
      "('jump', 0.0)\n",
      "Ошибка при обработке видео test_data/test_dataset/7968b683-3d72-43e1-a0ab-7088c832d17b.avi: name 'display_image' is not defined\n",
      "Обработка видео...\n"
     ]
    },
    {
     "name": "stderr",
     "output_type": "stream",
     "text": [
      " 48%|████▊     | 666/1397 [05:30<06:03,  2.01it/s]"
     ]
    },
    {
     "name": "stdout",
     "output_type": "stream",
     "text": [
      "('golf', 0.0)\n",
      "Ошибка при обработке видео test_data/test_dataset/798bcf65-d524-46f5-bf62-96f4fe4d4d33.avi: name 'display_image' is not defined\n",
      "Обработка видео...\n"
     ]
    },
    {
     "name": "stderr",
     "output_type": "stream",
     "text": [
      " 48%|████▊     | 667/1397 [05:30<06:05,  1.99it/s]"
     ]
    },
    {
     "name": "stdout",
     "output_type": "stream",
     "text": [
      "('pullup', 0.0)\n",
      "Ошибка при обработке видео test_data/test_dataset/79a125e3-cd51-4598-9860-801a1b135cd5.avi: name 'display_image' is not defined\n",
      "Обработка видео...\n"
     ]
    },
    {
     "name": "stderr",
     "output_type": "stream",
     "text": [
      " 48%|████▊     | 668/1397 [05:31<06:02,  2.01it/s]"
     ]
    },
    {
     "name": "stdout",
     "output_type": "stream",
     "text": [
      "('pullup', 0.0)\n",
      "Ошибка при обработке видео test_data/test_dataset/79a32dc8-b41a-4399-b603-c54552aa61c7.avi: name 'display_image' is not defined\n",
      "Обработка видео...\n"
     ]
    },
    {
     "name": "stderr",
     "output_type": "stream",
     "text": [
      " 48%|████▊     | 669/1397 [05:31<06:02,  2.01it/s]"
     ]
    },
    {
     "name": "stdout",
     "output_type": "stream",
     "text": [
      "('climb', 0.0)\n",
      "Ошибка при обработке видео test_data/test_dataset/79bba2e7-7b9c-4cd4-8917-d4dee4528d2a.avi: name 'display_image' is not defined\n",
      "Обработка видео...\n"
     ]
    },
    {
     "name": "stderr",
     "output_type": "stream",
     "text": [
      " 48%|████▊     | 670/1397 [05:32<06:01,  2.01it/s]"
     ]
    },
    {
     "name": "stdout",
     "output_type": "stream",
     "text": [
      "('pullup', 0.0)\n",
      "Ошибка при обработке видео test_data/test_dataset/79d93d2c-c505-4264-aedd-4fdcc65d433d.avi: name 'display_image' is not defined\n",
      "Обработка видео...\n"
     ]
    },
    {
     "name": "stderr",
     "output_type": "stream",
     "text": [
      " 48%|████▊     | 671/1397 [05:32<06:08,  1.97it/s]"
     ]
    },
    {
     "name": "stdout",
     "output_type": "stream",
     "text": [
      "('handstand', 0.0)\n",
      "Ошибка при обработке видео test_data/test_dataset/79f37b65-c106-451d-8edf-6154f01161f2.avi: name 'display_image' is not defined\n",
      "Обработка видео...\n"
     ]
    },
    {
     "name": "stderr",
     "output_type": "stream",
     "text": [
      " 48%|████▊     | 672/1397 [05:33<06:03,  1.99it/s]"
     ]
    },
    {
     "name": "stdout",
     "output_type": "stream",
     "text": [
      "('shoot_ball', 0.0)\n",
      "Ошибка при обработке видео test_data/test_dataset/7a106bff-cbff-45dd-8d14-f4f549bae9f8.avi: name 'display_image' is not defined\n",
      "Обработка видео...\n"
     ]
    },
    {
     "name": "stderr",
     "output_type": "stream",
     "text": [
      " 48%|████▊     | 673/1397 [05:33<06:02,  2.00it/s]"
     ]
    },
    {
     "name": "stdout",
     "output_type": "stream",
     "text": [
      "('dive', 0.0)\n",
      "Ошибка при обработке видео test_data/test_dataset/7a4267cf-bd13-4d69-a46d-99db20f6a6fa.avi: name 'display_image' is not defined\n",
      "Обработка видео...\n"
     ]
    },
    {
     "name": "stderr",
     "output_type": "stream",
     "text": [
      " 48%|████▊     | 674/1397 [05:34<06:02,  2.00it/s]"
     ]
    },
    {
     "name": "stdout",
     "output_type": "stream",
     "text": [
      "('pullup', 0.0)\n",
      "Ошибка при обработке видео test_data/test_dataset/7ab9b944-8f7a-4311-b75e-f770a917ae2f.avi: name 'display_image' is not defined\n",
      "Обработка видео...\n"
     ]
    },
    {
     "name": "stderr",
     "output_type": "stream",
     "text": [
      " 48%|████▊     | 675/1397 [05:34<06:01,  2.00it/s]"
     ]
    },
    {
     "name": "stdout",
     "output_type": "stream",
     "text": [
      "('golf', 0.0)\n",
      "Ошибка при обработке видео test_data/test_dataset/7b0ea5da-2572-4638-9e44-75b7b867af17.avi: name 'display_image' is not defined\n",
      "Обработка видео...\n"
     ]
    },
    {
     "name": "stderr",
     "output_type": "stream",
     "text": [
      " 48%|████▊     | 676/1397 [05:35<06:15,  1.92it/s]"
     ]
    },
    {
     "name": "stdout",
     "output_type": "stream",
     "text": [
      "('handstand', 0.0)\n",
      "Ошибка при обработке видео test_data/test_dataset/7b333e1e-0d06-4483-abd2-29af32077771.avi: name 'display_image' is not defined\n",
      "Обработка видео...\n"
     ]
    },
    {
     "name": "stderr",
     "output_type": "stream",
     "text": [
      " 48%|████▊     | 677/1397 [05:35<06:10,  1.94it/s]"
     ]
    },
    {
     "name": "stdout",
     "output_type": "stream",
     "text": [
      "('shoot_ball', 0.0)\n",
      "Ошибка при обработке видео test_data/test_dataset/7b6afc58-d3dd-4060-97c0-24e5bd234d94.avi: name 'display_image' is not defined\n",
      "Обработка видео...\n"
     ]
    },
    {
     "name": "stderr",
     "output_type": "stream",
     "text": [
      " 49%|████▊     | 678/1397 [05:36<06:05,  1.97it/s]"
     ]
    },
    {
     "name": "stdout",
     "output_type": "stream",
     "text": [
      "('handstand', 0.0)\n",
      "Ошибка при обработке видео test_data/test_dataset/7ba75b2a-7b3e-4a13-a36b-8469465e5c67.avi: name 'display_image' is not defined\n",
      "Обработка видео...\n"
     ]
    },
    {
     "name": "stderr",
     "output_type": "stream",
     "text": [
      " 49%|████▊     | 679/1397 [05:36<06:02,  1.98it/s]"
     ]
    },
    {
     "name": "stdout",
     "output_type": "stream",
     "text": [
      "('pick', 0.0)\n",
      "Ошибка при обработке видео test_data/test_dataset/7c0ae293-e44e-421c-934b-e2252defb62f.avi: name 'display_image' is not defined\n",
      "Обработка видео...\n"
     ]
    },
    {
     "name": "stderr",
     "output_type": "stream",
     "text": [
      " 49%|████▊     | 680/1397 [05:37<06:00,  1.99it/s]"
     ]
    },
    {
     "name": "stdout",
     "output_type": "stream",
     "text": [
      "('pick', 0.0)\n",
      "Ошибка при обработке видео test_data/test_dataset/7c64e1dd-dc7d-4862-a7c7-0a64c649259b.avi: name 'display_image' is not defined\n",
      "Обработка видео...\n"
     ]
    },
    {
     "name": "stderr",
     "output_type": "stream",
     "text": [
      " 49%|████▊     | 681/1397 [05:37<06:03,  1.97it/s]"
     ]
    },
    {
     "name": "stdout",
     "output_type": "stream",
     "text": [
      "('swing_baseball', 0.0)\n",
      "Ошибка при обработке видео test_data/test_dataset/7c99c0f8-4ab3-48ae-8840-22ba4ae8a1b6.avi: name 'display_image' is not defined\n",
      "Обработка видео...\n"
     ]
    },
    {
     "name": "stderr",
     "output_type": "stream",
     "text": [
      " 49%|████▉     | 682/1397 [05:38<06:02,  1.97it/s]"
     ]
    },
    {
     "name": "stdout",
     "output_type": "stream",
     "text": [
      "('pullup', 0.0)\n",
      "Ошибка при обработке видео test_data/test_dataset/7cab62de-13dc-44d4-8950-862719977549.avi: name 'display_image' is not defined\n",
      "Обработка видео...\n"
     ]
    },
    {
     "name": "stderr",
     "output_type": "stream",
     "text": [
      " 49%|████▉     | 683/1397 [05:38<05:57,  2.00it/s]"
     ]
    },
    {
     "name": "stdout",
     "output_type": "stream",
     "text": [
      "('flic_flac', 0.0)\n",
      "Ошибка при обработке видео test_data/test_dataset/7ce25d75-f2ba-4157-a91d-5776819c8386.avi: name 'display_image' is not defined\n",
      "Обработка видео...\n"
     ]
    },
    {
     "name": "stderr",
     "output_type": "stream",
     "text": [
      " 49%|████▉     | 684/1397 [05:39<05:55,  2.01it/s]"
     ]
    },
    {
     "name": "stdout",
     "output_type": "stream",
     "text": [
      "('jump', 0.0)\n",
      "Ошибка при обработке видео test_data/test_dataset/7d0e3400-9dfe-4ce1-9887-5724a9d5dfa7.avi: name 'display_image' is not defined\n",
      "Обработка видео...\n"
     ]
    },
    {
     "name": "stderr",
     "output_type": "stream",
     "text": [
      " 49%|████▉     | 685/1397 [05:39<05:54,  2.01it/s]"
     ]
    },
    {
     "name": "stdout",
     "output_type": "stream",
     "text": [
      "('golf', 0.0)\n",
      "Ошибка при обработке видео test_data/test_dataset/7d526bb7-02c1-4356-a791-33a8ef39c28b.avi: name 'display_image' is not defined\n",
      "Обработка видео...\n"
     ]
    },
    {
     "name": "stderr",
     "output_type": "stream",
     "text": [
      " 49%|████▉     | 686/1397 [05:40<05:53,  2.01it/s]"
     ]
    },
    {
     "name": "stdout",
     "output_type": "stream",
     "text": [
      "('throw', 0.0)\n",
      "Ошибка при обработке видео test_data/test_dataset/7de65cbb-5870-482f-b590-5db3bf9df4ff.avi: name 'display_image' is not defined\n",
      "Обработка видео...\n"
     ]
    },
    {
     "name": "stderr",
     "output_type": "stream",
     "text": [
      " 49%|████▉     | 687/1397 [05:40<05:55,  1.99it/s]"
     ]
    },
    {
     "name": "stdout",
     "output_type": "stream",
     "text": [
      "('pour', 0.0)\n",
      "Ошибка при обработке видео test_data/test_dataset/7df59928-8887-4ff2-ac9d-221f67fed4e8.avi: name 'display_image' is not defined\n",
      "Обработка видео...\n"
     ]
    },
    {
     "name": "stderr",
     "output_type": "stream",
     "text": [
      " 49%|████▉     | 688/1397 [05:41<05:52,  2.01it/s]"
     ]
    },
    {
     "name": "stdout",
     "output_type": "stream",
     "text": [
      "('handstand', 0.0)\n",
      "Ошибка при обработке видео test_data/test_dataset/7e0f8d57-2f66-4038-960e-0260ac4ab706.avi: name 'display_image' is not defined\n",
      "Обработка видео...\n"
     ]
    },
    {
     "name": "stderr",
     "output_type": "stream",
     "text": [
      " 49%|████▉     | 689/1397 [05:41<05:51,  2.01it/s]"
     ]
    },
    {
     "name": "stdout",
     "output_type": "stream",
     "text": [
      "('handstand', 0.0)\n",
      "Ошибка при обработке видео test_data/test_dataset/7e1ab316-5c8f-4b7b-b93f-6e090d7061b0.avi: name 'display_image' is not defined\n",
      "Обработка видео...\n"
     ]
    },
    {
     "name": "stderr",
     "output_type": "stream",
     "text": [
      " 49%|████▉     | 690/1397 [05:42<05:50,  2.02it/s]"
     ]
    },
    {
     "name": "stdout",
     "output_type": "stream",
     "text": [
      "('push', 0.0)\n",
      "Ошибка при обработке видео test_data/test_dataset/7e3c9e97-fb3b-48c8-9684-8f60f3973778.avi: name 'display_image' is not defined\n",
      "Обработка видео...\n"
     ]
    },
    {
     "name": "stderr",
     "output_type": "stream",
     "text": [
      " 49%|████▉     | 691/1397 [05:42<05:49,  2.02it/s]"
     ]
    },
    {
     "name": "stdout",
     "output_type": "stream",
     "text": [
      "('pushup', 0.0)\n",
      "Ошибка при обработке видео test_data/test_dataset/7e67acfd-cebc-401f-ac7e-aeb4f8502e37.avi: name 'display_image' is not defined\n",
      "Обработка видео...\n"
     ]
    },
    {
     "name": "stderr",
     "output_type": "stream",
     "text": [
      " 50%|████▉     | 692/1397 [05:43<05:51,  2.01it/s]"
     ]
    },
    {
     "name": "stdout",
     "output_type": "stream",
     "text": [
      "('pullup', 0.0)\n",
      "Ошибка при обработке видео test_data/test_dataset/7e82de74-5145-4a23-8af3-9c5217771ed6.avi: name 'display_image' is not defined\n",
      "Обработка видео...\n"
     ]
    },
    {
     "name": "stderr",
     "output_type": "stream",
     "text": [
      " 50%|████▉     | 693/1397 [05:43<05:52,  2.00it/s]"
     ]
    },
    {
     "name": "stdout",
     "output_type": "stream",
     "text": [
      "('handstand', 0.0)\n",
      "Ошибка при обработке видео test_data/test_dataset/7eb94a18-c28d-4859-97ff-9af22c5e73d0.avi: name 'display_image' is not defined\n",
      "Обработка видео...\n"
     ]
    },
    {
     "name": "stderr",
     "output_type": "stream",
     "text": [
      " 50%|████▉     | 694/1397 [05:44<05:53,  1.99it/s]"
     ]
    },
    {
     "name": "stdout",
     "output_type": "stream",
     "text": [
      "('pullup', 0.0)\n",
      "Ошибка при обработке видео test_data/test_dataset/7efd0c50-5fad-426a-8451-9ffd635768a3.avi: name 'display_image' is not defined\n",
      "Обработка видео...\n"
     ]
    },
    {
     "name": "stderr",
     "output_type": "stream",
     "text": [
      " 50%|████▉     | 695/1397 [05:44<05:51,  2.00it/s]"
     ]
    },
    {
     "name": "stdout",
     "output_type": "stream",
     "text": [
      "('throw', 0.0)\n",
      "Ошибка при обработке видео test_data/test_dataset/7f12189d-21a7-4850-aba7-63aa6cb3dbbd.avi: name 'display_image' is not defined\n",
      "Обработка видео...\n"
     ]
    },
    {
     "name": "stderr",
     "output_type": "stream",
     "text": [
      " 50%|████▉     | 696/1397 [05:45<05:49,  2.00it/s]"
     ]
    },
    {
     "name": "stdout",
     "output_type": "stream",
     "text": [
      "('handstand', 0.0)\n",
      "Ошибка при обработке видео test_data/test_dataset/7f2aae3f-43c2-4453-baf1-c9bc2a17a825.avi: name 'display_image' is not defined\n",
      "Обработка видео...\n"
     ]
    },
    {
     "name": "stderr",
     "output_type": "stream",
     "text": [
      " 50%|████▉     | 697/1397 [05:45<05:48,  2.01it/s]"
     ]
    },
    {
     "name": "stdout",
     "output_type": "stream",
     "text": [
      "('dive', 0.0)\n",
      "Ошибка при обработке видео test_data/test_dataset/7f370edc-c149-49ca-a4ea-2f848f5f36ac.avi: name 'display_image' is not defined\n",
      "Обработка видео...\n",
      "('handstand', 0.0)"
     ]
    },
    {
     "name": "stderr",
     "output_type": "stream",
     "text": [
      " 50%|████▉     | 698/1397 [05:46<05:48,  2.01it/s]"
     ]
    },
    {
     "name": "stdout",
     "output_type": "stream",
     "text": [
      "\n",
      "Ошибка при обработке видео test_data/test_dataset/7f51f268-33a6-4267-a90c-968caa2f08f4.avi: name 'display_image' is not defined\n",
      "Обработка видео...\n"
     ]
    },
    {
     "name": "stderr",
     "output_type": "stream",
     "text": [
      " 50%|█████     | 699/1397 [05:46<05:48,  2.01it/s]"
     ]
    },
    {
     "name": "stdout",
     "output_type": "stream",
     "text": [
      "('pullup', 0.0)\n",
      "Ошибка при обработке видео test_data/test_dataset/7f67726c-22f6-459e-9463-3bf6d558eccf.avi: name 'display_image' is not defined\n",
      "Обработка видео...\n"
     ]
    },
    {
     "name": "stderr",
     "output_type": "stream",
     "text": [
      " 50%|█████     | 700/1397 [05:47<05:45,  2.02it/s]"
     ]
    },
    {
     "name": "stdout",
     "output_type": "stream",
     "text": [
      "('push', 0.0)\n",
      "Ошибка при обработке видео test_data/test_dataset/7f7c2010-2d8c-4ae1-a2e7-8734544b5de0.avi: name 'display_image' is not defined\n",
      "Обработка видео...\n"
     ]
    },
    {
     "name": "stderr",
     "output_type": "stream",
     "text": [
      " 50%|█████     | 701/1397 [05:47<05:43,  2.03it/s]"
     ]
    },
    {
     "name": "stdout",
     "output_type": "stream",
     "text": [
      "('swing_baseball', 0.0)\n",
      "Ошибка при обработке видео test_data/test_dataset/7f7d29cc-dc1c-4ee6-9249-cc18568b7243.avi: name 'display_image' is not defined\n",
      "Обработка видео...\n"
     ]
    },
    {
     "name": "stderr",
     "output_type": "stream",
     "text": [
      " 50%|█████     | 702/1397 [05:48<05:41,  2.04it/s]"
     ]
    },
    {
     "name": "stdout",
     "output_type": "stream",
     "text": [
      "('throw', 0.0)\n",
      "Ошибка при обработке видео test_data/test_dataset/7fcb6509-ef9a-4e4b-82a1-142c12603342.avi: name 'display_image' is not defined\n",
      "Обработка видео...\n"
     ]
    },
    {
     "name": "stderr",
     "output_type": "stream",
     "text": [
      " 50%|█████     | 703/1397 [05:48<05:41,  2.03it/s]"
     ]
    },
    {
     "name": "stdout",
     "output_type": "stream",
     "text": [
      "('dribble', 0.0)\n",
      "Ошибка при обработке видео test_data/test_dataset/7fd820bd-b18d-4440-b1ca-63c5f00450da.avi: name 'display_image' is not defined\n",
      "Обработка видео...\n"
     ]
    },
    {
     "name": "stderr",
     "output_type": "stream",
     "text": [
      " 50%|█████     | 704/1397 [05:49<05:39,  2.04it/s]"
     ]
    },
    {
     "name": "stdout",
     "output_type": "stream",
     "text": [
      "('dive', 0.0)\n",
      "Ошибка при обработке видео test_data/test_dataset/80050388-c08f-4212-a70f-05001ba82881.avi: name 'display_image' is not defined\n",
      "Обработка видео...\n"
     ]
    },
    {
     "name": "stderr",
     "output_type": "stream",
     "text": [
      " 50%|█████     | 705/1397 [05:49<05:37,  2.05it/s]"
     ]
    },
    {
     "name": "stdout",
     "output_type": "stream",
     "text": [
      "('handstand', 0.0)\n",
      "Ошибка при обработке видео test_data/test_dataset/80066fdf-38dc-4852-bdfd-06d23b66ac09.avi: name 'display_image' is not defined\n",
      "Обработка видео...\n"
     ]
    },
    {
     "name": "stderr",
     "output_type": "stream",
     "text": [
      " 51%|█████     | 706/1397 [05:50<05:38,  2.04it/s]"
     ]
    },
    {
     "name": "stdout",
     "output_type": "stream",
     "text": [
      "('golf', 0.0)\n",
      "Ошибка при обработке видео test_data/test_dataset/801e032e-b245-4b6d-9650-55f7d62a8c4c.avi: name 'display_image' is not defined\n",
      "Обработка видео...\n"
     ]
    },
    {
     "name": "stderr",
     "output_type": "stream",
     "text": [
      " 51%|█████     | 707/1397 [05:50<05:37,  2.04it/s]"
     ]
    },
    {
     "name": "stdout",
     "output_type": "stream",
     "text": [
      "('pullup', 0.0)\n",
      "Ошибка при обработке видео test_data/test_dataset/804f0ca4-5684-43b5-90df-a7ad6618add7.avi: name 'display_image' is not defined\n",
      "Обработка видео...\n"
     ]
    },
    {
     "name": "stderr",
     "output_type": "stream",
     "text": [
      " 51%|█████     | 708/1397 [05:51<05:37,  2.04it/s]"
     ]
    },
    {
     "name": "stdout",
     "output_type": "stream",
     "text": [
      "('pullup', 0.0)\n",
      "Ошибка при обработке видео test_data/test_dataset/809412b7-940f-4f89-b204-dce1da733d7d.avi: name 'display_image' is not defined\n",
      "Обработка видео...\n"
     ]
    },
    {
     "name": "stderr",
     "output_type": "stream",
     "text": [
      " 51%|█████     | 709/1397 [05:51<05:36,  2.04it/s]"
     ]
    },
    {
     "name": "stdout",
     "output_type": "stream",
     "text": [
      "('golf', 0.0)\n",
      "Ошибка при обработке видео test_data/test_dataset/8098b0c6-ef62-4664-a147-e6b5b8db15ba.avi: name 'display_image' is not defined\n",
      "Обработка видео...\n"
     ]
    },
    {
     "name": "stderr",
     "output_type": "stream",
     "text": [
      " 51%|█████     | 710/1397 [05:52<05:37,  2.03it/s]"
     ]
    },
    {
     "name": "stdout",
     "output_type": "stream",
     "text": [
      "('pullup', 0.0)\n",
      "Ошибка при обработке видео test_data/test_dataset/8115c2aa-9ef8-433d-9e32-5769fa4e4c74.avi: name 'display_image' is not defined\n",
      "Обработка видео...\n"
     ]
    },
    {
     "name": "stderr",
     "output_type": "stream",
     "text": [
      " 51%|█████     | 711/1397 [05:52<05:38,  2.03it/s]"
     ]
    },
    {
     "name": "stdout",
     "output_type": "stream",
     "text": [
      "('shoot_ball', 0.0)\n",
      "Ошибка при обработке видео test_data/test_dataset/8194c84e-c437-4474-bf5e-8b8e468c9525.avi: name 'display_image' is not defined\n",
      "Обработка видео...\n",
      "('cartwheel', 0.0)"
     ]
    },
    {
     "name": "stderr",
     "output_type": "stream",
     "text": [
      " 51%|█████     | 712/1397 [05:53<05:37,  2.03it/s]"
     ]
    },
    {
     "name": "stdout",
     "output_type": "stream",
     "text": [
      "\n",
      "Ошибка при обработке видео test_data/test_dataset/8194e48a-299c-4b0c-b9f6-71182b000f6e.avi: name 'display_image' is not defined\n",
      "Обработка видео...\n"
     ]
    },
    {
     "name": "stderr",
     "output_type": "stream",
     "text": [
      " 51%|█████     | 713/1397 [05:53<05:36,  2.04it/s]"
     ]
    },
    {
     "name": "stdout",
     "output_type": "stream",
     "text": [
      "('cartwheel', 0.0)\n",
      "Ошибка при обработке видео test_data/test_dataset/81cd33d4-9236-448f-b8d1-814aff4dd7fc.avi: name 'display_image' is not defined\n",
      "Обработка видео...\n"
     ]
    },
    {
     "name": "stderr",
     "output_type": "stream",
     "text": [
      " 51%|█████     | 714/1397 [05:54<05:40,  2.01it/s]"
     ]
    },
    {
     "name": "stdout",
     "output_type": "stream",
     "text": [
      "('situp', 0.0)\n",
      "Ошибка при обработке видео test_data/test_dataset/81d3f52d-794b-4d27-b837-cd7b94d1b212.avi: name 'display_image' is not defined\n",
      "Обработка видео...\n"
     ]
    },
    {
     "name": "stderr",
     "output_type": "stream",
     "text": [
      " 51%|█████     | 715/1397 [05:54<05:40,  2.00it/s]"
     ]
    },
    {
     "name": "stdout",
     "output_type": "stream",
     "text": [
      "('dive', 0.0)\n",
      "Ошибка при обработке видео test_data/test_dataset/81df5b3e-6b7a-49c1-8b6e-6334c3338463.avi: name 'display_image' is not defined\n",
      "Обработка видео...\n"
     ]
    },
    {
     "name": "stderr",
     "output_type": "stream",
     "text": [
      " 51%|█████▏    | 716/1397 [05:55<05:38,  2.01it/s]"
     ]
    },
    {
     "name": "stdout",
     "output_type": "stream",
     "text": [
      "('handstand', 0.0)\n",
      "Ошибка при обработке видео test_data/test_dataset/821ee283-5ac3-4819-b618-bcb5c487d424.avi: name 'display_image' is not defined\n",
      "Обработка видео...\n"
     ]
    },
    {
     "name": "stderr",
     "output_type": "stream",
     "text": [
      " 51%|█████▏    | 717/1397 [05:55<05:36,  2.02it/s]"
     ]
    },
    {
     "name": "stdout",
     "output_type": "stream",
     "text": [
      "('shoot_ball', 0.0)\n",
      "Ошибка при обработке видео test_data/test_dataset/823fc40d-756e-403a-be15-753258d0df1e.avi: name 'display_image' is not defined\n",
      "Обработка видео...\n"
     ]
    },
    {
     "name": "stderr",
     "output_type": "stream",
     "text": [
      " 51%|█████▏    | 718/1397 [05:56<05:34,  2.03it/s]"
     ]
    },
    {
     "name": "stdout",
     "output_type": "stream",
     "text": [
      "('pullup', 0.0)\n",
      "Ошибка при обработке видео test_data/test_dataset/82745bc5-0591-4909-b7a0-481c37be4f48.avi: name 'display_image' is not defined\n",
      "Обработка видео...\n"
     ]
    },
    {
     "name": "stderr",
     "output_type": "stream",
     "text": [
      " 51%|█████▏    | 719/1397 [05:56<05:33,  2.03it/s]"
     ]
    },
    {
     "name": "stdout",
     "output_type": "stream",
     "text": [
      "('shoot_ball', 0.0)\n",
      "Ошибка при обработке видео test_data/test_dataset/827cdfde-eb9d-4464-9f6e-f0fedc9955e3.avi: name 'display_image' is not defined\n",
      "Обработка видео...\n"
     ]
    },
    {
     "name": "stderr",
     "output_type": "stream",
     "text": [
      " 52%|█████▏    | 720/1397 [05:57<05:35,  2.02it/s]"
     ]
    },
    {
     "name": "stdout",
     "output_type": "stream",
     "text": [
      "('fencing', 0.0)\n",
      "Ошибка при обработке видео test_data/test_dataset/827e977a-487b-4604-8cd1-de9024b70f73.avi: name 'display_image' is not defined\n",
      "Обработка видео...\n"
     ]
    },
    {
     "name": "stderr",
     "output_type": "stream",
     "text": [
      " 52%|█████▏    | 721/1397 [05:57<05:34,  2.02it/s]"
     ]
    },
    {
     "name": "stdout",
     "output_type": "stream",
     "text": [
      "('flic_flac', 0.0)\n",
      "Ошибка при обработке видео test_data/test_dataset/8295e665-2bb0-4a66-97a8-f6f40e0ee437.avi: name 'display_image' is not defined\n",
      "Обработка видео...\n",
      "('hit', 0.0)"
     ]
    },
    {
     "name": "stderr",
     "output_type": "stream",
     "text": [
      " 52%|█████▏    | 722/1397 [05:58<05:36,  2.01it/s]"
     ]
    },
    {
     "name": "stdout",
     "output_type": "stream",
     "text": [
      "\n",
      "Ошибка при обработке видео test_data/test_dataset/82d93616-0e4c-4113-bd7d-15bdc3e3f018.avi: name 'display_image' is not defined\n",
      "Обработка видео...\n"
     ]
    },
    {
     "name": "stderr",
     "output_type": "stream",
     "text": [
      " 52%|█████▏    | 723/1397 [05:58<05:35,  2.01it/s]"
     ]
    },
    {
     "name": "stdout",
     "output_type": "stream",
     "text": [
      "('push', 0.0)\n",
      "Ошибка при обработке видео test_data/test_dataset/82ed310e-f9f5-4491-af24-34083c10b8bd.avi: name 'display_image' is not defined\n",
      "Обработка видео...\n"
     ]
    },
    {
     "name": "stderr",
     "output_type": "stream",
     "text": [
      " 52%|█████▏    | 724/1397 [05:59<05:33,  2.02it/s]"
     ]
    },
    {
     "name": "stdout",
     "output_type": "stream",
     "text": [
      "('pullup', 0.0)\n",
      "Ошибка при обработке видео test_data/test_dataset/82ed773d-9429-4e67-8b99-02f4d4d03597.avi: name 'display_image' is not defined\n",
      "Обработка видео...\n"
     ]
    },
    {
     "name": "stderr",
     "output_type": "stream",
     "text": [
      " 52%|█████▏    | 725/1397 [05:59<05:34,  2.01it/s]"
     ]
    },
    {
     "name": "stdout",
     "output_type": "stream",
     "text": [
      "('shoot_ball', 0.0)\n",
      "Ошибка при обработке видео test_data/test_dataset/82f6934a-9e1f-4c5a-9f44-2396a2e5af24.avi: name 'display_image' is not defined\n",
      "Обработка видео...\n",
      "('push', 0.0)"
     ]
    },
    {
     "name": "stderr",
     "output_type": "stream",
     "text": [
      " 52%|█████▏    | 726/1397 [06:00<05:33,  2.01it/s]"
     ]
    },
    {
     "name": "stdout",
     "output_type": "stream",
     "text": [
      "\n",
      "Ошибка при обработке видео test_data/test_dataset/830a333c-b2f3-4bda-884c-48ce19a799ce.avi: name 'display_image' is not defined\n",
      "Обработка видео...\n"
     ]
    },
    {
     "name": "stderr",
     "output_type": "stream",
     "text": [
      " 52%|█████▏    | 727/1397 [06:00<05:31,  2.02it/s]"
     ]
    },
    {
     "name": "stdout",
     "output_type": "stream",
     "text": [
      "('swing_baseball', 0.0)\n",
      "Ошибка при обработке видео test_data/test_dataset/830fc364-6fa1-4a8d-8400-36004d5f3626.avi: name 'display_image' is not defined\n",
      "Обработка видео...\n"
     ]
    },
    {
     "name": "stderr",
     "output_type": "stream",
     "text": [
      " 52%|█████▏    | 728/1397 [06:01<05:29,  2.03it/s]"
     ]
    },
    {
     "name": "stdout",
     "output_type": "stream",
     "text": [
      "('pushup', 0.0)\n",
      "Ошибка при обработке видео test_data/test_dataset/832354d3-e6a4-4d0d-8815-8be19ec66337.avi: name 'display_image' is not defined\n",
      "Обработка видео...\n"
     ]
    },
    {
     "name": "stderr",
     "output_type": "stream",
     "text": [
      " 52%|█████▏    | 729/1397 [06:01<05:29,  2.03it/s]"
     ]
    },
    {
     "name": "stdout",
     "output_type": "stream",
     "text": [
      "('shoot_ball', 0.0)\n",
      "Ошибка при обработке видео test_data/test_dataset/8345c2d9-21cf-44f6-a81b-7e930b440492.avi: name 'display_image' is not defined\n",
      "Обработка видео...\n"
     ]
    },
    {
     "name": "stderr",
     "output_type": "stream",
     "text": [
      " 52%|█████▏    | 730/1397 [06:02<05:31,  2.01it/s]"
     ]
    },
    {
     "name": "stdout",
     "output_type": "stream",
     "text": [
      "('dive', 0.0)\n",
      "Ошибка при обработке видео test_data/test_dataset/83f79948-a873-4f55-bff4-421f18963798.avi: name 'display_image' is not defined\n",
      "Обработка видео...\n"
     ]
    },
    {
     "name": "stderr",
     "output_type": "stream",
     "text": [
      " 52%|█████▏    | 731/1397 [06:02<05:31,  2.01it/s]"
     ]
    },
    {
     "name": "stdout",
     "output_type": "stream",
     "text": [
      "('cartwheel', 0.0)\n",
      "Ошибка при обработке видео test_data/test_dataset/841ff51d-e3c6-4bb5-92bf-7d97ee9bcf7b.avi: name 'display_image' is not defined\n",
      "Обработка видео...\n"
     ]
    },
    {
     "name": "stderr",
     "output_type": "stream",
     "text": [
      " 52%|█████▏    | 732/1397 [06:03<05:29,  2.02it/s]"
     ]
    },
    {
     "name": "stdout",
     "output_type": "stream",
     "text": [
      "('dribble', 0.0)\n",
      "Ошибка при обработке видео test_data/test_dataset/84805a38-205c-42b6-bc03-67d2dea7b704.avi: name 'display_image' is not defined\n",
      "Обработка видео...\n"
     ]
    },
    {
     "name": "stderr",
     "output_type": "stream",
     "text": [
      " 52%|█████▏    | 733/1397 [06:03<05:28,  2.02it/s]"
     ]
    },
    {
     "name": "stdout",
     "output_type": "stream",
     "text": [
      "('handstand', 0.0)\n",
      "Ошибка при обработке видео test_data/test_dataset/848fc5d8-949d-4121-8cc8-f57ac6436f91.avi: name 'display_image' is not defined\n",
      "Обработка видео...\n"
     ]
    },
    {
     "name": "stderr",
     "output_type": "stream",
     "text": [
      " 53%|█████▎    | 734/1397 [06:04<05:28,  2.02it/s]"
     ]
    },
    {
     "name": "stdout",
     "output_type": "stream",
     "text": [
      "('push', 0.0)\n",
      "Ошибка при обработке видео test_data/test_dataset/8490da90-84c7-46c8-b78f-41d647d7bc79.avi: name 'display_image' is not defined\n",
      "Обработка видео...\n"
     ]
    },
    {
     "name": "stderr",
     "output_type": "stream",
     "text": [
      " 53%|█████▎    | 735/1397 [06:04<05:30,  2.01it/s]"
     ]
    },
    {
     "name": "stdout",
     "output_type": "stream",
     "text": [
      "('pick', 0.0)\n",
      "Ошибка при обработке видео test_data/test_dataset/84923f37-84d8-491b-b8bf-5a62a8694106.avi: name 'display_image' is not defined\n",
      "Обработка видео...\n"
     ]
    },
    {
     "name": "stderr",
     "output_type": "stream",
     "text": [
      " 53%|█████▎    | 736/1397 [06:05<05:27,  2.02it/s]"
     ]
    },
    {
     "name": "stdout",
     "output_type": "stream",
     "text": [
      "('pullup', 0.0)\n",
      "Ошибка при обработке видео test_data/test_dataset/84a124b1-d82f-4b22-9cc5-7c3f27e28a1c.avi: name 'display_image' is not defined\n",
      "Обработка видео...\n"
     ]
    },
    {
     "name": "stderr",
     "output_type": "stream",
     "text": [
      " 53%|█████▎    | 737/1397 [06:05<05:26,  2.02it/s]"
     ]
    },
    {
     "name": "stdout",
     "output_type": "stream",
     "text": [
      "('sit', 0.0)\n",
      "Ошибка при обработке видео test_data/test_dataset/84ac3bae-c24b-496d-b199-9286c485f0ce.avi: name 'display_image' is not defined\n",
      "Обработка видео...\n"
     ]
    },
    {
     "name": "stderr",
     "output_type": "stream",
     "text": [
      " 53%|█████▎    | 738/1397 [06:05<05:25,  2.02it/s]"
     ]
    },
    {
     "name": "stdout",
     "output_type": "stream",
     "text": [
      "('handstand', 0.0)\n",
      "Ошибка при обработке видео test_data/test_dataset/8500591a-d38e-4d09-8f1d-0d77b668c961.avi: name 'display_image' is not defined\n",
      "Обработка видео...\n"
     ]
    },
    {
     "name": "stderr",
     "output_type": "stream",
     "text": [
      " 53%|█████▎    | 739/1397 [06:06<05:25,  2.02it/s]"
     ]
    },
    {
     "name": "stdout",
     "output_type": "stream",
     "text": [
      "('pullup', 0.0)\n",
      "Ошибка при обработке видео test_data/test_dataset/8509ac8a-146b-4efd-b09d-53ccf072e9ca.avi: name 'display_image' is not defined\n",
      "Обработка видео...\n"
     ]
    },
    {
     "name": "stderr",
     "output_type": "stream",
     "text": [
      " 53%|█████▎    | 740/1397 [06:06<05:26,  2.01it/s]"
     ]
    },
    {
     "name": "stdout",
     "output_type": "stream",
     "text": [
      "('dive', 0.0)\n",
      "Ошибка при обработке видео test_data/test_dataset/8542cad4-5e69-41aa-82e1-aac43ac48e86.avi: name 'display_image' is not defined\n",
      "Обработка видео...\n"
     ]
    },
    {
     "name": "stderr",
     "output_type": "stream",
     "text": [
      " 53%|█████▎    | 741/1397 [06:07<05:27,  2.00it/s]"
     ]
    },
    {
     "name": "stdout",
     "output_type": "stream",
     "text": [
      "('swing_baseball', 0.0)\n",
      "Ошибка при обработке видео test_data/test_dataset/8592b0a4-7ba9-488f-8b37-5c1dadbc9fdc.avi: name 'display_image' is not defined\n",
      "Обработка видео...\n"
     ]
    },
    {
     "name": "stderr",
     "output_type": "stream",
     "text": [
      " 53%|█████▎    | 742/1397 [06:07<05:25,  2.01it/s]"
     ]
    },
    {
     "name": "stdout",
     "output_type": "stream",
     "text": [
      "('handstand', 0.0)\n",
      "Ошибка при обработке видео test_data/test_dataset/859dba11-0e61-4053-a110-c678ea9cdc07.avi: name 'display_image' is not defined\n",
      "Обработка видео...\n"
     ]
    },
    {
     "name": "stderr",
     "output_type": "stream",
     "text": [
      " 53%|█████▎    | 743/1397 [06:08<05:24,  2.02it/s]"
     ]
    },
    {
     "name": "stdout",
     "output_type": "stream",
     "text": [
      "('golf', 0.0)\n",
      "Ошибка при обработке видео test_data/test_dataset/85aa624d-5d1d-4699-94f6-d90629445512.avi: name 'display_image' is not defined\n",
      "Обработка видео...\n"
     ]
    },
    {
     "name": "stderr",
     "output_type": "stream",
     "text": [
      " 53%|█████▎    | 744/1397 [06:08<05:23,  2.02it/s]"
     ]
    },
    {
     "name": "stdout",
     "output_type": "stream",
     "text": [
      "('pullup', 0.0)\n",
      "Ошибка при обработке видео test_data/test_dataset/85bd1b30-8712-476d-bc98-d6fcb8e82739.avi: name 'display_image' is not defined\n",
      "Обработка видео...\n"
     ]
    },
    {
     "name": "stderr",
     "output_type": "stream",
     "text": [
      " 53%|█████▎    | 745/1397 [06:09<05:21,  2.03it/s]"
     ]
    },
    {
     "name": "stdout",
     "output_type": "stream",
     "text": [
      "('handstand', 0.0)\n",
      "Ошибка при обработке видео test_data/test_dataset/860e1bd4-5d21-47bf-bd2a-28ba12e5152c.avi: name 'display_image' is not defined\n",
      "Обработка видео...\n"
     ]
    },
    {
     "name": "stderr",
     "output_type": "stream",
     "text": [
      " 53%|█████▎    | 746/1397 [06:09<05:24,  2.00it/s]"
     ]
    },
    {
     "name": "stdout",
     "output_type": "stream",
     "text": [
      "('swing_baseball', 0.0)\n",
      "Ошибка при обработке видео test_data/test_dataset/866af1fb-5a5c-4dff-947b-edcdcdc48392.avi: name 'display_image' is not defined\n",
      "Обработка видео...\n",
      "('fencing', 0.0)"
     ]
    },
    {
     "name": "stderr",
     "output_type": "stream",
     "text": [
      " 53%|█████▎    | 747/1397 [06:10<05:24,  2.00it/s]"
     ]
    },
    {
     "name": "stdout",
     "output_type": "stream",
     "text": [
      "\n",
      "Ошибка при обработке видео test_data/test_dataset/86929ce7-46ce-4c2d-a56f-863a0075312a.avi: name 'display_image' is not defined\n",
      "Обработка видео...\n"
     ]
    },
    {
     "name": "stderr",
     "output_type": "stream",
     "text": [
      " 54%|█████▎    | 748/1397 [06:10<05:23,  2.01it/s]"
     ]
    },
    {
     "name": "stdout",
     "output_type": "stream",
     "text": [
      "('catch', 0.0)\n",
      "Ошибка при обработке видео test_data/test_dataset/869e953f-049f-46da-829b-520e2085b798.avi: name 'display_image' is not defined\n",
      "Обработка видео...\n"
     ]
    },
    {
     "name": "stderr",
     "output_type": "stream",
     "text": [
      " 54%|█████▎    | 749/1397 [06:11<05:22,  2.01it/s]"
     ]
    },
    {
     "name": "stdout",
     "output_type": "stream",
     "text": [
      "('dive', 0.0)\n",
      "Ошибка при обработке видео test_data/test_dataset/86a2d4c0-e9fb-499d-a35d-7154dc545c3d.avi: name 'display_image' is not defined\n",
      "Обработка видео...\n"
     ]
    },
    {
     "name": "stderr",
     "output_type": "stream",
     "text": [
      " 54%|█████▎    | 750/1397 [06:11<05:23,  2.00it/s]"
     ]
    },
    {
     "name": "stdout",
     "output_type": "stream",
     "text": [
      "('dribble', 0.0)\n",
      "Ошибка при обработке видео test_data/test_dataset/86a49b66-5a69-4afe-a55a-946b658afc04.avi: name 'display_image' is not defined\n",
      "Обработка видео...\n"
     ]
    },
    {
     "name": "stderr",
     "output_type": "stream",
     "text": [
      " 54%|█████▍    | 751/1397 [06:12<05:23,  2.00it/s]"
     ]
    },
    {
     "name": "stdout",
     "output_type": "stream",
     "text": [
      "('pullup', 0.0)\n",
      "Ошибка при обработке видео test_data/test_dataset/86b1af6e-c589-48d2-a962-40704c835d32.avi: name 'display_image' is not defined\n",
      "Обработка видео...\n"
     ]
    },
    {
     "name": "stderr",
     "output_type": "stream",
     "text": [
      " 54%|█████▍    | 752/1397 [06:12<05:20,  2.01it/s]"
     ]
    },
    {
     "name": "stdout",
     "output_type": "stream",
     "text": [
      "('golf', 0.0)\n",
      "Ошибка при обработке видео test_data/test_dataset/873aa37d-4e23-4798-a2a3-a87993511a0c.avi: name 'display_image' is not defined\n",
      "Обработка видео...\n"
     ]
    },
    {
     "name": "stderr",
     "output_type": "stream",
     "text": [
      " 54%|█████▍    | 753/1397 [06:13<05:22,  2.00it/s]"
     ]
    },
    {
     "name": "stdout",
     "output_type": "stream",
     "text": [
      "('dive', 0.0)\n",
      "Ошибка при обработке видео test_data/test_dataset/876e4bd7-85c3-43d0-bf44-d83f7f1d2888.avi: name 'display_image' is not defined\n",
      "Обработка видео...\n"
     ]
    },
    {
     "name": "stderr",
     "output_type": "stream",
     "text": [
      " 54%|█████▍    | 754/1397 [06:13<05:18,  2.02it/s]"
     ]
    },
    {
     "name": "stdout",
     "output_type": "stream",
     "text": [
      "('cartwheel', 0.0)\n",
      "Ошибка при обработке видео test_data/test_dataset/8794e9ad-7b53-49dc-990d-e18a6f311561.avi: name 'display_image' is not defined\n",
      "Обработка видео...\n"
     ]
    },
    {
     "name": "stderr",
     "output_type": "stream",
     "text": [
      " 54%|█████▍    | 755/1397 [06:14<05:16,  2.03it/s]"
     ]
    },
    {
     "name": "stdout",
     "output_type": "stream",
     "text": [
      "('golf', 0.0)\n",
      "Ошибка при обработке видео test_data/test_dataset/87d9b9a7-ff9f-4108-9341-30aff3cc7399.avi: name 'display_image' is not defined\n",
      "Обработка видео...\n"
     ]
    },
    {
     "name": "stderr",
     "output_type": "stream",
     "text": [
      " 54%|█████▍    | 756/1397 [06:14<05:14,  2.04it/s]"
     ]
    },
    {
     "name": "stdout",
     "output_type": "stream",
     "text": [
      "('handstand', 0.0)\n",
      "Ошибка при обработке видео test_data/test_dataset/88589af2-e5e4-450e-bbe3-874749f96d2b.avi: name 'display_image' is not defined\n",
      "Обработка видео...\n",
      "('pullup', 0.0)"
     ]
    },
    {
     "name": "stderr",
     "output_type": "stream",
     "text": [
      " 54%|█████▍    | 757/1397 [06:15<05:17,  2.01it/s]"
     ]
    },
    {
     "name": "stdout",
     "output_type": "stream",
     "text": [
      "\n",
      "Ошибка при обработке видео test_data/test_dataset/886ef2e0-e30c-4fcf-a7f2-1b090fcd208c.avi: name 'display_image' is not defined\n",
      "Обработка видео...\n"
     ]
    },
    {
     "name": "stderr",
     "output_type": "stream",
     "text": [
      " 54%|█████▍    | 758/1397 [06:15<05:18,  2.01it/s]"
     ]
    },
    {
     "name": "stdout",
     "output_type": "stream",
     "text": [
      "('pullup', 0.0)\n",
      "Ошибка при обработке видео test_data/test_dataset/8874f387-8648-4464-9971-3414c3d801de.avi: name 'display_image' is not defined\n",
      "Обработка видео...\n"
     ]
    },
    {
     "name": "stderr",
     "output_type": "stream",
     "text": [
      " 54%|█████▍    | 759/1397 [06:16<05:16,  2.01it/s]"
     ]
    },
    {
     "name": "stdout",
     "output_type": "stream",
     "text": [
      "('golf', 0.0)\n",
      "Ошибка при обработке видео test_data/test_dataset/887530d4-496c-4b3b-b8ed-1517b53cecd3.avi: name 'display_image' is not defined\n",
      "Обработка видео...\n"
     ]
    },
    {
     "name": "stderr",
     "output_type": "stream",
     "text": [
      " 54%|█████▍    | 760/1397 [06:16<05:15,  2.02it/s]"
     ]
    },
    {
     "name": "stdout",
     "output_type": "stream",
     "text": [
      "('push', 0.0)\n",
      "Ошибка при обработке видео test_data/test_dataset/88d3a791-2cbb-4d1a-a663-863706e7e5a8.avi: name 'display_image' is not defined\n",
      "Обработка видео...\n"
     ]
    },
    {
     "name": "stderr",
     "output_type": "stream",
     "text": [
      " 54%|█████▍    | 761/1397 [06:17<05:13,  2.03it/s]"
     ]
    },
    {
     "name": "stdout",
     "output_type": "stream",
     "text": [
      "('pushup', 0.0)\n",
      "Ошибка при обработке видео test_data/test_dataset/8924e541-6b46-4752-9983-58058748f4a6.avi: name 'display_image' is not defined\n",
      "Обработка видео...\n"
     ]
    },
    {
     "name": "stderr",
     "output_type": "stream",
     "text": [
      " 55%|█████▍    | 762/1397 [06:17<05:12,  2.03it/s]"
     ]
    },
    {
     "name": "stdout",
     "output_type": "stream",
     "text": [
      "('cartwheel', 0.0)\n",
      "Ошибка при обработке видео test_data/test_dataset/8934b9e5-89e3-499f-a6ba-128374baf41c.avi: name 'display_image' is not defined\n",
      "Обработка видео...\n"
     ]
    },
    {
     "name": "stderr",
     "output_type": "stream",
     "text": [
      " 55%|█████▍    | 763/1397 [06:18<05:10,  2.04it/s]"
     ]
    },
    {
     "name": "stdout",
     "output_type": "stream",
     "text": [
      "('handstand', 0.0)\n",
      "Ошибка при обработке видео test_data/test_dataset/89632233-eec4-4403-b3b3-b80525ab6a0d.avi: name 'display_image' is not defined\n",
      "Обработка видео...\n"
     ]
    },
    {
     "name": "stderr",
     "output_type": "stream",
     "text": [
      " 55%|█████▍    | 764/1397 [06:18<05:12,  2.03it/s]"
     ]
    },
    {
     "name": "stdout",
     "output_type": "stream",
     "text": [
      "('shoot_ball', 0.0)\n",
      "Ошибка при обработке видео test_data/test_dataset/898ae067-0d13-4333-ba5d-817301e8e266.avi: name 'display_image' is not defined\n",
      "Обработка видео...\n"
     ]
    },
    {
     "name": "stderr",
     "output_type": "stream",
     "text": [
      " 55%|█████▍    | 765/1397 [06:19<05:11,  2.03it/s]"
     ]
    },
    {
     "name": "stdout",
     "output_type": "stream",
     "text": [
      "('handstand', 0.0)\n",
      "Ошибка при обработке видео test_data/test_dataset/89900a76-13c6-4117-8a28-52414e713d02.avi: name 'display_image' is not defined\n",
      "Обработка видео...\n"
     ]
    },
    {
     "name": "stderr",
     "output_type": "stream",
     "text": [
      " 55%|█████▍    | 766/1397 [06:19<05:10,  2.03it/s]"
     ]
    },
    {
     "name": "stdout",
     "output_type": "stream",
     "text": [
      "('handstand', 0.0)\n",
      "Ошибка при обработке видео test_data/test_dataset/89b1edec-b19a-4338-b1f9-ac9dfeafbe84.avi: name 'display_image' is not defined\n",
      "Обработка видео...\n"
     ]
    },
    {
     "name": "stderr",
     "output_type": "stream",
     "text": [
      " 55%|█████▍    | 767/1397 [06:20<05:14,  2.00it/s]"
     ]
    },
    {
     "name": "stdout",
     "output_type": "stream",
     "text": [
      "('shoot_ball', 0.0)\n",
      "Ошибка при обработке видео test_data/test_dataset/89ea5388-f2c8-413d-bbdc-be0f6083f8ef.avi: name 'display_image' is not defined\n",
      "Обработка видео...\n"
     ]
    },
    {
     "name": "stderr",
     "output_type": "stream",
     "text": [
      " 55%|█████▍    | 768/1397 [06:20<05:12,  2.01it/s]"
     ]
    },
    {
     "name": "stdout",
     "output_type": "stream",
     "text": [
      "('pullup', 0.0)\n",
      "Ошибка при обработке видео test_data/test_dataset/89f1dc52-1a95-4c23-b47c-91863e833fc1.avi: name 'display_image' is not defined\n",
      "Обработка видео...\n"
     ]
    },
    {
     "name": "stderr",
     "output_type": "stream",
     "text": [
      " 55%|█████▌    | 769/1397 [06:21<05:11,  2.01it/s]"
     ]
    },
    {
     "name": "stdout",
     "output_type": "stream",
     "text": [
      "('golf', 0.0)\n",
      "Ошибка при обработке видео test_data/test_dataset/8a2efdb1-c1e6-48b9-8042-f59b0ee239cd.avi: name 'display_image' is not defined\n",
      "Обработка видео...\n"
     ]
    },
    {
     "name": "stderr",
     "output_type": "stream",
     "text": [
      " 55%|█████▌    | 770/1397 [06:21<05:11,  2.02it/s]"
     ]
    },
    {
     "name": "stdout",
     "output_type": "stream",
     "text": [
      "('flic_flac', 0.0)\n",
      "Ошибка при обработке видео test_data/test_dataset/8a5806b4-f4e0-44da-b730-46c060e2fa44.avi: name 'display_image' is not defined\n",
      "Обработка видео...\n"
     ]
    },
    {
     "name": "stderr",
     "output_type": "stream",
     "text": [
      " 55%|█████▌    | 771/1397 [06:22<05:10,  2.02it/s]"
     ]
    },
    {
     "name": "stdout",
     "output_type": "stream",
     "text": [
      "('pick', 0.0)\n",
      "Ошибка при обработке видео test_data/test_dataset/8a603e7c-3558-4289-a188-24a676e81ad3.avi: name 'display_image' is not defined\n",
      "Обработка видео...\n",
      "('golf', 0.0)\n",
      "Ошибка при обработке видео test_data/test_dataset/8a769a37-6e2d-4cf8-bf4d-76cfaea05f73.avi: name 'display_image' is not defined\n"
     ]
    },
    {
     "name": "stderr",
     "output_type": "stream",
     "text": [
      " 55%|█████▌    | 772/1397 [06:22<05:09,  2.02it/s]"
     ]
    },
    {
     "name": "stdout",
     "output_type": "stream",
     "text": [
      "Обработка видео...\n"
     ]
    },
    {
     "name": "stderr",
     "output_type": "stream",
     "text": [
      " 55%|█████▌    | 773/1397 [06:23<05:07,  2.03it/s]"
     ]
    },
    {
     "name": "stdout",
     "output_type": "stream",
     "text": [
      "('pushup', 0.0)\n",
      "Ошибка при обработке видео test_data/test_dataset/8a80c11c-5b55-459d-aa0a-ffce9fe552ec.avi: name 'display_image' is not defined\n",
      "Обработка видео...\n"
     ]
    },
    {
     "name": "stderr",
     "output_type": "stream",
     "text": [
      " 55%|█████▌    | 774/1397 [06:23<05:08,  2.02it/s]"
     ]
    },
    {
     "name": "stdout",
     "output_type": "stream",
     "text": [
      "('pullup', 0.0)\n",
      "Ошибка при обработке видео test_data/test_dataset/8a8e65f1-8023-445f-9147-ca9ea913921e.avi: name 'display_image' is not defined\n",
      "Обработка видео...\n"
     ]
    },
    {
     "name": "stderr",
     "output_type": "stream",
     "text": [
      " 55%|█████▌    | 775/1397 [06:24<05:09,  2.01it/s]"
     ]
    },
    {
     "name": "stdout",
     "output_type": "stream",
     "text": [
      "('flic_flac', 0.0)\n",
      "Ошибка при обработке видео test_data/test_dataset/8adce84a-ef6f-4954-809e-4af868719712.avi: name 'display_image' is not defined\n",
      "Обработка видео...\n"
     ]
    },
    {
     "name": "stderr",
     "output_type": "stream",
     "text": [
      " 56%|█████▌    | 776/1397 [06:24<05:11,  2.00it/s]"
     ]
    },
    {
     "name": "stdout",
     "output_type": "stream",
     "text": [
      "('cartwheel', 0.0)\n",
      "Ошибка при обработке видео test_data/test_dataset/8aee4047-ccfe-40ea-b0ef-1f986e920a3b.avi: name 'display_image' is not defined\n",
      "Обработка видео...\n"
     ]
    },
    {
     "name": "stderr",
     "output_type": "stream",
     "text": [
      " 56%|█████▌    | 777/1397 [06:25<05:07,  2.01it/s]"
     ]
    },
    {
     "name": "stdout",
     "output_type": "stream",
     "text": [
      "('pushup', 0.0)\n",
      "Ошибка при обработке видео test_data/test_dataset/8b08ff2b-02f3-4063-9c6a-3114dccb4fe0.avi: name 'display_image' is not defined\n",
      "Обработка видео...\n"
     ]
    },
    {
     "name": "stderr",
     "output_type": "stream",
     "text": [
      " 56%|█████▌    | 778/1397 [06:25<05:11,  1.99it/s]"
     ]
    },
    {
     "name": "stdout",
     "output_type": "stream",
     "text": [
      "('golf', 0.0)\n",
      "Ошибка при обработке видео test_data/test_dataset/8b4f1f5a-6f5b-46de-88ff-544cc0750c0c.avi: name 'display_image' is not defined\n",
      "Обработка видео...\n"
     ]
    },
    {
     "name": "stderr",
     "output_type": "stream",
     "text": [
      " 56%|█████▌    | 779/1397 [06:26<05:10,  1.99it/s]"
     ]
    },
    {
     "name": "stdout",
     "output_type": "stream",
     "text": [
      "('pushup', 0.0)\n",
      "Ошибка при обработке видео test_data/test_dataset/8b54c9ee-ea7b-49af-b9ec-a1ba0b327c51.avi: name 'display_image' is not defined\n",
      "Обработка видео...\n"
     ]
    },
    {
     "name": "stderr",
     "output_type": "stream",
     "text": [
      " 56%|█████▌    | 780/1397 [06:26<05:10,  1.99it/s]"
     ]
    },
    {
     "name": "stdout",
     "output_type": "stream",
     "text": [
      "('pullup', 0.0)\n",
      "Ошибка при обработке видео test_data/test_dataset/8b7d67ec-9e42-44ea-80e1-593fc083643a.avi: name 'display_image' is not defined\n",
      "Обработка видео...\n"
     ]
    },
    {
     "name": "stderr",
     "output_type": "stream",
     "text": [
      " 56%|█████▌    | 781/1397 [06:27<05:08,  1.99it/s]"
     ]
    },
    {
     "name": "stdout",
     "output_type": "stream",
     "text": [
      "('pullup', 0.0)\n",
      "Ошибка при обработке видео test_data/test_dataset/8bc6839f-b8fb-48ef-b5bd-1bdfd4dee64b.avi: name 'display_image' is not defined\n",
      "Обработка видео...\n"
     ]
    },
    {
     "name": "stderr",
     "output_type": "stream",
     "text": [
      " 56%|█████▌    | 782/1397 [06:27<05:05,  2.01it/s]"
     ]
    },
    {
     "name": "stdout",
     "output_type": "stream",
     "text": [
      "('sword_exercise', 0.0)\n",
      "Ошибка при обработке видео test_data/test_dataset/8bf3c19e-fb3f-4f00-a149-949f1ee7bb2c.avi: name 'display_image' is not defined\n",
      "Обработка видео...\n"
     ]
    },
    {
     "name": "stderr",
     "output_type": "stream",
     "text": [
      " 56%|█████▌    | 783/1397 [06:28<05:04,  2.02it/s]"
     ]
    },
    {
     "name": "stdout",
     "output_type": "stream",
     "text": [
      "('handstand', 0.0)\n",
      "Ошибка при обработке видео test_data/test_dataset/8bf464a2-1480-473b-bda1-0ec179756e57.avi: name 'display_image' is not defined\n",
      "Обработка видео...\n"
     ]
    },
    {
     "name": "stderr",
     "output_type": "stream",
     "text": [
      " 56%|█████▌    | 784/1397 [06:28<05:05,  2.01it/s]"
     ]
    },
    {
     "name": "stdout",
     "output_type": "stream",
     "text": [
      "('sword_exercise', 0.0)\n",
      "Ошибка при обработке видео test_data/test_dataset/8c12267b-5734-4da9-b8cf-cc87ec0ed339.avi: name 'display_image' is not defined\n",
      "Обработка видео...\n"
     ]
    },
    {
     "name": "stderr",
     "output_type": "stream",
     "text": [
      " 56%|█████▌    | 785/1397 [06:29<05:06,  2.00it/s]"
     ]
    },
    {
     "name": "stdout",
     "output_type": "stream",
     "text": [
      "('golf', 0.0)\n",
      "Ошибка при обработке видео test_data/test_dataset/8c2c0209-f448-4817-b2c1-768d645afdba.avi: name 'display_image' is not defined\n",
      "Обработка видео...\n"
     ]
    },
    {
     "name": "stderr",
     "output_type": "stream",
     "text": [
      " 56%|█████▋    | 786/1397 [06:29<05:04,  2.01it/s]"
     ]
    },
    {
     "name": "stdout",
     "output_type": "stream",
     "text": [
      "('flic_flac', 0.0)\n",
      "Ошибка при обработке видео test_data/test_dataset/8c578316-eaa3-4178-a32e-26469a2a4683.avi: name 'display_image' is not defined\n",
      "Обработка видео...\n"
     ]
    },
    {
     "name": "stderr",
     "output_type": "stream",
     "text": [
      " 56%|█████▋    | 787/1397 [06:30<05:00,  2.03it/s]"
     ]
    },
    {
     "name": "stdout",
     "output_type": "stream",
     "text": [
      "('pushup', 0.0)\n",
      "Ошибка при обработке видео test_data/test_dataset/8c5b5bc3-cbb3-40a2-86d3-c0fe368899f0.avi: name 'display_image' is not defined\n",
      "Обработка видео...\n"
     ]
    },
    {
     "name": "stderr",
     "output_type": "stream",
     "text": [
      " 56%|█████▋    | 788/1397 [06:30<05:02,  2.01it/s]"
     ]
    },
    {
     "name": "stdout",
     "output_type": "stream",
     "text": [
      "('shoot_ball', 0.0)\n",
      "Ошибка при обработке видео test_data/test_dataset/8c5eb786-f4b2-4a00-8758-d89a3e369d2d.avi: name 'display_image' is not defined\n",
      "Обработка видео...\n"
     ]
    },
    {
     "name": "stderr",
     "output_type": "stream",
     "text": [
      " 56%|█████▋    | 789/1397 [06:31<05:03,  2.00it/s]"
     ]
    },
    {
     "name": "stdout",
     "output_type": "stream",
     "text": [
      "('golf', 0.0)\n",
      "Ошибка при обработке видео test_data/test_dataset/8ca68eb9-c622-486a-a675-7adc7c5117fb.avi: name 'display_image' is not defined\n",
      "Обработка видео...\n"
     ]
    },
    {
     "name": "stderr",
     "output_type": "stream",
     "text": [
      " 57%|█████▋    | 790/1397 [06:31<05:01,  2.01it/s]"
     ]
    },
    {
     "name": "stdout",
     "output_type": "stream",
     "text": [
      "('flic_flac', 0.0)\n",
      "Ошибка при обработке видео test_data/test_dataset/8d54ea92-e417-4d8f-bafa-877b3c36cf54.avi: name 'display_image' is not defined\n",
      "Обработка видео...\n"
     ]
    },
    {
     "name": "stderr",
     "output_type": "stream",
     "text": [
      " 57%|█████▋    | 791/1397 [06:32<05:01,  2.01it/s]"
     ]
    },
    {
     "name": "stdout",
     "output_type": "stream",
     "text": [
      "('shoot_ball', 0.0)\n",
      "Ошибка при обработке видео test_data/test_dataset/8d845cce-fa79-4c4c-a887-60fbe40e0559.avi: name 'display_image' is not defined\n",
      "Обработка видео...\n"
     ]
    },
    {
     "name": "stderr",
     "output_type": "stream",
     "text": [
      " 57%|█████▋    | 792/1397 [06:32<04:59,  2.02it/s]"
     ]
    },
    {
     "name": "stdout",
     "output_type": "stream",
     "text": [
      "('swing_baseball', 0.0)\n",
      "Ошибка при обработке видео test_data/test_dataset/8e2cf821-001b-496e-bd2b-d9aa6914c274.avi: name 'display_image' is not defined\n",
      "Обработка видео...\n"
     ]
    },
    {
     "name": "stderr",
     "output_type": "stream",
     "text": [
      " 57%|█████▋    | 793/1397 [06:33<04:59,  2.02it/s]"
     ]
    },
    {
     "name": "stdout",
     "output_type": "stream",
     "text": [
      "('dive', 0.0)\n",
      "Ошибка при обработке видео test_data/test_dataset/8e5f7b6b-7f02-413f-8d2b-6857c5e88aa5.avi: name 'display_image' is not defined\n",
      "Обработка видео...\n"
     ]
    },
    {
     "name": "stderr",
     "output_type": "stream",
     "text": [
      " 57%|█████▋    | 794/1397 [06:33<04:57,  2.02it/s]"
     ]
    },
    {
     "name": "stdout",
     "output_type": "stream",
     "text": [
      "('sword_exercise', 0.0)\n",
      "Ошибка при обработке видео test_data/test_dataset/8e9fa938-35a7-45c8-8d69-bf81e8e5bbf3.avi: name 'display_image' is not defined\n",
      "Обработка видео...\n"
     ]
    },
    {
     "name": "stderr",
     "output_type": "stream",
     "text": [
      " 57%|█████▋    | 795/1397 [06:34<04:57,  2.02it/s]"
     ]
    },
    {
     "name": "stdout",
     "output_type": "stream",
     "text": [
      "('golf', 0.0)\n",
      "Ошибка при обработке видео test_data/test_dataset/8eed1955-8720-4856-8846-9dddd1bfeeb9.avi: name 'display_image' is not defined\n",
      "Обработка видео...\n"
     ]
    },
    {
     "name": "stderr",
     "output_type": "stream",
     "text": [
      " 57%|█████▋    | 796/1397 [06:34<04:57,  2.02it/s]"
     ]
    },
    {
     "name": "stdout",
     "output_type": "stream",
     "text": [
      "('shoot_ball', 0.0)\n",
      "Ошибка при обработке видео test_data/test_dataset/8f08165d-51b8-4c43-a29b-d3c5600483e8.avi: name 'display_image' is not defined\n",
      "Обработка видео...\n"
     ]
    },
    {
     "name": "stderr",
     "output_type": "stream",
     "text": [
      " 57%|█████▋    | 797/1397 [06:35<04:57,  2.02it/s]"
     ]
    },
    {
     "name": "stdout",
     "output_type": "stream",
     "text": [
      "('jump', 0.0)\n",
      "Ошибка при обработке видео test_data/test_dataset/8f264a3f-1adb-4f83-8753-700643823444.avi: name 'display_image' is not defined\n",
      "Обработка видео...\n"
     ]
    },
    {
     "name": "stderr",
     "output_type": "stream",
     "text": [
      " 57%|█████▋    | 798/1397 [06:35<04:56,  2.02it/s]"
     ]
    },
    {
     "name": "stdout",
     "output_type": "stream",
     "text": [
      "('flic_flac', 0.0)\n",
      "Ошибка при обработке видео test_data/test_dataset/8f8ea7af-2a9c-42ba-be9f-0f24de47958f.avi: name 'display_image' is not defined\n",
      "Обработка видео...\n"
     ]
    },
    {
     "name": "stderr",
     "output_type": "stream",
     "text": [
      " 57%|█████▋    | 799/1397 [06:36<05:02,  1.98it/s]"
     ]
    },
    {
     "name": "stdout",
     "output_type": "stream",
     "text": [
      "('dive', 0.0)\n",
      "Ошибка при обработке видео test_data/test_dataset/8fcb288d-7fca-4b28-bd6a-33d685a7b48f.avi: name 'display_image' is not defined\n",
      "Обработка видео...\n"
     ]
    },
    {
     "name": "stderr",
     "output_type": "stream",
     "text": [
      " 57%|█████▋    | 800/1397 [06:36<04:59,  1.99it/s]"
     ]
    },
    {
     "name": "stdout",
     "output_type": "stream",
     "text": [
      "('golf', 0.0)\n",
      "Ошибка при обработке видео test_data/test_dataset/8fe3cc0b-9ef2-4715-abc4-a9ede17a4799.avi: name 'display_image' is not defined\n",
      "Обработка видео...\n"
     ]
    },
    {
     "name": "stderr",
     "output_type": "stream",
     "text": [
      " 57%|█████▋    | 801/1397 [06:37<04:59,  1.99it/s]"
     ]
    },
    {
     "name": "stdout",
     "output_type": "stream",
     "text": [
      "('handstand', 0.0)\n",
      "Ошибка при обработке видео test_data/test_dataset/8ff45660-8cbd-4a5c-b9fa-5865c06edd3b.avi: name 'display_image' is not defined\n",
      "Обработка видео...\n"
     ]
    },
    {
     "name": "stderr",
     "output_type": "stream",
     "text": [
      " 57%|█████▋    | 802/1397 [06:37<04:58,  1.99it/s]"
     ]
    },
    {
     "name": "stdout",
     "output_type": "stream",
     "text": [
      "('throw', 0.0)\n",
      "Ошибка при обработке видео test_data/test_dataset/900952f8-e006-41a4-b5b8-1b8da7a72eba.avi: name 'display_image' is not defined\n",
      "Обработка видео...\n"
     ]
    },
    {
     "name": "stderr",
     "output_type": "stream",
     "text": [
      " 57%|█████▋    | 803/1397 [06:38<04:56,  2.00it/s]"
     ]
    },
    {
     "name": "stdout",
     "output_type": "stream",
     "text": [
      "('handstand', 0.0)\n",
      "Ошибка при обработке видео test_data/test_dataset/901abf7c-6171-4e51-9f33-e1aa4f6f47c2.avi: name 'display_image' is not defined\n",
      "Обработка видео...\n",
      "('cartwheel', 0.0)\n"
     ]
    },
    {
     "name": "stderr",
     "output_type": "stream",
     "text": [
      " 58%|█████▊    | 804/1397 [06:38<04:59,  1.98it/s]"
     ]
    },
    {
     "name": "stdout",
     "output_type": "stream",
     "text": [
      "Ошибка при обработке видео test_data/test_dataset/905b62ff-9d3f-45fb-acf2-13e95c83c85c.avi: name 'display_image' is not defined\n",
      "Обработка видео...\n"
     ]
    },
    {
     "name": "stderr",
     "output_type": "stream",
     "text": [
      " 58%|█████▊    | 805/1397 [06:39<04:57,  1.99it/s]"
     ]
    },
    {
     "name": "stdout",
     "output_type": "stream",
     "text": [
      "('handstand', 0.0)\n",
      "Ошибка при обработке видео test_data/test_dataset/9062c27b-45e9-4c0a-a283-aacebc6cc753.avi: name 'display_image' is not defined\n",
      "Обработка видео...\n"
     ]
    },
    {
     "name": "stderr",
     "output_type": "stream",
     "text": [
      " 58%|█████▊    | 806/1397 [06:39<04:56,  1.99it/s]"
     ]
    },
    {
     "name": "stdout",
     "output_type": "stream",
     "text": [
      "('shoot_ball', 0.0)\n",
      "Ошибка при обработке видео test_data/test_dataset/90f1971e-84fa-4895-8be7-edd6778ebcd1.avi: name 'display_image' is not defined\n",
      "Обработка видео...\n"
     ]
    },
    {
     "name": "stderr",
     "output_type": "stream",
     "text": [
      " 58%|█████▊    | 807/1397 [06:40<04:56,  1.99it/s]"
     ]
    },
    {
     "name": "stdout",
     "output_type": "stream",
     "text": [
      "('pushup', 0.0)\n",
      "Ошибка при обработке видео test_data/test_dataset/91555acc-0011-448b-93dd-9bf61e596062.avi: name 'display_image' is not defined\n",
      "Обработка видео...\n"
     ]
    },
    {
     "name": "stderr",
     "output_type": "stream",
     "text": [
      " 58%|█████▊    | 808/1397 [06:40<04:54,  2.00it/s]"
     ]
    },
    {
     "name": "stdout",
     "output_type": "stream",
     "text": [
      "('dive', 0.0)\n",
      "Ошибка при обработке видео test_data/test_dataset/917231da-867a-4099-a3c9-65043fa9b5c1.avi: name 'display_image' is not defined\n",
      "Обработка видео...\n"
     ]
    },
    {
     "name": "stderr",
     "output_type": "stream",
     "text": [
      " 58%|█████▊    | 809/1397 [06:41<04:53,  2.01it/s]"
     ]
    },
    {
     "name": "stdout",
     "output_type": "stream",
     "text": [
      "('pick', 0.0)\n",
      "Ошибка при обработке видео test_data/test_dataset/91c62e60-b828-4bb9-8025-a00db11d15af.avi: name 'display_image' is not defined\n",
      "Обработка видео...\n"
     ]
    },
    {
     "name": "stderr",
     "output_type": "stream",
     "text": [
      " 58%|█████▊    | 810/1397 [06:41<04:54,  1.99it/s]"
     ]
    },
    {
     "name": "stdout",
     "output_type": "stream",
     "text": [
      "('pullup', 0.0)\n",
      "Ошибка при обработке видео test_data/test_dataset/91d2865f-4240-4ad7-8642-fd75bb9eccca.avi: name 'display_image' is not defined\n",
      "Обработка видео...\n"
     ]
    },
    {
     "name": "stderr",
     "output_type": "stream",
     "text": [
      " 58%|█████▊    | 811/1397 [06:42<04:53,  2.00it/s]"
     ]
    },
    {
     "name": "stdout",
     "output_type": "stream",
     "text": [
      "('fencing', 0.0)\n",
      "Ошибка при обработке видео test_data/test_dataset/9270d174-c792-4664-aad5-861313450024.avi: name 'display_image' is not defined\n",
      "Обработка видео...\n"
     ]
    },
    {
     "name": "stderr",
     "output_type": "stream",
     "text": [
      " 58%|█████▊    | 812/1397 [06:42<04:51,  2.00it/s]"
     ]
    },
    {
     "name": "stdout",
     "output_type": "stream",
     "text": [
      "('shoot_ball', 0.0)\n",
      "Ошибка при обработке видео test_data/test_dataset/92914698-7525-4022-a4b9-60988c41e30d.avi: name 'display_image' is not defined\n",
      "Обработка видео...\n"
     ]
    },
    {
     "name": "stderr",
     "output_type": "stream",
     "text": [
      " 58%|█████▊    | 813/1397 [06:43<04:50,  2.01it/s]"
     ]
    },
    {
     "name": "stdout",
     "output_type": "stream",
     "text": [
      "('handstand', 0.0)\n",
      "Ошибка при обработке видео test_data/test_dataset/929fd280-41c4-4201-ad0e-c3f394d58914.avi: name 'display_image' is not defined\n",
      "Обработка видео...\n"
     ]
    },
    {
     "name": "stderr",
     "output_type": "stream",
     "text": [
      " 58%|█████▊    | 814/1397 [06:43<04:52,  2.00it/s]"
     ]
    },
    {
     "name": "stdout",
     "output_type": "stream",
     "text": [
      "('push', 0.0)\n",
      "Ошибка при обработке видео test_data/test_dataset/92ab71a3-976a-4b1d-a3d4-d437f0b0b027.avi: name 'display_image' is not defined\n",
      "Обработка видео...\n"
     ]
    },
    {
     "name": "stderr",
     "output_type": "stream",
     "text": [
      " 58%|█████▊    | 815/1397 [06:44<04:52,  1.99it/s]"
     ]
    },
    {
     "name": "stdout",
     "output_type": "stream",
     "text": [
      "('flic_flac', 0.0)\n",
      "Ошибка при обработке видео test_data/test_dataset/92ba550b-24e9-46ea-816b-500ae18e6934.avi: name 'display_image' is not defined\n",
      "Обработка видео...\n"
     ]
    },
    {
     "name": "stderr",
     "output_type": "stream",
     "text": [
      " 58%|█████▊    | 816/1397 [06:44<04:49,  2.00it/s]"
     ]
    },
    {
     "name": "stdout",
     "output_type": "stream",
     "text": [
      "('pushup', 0.0)\n",
      "Ошибка при обработке видео test_data/test_dataset/930f4b3a-d3c4-4105-bdd3-2e2038d1714b.avi: name 'display_image' is not defined\n",
      "Обработка видео...\n",
      "('fencing', 0.0)"
     ]
    },
    {
     "name": "stderr",
     "output_type": "stream",
     "text": [
      " 58%|█████▊    | 817/1397 [06:45<04:47,  2.02it/s]"
     ]
    },
    {
     "name": "stdout",
     "output_type": "stream",
     "text": [
      "\n",
      "Ошибка при обработке видео test_data/test_dataset/9315afc5-0f75-4824-b5a9-13122cd5b5f9.avi: name 'display_image' is not defined\n",
      "Обработка видео...\n"
     ]
    },
    {
     "name": "stderr",
     "output_type": "stream",
     "text": [
      " 59%|█████▊    | 818/1397 [06:45<04:49,  2.00it/s]"
     ]
    },
    {
     "name": "stdout",
     "output_type": "stream",
     "text": [
      "('flic_flac', 0.0)\n",
      "Ошибка при обработке видео test_data/test_dataset/9337d938-2471-4767-9121-4249d43f2a0b.avi: name 'display_image' is not defined\n",
      "Обработка видео...\n"
     ]
    },
    {
     "name": "stderr",
     "output_type": "stream",
     "text": [
      " 59%|█████▊    | 819/1397 [06:46<04:50,  1.99it/s]"
     ]
    },
    {
     "name": "stdout",
     "output_type": "stream",
     "text": [
      "('pushup', 0.0)\n",
      "Ошибка при обработке видео test_data/test_dataset/9389a2c8-151c-44da-802e-24c9e3f8a0fb.avi: name 'display_image' is not defined\n",
      "Обработка видео...\n"
     ]
    },
    {
     "name": "stderr",
     "output_type": "stream",
     "text": [
      " 59%|█████▊    | 820/1397 [06:46<04:58,  1.93it/s]"
     ]
    },
    {
     "name": "stdout",
     "output_type": "stream",
     "text": [
      "('throw', 0.0)\n",
      "Ошибка при обработке видео test_data/test_dataset/93bcecd4-ad50-4693-af98-6b206b736937.avi: name 'display_image' is not defined\n",
      "Обработка видео...\n"
     ]
    },
    {
     "name": "stderr",
     "output_type": "stream",
     "text": [
      " 59%|█████▉    | 821/1397 [06:47<04:55,  1.95it/s]"
     ]
    },
    {
     "name": "stdout",
     "output_type": "stream",
     "text": [
      "('handstand', 0.0)\n",
      "Ошибка при обработке видео test_data/test_dataset/940371ad-5844-438b-8f12-4026a9422f26.avi: name 'display_image' is not defined\n",
      "Обработка видео...\n",
      "('fencing', 0.0)"
     ]
    },
    {
     "name": "stderr",
     "output_type": "stream",
     "text": [
      " 59%|█████▉    | 822/1397 [06:47<04:56,  1.94it/s]"
     ]
    },
    {
     "name": "stdout",
     "output_type": "stream",
     "text": [
      "\n",
      "Ошибка при обработке видео test_data/test_dataset/942363f4-8a77-4f6c-be37-70539809901a.avi: name 'display_image' is not defined\n",
      "Обработка видео...\n"
     ]
    },
    {
     "name": "stderr",
     "output_type": "stream",
     "text": [
      " 59%|█████▉    | 823/1397 [06:48<04:52,  1.96it/s]"
     ]
    },
    {
     "name": "stdout",
     "output_type": "stream",
     "text": [
      "('situp', 0.0)\n",
      "Ошибка при обработке видео test_data/test_dataset/9460904a-235d-4cad-ba73-47d0c7b46f8e.avi: name 'display_image' is not defined\n",
      "Обработка видео...\n"
     ]
    },
    {
     "name": "stderr",
     "output_type": "stream",
     "text": [
      " 59%|█████▉    | 824/1397 [06:48<04:50,  1.98it/s]"
     ]
    },
    {
     "name": "stdout",
     "output_type": "stream",
     "text": [
      "('shoot_ball', 0.0)\n",
      "Ошибка при обработке видео test_data/test_dataset/9476e5a6-47b1-4870-a6ec-6339aae656b2.avi: name 'display_image' is not defined\n",
      "Обработка видео...\n"
     ]
    },
    {
     "name": "stderr",
     "output_type": "stream",
     "text": [
      " 59%|█████▉    | 825/1397 [06:49<04:47,  1.99it/s]"
     ]
    },
    {
     "name": "stdout",
     "output_type": "stream",
     "text": [
      "('pullup', 0.0)\n",
      "Ошибка при обработке видео test_data/test_dataset/948f0556-b38b-4e9a-9532-9ae9e4569e2f.avi: name 'display_image' is not defined\n",
      "Обработка видео...\n"
     ]
    },
    {
     "name": "stderr",
     "output_type": "stream",
     "text": [
      " 59%|█████▉    | 826/1397 [06:49<04:48,  1.98it/s]"
     ]
    },
    {
     "name": "stdout",
     "output_type": "stream",
     "text": [
      "('sword_exercise', 0.0)\n",
      "Ошибка при обработке видео test_data/test_dataset/94d054f3-3a57-4332-9683-3a5d5705aa79.avi: name 'display_image' is not defined\n",
      "Обработка видео...\n"
     ]
    },
    {
     "name": "stderr",
     "output_type": "stream",
     "text": [
      " 59%|█████▉    | 827/1397 [06:50<04:45,  2.00it/s]"
     ]
    },
    {
     "name": "stdout",
     "output_type": "stream",
     "text": [
      "('pushup', 0.0)\n",
      "Ошибка при обработке видео test_data/test_dataset/951f4914-65f6-4a22-a379-602bc128a820.avi: name 'display_image' is not defined\n",
      "Обработка видео...\n"
     ]
    },
    {
     "name": "stderr",
     "output_type": "stream",
     "text": [
      " 59%|█████▉    | 828/1397 [06:50<04:42,  2.01it/s]"
     ]
    },
    {
     "name": "stdout",
     "output_type": "stream",
     "text": [
      "('pushup', 0.0)\n",
      "Ошибка при обработке видео test_data/test_dataset/9533faf5-621f-4887-8f23-7edf31b97492.avi: name 'display_image' is not defined\n",
      "Обработка видео...\n"
     ]
    },
    {
     "name": "stderr",
     "output_type": "stream",
     "text": [
      " 59%|█████▉    | 829/1397 [06:51<04:43,  2.00it/s]"
     ]
    },
    {
     "name": "stdout",
     "output_type": "stream",
     "text": [
      "('golf', 0.0)\n",
      "Ошибка при обработке видео test_data/test_dataset/955e14a2-f125-4af4-84cf-4d536e2d924e.avi: name 'display_image' is not defined\n",
      "Обработка видео...\n"
     ]
    },
    {
     "name": "stderr",
     "output_type": "stream",
     "text": [
      " 59%|█████▉    | 830/1397 [06:51<04:46,  1.98it/s]"
     ]
    },
    {
     "name": "stdout",
     "output_type": "stream",
     "text": [
      "('climb', 0.0)\n",
      "Ошибка при обработке видео test_data/test_dataset/95751a4a-b3da-4c5b-b531-8387fc7b7271.avi: name 'display_image' is not defined\n",
      "Обработка видео...\n"
     ]
    },
    {
     "name": "stderr",
     "output_type": "stream",
     "text": [
      " 59%|█████▉    | 831/1397 [06:52<04:45,  1.98it/s]"
     ]
    },
    {
     "name": "stdout",
     "output_type": "stream",
     "text": [
      "('golf', 0.0)\n",
      "Ошибка при обработке видео test_data/test_dataset/95872a6b-6b3f-4706-9e94-45655b7f3e86.avi: name 'display_image' is not defined\n",
      "Обработка видео...\n"
     ]
    },
    {
     "name": "stderr",
     "output_type": "stream",
     "text": [
      " 60%|█████▉    | 832/1397 [06:52<04:44,  1.99it/s]"
     ]
    },
    {
     "name": "stdout",
     "output_type": "stream",
     "text": [
      "('shoot_ball', 0.0)\n",
      "Ошибка при обработке видео test_data/test_dataset/9593dfc2-fb66-4ae9-84c8-c87365f5ebd6.avi: name 'display_image' is not defined\n",
      "Обработка видео...\n"
     ]
    },
    {
     "name": "stderr",
     "output_type": "stream",
     "text": [
      " 60%|█████▉    | 833/1397 [06:53<04:43,  1.99it/s]"
     ]
    },
    {
     "name": "stdout",
     "output_type": "stream",
     "text": [
      "('pullup', 0.0)\n",
      "Ошибка при обработке видео test_data/test_dataset/95a9b566-c14d-4116-946f-af75994fcd9a.avi: name 'display_image' is not defined\n",
      "Обработка видео...\n"
     ]
    },
    {
     "name": "stderr",
     "output_type": "stream",
     "text": [
      " 60%|█████▉    | 834/1397 [06:53<04:41,  2.00it/s]"
     ]
    },
    {
     "name": "stdout",
     "output_type": "stream",
     "text": [
      "('flic_flac', 0.0)\n",
      "Ошибка при обработке видео test_data/test_dataset/95b6de66-eff4-42ca-98b5-42ff426bdfe7.avi: name 'display_image' is not defined\n",
      "Обработка видео...\n"
     ]
    },
    {
     "name": "stderr",
     "output_type": "stream",
     "text": [
      " 60%|█████▉    | 835/1397 [06:54<04:41,  2.00it/s]"
     ]
    },
    {
     "name": "stdout",
     "output_type": "stream",
     "text": [
      "('pullup', 0.0)\n",
      "Ошибка при обработке видео test_data/test_dataset/96317bb0-e247-49aa-af61-9fab1249fe18.avi: name 'display_image' is not defined\n",
      "Обработка видео...\n",
      "('dive', 0.0)"
     ]
    },
    {
     "name": "stderr",
     "output_type": "stream",
     "text": [
      " 60%|█████▉    | 836/1397 [06:54<04:40,  2.00it/s]"
     ]
    },
    {
     "name": "stdout",
     "output_type": "stream",
     "text": [
      "\n",
      "Ошибка при обработке видео test_data/test_dataset/963789dd-a87f-4862-993b-0281a80e1254.avi: name 'display_image' is not defined\n",
      "Обработка видео...\n"
     ]
    },
    {
     "name": "stderr",
     "output_type": "stream",
     "text": [
      " 60%|█████▉    | 837/1397 [06:55<04:37,  2.02it/s]"
     ]
    },
    {
     "name": "stdout",
     "output_type": "stream",
     "text": [
      "('pullup', 0.0)\n",
      "Ошибка при обработке видео test_data/test_dataset/963f62c2-8f23-49e5-971b-88ab7df8e3b3.avi: name 'display_image' is not defined\n",
      "Обработка видео...\n"
     ]
    },
    {
     "name": "stderr",
     "output_type": "stream",
     "text": [
      " 60%|█████▉    | 838/1397 [06:55<04:39,  2.00it/s]"
     ]
    },
    {
     "name": "stdout",
     "output_type": "stream",
     "text": [
      "('sword_exercise', 0.0)\n",
      "Ошибка при обработке видео test_data/test_dataset/9640c35f-9f6a-4062-b4a0-ed5cdcb5cfeb.avi: name 'display_image' is not defined\n",
      "Обработка видео...\n"
     ]
    },
    {
     "name": "stderr",
     "output_type": "stream",
     "text": [
      " 60%|██████    | 839/1397 [06:56<04:36,  2.02it/s]"
     ]
    },
    {
     "name": "stdout",
     "output_type": "stream",
     "text": [
      "('pour', 0.0)\n",
      "Ошибка при обработке видео test_data/test_dataset/9643874a-4a32-418c-8ef9-6c6a9d1049ed.avi: name 'display_image' is not defined\n",
      "Обработка видео...\n"
     ]
    },
    {
     "name": "stderr",
     "output_type": "stream",
     "text": [
      " 60%|██████    | 840/1397 [06:56<04:36,  2.01it/s]"
     ]
    },
    {
     "name": "stdout",
     "output_type": "stream",
     "text": [
      "('shoot_ball', 0.0)\n",
      "Ошибка при обработке видео test_data/test_dataset/967f65e2-7844-4879-8f3c-783b0fb3610a.avi: name 'display_image' is not defined\n",
      "Обработка видео...\n"
     ]
    },
    {
     "name": "stderr",
     "output_type": "stream",
     "text": [
      " 60%|██████    | 841/1397 [06:57<04:44,  1.95it/s]"
     ]
    },
    {
     "name": "stdout",
     "output_type": "stream",
     "text": [
      "('swing_baseball', 0.0)\n",
      "Ошибка при обработке видео test_data/test_dataset/96f36b1d-251a-4254-a9e0-1794425a6903.avi: name 'display_image' is not defined\n",
      "Обработка видео...\n"
     ]
    },
    {
     "name": "stderr",
     "output_type": "stream",
     "text": [
      " 60%|██████    | 842/1397 [06:57<04:41,  1.97it/s]"
     ]
    },
    {
     "name": "stdout",
     "output_type": "stream",
     "text": [
      "('handstand', 0.0)\n",
      "Ошибка при обработке видео test_data/test_dataset/974bf8f6-5c55-43db-a682-3d4083923f02.avi: name 'display_image' is not defined\n",
      "Обработка видео...\n"
     ]
    },
    {
     "name": "stderr",
     "output_type": "stream",
     "text": [
      " 60%|██████    | 843/1397 [06:58<04:39,  1.98it/s]"
     ]
    },
    {
     "name": "stdout",
     "output_type": "stream",
     "text": [
      "('throw', 0.0)\n",
      "Ошибка при обработке видео test_data/test_dataset/976f77d2-9276-458d-91b1-ec776b1898ee.avi: name 'display_image' is not defined\n",
      "Обработка видео...\n"
     ]
    },
    {
     "name": "stderr",
     "output_type": "stream",
     "text": [
      " 60%|██████    | 844/1397 [06:58<04:36,  2.00it/s]"
     ]
    },
    {
     "name": "stdout",
     "output_type": "stream",
     "text": [
      "('handstand', 0.0)\n",
      "Ошибка при обработке видео test_data/test_dataset/97847fd4-2db2-4594-9297-330a29638228.avi: name 'display_image' is not defined\n",
      "Обработка видео...\n"
     ]
    },
    {
     "name": "stderr",
     "output_type": "stream",
     "text": [
      " 60%|██████    | 845/1397 [06:59<04:39,  1.98it/s]"
     ]
    },
    {
     "name": "stdout",
     "output_type": "stream",
     "text": [
      "('pushup', 0.0)\n",
      "Ошибка при обработке видео test_data/test_dataset/9787de2b-193b-4719-aae9-0f7f359a3629.avi: name 'display_image' is not defined\n",
      "Обработка видео...\n",
      "('golf', 0.0)"
     ]
    },
    {
     "name": "stderr",
     "output_type": "stream",
     "text": [
      " 61%|██████    | 846/1397 [06:59<04:35,  2.00it/s]"
     ]
    },
    {
     "name": "stdout",
     "output_type": "stream",
     "text": [
      "\n",
      "Ошибка при обработке видео test_data/test_dataset/985bff6e-d51a-4a5d-9236-5605de2b2165.avi: name 'display_image' is not defined\n",
      "Обработка видео...\n"
     ]
    },
    {
     "name": "stderr",
     "output_type": "stream",
     "text": [
      " 61%|██████    | 847/1397 [07:00<04:38,  1.97it/s]"
     ]
    },
    {
     "name": "stdout",
     "output_type": "stream",
     "text": [
      "('handstand', 0.0)\n",
      "Ошибка при обработке видео test_data/test_dataset/987af447-2466-46fe-b6c9-1bd571177362.avi: name 'display_image' is not defined\n",
      "Обработка видео...\n"
     ]
    },
    {
     "name": "stderr",
     "output_type": "stream",
     "text": [
      " 61%|██████    | 848/1397 [07:00<04:35,  1.99it/s]"
     ]
    },
    {
     "name": "stdout",
     "output_type": "stream",
     "text": [
      "('handstand', 0.0)\n",
      "Ошибка при обработке видео test_data/test_dataset/988a480a-5456-40de-96bc-59e4df4534e6.avi: name 'display_image' is not defined\n",
      "Обработка видео...\n"
     ]
    },
    {
     "name": "stderr",
     "output_type": "stream",
     "text": [
      " 61%|██████    | 849/1397 [07:01<04:35,  1.99it/s]"
     ]
    },
    {
     "name": "stdout",
     "output_type": "stream",
     "text": [
      "('handstand', 0.0)\n",
      "Ошибка при обработке видео test_data/test_dataset/98b0908b-a272-4d8f-96a6-2ed932fab9d5.avi: name 'display_image' is not defined\n",
      "Обработка видео...\n"
     ]
    },
    {
     "name": "stderr",
     "output_type": "stream",
     "text": [
      " 61%|██████    | 850/1397 [07:01<04:33,  2.00it/s]"
     ]
    },
    {
     "name": "stdout",
     "output_type": "stream",
     "text": [
      "('sword_exercise', 0.0)\n",
      "Ошибка при обработке видео test_data/test_dataset/98f6fb1b-577f-4293-9ad3-f105c9ed16b7.avi: name 'display_image' is not defined\n",
      "Обработка видео...\n"
     ]
    },
    {
     "name": "stderr",
     "output_type": "stream",
     "text": [
      " 61%|██████    | 851/1397 [07:02<04:32,  2.00it/s]"
     ]
    },
    {
     "name": "stdout",
     "output_type": "stream",
     "text": [
      "('climb', 0.0)\n",
      "Ошибка при обработке видео test_data/test_dataset/98fc493d-efca-414a-8220-c85799ba5526.avi: name 'display_image' is not defined\n",
      "Обработка видео...\n"
     ]
    },
    {
     "name": "stderr",
     "output_type": "stream",
     "text": [
      " 61%|██████    | 852/1397 [07:02<04:36,  1.97it/s]"
     ]
    },
    {
     "name": "stdout",
     "output_type": "stream",
     "text": [
      "('cartwheel', 0.0)\n",
      "Ошибка при обработке видео test_data/test_dataset/9933f6ad-cb69-43cd-ba17-eef0ff200c33.avi: name 'display_image' is not defined\n",
      "Обработка видео...\n"
     ]
    },
    {
     "name": "stderr",
     "output_type": "stream",
     "text": [
      " 61%|██████    | 853/1397 [07:03<04:35,  1.98it/s]"
     ]
    },
    {
     "name": "stdout",
     "output_type": "stream",
     "text": [
      "('jump', 0.0)\n",
      "Ошибка при обработке видео test_data/test_dataset/99346013-f93f-4b58-9ade-7a93ae3b08b5.avi: name 'display_image' is not defined\n",
      "Обработка видео...\n"
     ]
    },
    {
     "name": "stderr",
     "output_type": "stream",
     "text": [
      " 61%|██████    | 854/1397 [07:03<04:32,  2.00it/s]"
     ]
    },
    {
     "name": "stdout",
     "output_type": "stream",
     "text": [
      "('hit', 0.0)\n",
      "Ошибка при обработке видео test_data/test_dataset/99aff249-9845-4ebe-8098-d96366a4ab6c.avi: name 'display_image' is not defined\n",
      "Обработка видео...\n"
     ]
    },
    {
     "name": "stderr",
     "output_type": "stream",
     "text": [
      " 61%|██████    | 855/1397 [07:04<04:30,  2.00it/s]"
     ]
    },
    {
     "name": "stdout",
     "output_type": "stream",
     "text": [
      "('shoot_ball', 0.0)\n",
      "Ошибка при обработке видео test_data/test_dataset/99b6fa51-49bd-477f-8db0-45fb3b472257.avi: name 'display_image' is not defined\n",
      "Обработка видео...\n"
     ]
    },
    {
     "name": "stderr",
     "output_type": "stream",
     "text": [
      " 61%|██████▏   | 856/1397 [07:04<04:27,  2.02it/s]"
     ]
    },
    {
     "name": "stdout",
     "output_type": "stream",
     "text": [
      "('pushup', 0.0)\n",
      "Ошибка при обработке видео test_data/test_dataset/99caab74-445d-4d5c-90cd-c52d489838a1.avi: name 'display_image' is not defined\n",
      "Обработка видео...\n"
     ]
    },
    {
     "name": "stderr",
     "output_type": "stream",
     "text": [
      " 61%|██████▏   | 857/1397 [07:05<04:25,  2.03it/s]"
     ]
    },
    {
     "name": "stdout",
     "output_type": "stream",
     "text": [
      "('shoot_ball', 0.0)\n",
      "Ошибка при обработке видео test_data/test_dataset/99ee0476-7207-4418-9b5a-bca584433cb8.avi: name 'display_image' is not defined\n",
      "Обработка видео...\n"
     ]
    },
    {
     "name": "stderr",
     "output_type": "stream",
     "text": [
      " 61%|██████▏   | 858/1397 [07:05<04:24,  2.04it/s]"
     ]
    },
    {
     "name": "stdout",
     "output_type": "stream",
     "text": [
      "('shoot_ball', 0.0)\n",
      "Ошибка при обработке видео test_data/test_dataset/9a0b2a09-bba7-4488-bca6-a23fc362afaa.avi: name 'display_image' is not defined\n",
      "Обработка видео...\n"
     ]
    },
    {
     "name": "stderr",
     "output_type": "stream",
     "text": [
      " 61%|██████▏   | 859/1397 [07:06<04:22,  2.05it/s]"
     ]
    },
    {
     "name": "stdout",
     "output_type": "stream",
     "text": [
      "('pullup', 0.0)\n",
      "Ошибка при обработке видео test_data/test_dataset/9a2193fc-7587-44af-ab7e-250725f7510d.avi: name 'display_image' is not defined\n",
      "Обработка видео...\n"
     ]
    },
    {
     "name": "stderr",
     "output_type": "stream",
     "text": [
      " 62%|██████▏   | 860/1397 [07:06<04:22,  2.05it/s]"
     ]
    },
    {
     "name": "stdout",
     "output_type": "stream",
     "text": [
      "('push', 0.0)\n",
      "Ошибка при обработке видео test_data/test_dataset/9a64579c-a857-4031-9783-28f6d75fba11.avi: name 'display_image' is not defined\n",
      "Обработка видео...\n"
     ]
    },
    {
     "name": "stderr",
     "output_type": "stream",
     "text": [
      " 62%|██████▏   | 861/1397 [07:07<04:22,  2.04it/s]"
     ]
    },
    {
     "name": "stdout",
     "output_type": "stream",
     "text": [
      "('shoot_ball', 0.0)\n",
      "Ошибка при обработке видео test_data/test_dataset/9b5920b9-d388-4628-b216-6d4d85bd1475.avi: name 'display_image' is not defined\n",
      "Обработка видео...\n"
     ]
    },
    {
     "name": "stderr",
     "output_type": "stream",
     "text": [
      " 62%|██████▏   | 862/1397 [07:07<04:21,  2.05it/s]"
     ]
    },
    {
     "name": "stdout",
     "output_type": "stream",
     "text": [
      "('dive', 0.0)\n",
      "Ошибка при обработке видео test_data/test_dataset/9bbd3516-7863-46dc-88be-7620dd87ef89.avi: name 'display_image' is not defined\n",
      "Обработка видео...\n"
     ]
    },
    {
     "name": "stderr",
     "output_type": "stream",
     "text": [
      " 62%|██████▏   | 863/1397 [07:08<04:24,  2.02it/s]"
     ]
    },
    {
     "name": "stdout",
     "output_type": "stream",
     "text": [
      "('handstand', 0.0)\n",
      "Ошибка при обработке видео test_data/test_dataset/9bed5a1b-062b-4391-95fe-a7ca7a347b1a.avi: name 'display_image' is not defined\n",
      "Обработка видео...\n"
     ]
    },
    {
     "name": "stderr",
     "output_type": "stream",
     "text": [
      " 62%|██████▏   | 864/1397 [07:08<04:22,  2.03it/s]"
     ]
    },
    {
     "name": "stdout",
     "output_type": "stream",
     "text": [
      "('pushup', 0.0)\n",
      "Ошибка при обработке видео test_data/test_dataset/9c1204c1-8e5b-4600-b576-5bf9bd5e882a.avi: name 'display_image' is not defined\n",
      "Обработка видео...\n"
     ]
    },
    {
     "name": "stderr",
     "output_type": "stream",
     "text": [
      " 62%|██████▏   | 865/1397 [07:09<04:23,  2.02it/s]"
     ]
    },
    {
     "name": "stdout",
     "output_type": "stream",
     "text": [
      "('sword_exercise', 0.0)\n",
      "Ошибка при обработке видео test_data/test_dataset/9c798aa5-5704-4d2e-a638-9a2803ce02c0.avi: name 'display_image' is not defined\n",
      "Обработка видео...\n"
     ]
    },
    {
     "name": "stderr",
     "output_type": "stream",
     "text": [
      " 62%|██████▏   | 866/1397 [07:09<04:22,  2.03it/s]"
     ]
    },
    {
     "name": "stdout",
     "output_type": "stream",
     "text": [
      "('fencing', 0.0)\n",
      "Ошибка при обработке видео test_data/test_dataset/9c88bb2f-bea2-4d82-96ce-280d0cf71992.avi: name 'display_image' is not defined\n",
      "Обработка видео...\n"
     ]
    },
    {
     "name": "stderr",
     "output_type": "stream",
     "text": [
      " 62%|██████▏   | 867/1397 [07:10<04:22,  2.02it/s]"
     ]
    },
    {
     "name": "stdout",
     "output_type": "stream",
     "text": [
      "('swing_baseball', 0.0)\n",
      "Ошибка при обработке видео test_data/test_dataset/9c9bdf1b-31b3-4bb2-bcf5-cee7f2a0bc19.avi: name 'display_image' is not defined\n",
      "Обработка видео...\n"
     ]
    },
    {
     "name": "stderr",
     "output_type": "stream",
     "text": [
      " 62%|██████▏   | 868/1397 [07:10<04:26,  1.99it/s]"
     ]
    },
    {
     "name": "stdout",
     "output_type": "stream",
     "text": [
      "('handstand', 0.0)\n",
      "Ошибка при обработке видео test_data/test_dataset/9cad74d7-5998-4deb-80fd-25d87f075d25.avi: name 'display_image' is not defined\n",
      "Обработка видео...\n"
     ]
    },
    {
     "name": "stderr",
     "output_type": "stream",
     "text": [
      " 62%|██████▏   | 869/1397 [07:11<04:24,  1.99it/s]"
     ]
    },
    {
     "name": "stdout",
     "output_type": "stream",
     "text": [
      "('flic_flac', 0.0)\n",
      "Ошибка при обработке видео test_data/test_dataset/9d4a257a-de59-497a-aac7-ac0dc612c63a.avi: name 'display_image' is not defined\n",
      "Обработка видео...\n"
     ]
    },
    {
     "name": "stderr",
     "output_type": "stream",
     "text": [
      " 62%|██████▏   | 870/1397 [07:11<04:23,  2.00it/s]"
     ]
    },
    {
     "name": "stdout",
     "output_type": "stream",
     "text": [
      "('shoot_ball', 0.0)\n",
      "Ошибка при обработке видео test_data/test_dataset/9e954509-ee16-4397-a624-10d67c7e3bf3.avi: name 'display_image' is not defined\n",
      "Обработка видео...\n"
     ]
    },
    {
     "name": "stderr",
     "output_type": "stream",
     "text": [
      " 62%|██████▏   | 871/1397 [07:12<04:21,  2.01it/s]"
     ]
    },
    {
     "name": "stdout",
     "output_type": "stream",
     "text": [
      "('swing_baseball', 0.0)\n",
      "Ошибка при обработке видео test_data/test_dataset/9ec996e0-ea94-403d-bce9-84509bb05f39.avi: name 'display_image' is not defined\n",
      "Обработка видео...\n"
     ]
    },
    {
     "name": "stderr",
     "output_type": "stream",
     "text": [
      " 62%|██████▏   | 872/1397 [07:12<04:20,  2.02it/s]"
     ]
    },
    {
     "name": "stdout",
     "output_type": "stream",
     "text": [
      "('flic_flac', 0.0)\n",
      "Ошибка при обработке видео test_data/test_dataset/9ee04117-a317-4669-85ad-a3a954eec400.avi: name 'display_image' is not defined\n",
      "Обработка видео...\n"
     ]
    },
    {
     "name": "stderr",
     "output_type": "stream",
     "text": [
      " 62%|██████▏   | 873/1397 [07:13<04:19,  2.02it/s]"
     ]
    },
    {
     "name": "stdout",
     "output_type": "stream",
     "text": [
      "('sit', 0.0)\n",
      "Ошибка при обработке видео test_data/test_dataset/9f626ccb-0295-4a9f-9960-90c4262babd4.avi: name 'display_image' is not defined\n",
      "Обработка видео...\n"
     ]
    },
    {
     "name": "stderr",
     "output_type": "stream",
     "text": [
      " 63%|██████▎   | 874/1397 [07:13<04:19,  2.01it/s]"
     ]
    },
    {
     "name": "stdout",
     "output_type": "stream",
     "text": [
      "('golf', 0.0)\n",
      "Ошибка при обработке видео test_data/test_dataset/9f69670a-6d33-44ad-a44a-b94c642aa5af.avi: name 'display_image' is not defined\n",
      "Обработка видео...\n"
     ]
    },
    {
     "name": "stderr",
     "output_type": "stream",
     "text": [
      " 63%|██████▎   | 875/1397 [07:14<04:18,  2.02it/s]"
     ]
    },
    {
     "name": "stdout",
     "output_type": "stream",
     "text": [
      "('cartwheel', 0.0)\n",
      "Ошибка при обработке видео test_data/test_dataset/9f6d0ce0-06da-41dc-bea6-632ba30ee74a.avi: name 'display_image' is not defined\n",
      "Обработка видео...\n"
     ]
    },
    {
     "name": "stderr",
     "output_type": "stream",
     "text": [
      " 63%|██████▎   | 876/1397 [07:14<04:18,  2.02it/s]"
     ]
    },
    {
     "name": "stdout",
     "output_type": "stream",
     "text": [
      "('pushup', 0.0)\n",
      "Ошибка при обработке видео test_data/test_dataset/9f76b7bf-7521-4add-849b-60d0ff7ba6c2.avi: name 'display_image' is not defined\n",
      "Обработка видео...\n"
     ]
    },
    {
     "name": "stderr",
     "output_type": "stream",
     "text": [
      " 63%|██████▎   | 877/1397 [07:15<04:17,  2.02it/s]"
     ]
    },
    {
     "name": "stdout",
     "output_type": "stream",
     "text": [
      "('dribble', 0.0)\n",
      "Ошибка при обработке видео test_data/test_dataset/9fc2fbb3-ea30-46e4-9cdb-d0763f8f0c99.avi: name 'display_image' is not defined\n",
      "Обработка видео...\n",
      "('dive', 0.0)"
     ]
    },
    {
     "name": "stderr",
     "output_type": "stream",
     "text": [
      " 63%|██████▎   | 878/1397 [07:15<04:19,  2.00it/s]"
     ]
    },
    {
     "name": "stdout",
     "output_type": "stream",
     "text": [
      "\n",
      "Ошибка при обработке видео test_data/test_dataset/9fe6e6ef-1013-43c4-b836-d0c8283543f3.avi: name 'display_image' is not defined\n",
      "Обработка видео...\n"
     ]
    },
    {
     "name": "stderr",
     "output_type": "stream",
     "text": [
      " 63%|██████▎   | 879/1397 [07:16<04:18,  2.00it/s]"
     ]
    },
    {
     "name": "stdout",
     "output_type": "stream",
     "text": [
      "('push', 0.0)\n",
      "Ошибка при обработке видео test_data/test_dataset/9ffc24fc-69c0-4591-ad19-23f95e1f2a51.avi: name 'display_image' is not defined\n",
      "Обработка видео...\n"
     ]
    },
    {
     "name": "stderr",
     "output_type": "stream",
     "text": [
      " 63%|██████▎   | 880/1397 [07:16<04:16,  2.02it/s]"
     ]
    },
    {
     "name": "stdout",
     "output_type": "stream",
     "text": [
      "('sit', 0.0)\n",
      "Ошибка при обработке видео test_data/test_dataset/a00b0f5f-9ff4-479a-9ea4-54fbcda7dddd.avi: name 'display_image' is not defined\n",
      "Обработка видео...\n"
     ]
    },
    {
     "name": "stderr",
     "output_type": "stream",
     "text": [
      " 63%|██████▎   | 881/1397 [07:17<04:17,  2.01it/s]"
     ]
    },
    {
     "name": "stdout",
     "output_type": "stream",
     "text": [
      "('shoot_ball', 0.0)\n",
      "Ошибка при обработке видео test_data/test_dataset/a02ce444-a75b-40fa-8ae8-c8d0d1a08c73.avi: name 'display_image' is not defined\n",
      "Обработка видео...\n",
      "('pushup', 0.0)\n",
      "Ошибка при обработке видео test_data/test_dataset/a04148ed-2944-42dc-a0e1-cf49aeca2969.avi: name 'display_image' is not defined\n"
     ]
    },
    {
     "name": "stderr",
     "output_type": "stream",
     "text": [
      " 63%|██████▎   | 882/1397 [07:17<04:14,  2.02it/s]"
     ]
    },
    {
     "name": "stdout",
     "output_type": "stream",
     "text": [
      "Обработка видео...\n"
     ]
    },
    {
     "name": "stderr",
     "output_type": "stream",
     "text": [
      " 63%|██████▎   | 883/1397 [07:18<04:13,  2.02it/s]"
     ]
    },
    {
     "name": "stdout",
     "output_type": "stream",
     "text": [
      "('pushup', 0.0)\n",
      "Ошибка при обработке видео test_data/test_dataset/a09acc6f-329e-48e2-9804-eb817108708a.avi: name 'display_image' is not defined\n",
      "Обработка видео...\n"
     ]
    },
    {
     "name": "stderr",
     "output_type": "stream",
     "text": [
      " 63%|██████▎   | 884/1397 [07:18<04:16,  2.00it/s]"
     ]
    },
    {
     "name": "stdout",
     "output_type": "stream",
     "text": [
      "('pullup', 0.0)\n",
      "Ошибка при обработке видео test_data/test_dataset/a0c14f8d-f4e7-45ce-81d7-d6b92cc93926.avi: name 'display_image' is not defined\n",
      "Обработка видео...\n",
      "('shoot_ball', 0.0)"
     ]
    },
    {
     "name": "stderr",
     "output_type": "stream",
     "text": [
      " 63%|██████▎   | 885/1397 [07:19<04:14,  2.01it/s]"
     ]
    },
    {
     "name": "stdout",
     "output_type": "stream",
     "text": [
      "\n",
      "Ошибка при обработке видео test_data/test_dataset/a0d65ca8-fff1-4573-94c6-024fd3b7221d.avi: name 'display_image' is not defined\n",
      "Обработка видео...\n"
     ]
    },
    {
     "name": "stderr",
     "output_type": "stream",
     "text": [
      " 63%|██████▎   | 886/1397 [07:19<04:13,  2.02it/s]"
     ]
    },
    {
     "name": "stdout",
     "output_type": "stream",
     "text": [
      "('golf', 0.0)\n",
      "Ошибка при обработке видео test_data/test_dataset/a0d928fe-b299-4d1e-af08-726e3933e884.avi: name 'display_image' is not defined\n",
      "Обработка видео...\n"
     ]
    },
    {
     "name": "stderr",
     "output_type": "stream",
     "text": [
      " 63%|██████▎   | 887/1397 [07:20<04:12,  2.02it/s]"
     ]
    },
    {
     "name": "stdout",
     "output_type": "stream",
     "text": [
      "('handstand', 0.0)\n",
      "Ошибка при обработке видео test_data/test_dataset/a11be03e-76e1-409e-ae22-bfd5f551db75.avi: name 'display_image' is not defined\n",
      "Обработка видео...\n"
     ]
    },
    {
     "name": "stderr",
     "output_type": "stream",
     "text": [
      " 64%|██████▎   | 888/1397 [07:20<04:11,  2.03it/s]"
     ]
    },
    {
     "name": "stdout",
     "output_type": "stream",
     "text": [
      "('cartwheel', 0.0)\n",
      "Ошибка при обработке видео test_data/test_dataset/a148b388-6d5c-46ef-95e2-5f6550f956eb.avi: name 'display_image' is not defined\n",
      "Обработка видео...\n"
     ]
    },
    {
     "name": "stderr",
     "output_type": "stream",
     "text": [
      " 64%|██████▎   | 889/1397 [07:21<04:09,  2.03it/s]"
     ]
    },
    {
     "name": "stdout",
     "output_type": "stream",
     "text": [
      "('flic_flac', 0.0)\n",
      "Ошибка при обработке видео test_data/test_dataset/a1a967b3-3f5e-41e7-9c04-ea091119dc39.avi: name 'display_image' is not defined\n",
      "Обработка видео...\n"
     ]
    },
    {
     "name": "stderr",
     "output_type": "stream",
     "text": [
      " 64%|██████▎   | 890/1397 [07:21<04:08,  2.04it/s]"
     ]
    },
    {
     "name": "stdout",
     "output_type": "stream",
     "text": [
      "('shoot_ball', 0.0)\n",
      "Ошибка при обработке видео test_data/test_dataset/a1e73e62-d415-4bdf-b479-8d12d8ad6379.avi: name 'display_image' is not defined\n",
      "Обработка видео...\n"
     ]
    },
    {
     "name": "stderr",
     "output_type": "stream",
     "text": [
      " 64%|██████▍   | 891/1397 [07:22<04:10,  2.02it/s]"
     ]
    },
    {
     "name": "stdout",
     "output_type": "stream",
     "text": [
      "('throw', 0.0)\n",
      "Ошибка при обработке видео test_data/test_dataset/a1e8e76f-26c0-4044-af94-e6b2d5fccea9.avi: name 'display_image' is not defined\n",
      "Обработка видео...\n"
     ]
    },
    {
     "name": "stderr",
     "output_type": "stream",
     "text": [
      " 64%|██████▍   | 892/1397 [07:22<04:07,  2.04it/s]"
     ]
    },
    {
     "name": "stdout",
     "output_type": "stream",
     "text": [
      "('pushup', 0.0)\n",
      "Ошибка при обработке видео test_data/test_dataset/a20b7f10-5e80-4edd-85ac-a8acb1774dab.avi: name 'display_image' is not defined\n",
      "Обработка видео...\n"
     ]
    },
    {
     "name": "stderr",
     "output_type": "stream",
     "text": [
      " 64%|██████▍   | 893/1397 [07:23<04:06,  2.05it/s]"
     ]
    },
    {
     "name": "stdout",
     "output_type": "stream",
     "text": [
      "('jump', 0.0)\n",
      "Ошибка при обработке видео test_data/test_dataset/a237460d-dcf7-4c62-9d0d-9c7cfe4763dc.avi: name 'display_image' is not defined\n",
      "Обработка видео...\n"
     ]
    },
    {
     "name": "stderr",
     "output_type": "stream",
     "text": [
      " 64%|██████▍   | 894/1397 [07:23<04:06,  2.04it/s]"
     ]
    },
    {
     "name": "stdout",
     "output_type": "stream",
     "text": [
      "('golf', 0.0)\n",
      "Ошибка при обработке видео test_data/test_dataset/a23b8c3e-ff4e-4a13-8a1b-8386efb86568.avi: name 'display_image' is not defined\n",
      "Обработка видео...\n"
     ]
    },
    {
     "name": "stderr",
     "output_type": "stream",
     "text": [
      " 64%|██████▍   | 895/1397 [07:24<04:09,  2.01it/s]"
     ]
    },
    {
     "name": "stdout",
     "output_type": "stream",
     "text": [
      "('throw', 0.0)\n",
      "Ошибка при обработке видео test_data/test_dataset/a25db27c-2011-4036-88b1-1cf0c328041e.avi: name 'display_image' is not defined\n",
      "Обработка видео...\n"
     ]
    },
    {
     "name": "stderr",
     "output_type": "stream",
     "text": [
      " 64%|██████▍   | 896/1397 [07:24<04:10,  2.00it/s]"
     ]
    },
    {
     "name": "stdout",
     "output_type": "stream",
     "text": [
      "('handstand', 0.0)\n",
      "Ошибка при обработке видео test_data/test_dataset/a27d160d-5445-4816-b851-1048bf0b521c.avi: name 'display_image' is not defined\n",
      "Обработка видео...\n"
     ]
    },
    {
     "name": "stderr",
     "output_type": "stream",
     "text": [
      " 64%|██████▍   | 897/1397 [07:25<04:10,  2.00it/s]"
     ]
    },
    {
     "name": "stdout",
     "output_type": "stream",
     "text": [
      "('pick', 0.0)\n",
      "Ошибка при обработке видео test_data/test_dataset/a282ac79-379e-45aa-b747-d29e43e10fb1.avi: name 'display_image' is not defined\n",
      "Обработка видео...\n"
     ]
    },
    {
     "name": "stderr",
     "output_type": "stream",
     "text": [
      " 64%|██████▍   | 898/1397 [07:25<04:08,  2.01it/s]"
     ]
    },
    {
     "name": "stdout",
     "output_type": "stream",
     "text": [
      "('pullup', 0.0)\n",
      "Ошибка при обработке видео test_data/test_dataset/a2971bd9-cacf-48e4-b9f4-90697b16f84b.avi: name 'display_image' is not defined\n",
      "Обработка видео...\n"
     ]
    },
    {
     "name": "stderr",
     "output_type": "stream",
     "text": [
      " 64%|██████▍   | 899/1397 [07:26<04:07,  2.01it/s]"
     ]
    },
    {
     "name": "stdout",
     "output_type": "stream",
     "text": [
      "('handstand', 0.0)\n",
      "Ошибка при обработке видео test_data/test_dataset/a29e8e39-ebb3-4f3f-b4fb-2ed38597de28.avi: name 'display_image' is not defined\n",
      "Обработка видео...\n"
     ]
    },
    {
     "name": "stderr",
     "output_type": "stream",
     "text": [
      " 64%|██████▍   | 900/1397 [07:26<04:06,  2.02it/s]"
     ]
    },
    {
     "name": "stdout",
     "output_type": "stream",
     "text": [
      "('climb', 0.0)\n",
      "Ошибка при обработке видео test_data/test_dataset/a2f222e4-436f-4d40-a2f4-fdc09a1eb19c.avi: name 'display_image' is not defined\n",
      "Обработка видео...\n"
     ]
    },
    {
     "name": "stderr",
     "output_type": "stream",
     "text": [
      " 64%|██████▍   | 901/1397 [07:27<04:06,  2.01it/s]"
     ]
    },
    {
     "name": "stdout",
     "output_type": "stream",
     "text": [
      "('shoot_ball', 0.0)\n",
      "Ошибка при обработке видео test_data/test_dataset/a2f97883-8680-4b5a-b7c5-debcf49b5c74.avi: name 'display_image' is not defined\n",
      "Обработка видео...\n"
     ]
    },
    {
     "name": "stderr",
     "output_type": "stream",
     "text": [
      " 65%|██████▍   | 902/1397 [07:27<04:04,  2.02it/s]"
     ]
    },
    {
     "name": "stdout",
     "output_type": "stream",
     "text": [
      "('sit', 0.0)\n",
      "Ошибка при обработке видео test_data/test_dataset/a3016d00-ea51-4adc-84aa-c93c6a910cbb.avi: name 'display_image' is not defined\n",
      "Обработка видео..."
     ]
    },
    {
     "name": "stderr",
     "output_type": "stream",
     "text": [
      " 65%|██████▍   | 903/1397 [07:28<04:03,  2.03it/s]"
     ]
    },
    {
     "name": "stdout",
     "output_type": "stream",
     "text": [
      "\n",
      "('cartwheel', 0.0)\n",
      "Ошибка при обработке видео test_data/test_dataset/a38dfdbf-5c49-4602-aba3-9bba9e430a6d.avi: name 'display_image' is not defined\n",
      "Обработка видео...\n"
     ]
    },
    {
     "name": "stderr",
     "output_type": "stream",
     "text": [
      " 65%|██████▍   | 904/1397 [07:28<04:02,  2.04it/s]"
     ]
    },
    {
     "name": "stdout",
     "output_type": "stream",
     "text": [
      "('cartwheel', 0.0)\n",
      "Ошибка при обработке видео test_data/test_dataset/a39f6808-66b1-4a9d-82a5-ac48c0d4dd73.avi: name 'display_image' is not defined\n",
      "Обработка видео...\n"
     ]
    },
    {
     "name": "stderr",
     "output_type": "stream",
     "text": [
      " 65%|██████▍   | 905/1397 [07:29<04:02,  2.03it/s]"
     ]
    },
    {
     "name": "stdout",
     "output_type": "stream",
     "text": [
      "('handstand', 0.0)\n",
      "Ошибка при обработке видео test_data/test_dataset/a3dfbc51-c686-4470-bd0b-ea38819dcd8c.avi: name 'display_image' is not defined\n",
      "Обработка видео...\n"
     ]
    },
    {
     "name": "stderr",
     "output_type": "stream",
     "text": [
      " 65%|██████▍   | 906/1397 [07:29<04:04,  2.01it/s]"
     ]
    },
    {
     "name": "stdout",
     "output_type": "stream",
     "text": [
      "('golf', 0.0)\n",
      "Ошибка при обработке видео test_data/test_dataset/a46b44b3-7495-4c4d-a01e-c3d6e9f63df1.avi: name 'display_image' is not defined\n",
      "Обработка видео...\n"
     ]
    },
    {
     "name": "stderr",
     "output_type": "stream",
     "text": [
      " 65%|██████▍   | 907/1397 [07:30<04:06,  1.99it/s]"
     ]
    },
    {
     "name": "stdout",
     "output_type": "stream",
     "text": [
      "('pushup', 0.0)\n",
      "Ошибка при обработке видео test_data/test_dataset/a4bb2697-0760-47f0-b44c-a95dd7b65162.avi: name 'display_image' is not defined\n",
      "Обработка видео...\n"
     ]
    },
    {
     "name": "stderr",
     "output_type": "stream",
     "text": [
      " 65%|██████▍   | 908/1397 [07:30<04:05,  1.99it/s]"
     ]
    },
    {
     "name": "stdout",
     "output_type": "stream",
     "text": [
      "('pick', 0.0)\n",
      "Ошибка при обработке видео test_data/test_dataset/a4c9520a-8611-4ad9-8ec9-b1692f5bc9cf.avi: name 'display_image' is not defined\n",
      "Обработка видео...\n"
     ]
    },
    {
     "name": "stderr",
     "output_type": "stream",
     "text": [
      " 65%|██████▌   | 909/1397 [07:31<04:05,  1.99it/s]"
     ]
    },
    {
     "name": "stdout",
     "output_type": "stream",
     "text": [
      "('situp', 0.0)\n",
      "Ошибка при обработке видео test_data/test_dataset/a516118e-0dc8-419e-9288-83d93a4ffba1.avi: name 'display_image' is not defined\n",
      "Обработка видео...\n"
     ]
    },
    {
     "name": "stderr",
     "output_type": "stream",
     "text": [
      " 65%|██████▌   | 910/1397 [07:31<04:02,  2.00it/s]"
     ]
    },
    {
     "name": "stdout",
     "output_type": "stream",
     "text": [
      "('cartwheel', 0.0)\n",
      "Ошибка при обработке видео test_data/test_dataset/a5241ec2-52d1-41dc-a667-0e358ee4f06e.avi: name 'display_image' is not defined\n",
      "Обработка видео...\n"
     ]
    },
    {
     "name": "stderr",
     "output_type": "stream",
     "text": [
      " 65%|██████▌   | 911/1397 [07:32<04:01,  2.02it/s]"
     ]
    },
    {
     "name": "stdout",
     "output_type": "stream",
     "text": [
      "('handstand', 0.0)\n",
      "Ошибка при обработке видео test_data/test_dataset/a5a13d4d-087b-4a0c-9bed-96220da2231d.avi: name 'display_image' is not defined\n",
      "Обработка видео...\n"
     ]
    },
    {
     "name": "stderr",
     "output_type": "stream",
     "text": [
      " 65%|██████▌   | 912/1397 [07:32<03:59,  2.02it/s]"
     ]
    },
    {
     "name": "stdout",
     "output_type": "stream",
     "text": [
      "('pushup', 0.0)\n",
      "Ошибка при обработке видео test_data/test_dataset/a5a56616-f96c-43ee-b7a3-f888940116ea.avi: name 'display_image' is not defined\n",
      "Обработка видео...\n"
     ]
    },
    {
     "name": "stderr",
     "output_type": "stream",
     "text": [
      " 65%|██████▌   | 913/1397 [07:33<03:58,  2.03it/s]"
     ]
    },
    {
     "name": "stdout",
     "output_type": "stream",
     "text": [
      "('handstand', 0.0)\n",
      "Ошибка при обработке видео test_data/test_dataset/a64111d5-1902-419b-b2f4-8f2920f88de7.avi: name 'display_image' is not defined\n",
      "Обработка видео...\n"
     ]
    },
    {
     "name": "stderr",
     "output_type": "stream",
     "text": [
      " 65%|██████▌   | 914/1397 [07:33<03:56,  2.04it/s]"
     ]
    },
    {
     "name": "stdout",
     "output_type": "stream",
     "text": [
      "('pullup', 0.0)\n",
      "Ошибка при обработке видео test_data/test_dataset/a6518ab5-9f88-4703-81bc-9bdfc0fbe537.avi: name 'display_image' is not defined\n",
      "Обработка видео...\n"
     ]
    },
    {
     "name": "stderr",
     "output_type": "stream",
     "text": [
      " 65%|██████▌   | 915/1397 [07:34<03:56,  2.04it/s]"
     ]
    },
    {
     "name": "stdout",
     "output_type": "stream",
     "text": [
      "('shoot_ball', 0.0)\n",
      "Ошибка при обработке видео test_data/test_dataset/a6573883-ed6b-4470-bbd1-4e44d4c73ba0.avi: name 'display_image' is not defined\n",
      "Обработка видео...\n",
      "('swing_baseball', 0.0)"
     ]
    },
    {
     "name": "stderr",
     "output_type": "stream",
     "text": [
      " 66%|██████▌   | 916/1397 [07:34<03:59,  2.01it/s]"
     ]
    },
    {
     "name": "stdout",
     "output_type": "stream",
     "text": [
      "\n",
      "Ошибка при обработке видео test_data/test_dataset/a683bb75-3e19-4203-b191-cef1c8f87921.avi: name 'display_image' is not defined\n",
      "Обработка видео...\n"
     ]
    },
    {
     "name": "stderr",
     "output_type": "stream",
     "text": [
      " 66%|██████▌   | 917/1397 [07:35<03:57,  2.02it/s]"
     ]
    },
    {
     "name": "stdout",
     "output_type": "stream",
     "text": [
      "('handstand', 0.0)\n",
      "Ошибка при обработке видео test_data/test_dataset/a6905c63-6002-4afa-8521-29ad21cd5882.avi: name 'display_image' is not defined\n",
      "Обработка видео...\n"
     ]
    },
    {
     "name": "stderr",
     "output_type": "stream",
     "text": [
      " 66%|██████▌   | 918/1397 [07:35<03:57,  2.02it/s]"
     ]
    },
    {
     "name": "stdout",
     "output_type": "stream",
     "text": [
      "('dive', 0.0)\n",
      "Ошибка при обработке видео test_data/test_dataset/a6b172ad-2c28-449c-9dfc-0c092c940b29.avi: name 'display_image' is not defined\n",
      "Обработка видео...\n"
     ]
    },
    {
     "name": "stderr",
     "output_type": "stream",
     "text": [
      " 66%|██████▌   | 919/1397 [07:36<03:56,  2.02it/s]"
     ]
    },
    {
     "name": "stdout",
     "output_type": "stream",
     "text": [
      "('golf', 0.0)\n",
      "Ошибка при обработке видео test_data/test_dataset/a6b39962-7a78-48d5-ac59-c2d94995d112.avi: name 'display_image' is not defined\n",
      "Обработка видео...\n"
     ]
    },
    {
     "name": "stderr",
     "output_type": "stream",
     "text": [
      " 66%|██████▌   | 920/1397 [07:36<03:56,  2.02it/s]"
     ]
    },
    {
     "name": "stdout",
     "output_type": "stream",
     "text": [
      "('pullup', 0.0)\n",
      "Ошибка при обработке видео test_data/test_dataset/a72bd684-2499-4a8e-a428-3aea873d668f.avi: name 'display_image' is not defined\n",
      "Обработка видео...\n"
     ]
    },
    {
     "name": "stderr",
     "output_type": "stream",
     "text": [
      " 66%|██████▌   | 921/1397 [07:37<03:55,  2.02it/s]"
     ]
    },
    {
     "name": "stdout",
     "output_type": "stream",
     "text": [
      "('dive', 0.0)\n",
      "Ошибка при обработке видео test_data/test_dataset/a77ae188-83c5-47b4-9428-1642194cf3fe.avi: name 'display_image' is not defined\n",
      "Обработка видео...\n",
      "('swing_baseball', 0.0)"
     ]
    },
    {
     "name": "stderr",
     "output_type": "stream",
     "text": [
      " 66%|██████▌   | 922/1397 [07:37<03:54,  2.03it/s]"
     ]
    },
    {
     "name": "stdout",
     "output_type": "stream",
     "text": [
      "\n",
      "Ошибка при обработке видео test_data/test_dataset/a7809c4a-662c-4706-8143-ca197ed80f25.avi: name 'display_image' is not defined\n",
      "Обработка видео...\n"
     ]
    },
    {
     "name": "stderr",
     "output_type": "stream",
     "text": [
      " 66%|██████▌   | 923/1397 [07:38<03:52,  2.04it/s]"
     ]
    },
    {
     "name": "stdout",
     "output_type": "stream",
     "text": [
      "('pushup', 0.0)\n",
      "Ошибка при обработке видео test_data/test_dataset/a798d7bd-957b-4ec3-b3a3-46efd826cb0f.avi: name 'display_image' is not defined\n",
      "Обработка видео...\n"
     ]
    },
    {
     "name": "stderr",
     "output_type": "stream",
     "text": [
      " 66%|██████▌   | 924/1397 [07:38<03:52,  2.03it/s]"
     ]
    },
    {
     "name": "stdout",
     "output_type": "stream",
     "text": [
      "('cartwheel', 0.0)\n",
      "Ошибка при обработке видео test_data/test_dataset/a7d9ec62-21ff-4ba9-8da0-735a87a4c995.avi: name 'display_image' is not defined\n",
      "Обработка видео...\n",
      "('flic_flac', 0.0)"
     ]
    },
    {
     "name": "stderr",
     "output_type": "stream",
     "text": [
      " 66%|██████▌   | 925/1397 [07:39<03:52,  2.03it/s]"
     ]
    },
    {
     "name": "stdout",
     "output_type": "stream",
     "text": [
      "\n",
      "Ошибка при обработке видео test_data/test_dataset/a816efb7-3287-4f43-b409-d3d96f5426d8.avi: name 'display_image' is not defined\n",
      "Обработка видео...\n",
      "('dribble', 0.0)\n",
      "Ошибка при обработке видео test_data/test_dataset/a8181d1d-62a5-49f6-966b-775a2e4c553d.avi: name 'display_image' is not defined\n"
     ]
    },
    {
     "name": "stderr",
     "output_type": "stream",
     "text": [
      " 66%|██████▋   | 926/1397 [07:39<03:53,  2.02it/s]"
     ]
    },
    {
     "name": "stdout",
     "output_type": "stream",
     "text": [
      "Обработка видео...\n"
     ]
    },
    {
     "name": "stderr",
     "output_type": "stream",
     "text": [
      " 66%|██████▋   | 927/1397 [07:40<03:54,  2.00it/s]"
     ]
    },
    {
     "name": "stdout",
     "output_type": "stream",
     "text": [
      "('flic_flac', 0.0)\n",
      "Ошибка при обработке видео test_data/test_dataset/a839ff61-b95c-4359-a4a4-6622b1d16f7d.avi: name 'display_image' is not defined\n",
      "Обработка видео...\n"
     ]
    },
    {
     "name": "stderr",
     "output_type": "stream",
     "text": [
      " 66%|██████▋   | 928/1397 [07:40<03:57,  1.98it/s]"
     ]
    },
    {
     "name": "stdout",
     "output_type": "stream",
     "text": [
      "('jump', 0.0)\n",
      "Ошибка при обработке видео test_data/test_dataset/a89d0b99-16da-4d17-9c8f-28b42f959ef2.avi: name 'display_image' is not defined\n",
      "Обработка видео...\n"
     ]
    },
    {
     "name": "stderr",
     "output_type": "stream",
     "text": [
      " 66%|██████▋   | 929/1397 [07:41<03:53,  2.00it/s]"
     ]
    },
    {
     "name": "stdout",
     "output_type": "stream",
     "text": [
      "('golf', 0.0)\n",
      "Ошибка при обработке видео test_data/test_dataset/a8ed94bc-0816-4c3f-93a2-ba68fe03706a.avi: name 'display_image' is not defined\n",
      "Обработка видео...\n"
     ]
    },
    {
     "name": "stderr",
     "output_type": "stream",
     "text": [
      " 67%|██████▋   | 930/1397 [07:41<03:51,  2.02it/s]"
     ]
    },
    {
     "name": "stdout",
     "output_type": "stream",
     "text": [
      "('flic_flac', 0.0)\n",
      "Ошибка при обработке видео test_data/test_dataset/a90f463a-d75c-4f02-b19e-46992698ca62.avi: name 'display_image' is not defined\n",
      "Обработка видео...\n"
     ]
    },
    {
     "name": "stderr",
     "output_type": "stream",
     "text": [
      " 67%|██████▋   | 931/1397 [07:42<03:50,  2.02it/s]"
     ]
    },
    {
     "name": "stdout",
     "output_type": "stream",
     "text": [
      "('golf', 0.0)\n",
      "Ошибка при обработке видео test_data/test_dataset/a929fb3c-8803-4720-a993-3155ca22a0d4.avi: name 'display_image' is not defined\n",
      "Обработка видео...\n"
     ]
    },
    {
     "name": "stderr",
     "output_type": "stream",
     "text": [
      " 67%|██████▋   | 932/1397 [07:42<03:49,  2.03it/s]"
     ]
    },
    {
     "name": "stdout",
     "output_type": "stream",
     "text": [
      "('shoot_ball', 0.0)\n",
      "Ошибка при обработке видео test_data/test_dataset/a9ab3777-b83c-482e-8f07-21292e9cee09.avi: name 'display_image' is not defined\n",
      "Обработка видео...\n"
     ]
    },
    {
     "name": "stderr",
     "output_type": "stream",
     "text": [
      " 67%|██████▋   | 933/1397 [07:43<03:49,  2.02it/s]"
     ]
    },
    {
     "name": "stdout",
     "output_type": "stream",
     "text": [
      "('sword_exercise', 0.0)\n",
      "Ошибка при обработке видео test_data/test_dataset/aa13e232-314b-428d-a952-bec5b5a4147f.avi: name 'display_image' is not defined\n",
      "Обработка видео...\n"
     ]
    },
    {
     "name": "stderr",
     "output_type": "stream",
     "text": [
      " 67%|██████▋   | 934/1397 [07:43<03:52,  1.99it/s]"
     ]
    },
    {
     "name": "stdout",
     "output_type": "stream",
     "text": [
      "('jump', 0.0)\n",
      "Ошибка при обработке видео test_data/test_dataset/aa28aea3-0401-4099-b9fd-0f5c2fa7bc75.avi: name 'display_image' is not defined\n",
      "Обработка видео...\n"
     ]
    },
    {
     "name": "stderr",
     "output_type": "stream",
     "text": [
      " 67%|██████▋   | 935/1397 [07:44<03:50,  2.00it/s]"
     ]
    },
    {
     "name": "stdout",
     "output_type": "stream",
     "text": [
      "('flic_flac', 0.0)\n",
      "Ошибка при обработке видео test_data/test_dataset/aa297ad5-e4ef-40bb-9a91-4d46cb2a2a3a.avi: name 'display_image' is not defined\n",
      "Обработка видео...\n"
     ]
    },
    {
     "name": "stderr",
     "output_type": "stream",
     "text": [
      " 67%|██████▋   | 936/1397 [07:44<03:49,  2.01it/s]"
     ]
    },
    {
     "name": "stdout",
     "output_type": "stream",
     "text": [
      "('sword_exercise', 0.0)\n",
      "Ошибка при обработке видео test_data/test_dataset/aa4645fa-85ee-4d28-a797-eb2f6e5d713c.avi: name 'display_image' is not defined\n",
      "Обработка видео...\n"
     ]
    },
    {
     "name": "stderr",
     "output_type": "stream",
     "text": [
      " 67%|██████▋   | 937/1397 [07:45<03:50,  1.99it/s]"
     ]
    },
    {
     "name": "stdout",
     "output_type": "stream",
     "text": [
      "('handstand', 0.0)\n",
      "Ошибка при обработке видео test_data/test_dataset/aa9a29cb-b407-4e24-b803-4882733045bf.avi: name 'display_image' is not defined\n",
      "Обработка видео...\n"
     ]
    },
    {
     "name": "stderr",
     "output_type": "stream",
     "text": [
      " 67%|██████▋   | 938/1397 [07:45<03:52,  1.98it/s]"
     ]
    },
    {
     "name": "stdout",
     "output_type": "stream",
     "text": [
      "('pushup', 0.0)\n",
      "Ошибка при обработке видео test_data/test_dataset/aa9bd0f5-b203-47fb-93ed-dfb2940982c2.avi: name 'display_image' is not defined\n",
      "Обработка видео...\n"
     ]
    },
    {
     "name": "stderr",
     "output_type": "stream",
     "text": [
      " 67%|██████▋   | 939/1397 [07:46<03:52,  1.97it/s]"
     ]
    },
    {
     "name": "stdout",
     "output_type": "stream",
     "text": [
      "('dive', 0.0)\n",
      "Ошибка при обработке видео test_data/test_dataset/aaa79ef6-031d-4d0a-9b51-d8de745a489b.avi: name 'display_image' is not defined\n",
      "Обработка видео...\n"
     ]
    },
    {
     "name": "stderr",
     "output_type": "stream",
     "text": [
      " 67%|██████▋   | 940/1397 [07:46<03:49,  1.99it/s]"
     ]
    },
    {
     "name": "stdout",
     "output_type": "stream",
     "text": [
      "('dive', 0.0)\n",
      "Ошибка при обработке видео test_data/test_dataset/aaa8db54-1dd2-4586-a07f-18e5d8d078f8.avi: name 'display_image' is not defined\n",
      "Обработка видео...\n"
     ]
    },
    {
     "name": "stderr",
     "output_type": "stream",
     "text": [
      " 67%|██████▋   | 941/1397 [07:47<03:47,  2.00it/s]"
     ]
    },
    {
     "name": "stdout",
     "output_type": "stream",
     "text": [
      "('golf', 0.0)\n",
      "Ошибка при обработке видео test_data/test_dataset/aaafb4fe-7095-4fc2-82c3-e72e3a4c35a2.avi: name 'display_image' is not defined\n",
      "Обработка видео...\n"
     ]
    },
    {
     "name": "stderr",
     "output_type": "stream",
     "text": [
      " 67%|██████▋   | 942/1397 [07:47<03:45,  2.02it/s]"
     ]
    },
    {
     "name": "stdout",
     "output_type": "stream",
     "text": [
      "('flic_flac', 0.0)\n",
      "Ошибка при обработке видео test_data/test_dataset/aab44826-5fb8-4f8b-9fb4-ce1506332e8f.avi: name 'display_image' is not defined\n",
      "Обработка видео...\n"
     ]
    },
    {
     "name": "stderr",
     "output_type": "stream",
     "text": [
      " 68%|██████▊   | 943/1397 [07:48<03:44,  2.02it/s]"
     ]
    },
    {
     "name": "stdout",
     "output_type": "stream",
     "text": [
      "('sword_exercise', 0.0)\n",
      "Ошибка при обработке видео test_data/test_dataset/aab63845-0b52-41c9-bab1-8610a6ac2a57.avi: name 'display_image' is not defined\n",
      "Обработка видео...\n"
     ]
    },
    {
     "name": "stderr",
     "output_type": "stream",
     "text": [
      " 68%|██████▊   | 944/1397 [07:48<03:44,  2.02it/s]"
     ]
    },
    {
     "name": "stdout",
     "output_type": "stream",
     "text": [
      "('dive', 0.0)\n",
      "Ошибка при обработке видео test_data/test_dataset/ab03f6f6-8a30-42ad-b291-a10596f887d7.avi: name 'display_image' is not defined\n",
      "Обработка видео...\n"
     ]
    },
    {
     "name": "stderr",
     "output_type": "stream",
     "text": [
      " 68%|██████▊   | 945/1397 [07:49<03:42,  2.03it/s]"
     ]
    },
    {
     "name": "stdout",
     "output_type": "stream",
     "text": [
      "('handstand', 0.0)\n",
      "Ошибка при обработке видео test_data/test_dataset/ab3ab150-0a84-49f8-b8fd-470b4bf1ed86.avi: name 'display_image' is not defined\n",
      "Обработка видео...\n"
     ]
    },
    {
     "name": "stderr",
     "output_type": "stream",
     "text": [
      " 68%|██████▊   | 946/1397 [07:49<03:40,  2.04it/s]"
     ]
    },
    {
     "name": "stdout",
     "output_type": "stream",
     "text": [
      "('pushup', 0.0)\n",
      "Ошибка при обработке видео test_data/test_dataset/ab66f358-4ed5-4655-b4c2-de0ff88d7b9d.avi: name 'display_image' is not defined\n",
      "Обработка видео...\n"
     ]
    },
    {
     "name": "stderr",
     "output_type": "stream",
     "text": [
      " 68%|██████▊   | 947/1397 [07:50<03:41,  2.03it/s]"
     ]
    },
    {
     "name": "stdout",
     "output_type": "stream",
     "text": [
      "('handstand', 0.0)\n",
      "Ошибка при обработке видео test_data/test_dataset/ab73ed1b-0796-48df-84b2-45dabf8ee740.avi: name 'display_image' is not defined\n",
      "Обработка видео...\n"
     ]
    },
    {
     "name": "stderr",
     "output_type": "stream",
     "text": [
      " 68%|██████▊   | 948/1397 [07:50<03:44,  2.00it/s]"
     ]
    },
    {
     "name": "stdout",
     "output_type": "stream",
     "text": [
      "('dive', 0.0)\n",
      "Ошибка при обработке видео test_data/test_dataset/ab7b69ca-a617-463f-a630-6deaa8586929.avi: name 'display_image' is not defined\n",
      "Обработка видео...\n"
     ]
    },
    {
     "name": "stderr",
     "output_type": "stream",
     "text": [
      " 68%|██████▊   | 949/1397 [07:51<03:42,  2.01it/s]"
     ]
    },
    {
     "name": "stdout",
     "output_type": "stream",
     "text": [
      "('pushup', 0.0)\n",
      "Ошибка при обработке видео test_data/test_dataset/ab966348-4ea5-4d3f-b1cb-41a4c1ae73e0.avi: name 'display_image' is not defined\n",
      "Обработка видео...\n"
     ]
    },
    {
     "name": "stderr",
     "output_type": "stream",
     "text": [
      " 68%|██████▊   | 950/1397 [07:51<03:40,  2.03it/s]"
     ]
    },
    {
     "name": "stdout",
     "output_type": "stream",
     "text": [
      "('pushup', 0.0)\n",
      "Ошибка при обработке видео test_data/test_dataset/ab9ddff0-0f11-400e-86d3-57a1293bebdb.avi: name 'display_image' is not defined\n",
      "Обработка видео...\n"
     ]
    },
    {
     "name": "stderr",
     "output_type": "stream",
     "text": [
      " 68%|██████▊   | 951/1397 [07:52<03:41,  2.02it/s]"
     ]
    },
    {
     "name": "stdout",
     "output_type": "stream",
     "text": [
      "('shoot_ball', 0.0)\n",
      "Ошибка при обработке видео test_data/test_dataset/abe11549-0ff4-41fc-a519-c65244e32e10.avi: name 'display_image' is not defined\n",
      "Обработка видео...\n"
     ]
    },
    {
     "name": "stderr",
     "output_type": "stream",
     "text": [
      " 68%|██████▊   | 952/1397 [07:52<03:40,  2.02it/s]"
     ]
    },
    {
     "name": "stdout",
     "output_type": "stream",
     "text": [
      "('swing_baseball', 0.0)\n",
      "Ошибка при обработке видео test_data/test_dataset/abec2588-a19e-46c5-a0b0-4c48b4a164f7.avi: name 'display_image' is not defined\n",
      "Обработка видео...\n"
     ]
    },
    {
     "name": "stderr",
     "output_type": "stream",
     "text": [
      " 68%|██████▊   | 953/1397 [07:53<03:39,  2.02it/s]"
     ]
    },
    {
     "name": "stdout",
     "output_type": "stream",
     "text": [
      "('golf', 0.0)\n",
      "Ошибка при обработке видео test_data/test_dataset/ac2bb9ff-5c65-4109-a3a1-58eec6c6229e.avi: name 'display_image' is not defined\n",
      "Обработка видео...\n",
      "('cartwheel', 0.0)\n"
     ]
    },
    {
     "name": "stderr",
     "output_type": "stream",
     "text": [
      " 68%|██████▊   | 954/1397 [07:53<03:38,  2.03it/s]"
     ]
    },
    {
     "name": "stdout",
     "output_type": "stream",
     "text": [
      "Ошибка при обработке видео test_data/test_dataset/ac34e6d0-2172-45cf-be2b-99559c23bbad.avi: name 'display_image' is not defined\n",
      "Обработка видео...\n"
     ]
    },
    {
     "name": "stderr",
     "output_type": "stream",
     "text": [
      " 68%|██████▊   | 955/1397 [07:54<03:37,  2.03it/s]"
     ]
    },
    {
     "name": "stdout",
     "output_type": "stream",
     "text": [
      "('dribble', 0.0)\n",
      "Ошибка при обработке видео test_data/test_dataset/ac9e6bc3-5d8d-4fbe-99b7-5d7f45bd477a.avi: name 'display_image' is not defined\n",
      "Обработка видео...\n"
     ]
    },
    {
     "name": "stderr",
     "output_type": "stream",
     "text": [
      " 68%|██████▊   | 956/1397 [07:54<03:37,  2.03it/s]"
     ]
    },
    {
     "name": "stdout",
     "output_type": "stream",
     "text": [
      "('pushup', 0.0)\n",
      "Ошибка при обработке видео test_data/test_dataset/acd69cec-d928-44e2-93b4-df75d991c9d6.avi: name 'display_image' is not defined\n",
      "Обработка видео...\n"
     ]
    },
    {
     "name": "stderr",
     "output_type": "stream",
     "text": [
      " 69%|██████▊   | 957/1397 [07:55<03:37,  2.02it/s]"
     ]
    },
    {
     "name": "stdout",
     "output_type": "stream",
     "text": [
      "('pullup', 0.0)\n",
      "Ошибка при обработке видео test_data/test_dataset/ace432ca-1524-48de-8483-7d0524bff01f.avi: name 'display_image' is not defined\n",
      "Обработка видео...\n"
     ]
    },
    {
     "name": "stderr",
     "output_type": "stream",
     "text": [
      " 69%|██████▊   | 958/1397 [07:55<03:36,  2.03it/s]"
     ]
    },
    {
     "name": "stdout",
     "output_type": "stream",
     "text": [
      "('pushup', 0.0)\n",
      "Ошибка при обработке видео test_data/test_dataset/acee9521-d8e1-47e5-933c-2ba1d5455eb8.avi: name 'display_image' is not defined\n",
      "Обработка видео...\n"
     ]
    },
    {
     "name": "stderr",
     "output_type": "stream",
     "text": [
      " 69%|██████▊   | 959/1397 [07:56<03:36,  2.02it/s]"
     ]
    },
    {
     "name": "stdout",
     "output_type": "stream",
     "text": [
      "('shoot_ball', 0.0)\n",
      "Ошибка при обработке видео test_data/test_dataset/ad2f6563-b1ec-444b-a069-2190d58549a5.avi: name 'display_image' is not defined\n",
      "Обработка видео...\n"
     ]
    },
    {
     "name": "stderr",
     "output_type": "stream",
     "text": [
      " 69%|██████▊   | 960/1397 [07:56<03:34,  2.03it/s]"
     ]
    },
    {
     "name": "stdout",
     "output_type": "stream",
     "text": [
      "('pullup', 0.0)\n",
      "Ошибка при обработке видео test_data/test_dataset/ad781ba8-2a2c-46b5-923a-31621f3b9a1f.avi: name 'display_image' is not defined\n",
      "Обработка видео...\n"
     ]
    },
    {
     "name": "stderr",
     "output_type": "stream",
     "text": [
      " 69%|██████▉   | 961/1397 [07:56<03:36,  2.01it/s]"
     ]
    },
    {
     "name": "stdout",
     "output_type": "stream",
     "text": [
      "('dive', 0.0)\n",
      "Ошибка при обработке видео test_data/test_dataset/adca9320-9a32-4075-afd5-71bb9ef65bd9.avi: name 'display_image' is not defined\n",
      "Обработка видео...\n"
     ]
    },
    {
     "name": "stderr",
     "output_type": "stream",
     "text": [
      " 69%|██████▉   | 962/1397 [07:57<03:37,  2.00it/s]"
     ]
    },
    {
     "name": "stdout",
     "output_type": "stream",
     "text": [
      "('flic_flac', 0.0)\n",
      "Ошибка при обработке видео test_data/test_dataset/adcfa7b7-3c0c-4105-91fe-9310c44c56b5.avi: name 'display_image' is not defined\n",
      "Обработка видео...\n"
     ]
    },
    {
     "name": "stderr",
     "output_type": "stream",
     "text": [
      " 69%|██████▉   | 963/1397 [07:58<03:36,  2.00it/s]"
     ]
    },
    {
     "name": "stdout",
     "output_type": "stream",
     "text": [
      "('handstand', 0.0)\n",
      "Ошибка при обработке видео test_data/test_dataset/ae14cad6-80fd-4292-89e8-8f4632d3b9d6.avi: name 'display_image' is not defined\n",
      "Обработка видео...\n"
     ]
    },
    {
     "name": "stderr",
     "output_type": "stream",
     "text": [
      " 69%|██████▉   | 964/1397 [07:58<03:36,  2.00it/s]"
     ]
    },
    {
     "name": "stdout",
     "output_type": "stream",
     "text": [
      "('shoot_ball', 0.0)\n",
      "Ошибка при обработке видео test_data/test_dataset/ae2104d4-2b2a-4fab-a6c5-8ade27f41d9e.avi: name 'display_image' is not defined\n",
      "Обработка видео...\n",
      "('dive', 0.0)"
     ]
    },
    {
     "name": "stderr",
     "output_type": "stream",
     "text": [
      " 69%|██████▉   | 965/1397 [07:59<03:36,  2.00it/s]"
     ]
    },
    {
     "name": "stdout",
     "output_type": "stream",
     "text": [
      "\n",
      "Ошибка при обработке видео test_data/test_dataset/ae2a54c2-0ee0-4987-bc4a-e55f4530c001.avi: name 'display_image' is not defined\n",
      "Обработка видео...\n"
     ]
    },
    {
     "name": "stderr",
     "output_type": "stream",
     "text": [
      " 69%|██████▉   | 966/1397 [07:59<03:33,  2.02it/s]"
     ]
    },
    {
     "name": "stdout",
     "output_type": "stream",
     "text": [
      "('cartwheel', 0.0)\n",
      "Ошибка при обработке видео test_data/test_dataset/ae32bf19-be46-480b-8043-ad1ce2a07387.avi: name 'display_image' is not defined\n",
      "Обработка видео...\n"
     ]
    },
    {
     "name": "stderr",
     "output_type": "stream",
     "text": [
      " 69%|██████▉   | 967/1397 [07:59<03:32,  2.02it/s]"
     ]
    },
    {
     "name": "stdout",
     "output_type": "stream",
     "text": [
      "('handstand', 0.0)\n",
      "Ошибка при обработке видео test_data/test_dataset/aeb7b147-3100-4d53-99a6-544f819330a8.avi: name 'display_image' is not defined\n",
      "Обработка видео...\n"
     ]
    },
    {
     "name": "stderr",
     "output_type": "stream",
     "text": [
      " 69%|██████▉   | 968/1397 [08:00<03:31,  2.03it/s]"
     ]
    },
    {
     "name": "stdout",
     "output_type": "stream",
     "text": [
      "('dive', 0.0)\n",
      "Ошибка при обработке видео test_data/test_dataset/aebf206b-58e1-480e-9f27-e413cc715cea.avi: name 'display_image' is not defined\n",
      "Обработка видео...\n"
     ]
    },
    {
     "name": "stderr",
     "output_type": "stream",
     "text": [
      " 69%|██████▉   | 969/1397 [08:00<03:31,  2.03it/s]"
     ]
    },
    {
     "name": "stdout",
     "output_type": "stream",
     "text": [
      "('pushup', 0.0)\n",
      "Ошибка при обработке видео test_data/test_dataset/af0d37ca-e430-40d9-851b-3ebbe8f0d50b.avi: name 'display_image' is not defined\n",
      "Обработка видео...\n"
     ]
    },
    {
     "name": "stderr",
     "output_type": "stream",
     "text": [
      " 69%|██████▉   | 970/1397 [08:01<03:31,  2.02it/s]"
     ]
    },
    {
     "name": "stdout",
     "output_type": "stream",
     "text": [
      "('fencing', 0.0)\n",
      "Ошибка при обработке видео test_data/test_dataset/af2ed555-dcfc-4b4f-ade8-03d809d541de.avi: name 'display_image' is not defined\n",
      "Обработка видео...\n"
     ]
    },
    {
     "name": "stderr",
     "output_type": "stream",
     "text": [
      " 70%|██████▉   | 971/1397 [08:01<03:30,  2.02it/s]"
     ]
    },
    {
     "name": "stdout",
     "output_type": "stream",
     "text": [
      "('shoot_ball', 0.0)\n",
      "Ошибка при обработке видео test_data/test_dataset/af4732ad-0ba4-4010-a0ed-33099a246687.avi: name 'display_image' is not defined\n",
      "Обработка видео...\n",
      "('dribble', 0.0)"
     ]
    },
    {
     "name": "stderr",
     "output_type": "stream",
     "text": [
      " 70%|██████▉   | 972/1397 [08:02<03:29,  2.03it/s]"
     ]
    },
    {
     "name": "stdout",
     "output_type": "stream",
     "text": [
      "\n",
      "Ошибка при обработке видео test_data/test_dataset/af95327b-2b98-44d7-827c-c6c736975c95.avi: name 'display_image' is not defined\n",
      "Обработка видео...\n"
     ]
    },
    {
     "name": "stderr",
     "output_type": "stream",
     "text": [
      " 70%|██████▉   | 973/1397 [08:02<03:28,  2.03it/s]"
     ]
    },
    {
     "name": "stdout",
     "output_type": "stream",
     "text": [
      "('flic_flac', 0.0)\n",
      "Ошибка при обработке видео test_data/test_dataset/af9c2673-1bc3-4690-8ee0-8a540a52c317.avi: name 'display_image' is not defined\n",
      "Обработка видео...\n",
      "('pullup', 0.0)"
     ]
    },
    {
     "name": "stderr",
     "output_type": "stream",
     "text": [
      " 70%|██████▉   | 974/1397 [08:03<03:28,  2.03it/s]"
     ]
    },
    {
     "name": "stdout",
     "output_type": "stream",
     "text": [
      "\n",
      "Ошибка при обработке видео test_data/test_dataset/aff09f4e-c943-42b0-bac7-e71dec03a84e.avi: name 'display_image' is not defined\n",
      "Обработка видео...\n",
      "('jump', 0.0)"
     ]
    },
    {
     "name": "stderr",
     "output_type": "stream",
     "text": [
      " 70%|██████▉   | 975/1397 [08:03<03:27,  2.04it/s]"
     ]
    },
    {
     "name": "stdout",
     "output_type": "stream",
     "text": [
      "\n",
      "Ошибка при обработке видео test_data/test_dataset/aff1ff4e-e584-47a4-9f27-9b7afe8a1bf2.avi: name 'display_image' is not defined\n",
      "Обработка видео...\n"
     ]
    },
    {
     "name": "stderr",
     "output_type": "stream",
     "text": [
      " 70%|██████▉   | 976/1397 [08:04<03:27,  2.02it/s]"
     ]
    },
    {
     "name": "stdout",
     "output_type": "stream",
     "text": [
      "('pushup', 0.0)\n",
      "Ошибка при обработке видео test_data/test_dataset/affe8943-536d-47e1-8991-68a0db72415a.avi: name 'display_image' is not defined\n",
      "Обработка видео...\n"
     ]
    },
    {
     "name": "stderr",
     "output_type": "stream",
     "text": [
      " 70%|██████▉   | 977/1397 [08:04<03:27,  2.02it/s]"
     ]
    },
    {
     "name": "stdout",
     "output_type": "stream",
     "text": [
      "('handstand', 0.0)\n",
      "Ошибка при обработке видео test_data/test_dataset/b0038b58-80e6-449d-982b-d281d3e1108e.avi: name 'display_image' is not defined\n",
      "Обработка видео...\n"
     ]
    },
    {
     "name": "stderr",
     "output_type": "stream",
     "text": [
      " 70%|███████   | 978/1397 [08:05<03:27,  2.02it/s]"
     ]
    },
    {
     "name": "stdout",
     "output_type": "stream",
     "text": [
      "('shoot_ball', 0.0)\n",
      "Ошибка при обработке видео test_data/test_dataset/b0160fe8-2ff1-42e5-9e48-daa39d1760f1.avi: name 'display_image' is not defined\n",
      "Обработка видео...\n"
     ]
    },
    {
     "name": "stderr",
     "output_type": "stream",
     "text": [
      " 70%|███████   | 979/1397 [08:05<03:27,  2.01it/s]"
     ]
    },
    {
     "name": "stdout",
     "output_type": "stream",
     "text": [
      "('shoot_ball', 0.0)\n",
      "Ошибка при обработке видео test_data/test_dataset/b0217a3f-6b82-4c67-bc1f-b97fbc2162ed.avi: name 'display_image' is not defined\n",
      "Обработка видео...\n"
     ]
    },
    {
     "name": "stderr",
     "output_type": "stream",
     "text": [
      " 70%|███████   | 980/1397 [08:06<03:27,  2.01it/s]"
     ]
    },
    {
     "name": "stdout",
     "output_type": "stream",
     "text": [
      "('hit', 0.0)\n",
      "Ошибка при обработке видео test_data/test_dataset/b08f5c75-07eb-4cef-ac8a-2f56fc748864.avi: name 'display_image' is not defined\n",
      "Обработка видео...\n"
     ]
    },
    {
     "name": "stderr",
     "output_type": "stream",
     "text": [
      " 70%|███████   | 981/1397 [08:06<03:30,  1.98it/s]"
     ]
    },
    {
     "name": "stdout",
     "output_type": "stream",
     "text": [
      "('dive', 0.0)\n",
      "Ошибка при обработке видео test_data/test_dataset/b0a66405-1df2-4e9c-af6f-94604a500390.avi: name 'display_image' is not defined\n",
      "Обработка видео...\n",
      "('handstand', 0.0)"
     ]
    },
    {
     "name": "stderr",
     "output_type": "stream",
     "text": [
      " 70%|███████   | 982/1397 [08:07<03:28,  1.99it/s]"
     ]
    },
    {
     "name": "stdout",
     "output_type": "stream",
     "text": [
      "\n",
      "Ошибка при обработке видео test_data/test_dataset/b0abeb15-5f58-4fe5-95a6-1ee6ab839e56.avi: name 'display_image' is not defined\n",
      "Обработка видео...\n"
     ]
    },
    {
     "name": "stderr",
     "output_type": "stream",
     "text": [
      " 70%|███████   | 983/1397 [08:07<03:26,  2.00it/s]"
     ]
    },
    {
     "name": "stdout",
     "output_type": "stream",
     "text": [
      "('pushup', 0.0)\n",
      "Ошибка при обработке видео test_data/test_dataset/b1038101-5404-457c-b7b0-a2928d86de26.avi: name 'display_image' is not defined\n",
      "Обработка видео...\n"
     ]
    },
    {
     "name": "stderr",
     "output_type": "stream",
     "text": [
      " 70%|███████   | 984/1397 [08:08<03:25,  2.01it/s]"
     ]
    },
    {
     "name": "stdout",
     "output_type": "stream",
     "text": [
      "('dribble', 0.0)\n",
      "Ошибка при обработке видео test_data/test_dataset/b1125f6f-0ed9-4c91-97e3-aa793ee59fa7.avi: name 'display_image' is not defined\n",
      "Обработка видео...\n"
     ]
    },
    {
     "name": "stderr",
     "output_type": "stream",
     "text": [
      " 71%|███████   | 985/1397 [08:08<03:22,  2.03it/s]"
     ]
    },
    {
     "name": "stdout",
     "output_type": "stream",
     "text": [
      "('pushup', 0.0)\n",
      "Ошибка при обработке видео test_data/test_dataset/b154258b-90d2-4379-acca-b7152514462f.avi: name 'display_image' is not defined\n",
      "Обработка видео...\n"
     ]
    },
    {
     "name": "stderr",
     "output_type": "stream",
     "text": [
      " 71%|███████   | 986/1397 [08:09<03:21,  2.04it/s]"
     ]
    },
    {
     "name": "stdout",
     "output_type": "stream",
     "text": [
      "('pullup', 0.0)\n",
      "Ошибка при обработке видео test_data/test_dataset/b1663c5f-018e-4a30-b840-ea2b0cb4fca9.avi: name 'display_image' is not defined\n",
      "Обработка видео...\n"
     ]
    },
    {
     "name": "stderr",
     "output_type": "stream",
     "text": [
      " 71%|███████   | 987/1397 [08:09<03:20,  2.05it/s]"
     ]
    },
    {
     "name": "stdout",
     "output_type": "stream",
     "text": [
      "('handstand', 0.0)\n",
      "Ошибка при обработке видео test_data/test_dataset/b16abf74-a243-4ca5-b092-8e6ccbae272f.avi: name 'display_image' is not defined\n",
      "Обработка видео...\n"
     ]
    },
    {
     "name": "stderr",
     "output_type": "stream",
     "text": [
      " 71%|███████   | 988/1397 [08:10<03:19,  2.05it/s]"
     ]
    },
    {
     "name": "stdout",
     "output_type": "stream",
     "text": [
      "('jump', 0.0)\n",
      "Ошибка при обработке видео test_data/test_dataset/b1bd60fb-42ee-4fa9-8399-9800b1a4a58c.avi: name 'display_image' is not defined\n",
      "Обработка видео...\n"
     ]
    },
    {
     "name": "stderr",
     "output_type": "stream",
     "text": [
      " 71%|███████   | 989/1397 [08:10<03:20,  2.04it/s]"
     ]
    },
    {
     "name": "stdout",
     "output_type": "stream",
     "text": [
      "('pushup', 0.0)\n",
      "Ошибка при обработке видео test_data/test_dataset/b2180576-09fe-45a2-88b5-6163718f5518.avi: name 'display_image' is not defined\n",
      "Обработка видео...\n"
     ]
    },
    {
     "name": "stderr",
     "output_type": "stream",
     "text": [
      " 71%|███████   | 990/1397 [08:11<03:19,  2.04it/s]"
     ]
    },
    {
     "name": "stdout",
     "output_type": "stream",
     "text": [
      "('handstand', 0.0)\n",
      "Ошибка при обработке видео test_data/test_dataset/b23b526e-9f4d-4e03-9836-79ca67b3f9d4.avi: name 'display_image' is not defined\n",
      "Обработка видео...\n"
     ]
    },
    {
     "name": "stderr",
     "output_type": "stream",
     "text": [
      " 71%|███████   | 991/1397 [08:11<03:19,  2.04it/s]"
     ]
    },
    {
     "name": "stdout",
     "output_type": "stream",
     "text": [
      "('fencing', 0.0)\n",
      "Ошибка при обработке видео test_data/test_dataset/b25d72a8-b081-4fcf-b23e-1f9b6afd0e88.avi: name 'display_image' is not defined\n",
      "Обработка видео...\n"
     ]
    },
    {
     "name": "stderr",
     "output_type": "stream",
     "text": [
      " 71%|███████   | 992/1397 [08:12<03:21,  2.01it/s]"
     ]
    },
    {
     "name": "stdout",
     "output_type": "stream",
     "text": [
      "('pullup', 0.0)\n",
      "Ошибка при обработке видео test_data/test_dataset/b38f82cc-4846-4d18-bbae-396f72c6bafc.avi: name 'display_image' is not defined\n",
      "Обработка видео...\n"
     ]
    },
    {
     "name": "stderr",
     "output_type": "stream",
     "text": [
      " 71%|███████   | 993/1397 [08:12<03:20,  2.02it/s]"
     ]
    },
    {
     "name": "stdout",
     "output_type": "stream",
     "text": [
      "('golf', 0.0)\n",
      "Ошибка при обработке видео test_data/test_dataset/b39eb1ae-71d3-4819-b59a-a677eead8e25.avi: name 'display_image' is not defined\n",
      "Обработка видео...\n",
      "('fencing', 0.0)\n",
      "Ошибка при обработке видео test_data/test_dataset/b3c9ced5-f3f9-40ca-88b7-a4dbf62d9b65.avi: name 'display_image' is not defined\n"
     ]
    },
    {
     "name": "stderr",
     "output_type": "stream",
     "text": [
      " 71%|███████   | 994/1397 [08:13<03:20,  2.01it/s]"
     ]
    },
    {
     "name": "stdout",
     "output_type": "stream",
     "text": [
      "Обработка видео...\n"
     ]
    },
    {
     "name": "stderr",
     "output_type": "stream",
     "text": [
      " 71%|███████   | 995/1397 [08:13<03:20,  2.01it/s]"
     ]
    },
    {
     "name": "stdout",
     "output_type": "stream",
     "text": [
      "('shoot_ball', 0.0)\n",
      "Ошибка при обработке видео test_data/test_dataset/b3ffd2b4-f8d4-4521-bec8-3ef07a704a1e.avi: name 'display_image' is not defined\n",
      "Обработка видео...\n"
     ]
    },
    {
     "name": "stderr",
     "output_type": "stream",
     "text": [
      " 71%|███████▏  | 996/1397 [08:14<03:21,  1.99it/s]"
     ]
    },
    {
     "name": "stdout",
     "output_type": "stream",
     "text": [
      "('handstand', 0.0)\n",
      "Ошибка при обработке видео test_data/test_dataset/b43da965-e5e2-4c21-8268-c4a4baf2aa18.avi: name 'display_image' is not defined\n",
      "Обработка видео...\n"
     ]
    },
    {
     "name": "stderr",
     "output_type": "stream",
     "text": [
      " 71%|███████▏  | 997/1397 [08:14<03:19,  2.00it/s]"
     ]
    },
    {
     "name": "stdout",
     "output_type": "stream",
     "text": [
      "('handstand', 0.0)\n",
      "Ошибка при обработке видео test_data/test_dataset/b45008d3-59b4-4d32-a41a-98ffd4c0034d.avi: name 'display_image' is not defined\n",
      "Обработка видео...\n"
     ]
    },
    {
     "name": "stderr",
     "output_type": "stream",
     "text": [
      " 71%|███████▏  | 998/1397 [08:15<03:18,  2.01it/s]"
     ]
    },
    {
     "name": "stdout",
     "output_type": "stream",
     "text": [
      "('pick', 0.0)\n",
      "Ошибка при обработке видео test_data/test_dataset/b4b0c9c6-7155-4e6a-9f3a-609387c39374.avi: name 'display_image' is not defined\n",
      "Обработка видео...\n"
     ]
    },
    {
     "name": "stderr",
     "output_type": "stream",
     "text": [
      " 72%|███████▏  | 999/1397 [08:15<03:18,  2.01it/s]"
     ]
    },
    {
     "name": "stdout",
     "output_type": "stream",
     "text": [
      "('shoot_ball', 0.0)\n",
      "Ошибка при обработке видео test_data/test_dataset/b4d5e854-bbc5-415c-bcba-905b7fc6bb38.avi: name 'display_image' is not defined\n",
      "Обработка видео...\n",
      "('sword_exercise', 0.0)"
     ]
    },
    {
     "name": "stderr",
     "output_type": "stream",
     "text": [
      " 72%|███████▏  | 1000/1397 [08:16<03:18,  2.00it/s]"
     ]
    },
    {
     "name": "stdout",
     "output_type": "stream",
     "text": [
      "\n",
      "Ошибка при обработке видео test_data/test_dataset/b50bbbe6-56d6-4b9e-91fa-2c30fbea54a9.avi: name 'display_image' is not defined\n",
      "Обработка видео...\n"
     ]
    },
    {
     "name": "stderr",
     "output_type": "stream",
     "text": [
      " 72%|███████▏  | 1001/1397 [08:16<03:16,  2.01it/s]"
     ]
    },
    {
     "name": "stdout",
     "output_type": "stream",
     "text": [
      "('handstand', 0.0)\n",
      "Ошибка при обработке видео test_data/test_dataset/b50fe4c6-9c68-4f83-9dab-f03d58e6bf00.avi: name 'display_image' is not defined\n",
      "Обработка видео...\n"
     ]
    },
    {
     "name": "stderr",
     "output_type": "stream",
     "text": [
      " 72%|███████▏  | 1002/1397 [08:17<03:21,  1.96it/s]"
     ]
    },
    {
     "name": "stdout",
     "output_type": "stream",
     "text": [
      "('pick', 0.0)\n",
      "Ошибка при обработке видео test_data/test_dataset/b55b45f0-f68f-4a1a-9ffb-d44527896461.avi: name 'display_image' is not defined\n",
      "Обработка видео...\n"
     ]
    },
    {
     "name": "stderr",
     "output_type": "stream",
     "text": [
      " 72%|███████▏  | 1003/1397 [08:17<03:22,  1.95it/s]"
     ]
    },
    {
     "name": "stdout",
     "output_type": "stream",
     "text": [
      "('golf', 0.0)\n",
      "Ошибка при обработке видео test_data/test_dataset/b57aa196-80e8-42fb-a4f9-cdf40093893b.avi: name 'display_image' is not defined\n",
      "Обработка видео...\n"
     ]
    },
    {
     "name": "stderr",
     "output_type": "stream",
     "text": [
      " 72%|███████▏  | 1004/1397 [08:18<03:19,  1.97it/s]"
     ]
    },
    {
     "name": "stdout",
     "output_type": "stream",
     "text": [
      "('flic_flac', 0.0)\n",
      "Ошибка при обработке видео test_data/test_dataset/b5827f80-5985-4aaa-af66-a77ba070206b.avi: name 'display_image' is not defined\n",
      "Обработка видео...\n"
     ]
    },
    {
     "name": "stderr",
     "output_type": "stream",
     "text": [
      " 72%|███████▏  | 1005/1397 [08:18<03:17,  1.99it/s]"
     ]
    },
    {
     "name": "stdout",
     "output_type": "stream",
     "text": [
      "('jump', 0.0)\n",
      "Ошибка при обработке видео test_data/test_dataset/b6b90658-61ee-4374-8240-22f6781dbaad.avi: name 'display_image' is not defined\n",
      "Обработка видео...\n"
     ]
    },
    {
     "name": "stderr",
     "output_type": "stream",
     "text": [
      " 72%|███████▏  | 1006/1397 [08:19<03:16,  1.99it/s]"
     ]
    },
    {
     "name": "stdout",
     "output_type": "stream",
     "text": [
      "('jump', 0.0)\n",
      "Ошибка при обработке видео test_data/test_dataset/b6bf0923-3eb3-4647-9f52-d13ed11e047c.avi: name 'display_image' is not defined\n",
      "Обработка видео...\n"
     ]
    },
    {
     "name": "stderr",
     "output_type": "stream",
     "text": [
      " 72%|███████▏  | 1007/1397 [08:19<03:14,  2.01it/s]"
     ]
    },
    {
     "name": "stdout",
     "output_type": "stream",
     "text": [
      "('swing_baseball', 0.0)\n",
      "Ошибка при обработке видео test_data/test_dataset/b6d62cc0-3a00-416a-8e93-419787f2a652.avi: name 'display_image' is not defined\n",
      "Обработка видео...\n"
     ]
    },
    {
     "name": "stderr",
     "output_type": "stream",
     "text": [
      " 72%|███████▏  | 1008/1397 [08:20<03:14,  2.00it/s]"
     ]
    },
    {
     "name": "stdout",
     "output_type": "stream",
     "text": [
      "('fencing', 0.0)\n",
      "Ошибка при обработке видео test_data/test_dataset/b74ae86a-f7d9-4273-a668-ede984a7abfa.avi: name 'display_image' is not defined\n",
      "Обработка видео...\n"
     ]
    },
    {
     "name": "stderr",
     "output_type": "stream",
     "text": [
      " 72%|███████▏  | 1009/1397 [08:20<03:13,  2.00it/s]"
     ]
    },
    {
     "name": "stdout",
     "output_type": "stream",
     "text": [
      "('shoot_ball', 0.0)\n",
      "Ошибка при обработке видео test_data/test_dataset/b754c2bf-1acd-4094-99e0-2641d26ab1a6.avi: name 'display_image' is not defined\n",
      "Обработка видео...\n"
     ]
    },
    {
     "name": "stderr",
     "output_type": "stream",
     "text": [
      " 72%|███████▏  | 1010/1397 [08:21<03:12,  2.01it/s]"
     ]
    },
    {
     "name": "stdout",
     "output_type": "stream",
     "text": [
      "('flic_flac', 0.0)\n",
      "Ошибка при обработке видео test_data/test_dataset/b767ae77-9bd0-437c-a8f7-8175683894dd.avi: name 'display_image' is not defined\n",
      "Обработка видео...\n"
     ]
    },
    {
     "name": "stderr",
     "output_type": "stream",
     "text": [
      " 72%|███████▏  | 1011/1397 [08:21<03:11,  2.02it/s]"
     ]
    },
    {
     "name": "stdout",
     "output_type": "stream",
     "text": [
      "('throw', 0.0)\n",
      "Ошибка при обработке видео test_data/test_dataset/b76822e0-46b4-415b-91bc-b68049a16260.avi: name 'display_image' is not defined\n",
      "Обработка видео...\n"
     ]
    },
    {
     "name": "stderr",
     "output_type": "stream",
     "text": [
      " 72%|███████▏  | 1012/1397 [08:22<03:10,  2.02it/s]"
     ]
    },
    {
     "name": "stdout",
     "output_type": "stream",
     "text": [
      "('swing_baseball', 0.0)\n",
      "Ошибка при обработке видео test_data/test_dataset/b77aa7fd-a9b6-4769-9364-f4012bf0d3b7.avi: name 'display_image' is not defined\n",
      "Обработка видео...\n"
     ]
    },
    {
     "name": "stderr",
     "output_type": "stream",
     "text": [
      " 73%|███████▎  | 1013/1397 [08:22<03:12,  2.00it/s]"
     ]
    },
    {
     "name": "stdout",
     "output_type": "stream",
     "text": [
      "('pullup', 0.0)\n",
      "Ошибка при обработке видео test_data/test_dataset/b7d2c522-2427-4144-91b0-d8f307ed79b0.avi: name 'display_image' is not defined\n",
      "Обработка видео...\n"
     ]
    },
    {
     "name": "stderr",
     "output_type": "stream",
     "text": [
      " 73%|███████▎  | 1014/1397 [08:23<03:11,  2.00it/s]"
     ]
    },
    {
     "name": "stdout",
     "output_type": "stream",
     "text": [
      "('cartwheel', 0.0)\n",
      "Ошибка при обработке видео test_data/test_dataset/b7da27f5-3212-45e4-9064-45b1aadd1c19.avi: name 'display_image' is not defined\n",
      "Обработка видео...\n"
     ]
    },
    {
     "name": "stderr",
     "output_type": "stream",
     "text": [
      " 73%|███████▎  | 1015/1397 [08:23<03:10,  2.01it/s]"
     ]
    },
    {
     "name": "stdout",
     "output_type": "stream",
     "text": [
      "('jump', 0.0)\n",
      "Ошибка при обработке видео test_data/test_dataset/b806a041-50d9-47eb-a145-fd1e0ddc75c0.avi: name 'display_image' is not defined\n",
      "Обработка видео...\n"
     ]
    },
    {
     "name": "stderr",
     "output_type": "stream",
     "text": [
      " 73%|███████▎  | 1016/1397 [08:24<03:09,  2.01it/s]"
     ]
    },
    {
     "name": "stdout",
     "output_type": "stream",
     "text": [
      "('jump', 0.0)\n",
      "Ошибка при обработке видео test_data/test_dataset/b86cc949-be61-44ae-ac81-5f3fd0e214c3.avi: name 'display_image' is not defined\n",
      "Обработка видео...\n"
     ]
    },
    {
     "name": "stderr",
     "output_type": "stream",
     "text": [
      " 73%|███████▎  | 1017/1397 [08:24<03:09,  2.01it/s]"
     ]
    },
    {
     "name": "stdout",
     "output_type": "stream",
     "text": [
      "('climb', 0.0)\n",
      "Ошибка при обработке видео test_data/test_dataset/b8c9c1d4-2ee9-47e2-b0e9-0d8ad4b0c075.avi: name 'display_image' is not defined\n",
      "Обработка видео...\n"
     ]
    },
    {
     "name": "stderr",
     "output_type": "stream",
     "text": [
      " 73%|███████▎  | 1018/1397 [08:25<03:07,  2.02it/s]"
     ]
    },
    {
     "name": "stdout",
     "output_type": "stream",
     "text": [
      "('pullup', 0.0)\n",
      "Ошибка при обработке видео test_data/test_dataset/b8f30c84-0755-4395-9fa4-f119fb040363.avi: name 'display_image' is not defined\n",
      "Обработка видео...\n"
     ]
    },
    {
     "name": "stderr",
     "output_type": "stream",
     "text": [
      " 73%|███████▎  | 1019/1397 [08:25<03:07,  2.02it/s]"
     ]
    },
    {
     "name": "stdout",
     "output_type": "stream",
     "text": [
      "('climb', 0.0)\n",
      "Ошибка при обработке видео test_data/test_dataset/b93bd49d-b6a0-45b1-8066-81b25d44e239.avi: name 'display_image' is not defined\n",
      "Обработка видео...\n"
     ]
    },
    {
     "name": "stderr",
     "output_type": "stream",
     "text": [
      " 73%|███████▎  | 1020/1397 [08:26<03:07,  2.01it/s]"
     ]
    },
    {
     "name": "stdout",
     "output_type": "stream",
     "text": [
      "('pullup', 0.0)\n",
      "Ошибка при обработке видео test_data/test_dataset/ba176c51-5f78-47a1-bc20-ebf43a571efd.avi: name 'display_image' is not defined\n",
      "Обработка видео...\n"
     ]
    },
    {
     "name": "stderr",
     "output_type": "stream",
     "text": [
      " 73%|███████▎  | 1021/1397 [08:26<03:05,  2.02it/s]"
     ]
    },
    {
     "name": "stdout",
     "output_type": "stream",
     "text": [
      "('dive', 0.0)\n",
      "Ошибка при обработке видео test_data/test_dataset/ba337087-b358-49da-b617-5080158b1161.avi: name 'display_image' is not defined\n",
      "Обработка видео...\n"
     ]
    },
    {
     "name": "stderr",
     "output_type": "stream",
     "text": [
      " 73%|███████▎  | 1022/1397 [08:27<03:05,  2.02it/s]"
     ]
    },
    {
     "name": "stdout",
     "output_type": "stream",
     "text": [
      "('dive', 0.0)\n",
      "Ошибка при обработке видео test_data/test_dataset/ba5f17f6-23e1-40be-85a1-4010d4453758.avi: name 'display_image' is not defined\n",
      "Обработка видео...\n"
     ]
    },
    {
     "name": "stderr",
     "output_type": "stream",
     "text": [
      " 73%|███████▎  | 1023/1397 [08:27<03:04,  2.02it/s]"
     ]
    },
    {
     "name": "stdout",
     "output_type": "stream",
     "text": [
      "('dribble', 0.0)\n",
      "Ошибка при обработке видео test_data/test_dataset/ba8d24ac-7e5a-40ae-9975-6adf94a8bc3f.avi: name 'display_image' is not defined\n",
      "Обработка видео...\n"
     ]
    },
    {
     "name": "stderr",
     "output_type": "stream",
     "text": [
      " 73%|███████▎  | 1024/1397 [08:28<03:05,  2.01it/s]"
     ]
    },
    {
     "name": "stdout",
     "output_type": "stream",
     "text": [
      "('swing_baseball', 0.0)\n",
      "Ошибка при обработке видео test_data/test_dataset/baa3640e-0072-4e39-b193-385ac88027c6.avi: name 'display_image' is not defined\n",
      "Обработка видео...\n"
     ]
    },
    {
     "name": "stderr",
     "output_type": "stream",
     "text": [
      " 73%|███████▎  | 1025/1397 [08:28<03:03,  2.03it/s]"
     ]
    },
    {
     "name": "stdout",
     "output_type": "stream",
     "text": [
      "('pullup', 0.0)\n",
      "Ошибка при обработке видео test_data/test_dataset/baea6dd7-ba7c-459b-837f-4735aabe7575.avi: name 'display_image' is not defined\n",
      "Обработка видео...\n"
     ]
    },
    {
     "name": "stderr",
     "output_type": "stream",
     "text": [
      " 73%|███████▎  | 1026/1397 [08:29<03:02,  2.03it/s]"
     ]
    },
    {
     "name": "stdout",
     "output_type": "stream",
     "text": [
      "('fencing', 0.0)\n",
      "Ошибка при обработке видео test_data/test_dataset/bb48dcec-6822-43c8-9af8-b0fe06449e12.avi: name 'display_image' is not defined\n",
      "Обработка видео...\n"
     ]
    },
    {
     "name": "stderr",
     "output_type": "stream",
     "text": [
      " 74%|███████▎  | 1027/1397 [08:29<03:01,  2.04it/s]"
     ]
    },
    {
     "name": "stdout",
     "output_type": "stream",
     "text": [
      "('pick', 0.0)\n",
      "Ошибка при обработке видео test_data/test_dataset/bb6e32d8-14ec-4f30-82a1-973dcc6b1e56.avi: name 'display_image' is not defined\n",
      "Обработка видео...\n"
     ]
    },
    {
     "name": "stderr",
     "output_type": "stream",
     "text": [
      " 74%|███████▎  | 1028/1397 [08:30<03:00,  2.04it/s]"
     ]
    },
    {
     "name": "stdout",
     "output_type": "stream",
     "text": [
      "('pushup', 0.0)\n",
      "Ошибка при обработке видео test_data/test_dataset/bb945ed8-ae29-4904-a5fd-9db2682e800b.avi: name 'display_image' is not defined\n",
      "Обработка видео...\n"
     ]
    },
    {
     "name": "stderr",
     "output_type": "stream",
     "text": [
      " 74%|███████▎  | 1029/1397 [08:30<03:00,  2.03it/s]"
     ]
    },
    {
     "name": "stdout",
     "output_type": "stream",
     "text": [
      "('golf', 0.0)\n",
      "Ошибка при обработке видео test_data/test_dataset/bb9e9da3-9e3a-4c4c-95d5-4cd1179fc63b.avi: name 'display_image' is not defined\n",
      "Обработка видео...\n"
     ]
    },
    {
     "name": "stderr",
     "output_type": "stream",
     "text": [
      " 74%|███████▎  | 1030/1397 [08:31<03:00,  2.03it/s]"
     ]
    },
    {
     "name": "stdout",
     "output_type": "stream",
     "text": [
      "('shoot_ball', 0.0)\n",
      "Ошибка при обработке видео test_data/test_dataset/bc125ac0-c204-4073-bb78-9da41e81ce49.avi: name 'display_image' is not defined\n",
      "Обработка видео...\n"
     ]
    },
    {
     "name": "stderr",
     "output_type": "stream",
     "text": [
      " 74%|███████▍  | 1031/1397 [08:31<02:59,  2.04it/s]"
     ]
    },
    {
     "name": "stdout",
     "output_type": "stream",
     "text": [
      "('flic_flac', 0.0)\n",
      "Ошибка при обработке видео test_data/test_dataset/bc4b4c44-45e7-40ad-aeab-ded5f6638272.avi: name 'display_image' is not defined\n",
      "Обработка видео...\n"
     ]
    },
    {
     "name": "stderr",
     "output_type": "stream",
     "text": [
      " 74%|███████▍  | 1032/1397 [08:32<03:02,  2.00it/s]"
     ]
    },
    {
     "name": "stdout",
     "output_type": "stream",
     "text": [
      "('shoot_ball', 0.0)\n",
      "Ошибка при обработке видео test_data/test_dataset/bc57589d-3163-40e2-b436-70debf5ea29e.avi: name 'display_image' is not defined\n",
      "Обработка видео...\n"
     ]
    },
    {
     "name": "stderr",
     "output_type": "stream",
     "text": [
      " 74%|███████▍  | 1033/1397 [08:32<03:01,  2.01it/s]"
     ]
    },
    {
     "name": "stdout",
     "output_type": "stream",
     "text": [
      "('handstand', 0.0)\n",
      "Ошибка при обработке видео test_data/test_dataset/bc5c6375-71b2-493d-9f4a-de933769537b.avi: name 'display_image' is not defined\n",
      "Обработка видео...\n"
     ]
    },
    {
     "name": "stderr",
     "output_type": "stream",
     "text": [
      " 74%|███████▍  | 1034/1397 [08:33<03:03,  1.98it/s]"
     ]
    },
    {
     "name": "stdout",
     "output_type": "stream",
     "text": [
      "('swing_baseball', 0.0)\n",
      "Ошибка при обработке видео test_data/test_dataset/bcdf7e64-7217-4662-8f61-455d28f69d35.avi: name 'display_image' is not defined\n",
      "Обработка видео...\n"
     ]
    },
    {
     "name": "stderr",
     "output_type": "stream",
     "text": [
      " 74%|███████▍  | 1035/1397 [08:33<03:00,  2.01it/s]"
     ]
    },
    {
     "name": "stdout",
     "output_type": "stream",
     "text": [
      "('pushup', 0.0)\n",
      "Ошибка при обработке видео test_data/test_dataset/bceed877-3e09-41e9-b117-1a0fcd7f81a6.avi: name 'display_image' is not defined\n",
      "Обработка видео...\n"
     ]
    },
    {
     "name": "stderr",
     "output_type": "stream",
     "text": [
      " 74%|███████▍  | 1036/1397 [08:34<02:58,  2.02it/s]"
     ]
    },
    {
     "name": "stdout",
     "output_type": "stream",
     "text": [
      "('throw', 0.0)\n",
      "Ошибка при обработке видео test_data/test_dataset/bcf40c95-6594-4a78-b94b-86730bd81339.avi: name 'display_image' is not defined\n",
      "Обработка видео...\n"
     ]
    },
    {
     "name": "stderr",
     "output_type": "stream",
     "text": [
      " 74%|███████▍  | 1037/1397 [08:34<02:58,  2.02it/s]"
     ]
    },
    {
     "name": "stdout",
     "output_type": "stream",
     "text": [
      "('dribble', 0.0)\n",
      "Ошибка при обработке видео test_data/test_dataset/bd1a01ed-40ad-4fec-ac79-aaa4da4a62db.avi: name 'display_image' is not defined\n",
      "Обработка видео...\n"
     ]
    },
    {
     "name": "stderr",
     "output_type": "stream",
     "text": [
      " 74%|███████▍  | 1038/1397 [08:35<02:57,  2.03it/s]"
     ]
    },
    {
     "name": "stdout",
     "output_type": "stream",
     "text": [
      "('swing_baseball', 0.0)\n",
      "Ошибка при обработке видео test_data/test_dataset/bd214846-b0e5-4ea4-9a8e-28650b439762.avi: name 'display_image' is not defined\n",
      "Обработка видео...\n"
     ]
    },
    {
     "name": "stderr",
     "output_type": "stream",
     "text": [
      " 74%|███████▍  | 1039/1397 [08:35<02:56,  2.03it/s]"
     ]
    },
    {
     "name": "stdout",
     "output_type": "stream",
     "text": [
      "('pullup', 0.0)\n",
      "Ошибка при обработке видео test_data/test_dataset/bd320035-4e22-4b7e-ab0e-e667ad832578.avi: name 'display_image' is not defined\n",
      "Обработка видео...\n"
     ]
    },
    {
     "name": "stderr",
     "output_type": "stream",
     "text": [
      " 74%|███████▍  | 1040/1397 [08:36<02:58,  2.00it/s]"
     ]
    },
    {
     "name": "stdout",
     "output_type": "stream",
     "text": [
      "('pushup', 0.0)\n",
      "Ошибка при обработке видео test_data/test_dataset/bd62d490-77d8-48e2-af1c-9d5cc42d3886.avi: name 'display_image' is not defined\n",
      "Обработка видео...\n"
     ]
    },
    {
     "name": "stderr",
     "output_type": "stream",
     "text": [
      " 75%|███████▍  | 1041/1397 [08:36<02:57,  2.00it/s]"
     ]
    },
    {
     "name": "stdout",
     "output_type": "stream",
     "text": [
      "('golf', 0.0)\n",
      "Ошибка при обработке видео test_data/test_dataset/bdefe84f-90ad-4fa0-a12c-a8e15c44cad1.avi: name 'display_image' is not defined\n",
      "Обработка видео...\n"
     ]
    },
    {
     "name": "stderr",
     "output_type": "stream",
     "text": [
      " 75%|███████▍  | 1042/1397 [08:37<02:56,  2.01it/s]"
     ]
    },
    {
     "name": "stdout",
     "output_type": "stream",
     "text": [
      "('pullup', 0.0)\n",
      "Ошибка при обработке видео test_data/test_dataset/bdf31998-4b1d-4a8f-a8a7-ec58a5354ac7.avi: name 'display_image' is not defined\n",
      "Обработка видео...\n"
     ]
    },
    {
     "name": "stderr",
     "output_type": "stream",
     "text": [
      " 75%|███████▍  | 1043/1397 [08:37<02:54,  2.03it/s]"
     ]
    },
    {
     "name": "stdout",
     "output_type": "stream",
     "text": [
      "('shoot_ball', 0.0)\n",
      "Ошибка при обработке видео test_data/test_dataset/be421a88-5f39-45fd-b62b-25c152916e74.avi: name 'display_image' is not defined\n",
      "Обработка видео...\n"
     ]
    },
    {
     "name": "stderr",
     "output_type": "stream",
     "text": [
      " 75%|███████▍  | 1044/1397 [08:38<02:53,  2.03it/s]"
     ]
    },
    {
     "name": "stdout",
     "output_type": "stream",
     "text": [
      "('golf', 0.0)\n",
      "Ошибка при обработке видео test_data/test_dataset/be6c0c89-a171-4ea6-8eef-a0c66e361e8b.avi: name 'display_image' is not defined\n",
      "Обработка видео...\n"
     ]
    },
    {
     "name": "stderr",
     "output_type": "stream",
     "text": [
      " 75%|███████▍  | 1045/1397 [08:38<02:54,  2.02it/s]"
     ]
    },
    {
     "name": "stdout",
     "output_type": "stream",
     "text": [
      "('jump', 0.0)\n",
      "Ошибка при обработке видео test_data/test_dataset/bf136eac-b160-42ab-9903-a25abd343bc9.avi: name 'display_image' is not defined\n",
      "Обработка видео...\n"
     ]
    },
    {
     "name": "stderr",
     "output_type": "stream",
     "text": [
      " 75%|███████▍  | 1046/1397 [08:39<02:54,  2.02it/s]"
     ]
    },
    {
     "name": "stdout",
     "output_type": "stream",
     "text": [
      "('golf', 0.0)\n",
      "Ошибка при обработке видео test_data/test_dataset/bf233881-06dc-452a-8179-d70b36a74713.avi: name 'display_image' is not defined\n",
      "Обработка видео...\n"
     ]
    },
    {
     "name": "stderr",
     "output_type": "stream",
     "text": [
      " 75%|███████▍  | 1047/1397 [08:39<02:53,  2.01it/s]"
     ]
    },
    {
     "name": "stdout",
     "output_type": "stream",
     "text": [
      "('pullup', 0.0)\n",
      "Ошибка при обработке видео test_data/test_dataset/bfe90c44-ed11-42b6-b24d-516947893b7d.avi: name 'display_image' is not defined\n",
      "Обработка видео...\n",
      "('dive', 0.0)"
     ]
    },
    {
     "name": "stderr",
     "output_type": "stream",
     "text": [
      " 75%|███████▌  | 1048/1397 [08:40<02:54,  2.00it/s]"
     ]
    },
    {
     "name": "stdout",
     "output_type": "stream",
     "text": [
      "\n",
      "Ошибка при обработке видео test_data/test_dataset/c013fc15-72ab-4ba4-a242-5fdf60bc8a24.avi: name 'display_image' is not defined\n",
      "Обработка видео...\n"
     ]
    },
    {
     "name": "stderr",
     "output_type": "stream",
     "text": [
      " 75%|███████▌  | 1049/1397 [08:40<02:53,  2.01it/s]"
     ]
    },
    {
     "name": "stdout",
     "output_type": "stream",
     "text": [
      "('cartwheel', 0.0)\n",
      "Ошибка при обработке видео test_data/test_dataset/c0d480a6-7547-466e-8322-aae048d4aaad.avi: name 'display_image' is not defined\n",
      "Обработка видео...\n"
     ]
    },
    {
     "name": "stderr",
     "output_type": "stream",
     "text": [
      " 75%|███████▌  | 1050/1397 [08:41<02:52,  2.01it/s]"
     ]
    },
    {
     "name": "stdout",
     "output_type": "stream",
     "text": [
      "('dribble', 0.0)\n",
      "Ошибка при обработке видео test_data/test_dataset/c0ed47c5-aadc-436e-80a7-f2aeb42e87ab.avi: name 'display_image' is not defined\n",
      "Обработка видео...\n"
     ]
    },
    {
     "name": "stderr",
     "output_type": "stream",
     "text": [
      " 75%|███████▌  | 1051/1397 [08:41<02:51,  2.01it/s]"
     ]
    },
    {
     "name": "stdout",
     "output_type": "stream",
     "text": [
      "('golf', 0.0)\n",
      "Ошибка при обработке видео test_data/test_dataset/c0f952cc-5258-4c6f-8b67-d4a716e39a5d.avi: name 'display_image' is not defined\n",
      "Обработка видео...\n"
     ]
    },
    {
     "name": "stderr",
     "output_type": "stream",
     "text": [
      " 75%|███████▌  | 1052/1397 [08:42<02:51,  2.01it/s]"
     ]
    },
    {
     "name": "stdout",
     "output_type": "stream",
     "text": [
      "('shoot_ball', 0.0)\n",
      "Ошибка при обработке видео test_data/test_dataset/c12e5338-d412-4717-923f-d742b4cf2e91.avi: name 'display_image' is not defined\n",
      "Обработка видео...\n",
      "('flic_flac', 0.0)"
     ]
    },
    {
     "name": "stderr",
     "output_type": "stream",
     "text": [
      " 75%|███████▌  | 1053/1397 [08:42<02:51,  2.01it/s]"
     ]
    },
    {
     "name": "stdout",
     "output_type": "stream",
     "text": [
      "\n",
      "Ошибка при обработке видео test_data/test_dataset/c1420d2d-f807-4146-b919-90209ce9393d.avi: name 'display_image' is not defined\n",
      "Обработка видео...\n"
     ]
    },
    {
     "name": "stderr",
     "output_type": "stream",
     "text": [
      " 75%|███████▌  | 1054/1397 [08:43<02:52,  1.99it/s]"
     ]
    },
    {
     "name": "stdout",
     "output_type": "stream",
     "text": [
      "('cartwheel', 0.0)\n",
      "Ошибка при обработке видео test_data/test_dataset/c1912408-f7a7-45b1-bd22-265a45e019be.avi: name 'display_image' is not defined\n",
      "Обработка видео...\n"
     ]
    },
    {
     "name": "stderr",
     "output_type": "stream",
     "text": [
      " 76%|███████▌  | 1055/1397 [08:43<02:51,  1.99it/s]"
     ]
    },
    {
     "name": "stdout",
     "output_type": "stream",
     "text": [
      "('handstand', 0.0)\n",
      "Ошибка при обработке видео test_data/test_dataset/c1c065d0-05d4-4ecc-bbb4-50880cad3091.avi: name 'display_image' is not defined\n",
      "Обработка видео...\n"
     ]
    },
    {
     "name": "stderr",
     "output_type": "stream",
     "text": [
      " 76%|███████▌  | 1056/1397 [08:44<02:51,  1.99it/s]"
     ]
    },
    {
     "name": "stdout",
     "output_type": "stream",
     "text": [
      "('handstand', 0.0)\n",
      "Ошибка при обработке видео test_data/test_dataset/c1c7dc62-5d55-472d-a68e-4a313cb1a61b.avi: name 'display_image' is not defined\n",
      "Обработка видео...\n"
     ]
    },
    {
     "name": "stderr",
     "output_type": "stream",
     "text": [
      " 76%|███████▌  | 1057/1397 [08:44<02:49,  2.01it/s]"
     ]
    },
    {
     "name": "stdout",
     "output_type": "stream",
     "text": [
      "('dribble', 0.0)\n",
      "Ошибка при обработке видео test_data/test_dataset/c2514c04-f671-4eb3-a484-16ac9fa75370.avi: name 'display_image' is not defined\n",
      "Обработка видео...\n"
     ]
    },
    {
     "name": "stderr",
     "output_type": "stream",
     "text": [
      " 76%|███████▌  | 1058/1397 [08:45<02:49,  2.00it/s]"
     ]
    },
    {
     "name": "stdout",
     "output_type": "stream",
     "text": [
      "('handstand', 0.0)\n",
      "Ошибка при обработке видео test_data/test_dataset/c25971c4-e6a4-43a4-83ad-eb85cd185a69.avi: name 'display_image' is not defined\n",
      "Обработка видео...\n"
     ]
    },
    {
     "name": "stderr",
     "output_type": "stream",
     "text": [
      " 76%|███████▌  | 1059/1397 [08:45<02:48,  2.01it/s]"
     ]
    },
    {
     "name": "stdout",
     "output_type": "stream",
     "text": [
      "('sword_exercise', 0.0)\n",
      "Ошибка при обработке видео test_data/test_dataset/c2e6b749-e7dd-465d-8f1f-d539493ae609.avi: name 'display_image' is not defined\n",
      "Обработка видео...\n"
     ]
    },
    {
     "name": "stderr",
     "output_type": "stream",
     "text": [
      " 76%|███████▌  | 1060/1397 [08:46<02:48,  2.00it/s]"
     ]
    },
    {
     "name": "stdout",
     "output_type": "stream",
     "text": [
      "('pullup', 0.0)\n",
      "Ошибка при обработке видео test_data/test_dataset/c2f7a642-df22-453a-8ec8-be55320d11b4.avi: name 'display_image' is not defined\n",
      "Обработка видео...\n"
     ]
    },
    {
     "name": "stderr",
     "output_type": "stream",
     "text": [
      " 76%|███████▌  | 1061/1397 [08:46<02:47,  2.01it/s]"
     ]
    },
    {
     "name": "stdout",
     "output_type": "stream",
     "text": [
      "('push', 0.0)\n",
      "Ошибка при обработке видео test_data/test_dataset/c33cf92f-3937-4ed7-a803-4534e3d1c3c7.avi: name 'display_image' is not defined\n",
      "Обработка видео...\n"
     ]
    },
    {
     "name": "stderr",
     "output_type": "stream",
     "text": [
      " 76%|███████▌  | 1062/1397 [08:47<02:45,  2.02it/s]"
     ]
    },
    {
     "name": "stdout",
     "output_type": "stream",
     "text": [
      "('handstand', 0.0)\n",
      "Ошибка при обработке видео test_data/test_dataset/c36c423c-eb26-44ac-bd22-afdb19ac9bb2.avi: name 'display_image' is not defined\n",
      "Обработка видео..."
     ]
    },
    {
     "name": "stderr",
     "output_type": "stream",
     "text": [
      " 76%|███████▌  | 1063/1397 [08:47<02:45,  2.02it/s]"
     ]
    },
    {
     "name": "stdout",
     "output_type": "stream",
     "text": [
      "\n",
      "('throw', 0.0)\n",
      "Ошибка при обработке видео test_data/test_dataset/c372a9a0-cfd5-4ce2-9d12-75e8b9fd2ef0.avi: name 'display_image' is not defined\n",
      "Обработка видео...\n"
     ]
    },
    {
     "name": "stderr",
     "output_type": "stream",
     "text": [
      " 76%|███████▌  | 1064/1397 [08:48<02:45,  2.02it/s]"
     ]
    },
    {
     "name": "stdout",
     "output_type": "stream",
     "text": [
      "('swing_baseball', 0.0)\n",
      "Ошибка при обработке видео test_data/test_dataset/c390d2e6-7c3a-4d86-8d11-177d61d6946e.avi: name 'display_image' is not defined\n",
      "Обработка видео...\n"
     ]
    },
    {
     "name": "stderr",
     "output_type": "stream",
     "text": [
      " 76%|███████▌  | 1065/1397 [08:48<02:45,  2.00it/s]"
     ]
    },
    {
     "name": "stdout",
     "output_type": "stream",
     "text": [
      "('golf', 0.0)\n",
      "Ошибка при обработке видео test_data/test_dataset/c3a0ea92-06ae-409b-a223-2466c2606915.avi: name 'display_image' is not defined\n",
      "Обработка видео...\n"
     ]
    },
    {
     "name": "stderr",
     "output_type": "stream",
     "text": [
      " 76%|███████▋  | 1066/1397 [08:49<02:46,  1.99it/s]"
     ]
    },
    {
     "name": "stdout",
     "output_type": "stream",
     "text": [
      "('throw', 0.0)\n",
      "Ошибка при обработке видео test_data/test_dataset/c3d145b9-21e8-46f9-bb93-89cf1fca0a4f.avi: name 'display_image' is not defined\n",
      "Обработка видео...\n"
     ]
    },
    {
     "name": "stderr",
     "output_type": "stream",
     "text": [
      " 76%|███████▋  | 1067/1397 [08:49<02:44,  2.00it/s]"
     ]
    },
    {
     "name": "stdout",
     "output_type": "stream",
     "text": [
      "('dribble', 0.0)\n",
      "Ошибка при обработке видео test_data/test_dataset/c3de2933-3bf5-4ad7-b601-7b2fa2e7eb62.avi: name 'display_image' is not defined\n",
      "Обработка видео...\n"
     ]
    },
    {
     "name": "stderr",
     "output_type": "stream",
     "text": [
      " 76%|███████▋  | 1068/1397 [08:50<02:44,  2.00it/s]"
     ]
    },
    {
     "name": "stdout",
     "output_type": "stream",
     "text": [
      "('swing_baseball', 0.0)\n",
      "Ошибка при обработке видео test_data/test_dataset/c411f482-8575-43e4-a015-bab7a65552a5.avi: name 'display_image' is not defined\n",
      "Обработка видео...\n"
     ]
    },
    {
     "name": "stderr",
     "output_type": "stream",
     "text": [
      " 77%|███████▋  | 1069/1397 [08:50<02:43,  2.01it/s]"
     ]
    },
    {
     "name": "stdout",
     "output_type": "stream",
     "text": [
      "('jump', 0.0)\n",
      "Ошибка при обработке видео test_data/test_dataset/c41682bd-a5e6-4a47-b923-725d9f0f38e9.avi: name 'display_image' is not defined\n",
      "Обработка видео...\n"
     ]
    },
    {
     "name": "stderr",
     "output_type": "stream",
     "text": [
      " 77%|███████▋  | 1070/1397 [08:51<02:43,  2.01it/s]"
     ]
    },
    {
     "name": "stdout",
     "output_type": "stream",
     "text": [
      "('situp', 0.0)\n",
      "Ошибка при обработке видео test_data/test_dataset/c4591a3c-b29c-4b8d-9742-d32ba8df1a58.avi: name 'display_image' is not defined\n",
      "Обработка видео...\n"
     ]
    },
    {
     "name": "stderr",
     "output_type": "stream",
     "text": [
      " 77%|███████▋  | 1071/1397 [08:51<02:42,  2.01it/s]"
     ]
    },
    {
     "name": "stdout",
     "output_type": "stream",
     "text": [
      "('pullup', 0.0)\n",
      "Ошибка при обработке видео test_data/test_dataset/c47cab80-0345-415f-883f-3ed174539e21.avi: name 'display_image' is not defined\n",
      "Обработка видео...\n"
     ]
    },
    {
     "name": "stderr",
     "output_type": "stream",
     "text": [
      " 77%|███████▋  | 1072/1397 [08:52<02:43,  1.99it/s]"
     ]
    },
    {
     "name": "stdout",
     "output_type": "stream",
     "text": [
      "('pick', 0.0)\n",
      "Ошибка при обработке видео test_data/test_dataset/c4bd683a-be87-4bb7-9209-03446fdeb4cb.avi: name 'display_image' is not defined\n",
      "Обработка видео...\n"
     ]
    },
    {
     "name": "stderr",
     "output_type": "stream",
     "text": [
      " 77%|███████▋  | 1073/1397 [08:52<02:41,  2.00it/s]"
     ]
    },
    {
     "name": "stdout",
     "output_type": "stream",
     "text": [
      "('shoot_ball', 0.0)\n",
      "Ошибка при обработке видео test_data/test_dataset/c4ee04da-227f-4d53-9458-26712426e2fc.avi: name 'display_image' is not defined\n",
      "Обработка видео...\n"
     ]
    },
    {
     "name": "stderr",
     "output_type": "stream",
     "text": [
      " 77%|███████▋  | 1074/1397 [08:53<02:41,  2.00it/s]"
     ]
    },
    {
     "name": "stdout",
     "output_type": "stream",
     "text": [
      "('dive', 0.0)\n",
      "Ошибка при обработке видео test_data/test_dataset/c50e8f1a-d6ce-4824-9d46-18ff7919662d.avi: name 'display_image' is not defined\n",
      "Обработка видео...\n"
     ]
    },
    {
     "name": "stderr",
     "output_type": "stream",
     "text": [
      " 77%|███████▋  | 1075/1397 [08:53<02:40,  2.00it/s]"
     ]
    },
    {
     "name": "stdout",
     "output_type": "stream",
     "text": [
      "('shoot_ball', 0.0)\n",
      "Ошибка при обработке видео test_data/test_dataset/c519ea9a-a1fd-4cf7-bd10-c20499a0764c.avi: name 'display_image' is not defined\n",
      "Обработка видео...\n"
     ]
    },
    {
     "name": "stderr",
     "output_type": "stream",
     "text": [
      " 77%|███████▋  | 1076/1397 [08:54<02:39,  2.01it/s]"
     ]
    },
    {
     "name": "stdout",
     "output_type": "stream",
     "text": [
      "('fencing', 0.0)\n",
      "Ошибка при обработке видео test_data/test_dataset/c51fc0fc-cea5-4e0f-b2fa-34d413dc7138.avi: name 'display_image' is not defined\n",
      "Обработка видео...\n"
     ]
    },
    {
     "name": "stderr",
     "output_type": "stream",
     "text": [
      " 77%|███████▋  | 1077/1397 [08:54<02:43,  1.96it/s]"
     ]
    },
    {
     "name": "stdout",
     "output_type": "stream",
     "text": [
      "('pick', 0.0)\n",
      "Ошибка при обработке видео test_data/test_dataset/c5207a3f-5acf-4fbf-9c58-1bc09cf583ed.avi: name 'display_image' is not defined\n",
      "Обработка видео...\n"
     ]
    },
    {
     "name": "stderr",
     "output_type": "stream",
     "text": [
      " 77%|███████▋  | 1078/1397 [08:55<02:40,  1.98it/s]"
     ]
    },
    {
     "name": "stdout",
     "output_type": "stream",
     "text": [
      "('dive', 0.0)\n",
      "Ошибка при обработке видео test_data/test_dataset/c524a3a9-631e-4071-9410-e1c28bcf9015.avi: name 'display_image' is not defined\n",
      "Обработка видео...\n"
     ]
    },
    {
     "name": "stderr",
     "output_type": "stream",
     "text": [
      " 77%|███████▋  | 1079/1397 [08:55<02:41,  1.97it/s]"
     ]
    },
    {
     "name": "stdout",
     "output_type": "stream",
     "text": [
      "('sword_exercise', 0.0)\n",
      "Ошибка при обработке видео test_data/test_dataset/c5442618-ddfb-49a7-8501-b9e6c2eea706.avi: name 'display_image' is not defined\n",
      "Обработка видео...\n"
     ]
    },
    {
     "name": "stderr",
     "output_type": "stream",
     "text": [
      " 77%|███████▋  | 1080/1397 [08:56<02:39,  1.99it/s]"
     ]
    },
    {
     "name": "stdout",
     "output_type": "stream",
     "text": [
      "('pushup', 0.0)\n",
      "Ошибка при обработке видео test_data/test_dataset/c55e0a41-d3a1-4717-bacb-c62dc951a85e.avi: name 'display_image' is not defined\n",
      "Обработка видео...\n"
     ]
    },
    {
     "name": "stderr",
     "output_type": "stream",
     "text": [
      " 77%|███████▋  | 1081/1397 [08:56<02:38,  2.00it/s]"
     ]
    },
    {
     "name": "stdout",
     "output_type": "stream",
     "text": [
      "('cartwheel', 0.0)\n",
      "Ошибка при обработке видео test_data/test_dataset/c5c57b68-849f-49e7-96bf-23a0cf609e07.avi: name 'display_image' is not defined\n",
      "Обработка видео...\n"
     ]
    },
    {
     "name": "stderr",
     "output_type": "stream",
     "text": [
      " 77%|███████▋  | 1082/1397 [08:57<02:37,  2.00it/s]"
     ]
    },
    {
     "name": "stdout",
     "output_type": "stream",
     "text": [
      "('jump', 0.0)\n",
      "Ошибка при обработке видео test_data/test_dataset/c5d336dd-819e-486f-a9f9-794ce6e31b9a.avi: name 'display_image' is not defined\n",
      "Обработка видео..."
     ]
    },
    {
     "name": "stderr",
     "output_type": "stream",
     "text": [
      " 78%|███████▊  | 1083/1397 [08:57<02:36,  2.01it/s]"
     ]
    },
    {
     "name": "stdout",
     "output_type": "stream",
     "text": [
      "\n",
      "('cartwheel', 0.0)\n",
      "Ошибка при обработке видео test_data/test_dataset/c5dfadbd-1671-4c94-b80e-3d8310762987.avi: name 'display_image' is not defined\n",
      "Обработка видео...\n"
     ]
    },
    {
     "name": "stderr",
     "output_type": "stream",
     "text": [
      " 78%|███████▊  | 1084/1397 [08:58<02:35,  2.01it/s]"
     ]
    },
    {
     "name": "stdout",
     "output_type": "stream",
     "text": [
      "('pullup', 0.0)\n",
      "Ошибка при обработке видео test_data/test_dataset/c60b0812-2c7d-4fd0-b7b2-428d1086edb8.avi: name 'display_image' is not defined\n",
      "Обработка видео...\n",
      "('throw', 0.0)"
     ]
    },
    {
     "name": "stderr",
     "output_type": "stream",
     "text": [
      " 78%|███████▊  | 1085/1397 [08:58<02:35,  2.01it/s]"
     ]
    },
    {
     "name": "stdout",
     "output_type": "stream",
     "text": [
      "\n",
      "Ошибка при обработке видео test_data/test_dataset/c646c58f-2708-4803-a71b-0acbbc990081.avi: name 'display_image' is not defined\n",
      "Обработка видео...\n"
     ]
    },
    {
     "name": "stderr",
     "output_type": "stream",
     "text": [
      " 78%|███████▊  | 1086/1397 [08:59<02:34,  2.01it/s]"
     ]
    },
    {
     "name": "stdout",
     "output_type": "stream",
     "text": [
      "('pullup', 0.0)\n",
      "Ошибка при обработке видео test_data/test_dataset/c685f11f-4044-4607-98f5-c32d2e31f426.avi: name 'display_image' is not defined\n",
      "Обработка видео...\n"
     ]
    },
    {
     "name": "stderr",
     "output_type": "stream",
     "text": [
      " 78%|███████▊  | 1087/1397 [08:59<02:34,  2.00it/s]"
     ]
    },
    {
     "name": "stdout",
     "output_type": "stream",
     "text": [
      "('pick', 0.0)\n",
      "Ошибка при обработке видео test_data/test_dataset/c6943631-aa75-4dc2-a7f6-7b79c9a31ee6.avi: name 'display_image' is not defined\n",
      "Обработка видео...\n"
     ]
    },
    {
     "name": "stderr",
     "output_type": "stream",
     "text": [
      " 78%|███████▊  | 1088/1397 [09:00<02:34,  2.00it/s]"
     ]
    },
    {
     "name": "stdout",
     "output_type": "stream",
     "text": [
      "('dive', 0.0)\n",
      "Ошибка при обработке видео test_data/test_dataset/c7583529-728f-41a6-ab64-0b30e8bbb4ef.avi: name 'display_image' is not defined\n",
      "Обработка видео...\n"
     ]
    },
    {
     "name": "stderr",
     "output_type": "stream",
     "text": [
      " 78%|███████▊  | 1089/1397 [09:00<02:33,  2.01it/s]"
     ]
    },
    {
     "name": "stdout",
     "output_type": "stream",
     "text": [
      "('dribble', 0.0)\n",
      "Ошибка при обработке видео test_data/test_dataset/c766dcf8-ce32-45d7-b073-db3304d4ed50.avi: name 'display_image' is not defined\n",
      "Обработка видео...\n"
     ]
    },
    {
     "name": "stderr",
     "output_type": "stream",
     "text": [
      " 78%|███████▊  | 1090/1397 [09:01<02:32,  2.01it/s]"
     ]
    },
    {
     "name": "stdout",
     "output_type": "stream",
     "text": [
      "('flic_flac', 0.0)\n",
      "Ошибка при обработке видео test_data/test_dataset/c76bc554-6905-4389-b616-38108447a40a.avi: name 'display_image' is not defined\n",
      "Обработка видео...\n"
     ]
    },
    {
     "name": "stderr",
     "output_type": "stream",
     "text": [
      " 78%|███████▊  | 1091/1397 [09:01<02:32,  2.01it/s]"
     ]
    },
    {
     "name": "stdout",
     "output_type": "stream",
     "text": [
      "('pick', 0.0)\n",
      "Ошибка при обработке видео test_data/test_dataset/c7713c3b-bf1b-4dd7-b3e2-9ae94ce799ba.avi: name 'display_image' is not defined\n",
      "Обработка видео...\n",
      "('shoot_ball', 0.0)\n",
      "Ошибка при обработке видео test_data/test_dataset/c777d993-d473-41b5-9bce-22a46cc445c4.avi: name 'display_image' is not defined\n"
     ]
    },
    {
     "name": "stderr",
     "output_type": "stream",
     "text": [
      " 78%|███████▊  | 1092/1397 [09:02<02:31,  2.02it/s]"
     ]
    },
    {
     "name": "stdout",
     "output_type": "stream",
     "text": [
      "Обработка видео...\n"
     ]
    },
    {
     "name": "stderr",
     "output_type": "stream",
     "text": [
      " 78%|███████▊  | 1093/1397 [09:02<02:32,  1.99it/s]"
     ]
    },
    {
     "name": "stdout",
     "output_type": "stream",
     "text": [
      "('shoot_ball', 0.0)\n",
      "Ошибка при обработке видео test_data/test_dataset/c7b6d728-8da9-4c7f-bc5f-8a28f637e08f.avi: name 'display_image' is not defined\n",
      "Обработка видео...\n"
     ]
    },
    {
     "name": "stderr",
     "output_type": "stream",
     "text": [
      " 78%|███████▊  | 1094/1397 [09:03<02:31,  2.00it/s]"
     ]
    },
    {
     "name": "stdout",
     "output_type": "stream",
     "text": [
      "('pullup', 0.0)\n",
      "Ошибка при обработке видео test_data/test_dataset/c7bbe9fc-57fa-4e2b-a03f-026e08cab2ba.avi: name 'display_image' is not defined\n",
      "Обработка видео...\n"
     ]
    },
    {
     "name": "stderr",
     "output_type": "stream",
     "text": [
      " 78%|███████▊  | 1095/1397 [09:03<02:30,  2.01it/s]"
     ]
    },
    {
     "name": "stdout",
     "output_type": "stream",
     "text": [
      "('swing_baseball', 0.0)\n",
      "Ошибка при обработке видео test_data/test_dataset/c87e154c-9e52-42f0-86a1-21e2a60a4452.avi: name 'display_image' is not defined\n",
      "Обработка видео...\n"
     ]
    },
    {
     "name": "stderr",
     "output_type": "stream",
     "text": [
      " 78%|███████▊  | 1096/1397 [09:04<02:29,  2.01it/s]"
     ]
    },
    {
     "name": "stdout",
     "output_type": "stream",
     "text": [
      "('fencing', 0.0)\n",
      "Ошибка при обработке видео test_data/test_dataset/c87f9b97-ef19-4234-bc60-2b4c03f85b82.avi: name 'display_image' is not defined\n",
      "Обработка видео...\n"
     ]
    },
    {
     "name": "stderr",
     "output_type": "stream",
     "text": [
      " 79%|███████▊  | 1097/1397 [09:04<02:28,  2.02it/s]"
     ]
    },
    {
     "name": "stdout",
     "output_type": "stream",
     "text": [
      "('swing_baseball', 0.0)\n",
      "Ошибка при обработке видео test_data/test_dataset/c8f64dba-ccc5-4a50-8976-25aacfa71b40.avi: name 'display_image' is not defined\n",
      "Обработка видео...\n"
     ]
    },
    {
     "name": "stderr",
     "output_type": "stream",
     "text": [
      " 79%|███████▊  | 1098/1397 [09:05<02:31,  1.98it/s]"
     ]
    },
    {
     "name": "stdout",
     "output_type": "stream",
     "text": [
      "('flic_flac', 0.0)\n",
      "Ошибка при обработке видео test_data/test_dataset/c92b699d-69f9-4b3b-96c3-5dd8706eaf6e.avi: name 'display_image' is not defined\n",
      "Обработка видео...\n"
     ]
    },
    {
     "name": "stderr",
     "output_type": "stream",
     "text": [
      " 79%|███████▊  | 1099/1397 [09:05<02:31,  1.97it/s]"
     ]
    },
    {
     "name": "stdout",
     "output_type": "stream",
     "text": [
      "('golf', 0.0)\n",
      "Ошибка при обработке видео test_data/test_dataset/c92c0b3f-24a5-4ca7-a21f-1a36131afab1.avi: name 'display_image' is not defined\n",
      "Обработка видео...\n"
     ]
    },
    {
     "name": "stderr",
     "output_type": "stream",
     "text": [
      " 79%|███████▊  | 1100/1397 [09:06<02:29,  1.99it/s]"
     ]
    },
    {
     "name": "stdout",
     "output_type": "stream",
     "text": [
      "('pushup', 0.0)\n",
      "Ошибка при обработке видео test_data/test_dataset/c9766522-8564-4e32-ac5b-8275f7e45f91.avi: name 'display_image' is not defined\n",
      "Обработка видео...\n"
     ]
    },
    {
     "name": "stderr",
     "output_type": "stream",
     "text": [
      " 79%|███████▉  | 1101/1397 [09:06<02:27,  2.00it/s]"
     ]
    },
    {
     "name": "stdout",
     "output_type": "stream",
     "text": [
      "('pushup', 0.0)\n",
      "Ошибка при обработке видео test_data/test_dataset/c97874f5-452f-4fe6-8bc4-c6e6f0b4fd20.avi: name 'display_image' is not defined\n",
      "Обработка видео...\n"
     ]
    },
    {
     "name": "stderr",
     "output_type": "stream",
     "text": [
      " 79%|███████▉  | 1102/1397 [09:07<02:28,  1.99it/s]"
     ]
    },
    {
     "name": "stdout",
     "output_type": "stream",
     "text": [
      "('pushup', 0.0)\n",
      "Ошибка при обработке видео test_data/test_dataset/c9e4c694-ca0d-48c0-a955-7e62ca8d1d3a.avi: name 'display_image' is not defined\n",
      "Обработка видео...\n"
     ]
    },
    {
     "name": "stderr",
     "output_type": "stream",
     "text": [
      " 79%|███████▉  | 1103/1397 [09:07<02:26,  2.01it/s]"
     ]
    },
    {
     "name": "stdout",
     "output_type": "stream",
     "text": [
      "('shoot_ball', 0.0)\n",
      "Ошибка при обработке видео test_data/test_dataset/c9f15711-5c8f-4de0-8703-ae293122196e.avi: name 'display_image' is not defined\n",
      "Обработка видео...\n"
     ]
    },
    {
     "name": "stderr",
     "output_type": "stream",
     "text": [
      " 79%|███████▉  | 1104/1397 [09:08<02:25,  2.02it/s]"
     ]
    },
    {
     "name": "stdout",
     "output_type": "stream",
     "text": [
      "('dribble', 0.0)\n",
      "Ошибка при обработке видео test_data/test_dataset/ca074349-fe87-4755-978d-87cfce0759b3.avi: name 'display_image' is not defined\n",
      "Обработка видео...\n"
     ]
    },
    {
     "name": "stderr",
     "output_type": "stream",
     "text": [
      " 79%|███████▉  | 1105/1397 [09:08<02:24,  2.02it/s]"
     ]
    },
    {
     "name": "stdout",
     "output_type": "stream",
     "text": [
      "('flic_flac', 0.0)\n",
      "Ошибка при обработке видео test_data/test_dataset/ca27eb00-84bc-46ec-9502-f36ed6fc91cd.avi: name 'display_image' is not defined\n",
      "Обработка видео...\n"
     ]
    },
    {
     "name": "stderr",
     "output_type": "stream",
     "text": [
      " 79%|███████▉  | 1106/1397 [09:09<02:23,  2.03it/s]"
     ]
    },
    {
     "name": "stdout",
     "output_type": "stream",
     "text": [
      "('catch', 0.0)\n",
      "Ошибка при обработке видео test_data/test_dataset/ca5c8ce0-ce5c-43c4-ab87-b4333217f57a.avi: name 'display_image' is not defined\n",
      "Обработка видео...\n"
     ]
    },
    {
     "name": "stderr",
     "output_type": "stream",
     "text": [
      " 79%|███████▉  | 1107/1397 [09:09<02:22,  2.03it/s]"
     ]
    },
    {
     "name": "stdout",
     "output_type": "stream",
     "text": [
      "('pour', 0.0)\n",
      "Ошибка при обработке видео test_data/test_dataset/ca8b3b6e-cb05-4a0f-8f45-9e6b98ada125.avi: name 'display_image' is not defined\n",
      "Обработка видео...\n"
     ]
    },
    {
     "name": "stderr",
     "output_type": "stream",
     "text": [
      " 79%|███████▉  | 1108/1397 [09:10<02:22,  2.03it/s]"
     ]
    },
    {
     "name": "stdout",
     "output_type": "stream",
     "text": [
      "('pullup', 0.0)\n",
      "Ошибка при обработке видео test_data/test_dataset/cb1a4951-7662-42ce-bc0e-a1ff57519714.avi: name 'display_image' is not defined\n",
      "Обработка видео...\n"
     ]
    },
    {
     "name": "stderr",
     "output_type": "stream",
     "text": [
      " 79%|███████▉  | 1109/1397 [09:10<02:22,  2.01it/s]"
     ]
    },
    {
     "name": "stdout",
     "output_type": "stream",
     "text": [
      "('pullup', 0.0)\n",
      "Ошибка при обработке видео test_data/test_dataset/cb42705d-12d9-48b9-a628-aa066428a258.avi: name 'display_image' is not defined\n",
      "Обработка видео...\n"
     ]
    },
    {
     "name": "stderr",
     "output_type": "stream",
     "text": [
      " 79%|███████▉  | 1110/1397 [09:11<02:22,  2.01it/s]"
     ]
    },
    {
     "name": "stdout",
     "output_type": "stream",
     "text": [
      "('swing_baseball', 0.0)\n",
      "Ошибка при обработке видео test_data/test_dataset/cb5a7090-3236-496b-a7d5-1553275a2e59.avi: name 'display_image' is not defined\n",
      "Обработка видео...\n"
     ]
    },
    {
     "name": "stderr",
     "output_type": "stream",
     "text": [
      " 80%|███████▉  | 1111/1397 [09:11<02:21,  2.01it/s]"
     ]
    },
    {
     "name": "stdout",
     "output_type": "stream",
     "text": [
      "('dive', 0.0)\n",
      "Ошибка при обработке видео test_data/test_dataset/cb5d6bd4-a444-443e-bed6-a69737d3784e.avi: name 'display_image' is not defined\n",
      "Обработка видео...\n"
     ]
    },
    {
     "name": "stderr",
     "output_type": "stream",
     "text": [
      " 80%|███████▉  | 1112/1397 [09:12<02:20,  2.03it/s]"
     ]
    },
    {
     "name": "stdout",
     "output_type": "stream",
     "text": [
      "('sword_exercise', 0.0)\n",
      "Ошибка при обработке видео test_data/test_dataset/cb6be8ca-0243-4a7f-bfae-fa175ba82503.avi: name 'display_image' is not defined\n",
      "Обработка видео...\n"
     ]
    },
    {
     "name": "stderr",
     "output_type": "stream",
     "text": [
      " 80%|███████▉  | 1113/1397 [09:12<02:19,  2.04it/s]"
     ]
    },
    {
     "name": "stdout",
     "output_type": "stream",
     "text": [
      "('pushup', 0.0)\n",
      "Ошибка при обработке видео test_data/test_dataset/cb81781d-45cf-4ac7-94f8-1dc7dbffb871.avi: name 'display_image' is not defined\n",
      "Обработка видео...\n"
     ]
    },
    {
     "name": "stderr",
     "output_type": "stream",
     "text": [
      " 80%|███████▉  | 1114/1397 [09:13<02:18,  2.04it/s]"
     ]
    },
    {
     "name": "stdout",
     "output_type": "stream",
     "text": [
      "('pullup', 0.0)\n",
      "Ошибка при обработке видео test_data/test_dataset/cbf49767-b8df-466f-bd3e-9443c29db208.avi: name 'display_image' is not defined\n",
      "Обработка видео...\n"
     ]
    },
    {
     "name": "stderr",
     "output_type": "stream",
     "text": [
      " 80%|███████▉  | 1115/1397 [09:13<02:17,  2.06it/s]"
     ]
    },
    {
     "name": "stdout",
     "output_type": "stream",
     "text": [
      "('throw', 0.0)\n",
      "Ошибка при обработке видео test_data/test_dataset/cbf610ea-f066-48ce-85dd-ad1112b83b1f.avi: name 'display_image' is not defined\n",
      "Обработка видео...\n"
     ]
    },
    {
     "name": "stderr",
     "output_type": "stream",
     "text": [
      " 80%|███████▉  | 1116/1397 [09:14<02:17,  2.04it/s]"
     ]
    },
    {
     "name": "stdout",
     "output_type": "stream",
     "text": [
      "('pullup', 0.0)\n",
      "Ошибка при обработке видео test_data/test_dataset/cc22552d-be42-4da9-a533-e28d16a92e6e.avi: name 'display_image' is not defined\n",
      "Обработка видео...\n"
     ]
    },
    {
     "name": "stderr",
     "output_type": "stream",
     "text": [
      " 80%|███████▉  | 1117/1397 [09:14<02:17,  2.04it/s]"
     ]
    },
    {
     "name": "stdout",
     "output_type": "stream",
     "text": [
      "('handstand', 0.0)\n",
      "Ошибка при обработке видео test_data/test_dataset/cc24dcc5-a207-4396-beef-fa71493aa770.avi: name 'display_image' is not defined\n",
      "Обработка видео...\n",
      "('golf', 0.0)"
     ]
    },
    {
     "name": "stderr",
     "output_type": "stream",
     "text": [
      " 80%|████████  | 1118/1397 [09:15<02:18,  2.01it/s]"
     ]
    },
    {
     "name": "stdout",
     "output_type": "stream",
     "text": [
      "\n",
      "Ошибка при обработке видео test_data/test_dataset/cc994a25-bc79-4dfc-8b3b-1da918877758.avi: name 'display_image' is not defined\n",
      "Обработка видео...\n"
     ]
    },
    {
     "name": "stderr",
     "output_type": "stream",
     "text": [
      " 80%|████████  | 1119/1397 [09:15<02:17,  2.02it/s]"
     ]
    },
    {
     "name": "stdout",
     "output_type": "stream",
     "text": [
      "('flic_flac', 0.0)\n",
      "Ошибка при обработке видео test_data/test_dataset/ccb2ece4-6799-4d7f-a51f-ee19aeb1f51d.avi: name 'display_image' is not defined\n",
      "Обработка видео...\n"
     ]
    },
    {
     "name": "stderr",
     "output_type": "stream",
     "text": [
      " 80%|████████  | 1120/1397 [09:16<02:19,  1.99it/s]"
     ]
    },
    {
     "name": "stdout",
     "output_type": "stream",
     "text": [
      "('sword_exercise', 0.0)\n",
      "Ошибка при обработке видео test_data/test_dataset/cce8e9b1-0c02-479b-a54e-176bce513f02.avi: name 'display_image' is not defined\n",
      "Обработка видео...\n",
      "('golf', 0.0)"
     ]
    },
    {
     "name": "stderr",
     "output_type": "stream",
     "text": [
      " 80%|████████  | 1121/1397 [09:16<02:17,  2.00it/s]"
     ]
    },
    {
     "name": "stdout",
     "output_type": "stream",
     "text": [
      "\n",
      "Ошибка при обработке видео test_data/test_dataset/cce9a7b8-4374-490c-bca1-942f222a6f9b.avi: name 'display_image' is not defined\n",
      "Обработка видео...\n"
     ]
    },
    {
     "name": "stderr",
     "output_type": "stream",
     "text": [
      " 80%|████████  | 1122/1397 [09:17<02:18,  1.98it/s]"
     ]
    },
    {
     "name": "stdout",
     "output_type": "stream",
     "text": [
      "('jump', 0.0)\n",
      "Ошибка при обработке видео test_data/test_dataset/cd164984-8c88-4455-b654-d826d69d419e.avi: name 'display_image' is not defined\n",
      "Обработка видео...\n"
     ]
    },
    {
     "name": "stderr",
     "output_type": "stream",
     "text": [
      " 80%|████████  | 1123/1397 [09:17<02:16,  2.01it/s]"
     ]
    },
    {
     "name": "stdout",
     "output_type": "stream",
     "text": [
      "('pushup', 0.0)\n",
      "Ошибка при обработке видео test_data/test_dataset/cd27f3bb-681e-4feb-b3e5-e26d8c95ddb6.avi: name 'display_image' is not defined\n",
      "Обработка видео...\n"
     ]
    },
    {
     "name": "stderr",
     "output_type": "stream",
     "text": [
      " 80%|████████  | 1124/1397 [09:18<02:16,  2.00it/s]"
     ]
    },
    {
     "name": "stdout",
     "output_type": "stream",
     "text": [
      "('shoot_ball', 0.0)\n",
      "Ошибка при обработке видео test_data/test_dataset/cd327f14-be62-45ba-a44f-ddddd770b166.avi: name 'display_image' is not defined\n",
      "Обработка видео...\n"
     ]
    },
    {
     "name": "stderr",
     "output_type": "stream",
     "text": [
      " 81%|████████  | 1125/1397 [09:18<02:15,  2.01it/s]"
     ]
    },
    {
     "name": "stdout",
     "output_type": "stream",
     "text": [
      "('handstand', 0.0)\n",
      "Ошибка при обработке видео test_data/test_dataset/cd6027ec-c705-4aae-a76e-67231a4d8306.avi: name 'display_image' is not defined\n",
      "Обработка видео...\n"
     ]
    },
    {
     "name": "stderr",
     "output_type": "stream",
     "text": [
      " 81%|████████  | 1126/1397 [09:19<02:13,  2.03it/s]"
     ]
    },
    {
     "name": "stdout",
     "output_type": "stream",
     "text": [
      "('pushup', 0.0)\n",
      "Ошибка при обработке видео test_data/test_dataset/cdc4e9f8-14eb-4477-8a1b-86e0c324dc40.avi: name 'display_image' is not defined\n",
      "Обработка видео...\n"
     ]
    },
    {
     "name": "stderr",
     "output_type": "stream",
     "text": [
      " 81%|████████  | 1127/1397 [09:19<02:13,  2.03it/s]"
     ]
    },
    {
     "name": "stdout",
     "output_type": "stream",
     "text": [
      "('jump', 0.0)\n",
      "Ошибка при обработке видео test_data/test_dataset/cdf2aa6c-f997-4939-8e4a-afa4b79dc282.avi: name 'display_image' is not defined\n",
      "Обработка видео...\n",
      "('pullup', 0.0)"
     ]
    },
    {
     "name": "stderr",
     "output_type": "stream",
     "text": [
      " 81%|████████  | 1128/1397 [09:20<02:12,  2.03it/s]"
     ]
    },
    {
     "name": "stdout",
     "output_type": "stream",
     "text": [
      "\n",
      "Ошибка при обработке видео test_data/test_dataset/ce09d890-4ffe-4424-bee7-f0ffdaa988a9.avi: name 'display_image' is not defined\n",
      "Обработка видео...\n"
     ]
    },
    {
     "name": "stderr",
     "output_type": "stream",
     "text": [
      " 81%|████████  | 1129/1397 [09:20<02:12,  2.02it/s]"
     ]
    },
    {
     "name": "stdout",
     "output_type": "stream",
     "text": [
      "('shoot_ball', 0.0)\n",
      "Ошибка при обработке видео test_data/test_dataset/ce0afe3a-42ab-4250-a168-d381d2290935.avi: name 'display_image' is not defined\n",
      "Обработка видео...\n",
      "('fencing', 0.0)"
     ]
    },
    {
     "name": "stderr",
     "output_type": "stream",
     "text": [
      " 81%|████████  | 1130/1397 [09:21<02:13,  2.00it/s]"
     ]
    },
    {
     "name": "stdout",
     "output_type": "stream",
     "text": [
      "\n",
      "Ошибка при обработке видео test_data/test_dataset/ce29cc65-a500-48eb-9510-4b66e3fffb38.avi: name 'display_image' is not defined\n",
      "Обработка видео...\n",
      "('handstand', 0.0)\n"
     ]
    },
    {
     "name": "stderr",
     "output_type": "stream",
     "text": [
      " 81%|████████  | 1131/1397 [09:21<02:13,  1.99it/s]"
     ]
    },
    {
     "name": "stdout",
     "output_type": "stream",
     "text": [
      "Ошибка при обработке видео test_data/test_dataset/ce305c95-1dbf-4e38-8109-dd8149206034.avi: name 'display_image' is not defined\n",
      "Обработка видео...\n"
     ]
    },
    {
     "name": "stderr",
     "output_type": "stream",
     "text": [
      " 81%|████████  | 1132/1397 [09:22<02:13,  1.98it/s]"
     ]
    },
    {
     "name": "stdout",
     "output_type": "stream",
     "text": [
      "('jump', 0.0)\n",
      "Ошибка при обработке видео test_data/test_dataset/ce43c7f0-8e04-467c-8078-9cbd50970d51.avi: name 'display_image' is not defined\n",
      "Обработка видео...\n"
     ]
    },
    {
     "name": "stderr",
     "output_type": "stream",
     "text": [
      " 81%|████████  | 1133/1397 [09:22<02:13,  1.98it/s]"
     ]
    },
    {
     "name": "stdout",
     "output_type": "stream",
     "text": [
      "('pullup', 0.0)\n",
      "Ошибка при обработке видео test_data/test_dataset/ce793452-9d8d-4887-8afe-d977a58d6b79.avi: name 'display_image' is not defined\n",
      "Обработка видео...\n"
     ]
    },
    {
     "name": "stderr",
     "output_type": "stream",
     "text": [
      " 81%|████████  | 1134/1397 [09:23<02:11,  1.99it/s]"
     ]
    },
    {
     "name": "stdout",
     "output_type": "stream",
     "text": [
      "('golf', 0.0)\n",
      "Ошибка при обработке видео test_data/test_dataset/cef0b497-5439-47c5-988f-1a3e28107f8b.avi: name 'display_image' is not defined\n",
      "Обработка видео...\n"
     ]
    },
    {
     "name": "stderr",
     "output_type": "stream",
     "text": [
      " 81%|████████  | 1135/1397 [09:23<02:10,  2.01it/s]"
     ]
    },
    {
     "name": "stdout",
     "output_type": "stream",
     "text": [
      "('pullup', 0.0)\n",
      "Ошибка при обработке видео test_data/test_dataset/cef2d6db-8aea-429a-9bc2-1b90e4582c39.avi: name 'display_image' is not defined\n",
      "Обработка видео...\n"
     ]
    },
    {
     "name": "stderr",
     "output_type": "stream",
     "text": [
      " 81%|████████▏ | 1136/1397 [09:24<02:09,  2.02it/s]"
     ]
    },
    {
     "name": "stdout",
     "output_type": "stream",
     "text": [
      "('flic_flac', 0.0)\n",
      "Ошибка при обработке видео test_data/test_dataset/cf25e8c2-13bb-469e-a902-3469384a7abd.avi: name 'display_image' is not defined\n",
      "Обработка видео...\n"
     ]
    },
    {
     "name": "stderr",
     "output_type": "stream",
     "text": [
      " 81%|████████▏ | 1137/1397 [09:24<02:08,  2.02it/s]"
     ]
    },
    {
     "name": "stdout",
     "output_type": "stream",
     "text": [
      "('dive', 0.0)\n",
      "Ошибка при обработке видео test_data/test_dataset/cf77303b-eb56-4023-ab8a-5fe8ffb4327a.avi: name 'display_image' is not defined\n",
      "Обработка видео...\n"
     ]
    },
    {
     "name": "stderr",
     "output_type": "stream",
     "text": [
      " 81%|████████▏ | 1138/1397 [09:25<02:07,  2.02it/s]"
     ]
    },
    {
     "name": "stdout",
     "output_type": "stream",
     "text": [
      "('sword_exercise', 0.0)\n",
      "Ошибка при обработке видео test_data/test_dataset/cfb0d09a-7a12-435b-a13a-26257bc6239f.avi: name 'display_image' is not defined\n",
      "Обработка видео...\n"
     ]
    },
    {
     "name": "stderr",
     "output_type": "stream",
     "text": [
      " 82%|████████▏ | 1139/1397 [09:25<02:07,  2.02it/s]"
     ]
    },
    {
     "name": "stdout",
     "output_type": "stream",
     "text": [
      "('pullup', 0.0)\n",
      "Ошибка при обработке видео test_data/test_dataset/d0341213-8669-4bdc-9fe1-7b41054fa01f.avi: name 'display_image' is not defined\n",
      "Обработка видео...\n"
     ]
    },
    {
     "name": "stderr",
     "output_type": "stream",
     "text": [
      " 82%|████████▏ | 1140/1397 [09:26<02:08,  2.00it/s]"
     ]
    },
    {
     "name": "stdout",
     "output_type": "stream",
     "text": [
      "('dive', 0.0)\n",
      "Ошибка при обработке видео test_data/test_dataset/d04a59f2-2cd0-4a6b-8928-b515a9f87339.avi: name 'display_image' is not defined\n",
      "Обработка видео...\n"
     ]
    },
    {
     "name": "stderr",
     "output_type": "stream",
     "text": [
      " 82%|████████▏ | 1141/1397 [09:26<02:10,  1.96it/s]"
     ]
    },
    {
     "name": "stdout",
     "output_type": "stream",
     "text": [
      "('pushup', 0.0)\n",
      "Ошибка при обработке видео test_data/test_dataset/d060e592-ace4-4433-b266-7afd8be68be3.avi: name 'display_image' is not defined\n",
      "Обработка видео...\n"
     ]
    },
    {
     "name": "stderr",
     "output_type": "stream",
     "text": [
      " 82%|████████▏ | 1142/1397 [09:27<02:09,  1.97it/s]"
     ]
    },
    {
     "name": "stdout",
     "output_type": "stream",
     "text": [
      "('shoot_ball', 0.0)\n",
      "Ошибка при обработке видео test_data/test_dataset/d0aa3be3-3214-4b38-bd09-7a834892b7ad.avi: name 'display_image' is not defined\n",
      "Обработка видео...\n"
     ]
    },
    {
     "name": "stderr",
     "output_type": "stream",
     "text": [
      " 82%|████████▏ | 1143/1397 [09:27<02:07,  1.99it/s]"
     ]
    },
    {
     "name": "stdout",
     "output_type": "stream",
     "text": [
      "('cartwheel', 0.0)\n",
      "Ошибка при обработке видео test_data/test_dataset/d0c9ea64-6a33-486b-b05e-bd92edd25735.avi: name 'display_image' is not defined\n",
      "Обработка видео..."
     ]
    },
    {
     "name": "stderr",
     "output_type": "stream",
     "text": [
      " 82%|████████▏ | 1144/1397 [09:28<02:06,  2.01it/s]"
     ]
    },
    {
     "name": "stdout",
     "output_type": "stream",
     "text": [
      "\n",
      "('handstand', 0.0)\n",
      "Ошибка при обработке видео test_data/test_dataset/d0d9f43d-3849-4fa7-98f2-8182cd7cd9d2.avi: name 'display_image' is not defined\n",
      "Обработка видео...\n"
     ]
    },
    {
     "name": "stderr",
     "output_type": "stream",
     "text": [
      " 82%|████████▏ | 1145/1397 [09:28<02:04,  2.02it/s]"
     ]
    },
    {
     "name": "stdout",
     "output_type": "stream",
     "text": [
      "('climb', 0.0)\n",
      "Ошибка при обработке видео test_data/test_dataset/d0ed6a61-8abf-4416-875c-398a2d1a7615.avi: name 'display_image' is not defined\n",
      "Обработка видео...\n"
     ]
    },
    {
     "name": "stderr",
     "output_type": "stream",
     "text": [
      " 82%|████████▏ | 1146/1397 [09:29<02:03,  2.03it/s]"
     ]
    },
    {
     "name": "stdout",
     "output_type": "stream",
     "text": [
      "('handstand', 0.0)\n",
      "Ошибка при обработке видео test_data/test_dataset/d1026c0f-c700-4c28-8488-ee5462ca2e46.avi: name 'display_image' is not defined\n",
      "Обработка видео...\n"
     ]
    },
    {
     "name": "stderr",
     "output_type": "stream",
     "text": [
      " 82%|████████▏ | 1147/1397 [09:29<02:02,  2.04it/s]"
     ]
    },
    {
     "name": "stdout",
     "output_type": "stream",
     "text": [
      "('pullup', 0.0)\n",
      "Ошибка при обработке видео test_data/test_dataset/d12ce28b-e8dd-45e7-b3f2-9f8f693e85a7.avi: name 'display_image' is not defined\n",
      "Обработка видео...\n"
     ]
    },
    {
     "name": "stderr",
     "output_type": "stream",
     "text": [
      " 82%|████████▏ | 1148/1397 [09:30<02:03,  2.01it/s]"
     ]
    },
    {
     "name": "stdout",
     "output_type": "stream",
     "text": [
      "('push', 0.0)\n",
      "Ошибка при обработке видео test_data/test_dataset/d14ac30e-60e6-4697-a1fb-63e6ddc1f021.avi: name 'display_image' is not defined\n",
      "Обработка видео...\n"
     ]
    },
    {
     "name": "stderr",
     "output_type": "stream",
     "text": [
      " 82%|████████▏ | 1149/1397 [09:30<02:02,  2.02it/s]"
     ]
    },
    {
     "name": "stdout",
     "output_type": "stream",
     "text": [
      "('pushup', 0.0)\n",
      "Ошибка при обработке видео test_data/test_dataset/d14dcf57-0b18-4f32-9a46-9126fe34f869.avi: name 'display_image' is not defined\n",
      "Обработка видео...\n"
     ]
    },
    {
     "name": "stderr",
     "output_type": "stream",
     "text": [
      " 82%|████████▏ | 1150/1397 [09:31<02:02,  2.02it/s]"
     ]
    },
    {
     "name": "stdout",
     "output_type": "stream",
     "text": [
      "('sword_exercise', 0.0)\n",
      "Ошибка при обработке видео test_data/test_dataset/d15b5873-cc59-4644-8eff-a0da5fad0d5f.avi: name 'display_image' is not defined\n",
      "Обработка видео...\n"
     ]
    },
    {
     "name": "stderr",
     "output_type": "stream",
     "text": [
      " 82%|████████▏ | 1151/1397 [09:31<02:04,  1.97it/s]"
     ]
    },
    {
     "name": "stdout",
     "output_type": "stream",
     "text": [
      "('jump', 0.0)\n",
      "Ошибка при обработке видео test_data/test_dataset/d1e1d05b-ace3-4c22-865f-260bcb5b33d1.avi: name 'display_image' is not defined\n",
      "Обработка видео...\n"
     ]
    },
    {
     "name": "stderr",
     "output_type": "stream",
     "text": [
      " 82%|████████▏ | 1152/1397 [09:32<02:05,  1.96it/s]"
     ]
    },
    {
     "name": "stdout",
     "output_type": "stream",
     "text": [
      "('sword_exercise', 0.0)\n",
      "Ошибка при обработке видео test_data/test_dataset/d1f7537c-c77c-4205-b596-f3bd7b52c87b.avi: name 'display_image' is not defined\n",
      "Обработка видео...\n"
     ]
    },
    {
     "name": "stderr",
     "output_type": "stream",
     "text": [
      " 83%|████████▎ | 1153/1397 [09:32<02:03,  1.97it/s]"
     ]
    },
    {
     "name": "stdout",
     "output_type": "stream",
     "text": [
      "('hit', 0.0)\n",
      "Ошибка при обработке видео test_data/test_dataset/d200a6ce-446e-4c85-8375-1fdbddf94969.avi: name 'display_image' is not defined\n",
      "Обработка видео...\n"
     ]
    },
    {
     "name": "stderr",
     "output_type": "stream",
     "text": [
      " 83%|████████▎ | 1154/1397 [09:33<02:02,  1.99it/s]"
     ]
    },
    {
     "name": "stdout",
     "output_type": "stream",
     "text": [
      "('golf', 0.0)\n",
      "Ошибка при обработке видео test_data/test_dataset/d20ebb5f-1cd8-48b1-8dcc-5caf1bf990ab.avi: name 'display_image' is not defined\n",
      "Обработка видео...\n"
     ]
    },
    {
     "name": "stderr",
     "output_type": "stream",
     "text": [
      " 83%|████████▎ | 1155/1397 [09:33<02:00,  2.01it/s]"
     ]
    },
    {
     "name": "stdout",
     "output_type": "stream",
     "text": [
      "('pullup', 0.0)\n",
      "Ошибка при обработке видео test_data/test_dataset/d283e331-f92c-4b4a-8c8e-ce8e383d8244.avi: name 'display_image' is not defined\n",
      "Обработка видео...\n"
     ]
    },
    {
     "name": "stderr",
     "output_type": "stream",
     "text": [
      " 83%|████████▎ | 1156/1397 [09:34<01:59,  2.02it/s]"
     ]
    },
    {
     "name": "stdout",
     "output_type": "stream",
     "text": [
      "('handstand', 0.0)\n",
      "Ошибка при обработке видео test_data/test_dataset/d28a62ac-b961-4e19-9df0-40034034262f.avi: name 'display_image' is not defined\n",
      "Обработка видео...\n",
      "('golf', 0.0)"
     ]
    },
    {
     "name": "stderr",
     "output_type": "stream",
     "text": [
      " 83%|████████▎ | 1157/1397 [09:34<01:58,  2.02it/s]"
     ]
    },
    {
     "name": "stdout",
     "output_type": "stream",
     "text": [
      "\n",
      "Ошибка при обработке видео test_data/test_dataset/d2c5f7ca-3d66-4587-a2de-4414c2571284.avi: name 'display_image' is not defined\n",
      "Обработка видео...\n"
     ]
    },
    {
     "name": "stderr",
     "output_type": "stream",
     "text": [
      " 83%|████████▎ | 1158/1397 [09:35<01:57,  2.03it/s]"
     ]
    },
    {
     "name": "stdout",
     "output_type": "stream",
     "text": [
      "('pullup', 0.0)\n",
      "Ошибка при обработке видео test_data/test_dataset/d2d697c8-3338-4ea6-b58f-6e621583a824.avi: name 'display_image' is not defined\n",
      "Обработка видео...\n"
     ]
    },
    {
     "name": "stderr",
     "output_type": "stream",
     "text": [
      " 83%|████████▎ | 1159/1397 [09:35<01:57,  2.02it/s]"
     ]
    },
    {
     "name": "stdout",
     "output_type": "stream",
     "text": [
      "('pullup', 0.0)\n",
      "Ошибка при обработке видео test_data/test_dataset/d320edd0-8b71-4a4b-97e1-567f5cc3703d.avi: name 'display_image' is not defined\n",
      "Обработка видео...\n"
     ]
    },
    {
     "name": "stderr",
     "output_type": "stream",
     "text": [
      " 83%|████████▎ | 1160/1397 [09:36<01:57,  2.02it/s]"
     ]
    },
    {
     "name": "stdout",
     "output_type": "stream",
     "text": [
      "('shoot_ball', 0.0)\n",
      "Ошибка при обработке видео test_data/test_dataset/d3721852-368f-41bb-8e1d-8bb6b167b6f1.avi: name 'display_image' is not defined\n",
      "Обработка видео...\n"
     ]
    },
    {
     "name": "stderr",
     "output_type": "stream",
     "text": [
      " 83%|████████▎ | 1161/1397 [09:36<01:56,  2.03it/s]"
     ]
    },
    {
     "name": "stdout",
     "output_type": "stream",
     "text": [
      "('cartwheel', 0.0)\n",
      "Ошибка при обработке видео test_data/test_dataset/d384de7b-f669-419c-859c-412962f58f30.avi: name 'display_image' is not defined\n",
      "Обработка видео...\n",
      "('golf', 0.0)"
     ]
    },
    {
     "name": "stderr",
     "output_type": "stream",
     "text": [
      " 83%|████████▎ | 1162/1397 [09:37<01:56,  2.02it/s]"
     ]
    },
    {
     "name": "stdout",
     "output_type": "stream",
     "text": [
      "\n",
      "Ошибка при обработке видео test_data/test_dataset/d398182e-8b2c-4569-b588-31d24e470f2e.avi: name 'display_image' is not defined\n",
      "Обработка видео...\n"
     ]
    },
    {
     "name": "stderr",
     "output_type": "stream",
     "text": [
      " 83%|████████▎ | 1163/1397 [09:37<01:57,  1.99it/s]"
     ]
    },
    {
     "name": "stdout",
     "output_type": "stream",
     "text": [
      "('flic_flac', 0.0)\n",
      "Ошибка при обработке видео test_data/test_dataset/d409aa0d-dc62-4b87-a52b-0f392e835383.avi: name 'display_image' is not defined\n",
      "Обработка видео...\n"
     ]
    },
    {
     "name": "stderr",
     "output_type": "stream",
     "text": [
      " 83%|████████▎ | 1164/1397 [09:38<01:57,  1.98it/s]"
     ]
    },
    {
     "name": "stdout",
     "output_type": "stream",
     "text": [
      "('situp', 0.0)\n",
      "Ошибка при обработке видео test_data/test_dataset/d425a006-28e9-47ce-95d4-6ce21b1d75c8.avi: name 'display_image' is not defined\n",
      "Обработка видео...\n"
     ]
    },
    {
     "name": "stderr",
     "output_type": "stream",
     "text": [
      " 83%|████████▎ | 1165/1397 [09:38<01:55,  2.00it/s]"
     ]
    },
    {
     "name": "stdout",
     "output_type": "stream",
     "text": [
      "('flic_flac', 0.0)\n",
      "Ошибка при обработке видео test_data/test_dataset/d46fc68b-338c-4a88-b402-ae005d792c86.avi: name 'display_image' is not defined\n",
      "Обработка видео...\n"
     ]
    },
    {
     "name": "stderr",
     "output_type": "stream",
     "text": [
      " 83%|████████▎ | 1166/1397 [09:39<01:54,  2.01it/s]"
     ]
    },
    {
     "name": "stdout",
     "output_type": "stream",
     "text": [
      "('dribble', 0.0)\n",
      "Ошибка при обработке видео test_data/test_dataset/d4fd7a14-240d-438a-a751-bcfe2cd4277c.avi: name 'display_image' is not defined\n",
      "Обработка видео...\n"
     ]
    },
    {
     "name": "stderr",
     "output_type": "stream",
     "text": [
      " 84%|████████▎ | 1167/1397 [09:39<01:53,  2.02it/s]"
     ]
    },
    {
     "name": "stdout",
     "output_type": "stream",
     "text": [
      "('sword_exercise', 0.0)\n",
      "Ошибка при обработке видео test_data/test_dataset/d5be5ceb-cd5f-465b-886d-5fe78191a2ac.avi: name 'display_image' is not defined\n",
      "Обработка видео...\n"
     ]
    },
    {
     "name": "stderr",
     "output_type": "stream",
     "text": [
      " 84%|████████▎ | 1168/1397 [09:40<01:53,  2.01it/s]"
     ]
    },
    {
     "name": "stdout",
     "output_type": "stream",
     "text": [
      "('golf', 0.0)\n",
      "Ошибка при обработке видео test_data/test_dataset/d5f49349-2baf-4e3d-ac92-0d34b5565929.avi: name 'display_image' is not defined\n",
      "Обработка видео...\n"
     ]
    },
    {
     "name": "stderr",
     "output_type": "stream",
     "text": [
      " 84%|████████▎ | 1169/1397 [09:40<01:53,  2.01it/s]"
     ]
    },
    {
     "name": "stdout",
     "output_type": "stream",
     "text": [
      "('dive', 0.0)\n",
      "Ошибка при обработке видео test_data/test_dataset/d61b96fd-5d46-4977-a803-4e8c1b5c640d.avi: name 'display_image' is not defined\n",
      "Обработка видео...\n",
      "('dive', 0.0)\n"
     ]
    },
    {
     "name": "stderr",
     "output_type": "stream",
     "text": [
      " 84%|████████▍ | 1170/1397 [09:41<01:53,  1.99it/s]"
     ]
    },
    {
     "name": "stdout",
     "output_type": "stream",
     "text": [
      "Ошибка при обработке видео test_data/test_dataset/d61d77d9-794c-4d66-8ec8-51c643c17f31.avi: name 'display_image' is not defined\n",
      "Обработка видео...\n"
     ]
    },
    {
     "name": "stderr",
     "output_type": "stream",
     "text": [
      " 84%|████████▍ | 1171/1397 [09:41<01:52,  2.00it/s]"
     ]
    },
    {
     "name": "stdout",
     "output_type": "stream",
     "text": [
      "('fencing', 0.0)\n",
      "Ошибка при обработке видео test_data/test_dataset/d6228f69-1051-481f-9a4e-b493c207f1df.avi: name 'display_image' is not defined\n",
      "Обработка видео...\n"
     ]
    },
    {
     "name": "stderr",
     "output_type": "stream",
     "text": [
      " 84%|████████▍ | 1172/1397 [09:42<01:51,  2.01it/s]"
     ]
    },
    {
     "name": "stdout",
     "output_type": "stream",
     "text": [
      "('fencing', 0.0)\n",
      "Ошибка при обработке видео test_data/test_dataset/d63597f2-49a4-4250-b7ae-a3ec6ff5a8da.avi: name 'display_image' is not defined\n",
      "Обработка видео...\n"
     ]
    },
    {
     "name": "stderr",
     "output_type": "stream",
     "text": [
      " 84%|████████▍ | 1173/1397 [09:42<01:52,  1.99it/s]"
     ]
    },
    {
     "name": "stdout",
     "output_type": "stream",
     "text": [
      "('swing_baseball', 0.0)\n",
      "Ошибка при обработке видео test_data/test_dataset/d655391a-c0cb-4fa3-aebe-ccc03e5c1f1f.avi: name 'display_image' is not defined\n",
      "Обработка видео...\n"
     ]
    },
    {
     "name": "stderr",
     "output_type": "stream",
     "text": [
      " 84%|████████▍ | 1174/1397 [09:43<01:51,  2.00it/s]"
     ]
    },
    {
     "name": "stdout",
     "output_type": "stream",
     "text": [
      "('golf', 0.0)\n",
      "Ошибка при обработке видео test_data/test_dataset/d6b6a46c-59c2-4d20-b5d5-c8d030570e5e.avi: name 'display_image' is not defined\n",
      "Обработка видео...\n"
     ]
    },
    {
     "name": "stderr",
     "output_type": "stream",
     "text": [
      " 84%|████████▍ | 1175/1397 [09:43<01:51,  1.99it/s]"
     ]
    },
    {
     "name": "stdout",
     "output_type": "stream",
     "text": [
      "('swing_baseball', 0.0)\n",
      "Ошибка при обработке видео test_data/test_dataset/d6da1a38-348d-4923-ba2a-5a032a145297.avi: name 'display_image' is not defined\n",
      "Обработка видео...\n",
      "('golf', 0.0)"
     ]
    },
    {
     "name": "stderr",
     "output_type": "stream",
     "text": [
      " 84%|████████▍ | 1176/1397 [09:44<01:52,  1.97it/s]"
     ]
    },
    {
     "name": "stdout",
     "output_type": "stream",
     "text": [
      "\n",
      "Ошибка при обработке видео test_data/test_dataset/d6e67a70-9d2b-415f-8612-9f7a4d0fc9d5.avi: name 'display_image' is not defined\n",
      "Обработка видео...\n"
     ]
    },
    {
     "name": "stderr",
     "output_type": "stream",
     "text": [
      " 84%|████████▍ | 1177/1397 [09:44<01:51,  1.98it/s]"
     ]
    },
    {
     "name": "stdout",
     "output_type": "stream",
     "text": [
      "('pushup', 0.0)\n",
      "Ошибка при обработке видео test_data/test_dataset/d75f9dc9-eef6-4c8d-b9a6-a08f013a3621.avi: name 'display_image' is not defined\n",
      "Обработка видео...\n"
     ]
    },
    {
     "name": "stderr",
     "output_type": "stream",
     "text": [
      " 84%|████████▍ | 1178/1397 [09:45<01:49,  2.00it/s]"
     ]
    },
    {
     "name": "stdout",
     "output_type": "stream",
     "text": [
      "('golf', 0.0)\n",
      "Ошибка при обработке видео test_data/test_dataset/d7f25caf-81a5-4d56-bf50-72da08f995c6.avi: name 'display_image' is not defined\n",
      "Обработка видео...\n"
     ]
    },
    {
     "name": "stderr",
     "output_type": "stream",
     "text": [
      " 84%|████████▍ | 1179/1397 [09:45<01:48,  2.01it/s]"
     ]
    },
    {
     "name": "stdout",
     "output_type": "stream",
     "text": [
      "('golf', 0.0)\n",
      "Ошибка при обработке видео test_data/test_dataset/d7fcf21e-7eb3-4fae-924d-3b4ddf9173fe.avi: name 'display_image' is not defined\n",
      "Обработка видео...\n",
      "('pullup', 0.0)"
     ]
    },
    {
     "name": "stderr",
     "output_type": "stream",
     "text": [
      " 84%|████████▍ | 1180/1397 [09:46<01:47,  2.01it/s]"
     ]
    },
    {
     "name": "stdout",
     "output_type": "stream",
     "text": [
      "\n",
      "Ошибка при обработке видео test_data/test_dataset/d80c325a-351b-4aa4-9109-7bf65ff09145.avi: name 'display_image' is not defined\n",
      "Обработка видео...\n"
     ]
    },
    {
     "name": "stderr",
     "output_type": "stream",
     "text": [
      " 85%|████████▍ | 1181/1397 [09:46<01:47,  2.01it/s]"
     ]
    },
    {
     "name": "stdout",
     "output_type": "stream",
     "text": [
      "('dive', 0.0)\n",
      "Ошибка при обработке видео test_data/test_dataset/d813c30b-7d4d-450c-99b4-601f7737ba33.avi: name 'display_image' is not defined\n",
      "Обработка видео..."
     ]
    },
    {
     "name": "stderr",
     "output_type": "stream",
     "text": [
      " 85%|████████▍ | 1182/1397 [09:47<01:46,  2.02it/s]"
     ]
    },
    {
     "name": "stdout",
     "output_type": "stream",
     "text": [
      "\n",
      "('dive', 0.0)\n",
      "Ошибка при обработке видео test_data/test_dataset/d84b675d-1eb4-477c-baed-2628e57e4c28.avi: name 'display_image' is not defined\n",
      "Обработка видео...\n"
     ]
    },
    {
     "name": "stderr",
     "output_type": "stream",
     "text": [
      " 85%|████████▍ | 1183/1397 [09:47<01:46,  2.02it/s]"
     ]
    },
    {
     "name": "stdout",
     "output_type": "stream",
     "text": [
      "('push', 0.0)\n",
      "Ошибка при обработке видео test_data/test_dataset/d85c84e2-9565-472f-ba78-4d1088bf309e.avi: name 'display_image' is not defined\n",
      "Обработка видео...\n"
     ]
    },
    {
     "name": "stderr",
     "output_type": "stream",
     "text": [
      " 85%|████████▍ | 1184/1397 [09:48<01:47,  1.99it/s]"
     ]
    },
    {
     "name": "stdout",
     "output_type": "stream",
     "text": [
      "('dive', 0.0)\n",
      "Ошибка при обработке видео test_data/test_dataset/d867ca45-c05e-4d71-8d31-331be4f56705.avi: name 'display_image' is not defined\n",
      "Обработка видео...\n"
     ]
    },
    {
     "name": "stderr",
     "output_type": "stream",
     "text": [
      " 85%|████████▍ | 1185/1397 [09:48<01:45,  2.01it/s]"
     ]
    },
    {
     "name": "stdout",
     "output_type": "stream",
     "text": [
      "('cartwheel', 0.0)\n",
      "Ошибка при обработке видео test_data/test_dataset/d87fbca8-f233-4721-baa2-60f631f03d9d.avi: name 'display_image' is not defined\n",
      "Обработка видео...\n"
     ]
    },
    {
     "name": "stderr",
     "output_type": "stream",
     "text": [
      " 85%|████████▍ | 1186/1397 [09:49<01:44,  2.01it/s]"
     ]
    },
    {
     "name": "stdout",
     "output_type": "stream",
     "text": [
      "('shoot_ball', 0.0)\n",
      "Ошибка при обработке видео test_data/test_dataset/d888fd12-5ce4-49a4-821c-bc047b473599.avi: name 'display_image' is not defined\n",
      "Обработка видео...\n"
     ]
    },
    {
     "name": "stderr",
     "output_type": "stream",
     "text": [
      " 85%|████████▍ | 1187/1397 [09:49<01:44,  2.02it/s]"
     ]
    },
    {
     "name": "stdout",
     "output_type": "stream",
     "text": [
      "('situp', 0.0)\n",
      "Ошибка при обработке видео test_data/test_dataset/d8b8b119-2b5a-4b69-99ad-dc0ccfafb629.avi: name 'display_image' is not defined\n",
      "Обработка видео...\n"
     ]
    },
    {
     "name": "stderr",
     "output_type": "stream",
     "text": [
      " 85%|████████▌ | 1188/1397 [09:49<01:42,  2.04it/s]"
     ]
    },
    {
     "name": "stdout",
     "output_type": "stream",
     "text": [
      "('dive', 0.0)\n",
      "Ошибка при обработке видео test_data/test_dataset/d8c144de-fdf8-410f-b063-7a28d0ef065d.avi: name 'display_image' is not defined\n",
      "Обработка видео...\n"
     ]
    },
    {
     "name": "stderr",
     "output_type": "stream",
     "text": [
      " 85%|████████▌ | 1189/1397 [09:50<01:41,  2.04it/s]"
     ]
    },
    {
     "name": "stdout",
     "output_type": "stream",
     "text": [
      "('dribble', 0.0)\n",
      "Ошибка при обработке видео test_data/test_dataset/d8cacc2f-1731-4e68-8780-2df004049929.avi: name 'display_image' is not defined\n",
      "Обработка видео...\n"
     ]
    },
    {
     "name": "stderr",
     "output_type": "stream",
     "text": [
      " 85%|████████▌ | 1190/1397 [09:50<01:40,  2.05it/s]"
     ]
    },
    {
     "name": "stdout",
     "output_type": "stream",
     "text": [
      "('pushup', 0.0)\n",
      "Ошибка при обработке видео test_data/test_dataset/d8da1c0c-f5ec-49d9-98a1-1b5d3a38dd78.avi: name 'display_image' is not defined\n",
      "Обработка видео...\n"
     ]
    },
    {
     "name": "stderr",
     "output_type": "stream",
     "text": [
      " 85%|████████▌ | 1191/1397 [09:51<01:40,  2.05it/s]"
     ]
    },
    {
     "name": "stdout",
     "output_type": "stream",
     "text": [
      "('clap', 0.0)\n",
      "Ошибка при обработке видео test_data/test_dataset/d939e8fc-cadb-486c-8db3-9753c0814976.avi: name 'display_image' is not defined\n",
      "Обработка видео...\n"
     ]
    },
    {
     "name": "stderr",
     "output_type": "stream",
     "text": [
      " 85%|████████▌ | 1192/1397 [09:51<01:40,  2.05it/s]"
     ]
    },
    {
     "name": "stdout",
     "output_type": "stream",
     "text": [
      "('cartwheel', 0.0)\n",
      "Ошибка при обработке видео test_data/test_dataset/d944de0a-03db-451a-80e1-1dd3484a16a0.avi: name 'display_image' is not defined\n",
      "Обработка видео...\n"
     ]
    },
    {
     "name": "stderr",
     "output_type": "stream",
     "text": [
      " 85%|████████▌ | 1193/1397 [09:52<01:41,  2.01it/s]"
     ]
    },
    {
     "name": "stdout",
     "output_type": "stream",
     "text": [
      "('shoot_ball', 0.0)\n",
      "Ошибка при обработке видео test_data/test_dataset/d9ca95b0-a624-475d-aa86-0ba655160580.avi: name 'display_image' is not defined\n",
      "Обработка видео...\n"
     ]
    },
    {
     "name": "stderr",
     "output_type": "stream",
     "text": [
      " 85%|████████▌ | 1194/1397 [09:52<01:42,  1.98it/s]"
     ]
    },
    {
     "name": "stdout",
     "output_type": "stream",
     "text": [
      "('golf', 0.0)\n",
      "Ошибка при обработке видео test_data/test_dataset/d9cc57e2-30d4-4673-96a8-f073b04cf58e.avi: name 'display_image' is not defined\n",
      "Обработка видео...\n"
     ]
    },
    {
     "name": "stderr",
     "output_type": "stream",
     "text": [
      " 86%|████████▌ | 1195/1397 [09:53<01:42,  1.96it/s]"
     ]
    },
    {
     "name": "stdout",
     "output_type": "stream",
     "text": [
      "('golf', 0.0)\n",
      "Ошибка при обработке видео test_data/test_dataset/da08a6c3-e072-480c-82ba-a89ff3f49867.avi: name 'display_image' is not defined\n",
      "Обработка видео...\n"
     ]
    },
    {
     "name": "stderr",
     "output_type": "stream",
     "text": [
      " 86%|████████▌ | 1196/1397 [09:53<01:42,  1.96it/s]"
     ]
    },
    {
     "name": "stdout",
     "output_type": "stream",
     "text": [
      "('pick', 0.0)\n",
      "Ошибка при обработке видео test_data/test_dataset/da47c513-a234-48ea-a078-b00dafc26ff1.avi: name 'display_image' is not defined\n",
      "Обработка видео...\n"
     ]
    },
    {
     "name": "stderr",
     "output_type": "stream",
     "text": [
      " 86%|████████▌ | 1197/1397 [09:54<01:41,  1.96it/s]"
     ]
    },
    {
     "name": "stdout",
     "output_type": "stream",
     "text": [
      "('shoot_ball', 0.0)\n",
      "Ошибка при обработке видео test_data/test_dataset/da7ae29b-e1a9-4fa4-a604-593d8bcc5dd1.avi: name 'display_image' is not defined\n",
      "Обработка видео...\n"
     ]
    },
    {
     "name": "stderr",
     "output_type": "stream",
     "text": [
      " 86%|████████▌ | 1198/1397 [09:54<01:40,  1.98it/s]"
     ]
    },
    {
     "name": "stdout",
     "output_type": "stream",
     "text": [
      "('fencing', 0.0)\n",
      "Ошибка при обработке видео test_data/test_dataset/da95eee4-0ccc-4fec-9132-33ae9da3bb4e.avi: name 'display_image' is not defined\n",
      "Обработка видео...\n",
      "('shoot_ball', 0.0)"
     ]
    },
    {
     "name": "stderr",
     "output_type": "stream",
     "text": [
      " 86%|████████▌ | 1199/1397 [09:55<01:39,  2.00it/s]"
     ]
    },
    {
     "name": "stdout",
     "output_type": "stream",
     "text": [
      "\n",
      "Ошибка при обработке видео test_data/test_dataset/daf95281-5b61-4ae5-bb32-9b74fb457bd2.avi: name 'display_image' is not defined\n",
      "Обработка видео...\n"
     ]
    },
    {
     "name": "stderr",
     "output_type": "stream",
     "text": [
      " 86%|████████▌ | 1200/1397 [09:55<01:38,  1.99it/s]"
     ]
    },
    {
     "name": "stdout",
     "output_type": "stream",
     "text": [
      "('flic_flac', 0.0)\n",
      "Ошибка при обработке видео test_data/test_dataset/daf9e64b-1032-4af7-9e4b-a370e8b6e2a1.avi: name 'display_image' is not defined\n",
      "Обработка видео...\n"
     ]
    },
    {
     "name": "stderr",
     "output_type": "stream",
     "text": [
      " 86%|████████▌ | 1201/1397 [09:56<01:37,  2.02it/s]"
     ]
    },
    {
     "name": "stdout",
     "output_type": "stream",
     "text": [
      "('pushup', 0.0)\n",
      "Ошибка при обработке видео test_data/test_dataset/db224cc0-e540-4a78-8e4b-7a7062f38e26.avi: name 'display_image' is not defined\n",
      "Обработка видео...\n"
     ]
    },
    {
     "name": "stderr",
     "output_type": "stream",
     "text": [
      " 86%|████████▌ | 1202/1397 [09:56<01:37,  2.01it/s]"
     ]
    },
    {
     "name": "stdout",
     "output_type": "stream",
     "text": [
      "('dribble', 0.0)\n",
      "Ошибка при обработке видео test_data/test_dataset/db3a8d02-ab49-428b-86a7-d3a972ef6169.avi: name 'display_image' is not defined\n",
      "Обработка видео...\n"
     ]
    },
    {
     "name": "stderr",
     "output_type": "stream",
     "text": [
      " 86%|████████▌ | 1203/1397 [09:57<01:36,  2.00it/s]"
     ]
    },
    {
     "name": "stdout",
     "output_type": "stream",
     "text": [
      "('pullup', 0.0)\n",
      "Ошибка при обработке видео test_data/test_dataset/db3c4445-3a58-4e95-bce0-a1ccf17575e6.avi: name 'display_image' is not defined\n",
      "Обработка видео...\n"
     ]
    },
    {
     "name": "stderr",
     "output_type": "stream",
     "text": [
      " 86%|████████▌ | 1204/1397 [09:57<01:36,  2.01it/s]"
     ]
    },
    {
     "name": "stdout",
     "output_type": "stream",
     "text": [
      "('dribble', 0.0)\n",
      "Ошибка при обработке видео test_data/test_dataset/db8bb19f-7dfc-4001-a7f8-269a4ad12b6c.avi: name 'display_image' is not defined\n",
      "Обработка видео...\n"
     ]
    },
    {
     "name": "stderr",
     "output_type": "stream",
     "text": [
      " 86%|████████▋ | 1205/1397 [09:58<01:36,  1.99it/s]"
     ]
    },
    {
     "name": "stdout",
     "output_type": "stream",
     "text": [
      "('handstand', 0.0)\n",
      "Ошибка при обработке видео test_data/test_dataset/db8fa14c-1686-49c5-a5e8-01ddbc2c5870.avi: name 'display_image' is not defined\n",
      "Обработка видео...\n"
     ]
    },
    {
     "name": "stderr",
     "output_type": "stream",
     "text": [
      " 86%|████████▋ | 1206/1397 [09:58<01:35,  2.01it/s]"
     ]
    },
    {
     "name": "stdout",
     "output_type": "stream",
     "text": [
      "('sword_exercise', 0.0)\n",
      "Ошибка при обработке видео test_data/test_dataset/db942790-2a75-45d5-b5e1-ddea97b2d555.avi: name 'display_image' is not defined\n",
      "Обработка видео...\n"
     ]
    },
    {
     "name": "stderr",
     "output_type": "stream",
     "text": [
      " 86%|████████▋ | 1207/1397 [09:59<01:34,  2.01it/s]"
     ]
    },
    {
     "name": "stdout",
     "output_type": "stream",
     "text": [
      "('pick', 0.0)\n",
      "Ошибка при обработке видео test_data/test_dataset/db95c852-825d-4612-8b86-0744bb376844.avi: name 'display_image' is not defined\n",
      "Обработка видео...\n"
     ]
    },
    {
     "name": "stderr",
     "output_type": "stream",
     "text": [
      " 86%|████████▋ | 1208/1397 [09:59<01:33,  2.02it/s]"
     ]
    },
    {
     "name": "stdout",
     "output_type": "stream",
     "text": [
      "('sword_exercise', 0.0)\n",
      "Ошибка при обработке видео test_data/test_dataset/dba02bd1-3409-48bb-b66b-2a7762c2363a.avi: name 'display_image' is not defined\n",
      "Обработка видео...\n"
     ]
    },
    {
     "name": "stderr",
     "output_type": "stream",
     "text": [
      " 87%|████████▋ | 1209/1397 [10:00<01:33,  2.01it/s]"
     ]
    },
    {
     "name": "stdout",
     "output_type": "stream",
     "text": [
      "('dive', 0.0)\n",
      "Ошибка при обработке видео test_data/test_dataset/dbd38fd4-3f1e-4b9b-9e03-7690382ef0c8.avi: name 'display_image' is not defined\n",
      "Обработка видео...\n"
     ]
    },
    {
     "name": "stderr",
     "output_type": "stream",
     "text": [
      " 87%|████████▋ | 1210/1397 [10:00<01:32,  2.01it/s]"
     ]
    },
    {
     "name": "stdout",
     "output_type": "stream",
     "text": [
      "('dive', 0.0)\n",
      "Ошибка при обработке видео test_data/test_dataset/dc0842e2-70df-4e1b-9933-4ab26ab4b59f.avi: name 'display_image' is not defined\n",
      "Обработка видео...\n"
     ]
    },
    {
     "name": "stderr",
     "output_type": "stream",
     "text": [
      " 87%|████████▋ | 1211/1397 [10:01<01:33,  2.00it/s]"
     ]
    },
    {
     "name": "stdout",
     "output_type": "stream",
     "text": [
      "('golf', 0.0)\n",
      "Ошибка при обработке видео test_data/test_dataset/dc5d196b-425f-425c-b841-c09bd3e2f442.avi: name 'display_image' is not defined\n",
      "Обработка видео...\n"
     ]
    },
    {
     "name": "stderr",
     "output_type": "stream",
     "text": [
      " 87%|████████▋ | 1212/1397 [10:01<01:32,  2.00it/s]"
     ]
    },
    {
     "name": "stdout",
     "output_type": "stream",
     "text": [
      "('dive', 0.0)\n",
      "Ошибка при обработке видео test_data/test_dataset/dccc3681-f2cc-48db-857b-2c3dbdefc79a.avi: name 'display_image' is not defined\n",
      "Обработка видео...\n",
      "('situp', 0.0)"
     ]
    },
    {
     "name": "stderr",
     "output_type": "stream",
     "text": [
      " 87%|████████▋ | 1213/1397 [10:02<01:32,  2.00it/s]"
     ]
    },
    {
     "name": "stdout",
     "output_type": "stream",
     "text": [
      "\n",
      "Ошибка при обработке видео test_data/test_dataset/dcdcc75a-301f-4757-a96c-ffbcce2e2d0a.avi: name 'display_image' is not defined\n",
      "Обработка видео...\n"
     ]
    },
    {
     "name": "stderr",
     "output_type": "stream",
     "text": [
      " 87%|████████▋ | 1214/1397 [10:02<01:31,  1.99it/s]"
     ]
    },
    {
     "name": "stdout",
     "output_type": "stream",
     "text": [
      "('jump', 0.0)\n",
      "Ошибка при обработке видео test_data/test_dataset/dcff0d6f-f78f-4401-b0db-144bff0cbb94.avi: name 'display_image' is not defined\n",
      "Обработка видео...\n"
     ]
    },
    {
     "name": "stderr",
     "output_type": "stream",
     "text": [
      " 87%|████████▋ | 1215/1397 [10:03<01:30,  2.00it/s]"
     ]
    },
    {
     "name": "stdout",
     "output_type": "stream",
     "text": [
      "('handstand', 0.0)\n",
      "Ошибка при обработке видео test_data/test_dataset/dd5a1e06-e28d-49c3-809b-ff0423d70e95.avi: name 'display_image' is not defined\n",
      "Обработка видео...\n"
     ]
    },
    {
     "name": "stderr",
     "output_type": "stream",
     "text": [
      " 87%|████████▋ | 1216/1397 [10:03<01:30,  2.01it/s]"
     ]
    },
    {
     "name": "stdout",
     "output_type": "stream",
     "text": [
      "('jump', 0.0)\n",
      "Ошибка при обработке видео test_data/test_dataset/dd78ee2d-817c-4104-b35b-17bfe2b77a19.avi: name 'display_image' is not defined\n",
      "Обработка видео...\n"
     ]
    },
    {
     "name": "stderr",
     "output_type": "stream",
     "text": [
      " 87%|████████▋ | 1217/1397 [10:04<01:28,  2.03it/s]"
     ]
    },
    {
     "name": "stdout",
     "output_type": "stream",
     "text": [
      "('pushup', 0.0)\n",
      "Ошибка при обработке видео test_data/test_dataset/ddf263bb-4a47-4712-aa46-17888e9b9cdb.avi: name 'display_image' is not defined\n",
      "Обработка видео...\n"
     ]
    },
    {
     "name": "stderr",
     "output_type": "stream",
     "text": [
      " 87%|████████▋ | 1218/1397 [10:04<01:28,  2.03it/s]"
     ]
    },
    {
     "name": "stdout",
     "output_type": "stream",
     "text": [
      "('pushup', 0.0)\n",
      "Ошибка при обработке видео test_data/test_dataset/ddfd410e-8da8-4225-96f5-2071b0a2e666.avi: name 'display_image' is not defined\n",
      "Обработка видео...\n"
     ]
    },
    {
     "name": "stderr",
     "output_type": "stream",
     "text": [
      " 87%|████████▋ | 1219/1397 [10:05<01:27,  2.04it/s]"
     ]
    },
    {
     "name": "stdout",
     "output_type": "stream",
     "text": [
      "('pullup', 0.0)\n",
      "Ошибка при обработке видео test_data/test_dataset/de5b1fbd-b269-431c-82af-22ecda84cfc8.avi: name 'display_image' is not defined\n",
      "Обработка видео...\n"
     ]
    },
    {
     "name": "stderr",
     "output_type": "stream",
     "text": [
      " 87%|████████▋ | 1220/1397 [10:05<01:27,  2.02it/s]"
     ]
    },
    {
     "name": "stdout",
     "output_type": "stream",
     "text": [
      "('golf', 0.0)\n",
      "Ошибка при обработке видео test_data/test_dataset/de638e64-8704-4d1e-a152-dec127efe6ca.avi: name 'display_image' is not defined\n",
      "Обработка видео...\n"
     ]
    },
    {
     "name": "stderr",
     "output_type": "stream",
     "text": [
      " 87%|████████▋ | 1221/1397 [10:06<01:28,  2.00it/s]"
     ]
    },
    {
     "name": "stdout",
     "output_type": "stream",
     "text": [
      "('pick', 0.0)\n",
      "Ошибка при обработке видео test_data/test_dataset/de66c871-3136-4e6b-944f-d9fb9fc174e3.avi: name 'display_image' is not defined\n",
      "Обработка видео...\n",
      "('flic_flac', 0.0)"
     ]
    },
    {
     "name": "stderr",
     "output_type": "stream",
     "text": [
      " 87%|████████▋ | 1222/1397 [10:06<01:26,  2.01it/s]"
     ]
    },
    {
     "name": "stdout",
     "output_type": "stream",
     "text": [
      "\n",
      "Ошибка при обработке видео test_data/test_dataset/de760861-7e1c-41e6-83e5-267f694f0ec4.avi: name 'display_image' is not defined\n",
      "Обработка видео...\n"
     ]
    },
    {
     "name": "stderr",
     "output_type": "stream",
     "text": [
      " 88%|████████▊ | 1223/1397 [10:07<01:26,  2.01it/s]"
     ]
    },
    {
     "name": "stdout",
     "output_type": "stream",
     "text": [
      "('dive', 0.0)\n",
      "Ошибка при обработке видео test_data/test_dataset/de96aa7f-24ce-4df8-8c31-8af8cff07a86.avi: name 'display_image' is not defined\n",
      "Обработка видео...\n"
     ]
    },
    {
     "name": "stderr",
     "output_type": "stream",
     "text": [
      " 88%|████████▊ | 1224/1397 [10:07<01:25,  2.02it/s]"
     ]
    },
    {
     "name": "stdout",
     "output_type": "stream",
     "text": [
      "('golf', 0.0)\n",
      "Ошибка при обработке видео test_data/test_dataset/deb5c4b9-32d7-47d9-971c-70a9d7e4275a.avi: name 'display_image' is not defined\n",
      "Обработка видео...\n"
     ]
    },
    {
     "name": "stderr",
     "output_type": "stream",
     "text": [
      " 88%|████████▊ | 1225/1397 [10:08<01:25,  2.01it/s]"
     ]
    },
    {
     "name": "stdout",
     "output_type": "stream",
     "text": [
      "('golf', 0.0)\n",
      "Ошибка при обработке видео test_data/test_dataset/df3f8c71-d091-49a4-b64a-fe41eb7c47b4.avi: name 'display_image' is not defined\n",
      "Обработка видео...\n"
     ]
    },
    {
     "name": "stderr",
     "output_type": "stream",
     "text": [
      " 88%|████████▊ | 1226/1397 [10:08<01:25,  2.01it/s]"
     ]
    },
    {
     "name": "stdout",
     "output_type": "stream",
     "text": [
      "('dive', 0.0)\n",
      "Ошибка при обработке видео test_data/test_dataset/df7a1832-8c82-43e1-a383-7643fcd6fa8c.avi: name 'display_image' is not defined\n",
      "Обработка видео...\n",
      "('pullup', 0.0)"
     ]
    },
    {
     "name": "stderr",
     "output_type": "stream",
     "text": [
      " 88%|████████▊ | 1227/1397 [10:09<01:24,  2.01it/s]"
     ]
    },
    {
     "name": "stdout",
     "output_type": "stream",
     "text": [
      "\n",
      "Ошибка при обработке видео test_data/test_dataset/dfbb4f12-a194-44d1-92d8-4ac7f271a1c1.avi: name 'display_image' is not defined\n",
      "Обработка видео...\n"
     ]
    },
    {
     "name": "stderr",
     "output_type": "stream",
     "text": [
      " 88%|████████▊ | 1228/1397 [10:09<01:23,  2.03it/s]"
     ]
    },
    {
     "name": "stdout",
     "output_type": "stream",
     "text": [
      "('golf', 0.0)\n",
      "Ошибка при обработке видео test_data/test_dataset/e08e9dcb-b68d-4a9c-a1de-1eaf0206f8ba.avi: name 'display_image' is not defined\n",
      "Обработка видео...\n"
     ]
    },
    {
     "name": "stderr",
     "output_type": "stream",
     "text": [
      " 88%|████████▊ | 1229/1397 [10:10<01:22,  2.04it/s]"
     ]
    },
    {
     "name": "stdout",
     "output_type": "stream",
     "text": [
      "('shoot_ball', 0.0)\n",
      "Ошибка при обработке видео test_data/test_dataset/e08fbe2d-a9c2-4b9b-a007-f77ac964d2dc.avi: name 'display_image' is not defined\n",
      "Обработка видео..."
     ]
    },
    {
     "name": "stderr",
     "output_type": "stream",
     "text": [
      " 88%|████████▊ | 1230/1397 [10:10<01:22,  2.04it/s]"
     ]
    },
    {
     "name": "stdout",
     "output_type": "stream",
     "text": [
      "\n",
      "('dribble', 0.0)\n",
      "Ошибка при обработке видео test_data/test_dataset/e0b5f880-ef20-424e-9912-d6c1634a566d.avi: name 'display_image' is not defined\n",
      "Обработка видео...\n"
     ]
    },
    {
     "name": "stderr",
     "output_type": "stream",
     "text": [
      " 88%|████████▊ | 1231/1397 [10:11<01:21,  2.03it/s]"
     ]
    },
    {
     "name": "stdout",
     "output_type": "stream",
     "text": [
      "('golf', 0.0)\n",
      "Ошибка при обработке видео test_data/test_dataset/e19775e0-474d-42b6-b449-cbae54756851.avi: name 'display_image' is not defined\n",
      "Обработка видео...\n"
     ]
    },
    {
     "name": "stderr",
     "output_type": "stream",
     "text": [
      " 88%|████████▊ | 1232/1397 [10:11<01:21,  2.04it/s]"
     ]
    },
    {
     "name": "stdout",
     "output_type": "stream",
     "text": [
      "('flic_flac', 0.0)\n",
      "Ошибка при обработке видео test_data/test_dataset/e1ae4f7b-f925-424d-8cff-a528895991be.avi: name 'display_image' is not defined\n",
      "Обработка видео...\n"
     ]
    },
    {
     "name": "stderr",
     "output_type": "stream",
     "text": [
      " 88%|████████▊ | 1233/1397 [10:12<01:20,  2.04it/s]"
     ]
    },
    {
     "name": "stdout",
     "output_type": "stream",
     "text": [
      "('swing_baseball', 0.0)\n",
      "Ошибка при обработке видео test_data/test_dataset/e1c56be4-4352-4b29-ae02-d0b3e722969c.avi: name 'display_image' is not defined\n",
      "Обработка видео...\n"
     ]
    },
    {
     "name": "stderr",
     "output_type": "stream",
     "text": [
      " 88%|████████▊ | 1234/1397 [10:12<01:20,  2.02it/s]"
     ]
    },
    {
     "name": "stdout",
     "output_type": "stream",
     "text": [
      "('fencing', 0.0)\n",
      "Ошибка при обработке видео test_data/test_dataset/e1d11d3f-8ea7-43a2-99a2-da23f841b357.avi: name 'display_image' is not defined\n",
      "Обработка видео...\n"
     ]
    },
    {
     "name": "stderr",
     "output_type": "stream",
     "text": [
      " 88%|████████▊ | 1235/1397 [10:13<01:20,  2.02it/s]"
     ]
    },
    {
     "name": "stdout",
     "output_type": "stream",
     "text": [
      "('handstand', 0.0)\n",
      "Ошибка при обработке видео test_data/test_dataset/e20dc13d-a626-4ed8-a128-20f764c2f640.avi: name 'display_image' is not defined\n",
      "Обработка видео...\n"
     ]
    },
    {
     "name": "stderr",
     "output_type": "stream",
     "text": [
      " 88%|████████▊ | 1236/1397 [10:13<01:19,  2.02it/s]"
     ]
    },
    {
     "name": "stdout",
     "output_type": "stream",
     "text": [
      "('pick', 0.0)\n",
      "Ошибка при обработке видео test_data/test_dataset/e218cbbc-ccc0-4c28-a58f-bed1646b7d53.avi: name 'display_image' is not defined\n",
      "Обработка видео...\n"
     ]
    },
    {
     "name": "stderr",
     "output_type": "stream",
     "text": [
      " 89%|████████▊ | 1237/1397 [10:14<01:19,  2.01it/s]"
     ]
    },
    {
     "name": "stdout",
     "output_type": "stream",
     "text": [
      "('throw', 0.0)\n",
      "Ошибка при обработке видео test_data/test_dataset/e23fb6c4-e7f9-4b5c-9f3a-6d0b1daa179e.avi: name 'display_image' is not defined\n",
      "Обработка видео...\n"
     ]
    },
    {
     "name": "stderr",
     "output_type": "stream",
     "text": [
      " 89%|████████▊ | 1238/1397 [10:14<01:19,  2.00it/s]"
     ]
    },
    {
     "name": "stdout",
     "output_type": "stream",
     "text": [
      "('golf', 0.0)\n",
      "Ошибка при обработке видео test_data/test_dataset/e303462a-ee30-43e9-a8c7-a06bd3904650.avi: name 'display_image' is not defined\n",
      "Обработка видео...\n"
     ]
    },
    {
     "name": "stderr",
     "output_type": "stream",
     "text": [
      " 89%|████████▊ | 1239/1397 [10:15<01:18,  2.01it/s]"
     ]
    },
    {
     "name": "stdout",
     "output_type": "stream",
     "text": [
      "('dive', 0.0)\n",
      "Ошибка при обработке видео test_data/test_dataset/e372743f-fbdf-4932-bcc8-1ce9a13c443e.avi: name 'display_image' is not defined\n",
      "Обработка видео...\n"
     ]
    },
    {
     "name": "stderr",
     "output_type": "stream",
     "text": [
      " 89%|████████▉ | 1240/1397 [10:15<01:17,  2.01it/s]"
     ]
    },
    {
     "name": "stdout",
     "output_type": "stream",
     "text": [
      "('shoot_ball', 0.0)\n",
      "Ошибка при обработке видео test_data/test_dataset/e38ab27b-254b-4665-a3f0-851109d128fc.avi: name 'display_image' is not defined\n",
      "Обработка видео...\n"
     ]
    },
    {
     "name": "stderr",
     "output_type": "stream",
     "text": [
      " 89%|████████▉ | 1241/1397 [10:16<01:17,  2.01it/s]"
     ]
    },
    {
     "name": "stdout",
     "output_type": "stream",
     "text": [
      "('handstand', 0.0)\n",
      "Ошибка при обработке видео test_data/test_dataset/e3afce2e-58c2-47df-9bc9-1f9d090f9ba5.avi: name 'display_image' is not defined\n",
      "Обработка видео...\n",
      "('pick', 0.0)"
     ]
    },
    {
     "name": "stderr",
     "output_type": "stream",
     "text": [
      " 89%|████████▉ | 1242/1397 [10:16<01:17,  2.01it/s]"
     ]
    },
    {
     "name": "stdout",
     "output_type": "stream",
     "text": [
      "\n",
      "Ошибка при обработке видео test_data/test_dataset/e3f64efb-eb85-45be-bafb-c331980ad0e6.avi: name 'display_image' is not defined\n",
      "Обработка видео...\n",
      "('throw', 0.0)"
     ]
    },
    {
     "name": "stderr",
     "output_type": "stream",
     "text": [
      " 89%|████████▉ | 1243/1397 [10:17<01:16,  2.01it/s]"
     ]
    },
    {
     "name": "stdout",
     "output_type": "stream",
     "text": [
      "\n",
      "Ошибка при обработке видео test_data/test_dataset/e4171fe6-5d4e-4746-acc0-6849268446a8.avi: name 'display_image' is not defined\n",
      "Обработка видео...\n"
     ]
    },
    {
     "name": "stderr",
     "output_type": "stream",
     "text": [
      " 89%|████████▉ | 1244/1397 [10:17<01:15,  2.02it/s]"
     ]
    },
    {
     "name": "stdout",
     "output_type": "stream",
     "text": [
      "('flic_flac', 0.0)\n",
      "Ошибка при обработке видео test_data/test_dataset/e46fd527-7078-4b43-91ba-824af7ceeb4d.avi: name 'display_image' is not defined\n",
      "Обработка видео...\n"
     ]
    },
    {
     "name": "stderr",
     "output_type": "stream",
     "text": [
      " 89%|████████▉ | 1245/1397 [10:18<01:15,  2.02it/s]"
     ]
    },
    {
     "name": "stdout",
     "output_type": "stream",
     "text": [
      "('golf', 0.0)\n",
      "Ошибка при обработке видео test_data/test_dataset/e4a44347-af32-4b8a-b8fb-da816adfca3d.avi: name 'display_image' is not defined\n",
      "Обработка видео...\n"
     ]
    },
    {
     "name": "stderr",
     "output_type": "stream",
     "text": [
      " 89%|████████▉ | 1246/1397 [10:18<01:14,  2.02it/s]"
     ]
    },
    {
     "name": "stdout",
     "output_type": "stream",
     "text": [
      "('flic_flac', 0.0)\n",
      "Ошибка при обработке видео test_data/test_dataset/e4c9f6c7-c6ce-47ae-a5a8-d056e87a4ebe.avi: name 'display_image' is not defined\n",
      "Обработка видео...\n"
     ]
    },
    {
     "name": "stderr",
     "output_type": "stream",
     "text": [
      " 89%|████████▉ | 1247/1397 [10:19<01:14,  2.02it/s]"
     ]
    },
    {
     "name": "stdout",
     "output_type": "stream",
     "text": [
      "('dribble', 0.0)\n",
      "Ошибка при обработке видео test_data/test_dataset/e4d0155c-dcb1-41a0-9346-6e161f352415.avi: name 'display_image' is not defined\n",
      "Обработка видео...\n"
     ]
    },
    {
     "name": "stderr",
     "output_type": "stream",
     "text": [
      " 89%|████████▉ | 1248/1397 [10:19<01:13,  2.02it/s]"
     ]
    },
    {
     "name": "stdout",
     "output_type": "stream",
     "text": [
      "('pushup', 0.0)\n",
      "Ошибка при обработке видео test_data/test_dataset/e4d5f1dd-5fc8-40e5-86e4-91aed4002ca0.avi: name 'display_image' is not defined\n",
      "Обработка видео...\n"
     ]
    },
    {
     "name": "stderr",
     "output_type": "stream",
     "text": [
      " 89%|████████▉ | 1249/1397 [10:20<01:14,  2.00it/s]"
     ]
    },
    {
     "name": "stdout",
     "output_type": "stream",
     "text": [
      "('dive', 0.0)\n",
      "Ошибка при обработке видео test_data/test_dataset/e4db8b93-c55c-4254-a6d0-301ae5818815.avi: name 'display_image' is not defined\n",
      "Обработка видео...\n"
     ]
    },
    {
     "name": "stderr",
     "output_type": "stream",
     "text": [
      " 89%|████████▉ | 1250/1397 [10:20<01:13,  2.01it/s]"
     ]
    },
    {
     "name": "stdout",
     "output_type": "stream",
     "text": [
      "('flic_flac', 0.0)\n",
      "Ошибка при обработке видео test_data/test_dataset/e504b638-fae9-43e7-b7ef-8efabf1db2fa.avi: name 'display_image' is not defined\n",
      "Обработка видео...\n"
     ]
    },
    {
     "name": "stderr",
     "output_type": "stream",
     "text": [
      " 90%|████████▉ | 1251/1397 [10:21<01:12,  2.02it/s]"
     ]
    },
    {
     "name": "stdout",
     "output_type": "stream",
     "text": [
      "('dive', 0.0)\n",
      "Ошибка при обработке видео test_data/test_dataset/e50d78ef-b3b9-4812-846b-86160eb670ab.avi: name 'display_image' is not defined\n",
      "Обработка видео...\n"
     ]
    },
    {
     "name": "stderr",
     "output_type": "stream",
     "text": [
      " 90%|████████▉ | 1252/1397 [10:21<01:11,  2.03it/s]"
     ]
    },
    {
     "name": "stdout",
     "output_type": "stream",
     "text": [
      "('pullup', 0.0)\n",
      "Ошибка при обработке видео test_data/test_dataset/e5b871a6-1ec0-4f31-92d1-ac682b89fdb4.avi: name 'display_image' is not defined\n",
      "Обработка видео...\n"
     ]
    },
    {
     "name": "stderr",
     "output_type": "stream",
     "text": [
      " 90%|████████▉ | 1253/1397 [10:22<01:10,  2.03it/s]"
     ]
    },
    {
     "name": "stdout",
     "output_type": "stream",
     "text": [
      "('pushup', 0.0)\n",
      "Ошибка при обработке видео test_data/test_dataset/e5e46539-d2c3-4666-a757-31e5ca08b507.avi: name 'display_image' is not defined\n",
      "Обработка видео...\n",
      "('hit', 0.0)"
     ]
    },
    {
     "name": "stderr",
     "output_type": "stream",
     "text": [
      " 90%|████████▉ | 1254/1397 [10:22<01:10,  2.01it/s]"
     ]
    },
    {
     "name": "stdout",
     "output_type": "stream",
     "text": [
      "\n",
      "Ошибка при обработке видео test_data/test_dataset/e61122ca-744d-44f2-b0db-6843c5f765e5.avi: name 'display_image' is not defined\n",
      "Обработка видео...\n"
     ]
    },
    {
     "name": "stderr",
     "output_type": "stream",
     "text": [
      " 90%|████████▉ | 1255/1397 [10:23<01:29,  1.59it/s]"
     ]
    },
    {
     "name": "stdout",
     "output_type": "stream",
     "text": [
      "('dribble', 0.0)\n",
      "Ошибка при обработке видео test_data/test_dataset/e692250b-de68-42df-a995-da640541b4f2.avi: name 'display_image' is not defined\n",
      "Обработка видео...\n"
     ]
    },
    {
     "name": "stderr",
     "output_type": "stream",
     "text": [
      " 90%|████████▉ | 1256/1397 [10:24<01:23,  1.69it/s]"
     ]
    },
    {
     "name": "stdout",
     "output_type": "stream",
     "text": [
      "('flic_flac', 0.0)\n",
      "Ошибка при обработке видео test_data/test_dataset/e6f1f66e-694a-4ca2-8b91-cb1c53ac1fff.avi: name 'display_image' is not defined\n",
      "Обработка видео...\n"
     ]
    },
    {
     "name": "stderr",
     "output_type": "stream",
     "text": [
      " 90%|████████▉ | 1257/1397 [10:24<01:18,  1.78it/s]"
     ]
    },
    {
     "name": "stdout",
     "output_type": "stream",
     "text": [
      "('pushup', 0.0)\n",
      "Ошибка при обработке видео test_data/test_dataset/e727a608-9f2c-45d8-8ea8-d6f74677371f.avi: name 'display_image' is not defined\n",
      "Обработка видео...\n"
     ]
    },
    {
     "name": "stderr",
     "output_type": "stream",
     "text": [
      " 90%|█████████ | 1258/1397 [10:25<01:16,  1.82it/s]"
     ]
    },
    {
     "name": "stdout",
     "output_type": "stream",
     "text": [
      "('climb', 0.0)\n",
      "Ошибка при обработке видео test_data/test_dataset/e7896d85-db6f-47f3-a716-fa5b5cb260e8.avi: name 'display_image' is not defined\n",
      "Обработка видео...\n"
     ]
    },
    {
     "name": "stderr",
     "output_type": "stream",
     "text": [
      " 90%|█████████ | 1259/1397 [10:25<01:13,  1.88it/s]"
     ]
    },
    {
     "name": "stdout",
     "output_type": "stream",
     "text": [
      "('golf', 0.0)\n",
      "Ошибка при обработке видео test_data/test_dataset/e78f7dfe-7dad-4d22-aac6-bb0e7ed238b6.avi: name 'display_image' is not defined\n",
      "Обработка видео...\n"
     ]
    },
    {
     "name": "stderr",
     "output_type": "stream",
     "text": [
      " 90%|█████████ | 1260/1397 [10:26<01:11,  1.91it/s]"
     ]
    },
    {
     "name": "stdout",
     "output_type": "stream",
     "text": [
      "('hit', 0.0)\n",
      "Ошибка при обработке видео test_data/test_dataset/e7e8b8f0-9ad9-48a6-a1da-de8fb011cf57.avi: name 'display_image' is not defined\n",
      "Обработка видео...\n"
     ]
    },
    {
     "name": "stderr",
     "output_type": "stream",
     "text": [
      " 90%|█████████ | 1261/1397 [10:26<01:09,  1.95it/s]"
     ]
    },
    {
     "name": "stdout",
     "output_type": "stream",
     "text": [
      "('dive', 0.0)\n",
      "Ошибка при обработке видео test_data/test_dataset/e82ccbc6-d4ed-410c-86a1-206e3773639d.avi: name 'display_image' is not defined\n",
      "Обработка видео...\n"
     ]
    },
    {
     "name": "stderr",
     "output_type": "stream",
     "text": [
      " 90%|█████████ | 1262/1397 [10:27<01:08,  1.96it/s]"
     ]
    },
    {
     "name": "stdout",
     "output_type": "stream",
     "text": [
      "('swing_baseball', 0.0)\n",
      "Ошибка при обработке видео test_data/test_dataset/e841d2ff-127a-4760-ac42-5d7cecc3e7b9.avi: name 'display_image' is not defined\n",
      "Обработка видео...\n"
     ]
    },
    {
     "name": "stderr",
     "output_type": "stream",
     "text": [
      " 90%|█████████ | 1263/1397 [10:27<01:07,  1.99it/s]"
     ]
    },
    {
     "name": "stdout",
     "output_type": "stream",
     "text": [
      "('cartwheel', 0.0)\n",
      "Ошибка при обработке видео test_data/test_dataset/e882266f-2ae8-42c5-8e0d-211319e16fa2.avi: name 'display_image' is not defined\n",
      "Обработка видео...\n"
     ]
    },
    {
     "name": "stderr",
     "output_type": "stream",
     "text": [
      " 90%|█████████ | 1264/1397 [10:28<01:06,  2.01it/s]"
     ]
    },
    {
     "name": "stdout",
     "output_type": "stream",
     "text": [
      "('pushup', 0.0)\n",
      "Ошибка при обработке видео test_data/test_dataset/e89e00ba-8425-4df2-9aac-d00f6cf4bfbd.avi: name 'display_image' is not defined\n",
      "Обработка видео...\n"
     ]
    },
    {
     "name": "stderr",
     "output_type": "stream",
     "text": [
      " 91%|█████████ | 1265/1397 [10:28<01:05,  2.03it/s]"
     ]
    },
    {
     "name": "stdout",
     "output_type": "stream",
     "text": [
      "('dribble', 0.0)\n",
      "Ошибка при обработке видео test_data/test_dataset/e89fea82-67e6-486e-bb3d-9fc8d208ff49.avi: name 'display_image' is not defined\n",
      "Обработка видео...\n",
      "('pushup', 0.0)"
     ]
    },
    {
     "name": "stderr",
     "output_type": "stream",
     "text": [
      " 91%|█████████ | 1266/1397 [10:29<01:04,  2.03it/s]"
     ]
    },
    {
     "name": "stdout",
     "output_type": "stream",
     "text": [
      "\n",
      "Ошибка при обработке видео test_data/test_dataset/e8c35dcc-30dd-497a-b48c-407c7d83bc4f.avi: name 'display_image' is not defined\n",
      "Обработка видео...\n"
     ]
    },
    {
     "name": "stderr",
     "output_type": "stream",
     "text": [
      " 91%|█████████ | 1267/1397 [10:29<01:03,  2.04it/s]"
     ]
    },
    {
     "name": "stdout",
     "output_type": "stream",
     "text": [
      "('golf', 0.0)\n",
      "Ошибка при обработке видео test_data/test_dataset/e917318a-d3e5-43c2-aa1b-31b3cf00aa6f.avi: name 'display_image' is not defined\n",
      "Обработка видео...\n"
     ]
    },
    {
     "name": "stderr",
     "output_type": "stream",
     "text": [
      " 91%|█████████ | 1268/1397 [10:30<01:03,  2.03it/s]"
     ]
    },
    {
     "name": "stdout",
     "output_type": "stream",
     "text": [
      "('handstand', 0.0)\n",
      "Ошибка при обработке видео test_data/test_dataset/e948f4ed-ae5e-4cb3-ad9a-63d5efee920a.avi: name 'display_image' is not defined\n",
      "Обработка видео...\n",
      "('pick', 0.0)"
     ]
    },
    {
     "name": "stderr",
     "output_type": "stream",
     "text": [
      " 91%|█████████ | 1269/1397 [10:30<01:03,  2.01it/s]"
     ]
    },
    {
     "name": "stdout",
     "output_type": "stream",
     "text": [
      "\n",
      "Ошибка при обработке видео test_data/test_dataset/e94b75db-6a01-436b-b4ac-48f4d22df2b6.avi: name 'display_image' is not defined\n",
      "Обработка видео...\n"
     ]
    },
    {
     "name": "stderr",
     "output_type": "stream",
     "text": [
      " 91%|█████████ | 1270/1397 [10:31<01:02,  2.02it/s]"
     ]
    },
    {
     "name": "stdout",
     "output_type": "stream",
     "text": [
      "('swing_baseball', 0.0)\n",
      "Ошибка при обработке видео test_data/test_dataset/e94cdd37-8b2e-4931-b892-caf602f9f320.avi: name 'display_image' is not defined\n",
      "Обработка видео...\n"
     ]
    },
    {
     "name": "stderr",
     "output_type": "stream",
     "text": [
      " 91%|█████████ | 1271/1397 [10:31<01:02,  2.02it/s]"
     ]
    },
    {
     "name": "stdout",
     "output_type": "stream",
     "text": [
      "('fencing', 0.0)\n",
      "Ошибка при обработке видео test_data/test_dataset/e979f36d-4124-43cf-9e5c-62ce1bbfb76a.avi: name 'display_image' is not defined\n",
      "Обработка видео...\n"
     ]
    },
    {
     "name": "stderr",
     "output_type": "stream",
     "text": [
      " 91%|█████████ | 1272/1397 [10:32<01:01,  2.02it/s]"
     ]
    },
    {
     "name": "stdout",
     "output_type": "stream",
     "text": [
      "('swing_baseball', 0.0)\n",
      "Ошибка при обработке видео test_data/test_dataset/e9df10ea-c2f3-4b59-b5d4-25179a79cadd.avi: name 'display_image' is not defined\n",
      "Обработка видео...\n"
     ]
    },
    {
     "name": "stderr",
     "output_type": "stream",
     "text": [
      " 91%|█████████ | 1273/1397 [10:32<01:00,  2.04it/s]"
     ]
    },
    {
     "name": "stdout",
     "output_type": "stream",
     "text": [
      "('golf', 0.0)\n",
      "Ошибка при обработке видео test_data/test_dataset/ea36702d-01e6-42e2-9f26-e685d806429c.avi: name 'display_image' is not defined\n",
      "Обработка видео...\n"
     ]
    },
    {
     "name": "stderr",
     "output_type": "stream",
     "text": [
      " 91%|█████████ | 1274/1397 [10:33<01:00,  2.03it/s]"
     ]
    },
    {
     "name": "stdout",
     "output_type": "stream",
     "text": [
      "('swing_baseball', 0.0)\n",
      "Ошибка при обработке видео test_data/test_dataset/eaf2b137-0ba9-4b29-a016-9ce597c158cc.avi: name 'display_image' is not defined\n",
      "Обработка видео...\n"
     ]
    },
    {
     "name": "stderr",
     "output_type": "stream",
     "text": [
      " 91%|█████████▏| 1275/1397 [10:33<01:00,  2.03it/s]"
     ]
    },
    {
     "name": "stdout",
     "output_type": "stream",
     "text": [
      "('handstand', 0.0)\n",
      "Ошибка при обработке видео test_data/test_dataset/eb5ed728-dc6f-4fa4-8098-f207e7801c4d.avi: name 'display_image' is not defined\n",
      "Обработка видео...\n"
     ]
    },
    {
     "name": "stderr",
     "output_type": "stream",
     "text": [
      " 91%|█████████▏| 1276/1397 [10:34<00:59,  2.03it/s]"
     ]
    },
    {
     "name": "stdout",
     "output_type": "stream",
     "text": [
      "('dive', 0.0)\n",
      "Ошибка при обработке видео test_data/test_dataset/eb7a10d9-2264-456b-a5da-77d3bacc7173.avi: name 'display_image' is not defined\n",
      "Обработка видео...\n"
     ]
    },
    {
     "name": "stderr",
     "output_type": "stream",
     "text": [
      " 91%|█████████▏| 1277/1397 [10:34<00:59,  2.03it/s]"
     ]
    },
    {
     "name": "stdout",
     "output_type": "stream",
     "text": [
      "('pullup', 0.0)\n",
      "Ошибка при обработке видео test_data/test_dataset/eb7e62ff-6696-47ff-a39e-63cc1b675b57.avi: name 'display_image' is not defined\n",
      "Обработка видео...\n"
     ]
    },
    {
     "name": "stderr",
     "output_type": "stream",
     "text": [
      " 91%|█████████▏| 1278/1397 [10:35<00:58,  2.02it/s]"
     ]
    },
    {
     "name": "stdout",
     "output_type": "stream",
     "text": [
      "('pullup', 0.0)\n",
      "Ошибка при обработке видео test_data/test_dataset/eb9c4b84-4179-49b6-9547-8003efac64ee.avi: name 'display_image' is not defined\n",
      "Обработка видео...\n"
     ]
    },
    {
     "name": "stderr",
     "output_type": "stream",
     "text": [
      " 92%|█████████▏| 1279/1397 [10:35<00:58,  2.01it/s]"
     ]
    },
    {
     "name": "stdout",
     "output_type": "stream",
     "text": [
      "('sword_exercise', 0.0)\n",
      "Ошибка при обработке видео test_data/test_dataset/ec11cd42-25c5-454b-84c1-85ffc4863f6b.avi: name 'display_image' is not defined\n",
      "Обработка видео...\n"
     ]
    },
    {
     "name": "stderr",
     "output_type": "stream",
     "text": [
      " 92%|█████████▏| 1280/1397 [10:36<00:58,  2.00it/s]"
     ]
    },
    {
     "name": "stdout",
     "output_type": "stream",
     "text": [
      "('pushup', 0.0)\n",
      "Ошибка при обработке видео test_data/test_dataset/ec3e938c-c73b-4194-8109-a68e04e7e607.avi: name 'display_image' is not defined\n",
      "Обработка видео...\n"
     ]
    },
    {
     "name": "stderr",
     "output_type": "stream",
     "text": [
      " 92%|█████████▏| 1281/1397 [10:36<00:58,  2.00it/s]"
     ]
    },
    {
     "name": "stdout",
     "output_type": "stream",
     "text": [
      "('pushup', 0.0)\n",
      "Ошибка при обработке видео test_data/test_dataset/ec49efe8-614d-4a95-8a96-b982a7cd8011.avi: name 'display_image' is not defined\n",
      "Обработка видео...\n"
     ]
    },
    {
     "name": "stderr",
     "output_type": "stream",
     "text": [
      " 92%|█████████▏| 1282/1397 [10:37<00:57,  2.00it/s]"
     ]
    },
    {
     "name": "stdout",
     "output_type": "stream",
     "text": [
      "('pullup', 0.0)\n",
      "Ошибка при обработке видео test_data/test_dataset/ecd32bb5-2dc6-45c1-88e0-2b0dc552c642.avi: name 'display_image' is not defined\n",
      "Обработка видео...\n"
     ]
    },
    {
     "name": "stderr",
     "output_type": "stream",
     "text": [
      " 92%|█████████▏| 1283/1397 [10:37<00:56,  2.01it/s]"
     ]
    },
    {
     "name": "stdout",
     "output_type": "stream",
     "text": [
      "('dive', 0.0)\n",
      "Ошибка при обработке видео test_data/test_dataset/ecfa22cb-aae7-43ab-a337-fa1705f99cea.avi: name 'display_image' is not defined\n",
      "Обработка видео...\n"
     ]
    },
    {
     "name": "stderr",
     "output_type": "stream",
     "text": [
      " 92%|█████████▏| 1284/1397 [10:38<00:56,  2.01it/s]"
     ]
    },
    {
     "name": "stdout",
     "output_type": "stream",
     "text": [
      "('flic_flac', 0.0)\n",
      "Ошибка при обработке видео test_data/test_dataset/ed031039-9b46-4d2e-9957-dcd2bab5d883.avi: name 'display_image' is not defined\n",
      "Обработка видео...\n"
     ]
    },
    {
     "name": "stderr",
     "output_type": "stream",
     "text": [
      " 92%|█████████▏| 1285/1397 [10:38<00:55,  2.02it/s]"
     ]
    },
    {
     "name": "stdout",
     "output_type": "stream",
     "text": [
      "('cartwheel', 0.0)\n",
      "Ошибка при обработке видео test_data/test_dataset/ed08ee32-14d4-4d6f-ab4b-465c5698f6d6.avi: name 'display_image' is not defined\n",
      "Обработка видео...\n"
     ]
    },
    {
     "name": "stderr",
     "output_type": "stream",
     "text": [
      " 92%|█████████▏| 1286/1397 [10:39<00:54,  2.04it/s]"
     ]
    },
    {
     "name": "stdout",
     "output_type": "stream",
     "text": [
      "('pullup', 0.0)\n",
      "Ошибка при обработке видео test_data/test_dataset/ed16e047-e8b6-4740-9e99-89fe2a6ba91e.avi: name 'display_image' is not defined\n",
      "Обработка видео...\n",
      "('pushup', 0.0)"
     ]
    },
    {
     "name": "stderr",
     "output_type": "stream",
     "text": [
      " 92%|█████████▏| 1287/1397 [10:39<00:54,  2.03it/s]"
     ]
    },
    {
     "name": "stdout",
     "output_type": "stream",
     "text": [
      "\n",
      "Ошибка при обработке видео test_data/test_dataset/ed3e53c4-7b18-4fcd-9bf7-1b0e7d65845a.avi: name 'display_image' is not defined\n",
      "Обработка видео...\n"
     ]
    },
    {
     "name": "stderr",
     "output_type": "stream",
     "text": [
      " 92%|█████████▏| 1288/1397 [10:40<00:53,  2.02it/s]"
     ]
    },
    {
     "name": "stdout",
     "output_type": "stream",
     "text": [
      "('pour', 0.0)\n",
      "Ошибка при обработке видео test_data/test_dataset/ed89fa2c-ac2c-4b3b-81b6-61201df58db9.avi: name 'display_image' is not defined\n",
      "Обработка видео...\n"
     ]
    },
    {
     "name": "stderr",
     "output_type": "stream",
     "text": [
      " 92%|█████████▏| 1289/1397 [10:40<00:53,  2.01it/s]"
     ]
    },
    {
     "name": "stdout",
     "output_type": "stream",
     "text": [
      "('dribble', 0.0)\n",
      "Ошибка при обработке видео test_data/test_dataset/ed944d15-f08d-4a26-9006-7ca098235323.avi: name 'display_image' is not defined\n",
      "Обработка видео...\n"
     ]
    },
    {
     "name": "stderr",
     "output_type": "stream",
     "text": [
      " 92%|█████████▏| 1290/1397 [10:41<00:52,  2.02it/s]"
     ]
    },
    {
     "name": "stdout",
     "output_type": "stream",
     "text": [
      "('dribble', 0.0)\n",
      "Ошибка при обработке видео test_data/test_dataset/edae9668-c917-4b30-8ae3-99d35a9587fb.avi: name 'display_image' is not defined\n",
      "Обработка видео...\n"
     ]
    },
    {
     "name": "stderr",
     "output_type": "stream",
     "text": [
      " 92%|█████████▏| 1291/1397 [10:41<00:52,  2.00it/s]"
     ]
    },
    {
     "name": "stdout",
     "output_type": "stream",
     "text": [
      "('pullup', 0.0)\n",
      "Ошибка при обработке видео test_data/test_dataset/edcc8540-52b3-4afa-b95f-7768560689b2.avi: name 'display_image' is not defined\n",
      "Обработка видео...\n",
      "('swing_baseball', 0.0)\n"
     ]
    },
    {
     "name": "stderr",
     "output_type": "stream",
     "text": [
      " 92%|█████████▏| 1292/1397 [10:42<00:52,  2.01it/s]"
     ]
    },
    {
     "name": "stdout",
     "output_type": "stream",
     "text": [
      "Ошибка при обработке видео test_data/test_dataset/ee001e72-857c-4fea-94eb-e6e8129102ad.avi: name 'display_image' is not defined\n",
      "Обработка видео...\n"
     ]
    },
    {
     "name": "stderr",
     "output_type": "stream",
     "text": [
      " 93%|█████████▎| 1293/1397 [10:42<00:51,  2.00it/s]"
     ]
    },
    {
     "name": "stdout",
     "output_type": "stream",
     "text": [
      "('flic_flac', 0.0)\n",
      "Ошибка при обработке видео test_data/test_dataset/ee0f092b-a83f-484b-bcbd-a9d38d784f59.avi: name 'display_image' is not defined\n",
      "Обработка видео...\n"
     ]
    },
    {
     "name": "stderr",
     "output_type": "stream",
     "text": [
      " 93%|█████████▎| 1294/1397 [10:43<00:51,  2.01it/s]"
     ]
    },
    {
     "name": "stdout",
     "output_type": "stream",
     "text": [
      "('swing_baseball', 0.0)\n",
      "Ошибка при обработке видео test_data/test_dataset/eea24c48-5ebf-4cfc-96f7-034a04390b10.avi: name 'display_image' is not defined\n",
      "Обработка видео...\n"
     ]
    },
    {
     "name": "stderr",
     "output_type": "stream",
     "text": [
      " 93%|█████████▎| 1295/1397 [10:43<00:50,  2.02it/s]"
     ]
    },
    {
     "name": "stdout",
     "output_type": "stream",
     "text": [
      "('handstand', 0.0)\n",
      "Ошибка при обработке видео test_data/test_dataset/ef208a44-e352-4ad9-9b8b-ead9ef0322ed.avi: name 'display_image' is not defined\n",
      "Обработка видео...\n"
     ]
    },
    {
     "name": "stderr",
     "output_type": "stream",
     "text": [
      " 93%|█████████▎| 1296/1397 [10:44<00:50,  2.01it/s]"
     ]
    },
    {
     "name": "stdout",
     "output_type": "stream",
     "text": [
      "('pullup', 0.0)\n",
      "Ошибка при обработке видео test_data/test_dataset/ef3aa24c-6981-4680-9516-5e8b421c0de4.avi: name 'display_image' is not defined\n",
      "Обработка видео...\n"
     ]
    },
    {
     "name": "stderr",
     "output_type": "stream",
     "text": [
      " 93%|█████████▎| 1297/1397 [10:44<00:49,  2.02it/s]"
     ]
    },
    {
     "name": "stdout",
     "output_type": "stream",
     "text": [
      "('pushup', 0.0)\n",
      "Ошибка при обработке видео test_data/test_dataset/ef819af9-4cec-4ae3-ac7f-fd4d7b3f4362.avi: name 'display_image' is not defined\n",
      "Обработка видео...\n",
      "('pullup', 0.0)"
     ]
    },
    {
     "name": "stderr",
     "output_type": "stream",
     "text": [
      " 93%|█████████▎| 1298/1397 [10:45<00:48,  2.02it/s]"
     ]
    },
    {
     "name": "stdout",
     "output_type": "stream",
     "text": [
      "\n",
      "Ошибка при обработке видео test_data/test_dataset/efade2c5-497b-4315-a4dd-d7ec193366aa.avi: name 'display_image' is not defined\n",
      "Обработка видео...\n"
     ]
    },
    {
     "name": "stderr",
     "output_type": "stream",
     "text": [
      " 93%|█████████▎| 1299/1397 [10:45<00:48,  2.01it/s]"
     ]
    },
    {
     "name": "stdout",
     "output_type": "stream",
     "text": [
      "('pick', 0.0)\n",
      "Ошибка при обработке видео test_data/test_dataset/efb4ee86-ef70-4ea9-a378-95a61f6cbe14.avi: name 'display_image' is not defined\n",
      "Обработка видео...\n"
     ]
    },
    {
     "name": "stderr",
     "output_type": "stream",
     "text": [
      " 93%|█████████▎| 1300/1397 [10:46<00:48,  2.00it/s]"
     ]
    },
    {
     "name": "stdout",
     "output_type": "stream",
     "text": [
      "('golf', 0.0)\n",
      "Ошибка при обработке видео test_data/test_dataset/efba0e44-f7e5-4408-8a37-0aa73415a50e.avi: name 'display_image' is not defined\n",
      "Обработка видео...\n"
     ]
    },
    {
     "name": "stderr",
     "output_type": "stream",
     "text": [
      " 93%|█████████▎| 1301/1397 [10:46<00:48,  1.97it/s]"
     ]
    },
    {
     "name": "stdout",
     "output_type": "stream",
     "text": [
      "('fencing', 0.0)\n",
      "Ошибка при обработке видео test_data/test_dataset/efbfcd8a-a150-4535-899f-b9f8955d7d1e.avi: name 'display_image' is not defined\n",
      "Обработка видео...\n"
     ]
    },
    {
     "name": "stderr",
     "output_type": "stream",
     "text": [
      " 93%|█████████▎| 1302/1397 [10:47<00:48,  1.97it/s]"
     ]
    },
    {
     "name": "stdout",
     "output_type": "stream",
     "text": [
      "('swing_baseball', 0.0)\n",
      "Ошибка при обработке видео test_data/test_dataset/efeadcce-f3c9-43f9-8bb9-3a823118590e.avi: name 'display_image' is not defined\n",
      "Обработка видео...\n"
     ]
    },
    {
     "name": "stderr",
     "output_type": "stream",
     "text": [
      " 93%|█████████▎| 1303/1397 [10:47<00:47,  1.98it/s]"
     ]
    },
    {
     "name": "stdout",
     "output_type": "stream",
     "text": [
      "('dribble', 0.0)\n",
      "Ошибка при обработке видео test_data/test_dataset/effb7959-9a08-4ac8-81aa-9242fcef9a8d.avi: name 'display_image' is not defined\n",
      "Обработка видео...\n"
     ]
    },
    {
     "name": "stderr",
     "output_type": "stream",
     "text": [
      " 93%|█████████▎| 1304/1397 [10:48<00:46,  2.01it/s]"
     ]
    },
    {
     "name": "stdout",
     "output_type": "stream",
     "text": [
      "('cartwheel', 0.0)\n",
      "Ошибка при обработке видео test_data/test_dataset/f0b80e54-9ff0-4539-bed3-f0eab470de60.avi: name 'display_image' is not defined\n",
      "Обработка видео...\n",
      "('sword_exercise', 0.0)"
     ]
    },
    {
     "name": "stderr",
     "output_type": "stream",
     "text": [
      " 93%|█████████▎| 1305/1397 [10:48<00:45,  2.02it/s]"
     ]
    },
    {
     "name": "stdout",
     "output_type": "stream",
     "text": [
      "\n",
      "Ошибка при обработке видео test_data/test_dataset/f0d024f0-6a76-43dc-a015-d8eebd125edc.avi: name 'display_image' is not defined\n",
      "Обработка видео...\n",
      "('flic_flac', 0.0)\n",
      "Ошибка при обработке видео test_data/test_dataset/f1ac323b-7879-48f0-9f6b-4733f983a83b.avi: name 'display_image' is not defined\n"
     ]
    },
    {
     "name": "stderr",
     "output_type": "stream",
     "text": [
      " 93%|█████████▎| 1306/1397 [10:49<00:44,  2.03it/s]"
     ]
    },
    {
     "name": "stdout",
     "output_type": "stream",
     "text": [
      "Обработка видео...\n"
     ]
    },
    {
     "name": "stderr",
     "output_type": "stream",
     "text": [
      " 94%|█████████▎| 1307/1397 [10:49<00:44,  2.03it/s]"
     ]
    },
    {
     "name": "stdout",
     "output_type": "stream",
     "text": [
      "('golf', 0.0)\n",
      "Ошибка при обработке видео test_data/test_dataset/f1df90b8-a3f3-4a1b-a93e-220d3e65fa83.avi: name 'display_image' is not defined\n",
      "Обработка видео...\n"
     ]
    },
    {
     "name": "stderr",
     "output_type": "stream",
     "text": [
      " 94%|█████████▎| 1308/1397 [10:50<00:44,  2.01it/s]"
     ]
    },
    {
     "name": "stdout",
     "output_type": "stream",
     "text": [
      "('jump', 0.0)\n",
      "Ошибка при обработке видео test_data/test_dataset/f24e8e52-df66-4d1b-a2aa-e735696bc67a.avi: name 'display_image' is not defined\n",
      "Обработка видео...\n"
     ]
    },
    {
     "name": "stderr",
     "output_type": "stream",
     "text": [
      " 94%|█████████▎| 1309/1397 [10:50<00:43,  2.01it/s]"
     ]
    },
    {
     "name": "stdout",
     "output_type": "stream",
     "text": [
      "('flic_flac', 0.0)\n",
      "Ошибка при обработке видео test_data/test_dataset/f262d1ed-9b63-4857-a025-5f5512325511.avi: name 'display_image' is not defined\n",
      "Обработка видео...\n"
     ]
    },
    {
     "name": "stderr",
     "output_type": "stream",
     "text": [
      " 94%|█████████▍| 1310/1397 [10:51<00:43,  2.01it/s]"
     ]
    },
    {
     "name": "stdout",
     "output_type": "stream",
     "text": [
      "('jump', 0.0)\n",
      "Ошибка при обработке видео test_data/test_dataset/f2b5fccc-8b9f-4ab6-b91b-da64a9210fb0.avi: name 'display_image' is not defined\n",
      "Обработка видео...\n"
     ]
    },
    {
     "name": "stderr",
     "output_type": "stream",
     "text": [
      " 94%|█████████▍| 1311/1397 [10:51<00:42,  2.02it/s]"
     ]
    },
    {
     "name": "stdout",
     "output_type": "stream",
     "text": [
      "('swing_baseball', 0.0)\n",
      "Ошибка при обработке видео test_data/test_dataset/f3339f0d-d3cf-4c16-826b-fd2efdfd6b7b.avi: name 'display_image' is not defined\n",
      "Обработка видео...\n"
     ]
    },
    {
     "name": "stderr",
     "output_type": "stream",
     "text": [
      " 94%|█████████▍| 1312/1397 [10:52<00:42,  2.01it/s]"
     ]
    },
    {
     "name": "stdout",
     "output_type": "stream",
     "text": [
      "('pushup', 0.0)\n",
      "Ошибка при обработке видео test_data/test_dataset/f37475c4-89d1-4ca7-89dd-929dce162424.avi: name 'display_image' is not defined\n",
      "Обработка видео...\n",
      "('handstand', 0.0)\n",
      "Ошибка при обработке видео test_data/test_dataset/f3c61599-c012-4205-88a2-0554d0e1d74e.avi: name 'display_image' is not defined\n"
     ]
    },
    {
     "name": "stderr",
     "output_type": "stream",
     "text": [
      " 94%|█████████▍| 1313/1397 [10:52<00:41,  2.01it/s]"
     ]
    },
    {
     "name": "stdout",
     "output_type": "stream",
     "text": [
      "Обработка видео...\n",
      "('pullup', 0.0)"
     ]
    },
    {
     "name": "stderr",
     "output_type": "stream",
     "text": [
      " 94%|█████████▍| 1314/1397 [10:53<00:41,  2.01it/s]"
     ]
    },
    {
     "name": "stdout",
     "output_type": "stream",
     "text": [
      "\n",
      "Ошибка при обработке видео test_data/test_dataset/f3d5e949-57ec-4ecd-b8e6-4789285aaca3.avi: name 'display_image' is not defined\n",
      "Обработка видео...\n"
     ]
    },
    {
     "name": "stderr",
     "output_type": "stream",
     "text": [
      " 94%|█████████▍| 1315/1397 [10:53<00:41,  2.00it/s]"
     ]
    },
    {
     "name": "stdout",
     "output_type": "stream",
     "text": [
      "('swing_baseball', 0.0)\n",
      "Ошибка при обработке видео test_data/test_dataset/f3eaa195-7a1d-4a4e-b9f4-8c1bbeec03fc.avi: name 'display_image' is not defined\n",
      "Обработка видео...\n"
     ]
    },
    {
     "name": "stderr",
     "output_type": "stream",
     "text": [
      " 94%|█████████▍| 1316/1397 [10:54<00:40,  1.99it/s]"
     ]
    },
    {
     "name": "stdout",
     "output_type": "stream",
     "text": [
      "('throw', 0.0)\n",
      "Ошибка при обработке видео test_data/test_dataset/f40a60da-bd0f-4bf0-9c0d-2a139bdf7655.avi: name 'display_image' is not defined\n",
      "Обработка видео...\n"
     ]
    },
    {
     "name": "stderr",
     "output_type": "stream",
     "text": [
      " 94%|█████████▍| 1317/1397 [10:54<00:40,  1.99it/s]"
     ]
    },
    {
     "name": "stdout",
     "output_type": "stream",
     "text": [
      "('cartwheel', 0.0)\n",
      "Ошибка при обработке видео test_data/test_dataset/f43545d3-e742-4a3d-99da-d8213af416b9.avi: name 'display_image' is not defined\n",
      "Обработка видео...\n"
     ]
    },
    {
     "name": "stderr",
     "output_type": "stream",
     "text": [
      " 94%|█████████▍| 1318/1397 [10:55<00:39,  1.98it/s]"
     ]
    },
    {
     "name": "stdout",
     "output_type": "stream",
     "text": [
      "('handstand', 0.0)\n",
      "Ошибка при обработке видео test_data/test_dataset/f45682ac-e13f-4d7a-aef4-ee03c39a3a34.avi: name 'display_image' is not defined\n",
      "Обработка видео...\n",
      "('pullup', 0.0)"
     ]
    },
    {
     "name": "stderr",
     "output_type": "stream",
     "text": [
      " 94%|█████████▍| 1319/1397 [10:55<00:39,  1.99it/s]"
     ]
    },
    {
     "name": "stdout",
     "output_type": "stream",
     "text": [
      "\n",
      "Ошибка при обработке видео test_data/test_dataset/f47198ca-a427-4c4a-a4f3-70b510143c9c.avi: name 'display_image' is not defined\n",
      "Обработка видео...\n"
     ]
    },
    {
     "name": "stderr",
     "output_type": "stream",
     "text": [
      " 94%|█████████▍| 1320/1397 [10:56<00:38,  1.99it/s]"
     ]
    },
    {
     "name": "stdout",
     "output_type": "stream",
     "text": [
      "('handstand', 0.0)\n",
      "Ошибка при обработке видео test_data/test_dataset/f4b80a1e-157e-4e75-b7ca-aa39d0082086.avi: name 'display_image' is not defined\n",
      "Обработка видео...\n"
     ]
    },
    {
     "name": "stderr",
     "output_type": "stream",
     "text": [
      " 95%|█████████▍| 1321/1397 [10:56<00:37,  2.00it/s]"
     ]
    },
    {
     "name": "stdout",
     "output_type": "stream",
     "text": [
      "('jump', 0.0)\n",
      "Ошибка при обработке видео test_data/test_dataset/f51fc281-7794-454c-b00e-ce7078cc0f56.avi: name 'display_image' is not defined\n",
      "Обработка видео...\n"
     ]
    },
    {
     "name": "stderr",
     "output_type": "stream",
     "text": [
      " 95%|█████████▍| 1322/1397 [10:57<00:38,  1.96it/s]"
     ]
    },
    {
     "name": "stdout",
     "output_type": "stream",
     "text": [
      "('dive', 0.0)\n",
      "Ошибка при обработке видео test_data/test_dataset/f526a16f-2989-4088-a480-677b1883ab82.avi: name 'display_image' is not defined\n",
      "Обработка видео...\n"
     ]
    },
    {
     "name": "stderr",
     "output_type": "stream",
     "text": [
      " 95%|█████████▍| 1323/1397 [10:57<00:37,  1.97it/s]"
     ]
    },
    {
     "name": "stdout",
     "output_type": "stream",
     "text": [
      "('shoot_ball', 0.0)\n",
      "Ошибка при обработке видео test_data/test_dataset/f545e766-a7d3-443a-84b1-f60a4ed9868d.avi: name 'display_image' is not defined\n",
      "Обработка видео...\n"
     ]
    },
    {
     "name": "stderr",
     "output_type": "stream",
     "text": [
      " 95%|█████████▍| 1324/1397 [10:58<00:37,  1.95it/s]"
     ]
    },
    {
     "name": "stdout",
     "output_type": "stream",
     "text": [
      "('swing_baseball', 0.0)\n",
      "Ошибка при обработке видео test_data/test_dataset/f5712ad5-6e8d-4b1e-9c39-635190e0be96.avi: name 'display_image' is not defined\n",
      "Обработка видео...\n"
     ]
    },
    {
     "name": "stderr",
     "output_type": "stream",
     "text": [
      " 95%|█████████▍| 1325/1397 [10:58<00:36,  1.97it/s]"
     ]
    },
    {
     "name": "stdout",
     "output_type": "stream",
     "text": [
      "('jump', 0.0)\n",
      "Ошибка при обработке видео test_data/test_dataset/f59d1c38-35f5-43fe-9ade-cba49592f193.avi: name 'display_image' is not defined\n",
      "Обработка видео...\n"
     ]
    },
    {
     "name": "stderr",
     "output_type": "stream",
     "text": [
      " 95%|█████████▍| 1326/1397 [10:59<00:35,  1.99it/s]"
     ]
    },
    {
     "name": "stdout",
     "output_type": "stream",
     "text": [
      "('golf', 0.0)\n",
      "Ошибка при обработке видео test_data/test_dataset/f5b586f9-2e4c-4b6a-89c7-5c87162d4694.avi: name 'display_image' is not defined\n",
      "Обработка видео...\n"
     ]
    },
    {
     "name": "stderr",
     "output_type": "stream",
     "text": [
      " 95%|█████████▍| 1327/1397 [10:59<00:34,  2.00it/s]"
     ]
    },
    {
     "name": "stdout",
     "output_type": "stream",
     "text": [
      "('pullup', 0.0)\n",
      "Ошибка при обработке видео test_data/test_dataset/f5ce5548-ee07-4cb2-8c87-3814a86c3728.avi: name 'display_image' is not defined\n",
      "Обработка видео...\n"
     ]
    },
    {
     "name": "stderr",
     "output_type": "stream",
     "text": [
      " 95%|█████████▌| 1328/1397 [11:00<00:34,  2.02it/s]"
     ]
    },
    {
     "name": "stdout",
     "output_type": "stream",
     "text": [
      "('pushup', 0.0)\n",
      "Ошибка при обработке видео test_data/test_dataset/f5d7362e-201f-420c-a196-34436ad6da4a.avi: name 'display_image' is not defined\n",
      "Обработка видео...\n"
     ]
    },
    {
     "name": "stderr",
     "output_type": "stream",
     "text": [
      " 95%|█████████▌| 1329/1397 [11:00<00:33,  2.03it/s]"
     ]
    },
    {
     "name": "stdout",
     "output_type": "stream",
     "text": [
      "('jump', 0.0)\n",
      "Ошибка при обработке видео test_data/test_dataset/f5fe3361-e532-4044-86b0-39f8db7e82c3.avi: name 'display_image' is not defined\n",
      "Обработка видео...\n"
     ]
    },
    {
     "name": "stderr",
     "output_type": "stream",
     "text": [
      " 95%|█████████▌| 1330/1397 [11:01<00:33,  2.02it/s]"
     ]
    },
    {
     "name": "stdout",
     "output_type": "stream",
     "text": [
      "('dive', 0.0)\n",
      "Ошибка при обработке видео test_data/test_dataset/f68c8e8e-8522-4aac-a3f9-39db6bfc3df2.avi: name 'display_image' is not defined\n",
      "Обработка видео...\n"
     ]
    },
    {
     "name": "stderr",
     "output_type": "stream",
     "text": [
      " 95%|█████████▌| 1331/1397 [11:01<00:32,  2.03it/s]"
     ]
    },
    {
     "name": "stdout",
     "output_type": "stream",
     "text": [
      "('swing_baseball', 0.0)\n",
      "Ошибка при обработке видео test_data/test_dataset/f68f0715-980e-4806-9714-ce3af68ae33f.avi: name 'display_image' is not defined\n",
      "Обработка видео...\n",
      "('push', 0.0)"
     ]
    },
    {
     "name": "stderr",
     "output_type": "stream",
     "text": [
      " 95%|█████████▌| 1332/1397 [11:02<00:32,  2.02it/s]"
     ]
    },
    {
     "name": "stdout",
     "output_type": "stream",
     "text": [
      "\n",
      "Ошибка при обработке видео test_data/test_dataset/f6af3584-8085-4978-8481-e5a2035c84d7.avi: name 'display_image' is not defined\n",
      "Обработка видео...\n"
     ]
    },
    {
     "name": "stderr",
     "output_type": "stream",
     "text": [
      " 95%|█████████▌| 1333/1397 [11:02<00:32,  2.00it/s]"
     ]
    },
    {
     "name": "stdout",
     "output_type": "stream",
     "text": [
      "('flic_flac', 0.0)\n",
      "Ошибка при обработке видео test_data/test_dataset/f708976c-5ad3-4bb7-910a-5a6d7c42b0f3.avi: name 'display_image' is not defined\n",
      "Обработка видео...\n"
     ]
    },
    {
     "name": "stderr",
     "output_type": "stream",
     "text": [
      " 95%|█████████▌| 1334/1397 [11:03<00:31,  1.99it/s]"
     ]
    },
    {
     "name": "stdout",
     "output_type": "stream",
     "text": [
      "('shoot_ball', 0.0)\n",
      "Ошибка при обработке видео test_data/test_dataset/f7383c68-45a4-480c-9de4-b818d6d9e23a.avi: name 'display_image' is not defined\n",
      "Обработка видео...\n"
     ]
    },
    {
     "name": "stderr",
     "output_type": "stream",
     "text": [
      " 96%|█████████▌| 1335/1397 [11:03<00:30,  2.01it/s]"
     ]
    },
    {
     "name": "stdout",
     "output_type": "stream",
     "text": [
      "('pullup', 0.0)\n",
      "Ошибка при обработке видео test_data/test_dataset/f7811500-5328-4229-83a4-b4aecddfa47c.avi: name 'display_image' is not defined\n",
      "Обработка видео...\n"
     ]
    },
    {
     "name": "stderr",
     "output_type": "stream",
     "text": [
      " 96%|█████████▌| 1336/1397 [11:04<00:30,  2.02it/s]"
     ]
    },
    {
     "name": "stdout",
     "output_type": "stream",
     "text": [
      "('situp', 0.0)\n",
      "Ошибка при обработке видео test_data/test_dataset/f78e6ad6-ea33-41c0-9f67-da2b52cd3498.avi: name 'display_image' is not defined\n",
      "Обработка видео...\n"
     ]
    },
    {
     "name": "stderr",
     "output_type": "stream",
     "text": [
      " 96%|█████████▌| 1337/1397 [11:04<00:29,  2.02it/s]"
     ]
    },
    {
     "name": "stdout",
     "output_type": "stream",
     "text": [
      "('pullup', 0.0)\n",
      "Ошибка при обработке видео test_data/test_dataset/f7b089ed-dd56-4dc0-af74-49667b5d577b.avi: name 'display_image' is not defined\n",
      "Обработка видео...\n"
     ]
    },
    {
     "name": "stderr",
     "output_type": "stream",
     "text": [
      " 96%|█████████▌| 1338/1397 [11:05<00:29,  2.03it/s]"
     ]
    },
    {
     "name": "stdout",
     "output_type": "stream",
     "text": [
      "('push', 0.0)\n",
      "Ошибка при обработке видео test_data/test_dataset/f7d38c58-0005-455e-9819-6e0e256dd92f.avi: name 'display_image' is not defined\n",
      "Обработка видео...\n"
     ]
    },
    {
     "name": "stderr",
     "output_type": "stream",
     "text": [
      " 96%|█████████▌| 1339/1397 [11:05<00:28,  2.03it/s]"
     ]
    },
    {
     "name": "stdout",
     "output_type": "stream",
     "text": [
      "('golf', 0.0)\n",
      "Ошибка при обработке видео test_data/test_dataset/f7e240e5-2165-430c-a7c6-7e6b685de25f.avi: name 'display_image' is not defined\n",
      "Обработка видео...\n"
     ]
    },
    {
     "name": "stderr",
     "output_type": "stream",
     "text": [
      " 96%|█████████▌| 1340/1397 [11:05<00:27,  2.04it/s]"
     ]
    },
    {
     "name": "stdout",
     "output_type": "stream",
     "text": [
      "('dribble', 0.0)\n",
      "Ошибка при обработке видео test_data/test_dataset/f805eb11-822e-4a34-994d-70dc1aa00d58.avi: name 'display_image' is not defined\n",
      "Обработка видео...\n"
     ]
    },
    {
     "name": "stderr",
     "output_type": "stream",
     "text": [
      " 96%|█████████▌| 1341/1397 [11:06<00:27,  2.02it/s]"
     ]
    },
    {
     "name": "stdout",
     "output_type": "stream",
     "text": [
      "('fencing', 0.0)\n",
      "Ошибка при обработке видео test_data/test_dataset/f85596e9-e017-4e36-9db4-73f22987696d.avi: name 'display_image' is not defined\n",
      "Обработка видео...\n"
     ]
    },
    {
     "name": "stderr",
     "output_type": "stream",
     "text": [
      " 96%|█████████▌| 1342/1397 [11:06<00:27,  2.01it/s]"
     ]
    },
    {
     "name": "stdout",
     "output_type": "stream",
     "text": [
      "('dive', 0.0)\n",
      "Ошибка при обработке видео test_data/test_dataset/f857c8c9-aea9-4f6d-881b-1bc8027b07d8.avi: name 'display_image' is not defined\n",
      "Обработка видео...\n"
     ]
    },
    {
     "name": "stderr",
     "output_type": "stream",
     "text": [
      " 96%|█████████▌| 1343/1397 [11:07<00:26,  2.01it/s]"
     ]
    },
    {
     "name": "stdout",
     "output_type": "stream",
     "text": [
      "('dive', 0.0)\n",
      "Ошибка при обработке видео test_data/test_dataset/f85b5eb6-f8a7-437e-8b93-b3df2a7c91d4.avi: name 'display_image' is not defined\n",
      "Обработка видео...\n"
     ]
    },
    {
     "name": "stderr",
     "output_type": "stream",
     "text": [
      " 96%|█████████▌| 1344/1397 [11:07<00:26,  1.99it/s]"
     ]
    },
    {
     "name": "stdout",
     "output_type": "stream",
     "text": [
      "('shoot_ball', 0.0)\n",
      "Ошибка при обработке видео test_data/test_dataset/f86a400a-492c-480a-a78f-a071feca6a4a.avi: name 'display_image' is not defined\n",
      "Обработка видео...\n"
     ]
    },
    {
     "name": "stderr",
     "output_type": "stream",
     "text": [
      " 96%|█████████▋| 1345/1397 [11:08<00:26,  1.99it/s]"
     ]
    },
    {
     "name": "stdout",
     "output_type": "stream",
     "text": [
      "('pushup', 0.0)\n",
      "Ошибка при обработке видео test_data/test_dataset/f87468c7-f814-4432-ae8d-1e2e1a32e302.avi: name 'display_image' is not defined\n",
      "Обработка видео...\n"
     ]
    },
    {
     "name": "stderr",
     "output_type": "stream",
     "text": [
      " 96%|█████████▋| 1346/1397 [11:08<00:25,  2.00it/s]"
     ]
    },
    {
     "name": "stdout",
     "output_type": "stream",
     "text": [
      "('pullup', 0.0)\n",
      "Ошибка при обработке видео test_data/test_dataset/f880e8d7-e5ec-428e-9113-c3b018c3c73d.avi: name 'display_image' is not defined\n",
      "Обработка видео...\n"
     ]
    },
    {
     "name": "stderr",
     "output_type": "stream",
     "text": [
      " 96%|█████████▋| 1347/1397 [11:09<00:24,  2.01it/s]"
     ]
    },
    {
     "name": "stdout",
     "output_type": "stream",
     "text": [
      "('golf', 0.0)\n",
      "Ошибка при обработке видео test_data/test_dataset/f881dfa0-06cf-44fe-a70c-8c6870cc89e2.avi: name 'display_image' is not defined\n",
      "Обработка видео...\n"
     ]
    },
    {
     "name": "stderr",
     "output_type": "stream",
     "text": [
      " 96%|█████████▋| 1348/1397 [11:09<00:24,  2.01it/s]"
     ]
    },
    {
     "name": "stdout",
     "output_type": "stream",
     "text": [
      "('golf', 0.0)\n",
      "Ошибка при обработке видео test_data/test_dataset/f8b4c326-180b-45c0-8930-08bc16916118.avi: name 'display_image' is not defined\n",
      "Обработка видео...\n"
     ]
    },
    {
     "name": "stderr",
     "output_type": "stream",
     "text": [
      " 97%|█████████▋| 1349/1397 [11:10<00:23,  2.01it/s]"
     ]
    },
    {
     "name": "stdout",
     "output_type": "stream",
     "text": [
      "('handstand', 0.0)\n",
      "Ошибка при обработке видео test_data/test_dataset/f8d2aaf3-b64f-46b7-b303-3f0c4d8ba573.avi: name 'display_image' is not defined\n",
      "Обработка видео...\n"
     ]
    },
    {
     "name": "stderr",
     "output_type": "stream",
     "text": [
      " 97%|█████████▋| 1350/1397 [11:10<00:23,  2.01it/s]"
     ]
    },
    {
     "name": "stdout",
     "output_type": "stream",
     "text": [
      "('situp', 0.0)\n",
      "Ошибка при обработке видео test_data/test_dataset/f8d7d18d-a60a-4c4e-80b9-715f2f00dc96.avi: name 'display_image' is not defined\n",
      "Обработка видео...\n"
     ]
    },
    {
     "name": "stderr",
     "output_type": "stream",
     "text": [
      " 97%|█████████▋| 1351/1397 [11:11<00:22,  2.01it/s]"
     ]
    },
    {
     "name": "stdout",
     "output_type": "stream",
     "text": [
      "('handstand', 0.0)\n",
      "Ошибка при обработке видео test_data/test_dataset/f8fd9086-eb43-4ac2-94e8-24ef645ffb3a.avi: name 'display_image' is not defined\n",
      "Обработка видео...\n"
     ]
    },
    {
     "name": "stderr",
     "output_type": "stream",
     "text": [
      " 97%|█████████▋| 1352/1397 [11:11<00:22,  2.01it/s]"
     ]
    },
    {
     "name": "stdout",
     "output_type": "stream",
     "text": [
      "('dive', 0.0)\n",
      "Ошибка при обработке видео test_data/test_dataset/f8ff16cc-575f-49e1-b03b-d06805d5bd63.avi: name 'display_image' is not defined\n",
      "Обработка видео...\n"
     ]
    },
    {
     "name": "stderr",
     "output_type": "stream",
     "text": [
      " 97%|█████████▋| 1353/1397 [11:12<00:21,  2.00it/s]"
     ]
    },
    {
     "name": "stdout",
     "output_type": "stream",
     "text": [
      "('shoot_ball', 0.0)\n",
      "Ошибка при обработке видео test_data/test_dataset/f910ba0b-de1c-4ee7-8d8b-659fe74c8800.avi: name 'display_image' is not defined\n",
      "Обработка видео...\n"
     ]
    },
    {
     "name": "stderr",
     "output_type": "stream",
     "text": [
      " 97%|█████████▋| 1354/1397 [11:12<00:21,  1.99it/s]"
     ]
    },
    {
     "name": "stdout",
     "output_type": "stream",
     "text": [
      "('golf', 0.0)\n",
      "Ошибка при обработке видео test_data/test_dataset/f99a8ce8-1b74-473e-a3a8-af40626d91ae.avi: name 'display_image' is not defined\n",
      "Обработка видео...\n"
     ]
    },
    {
     "name": "stderr",
     "output_type": "stream",
     "text": [
      " 97%|█████████▋| 1355/1397 [11:13<00:20,  2.01it/s]"
     ]
    },
    {
     "name": "stdout",
     "output_type": "stream",
     "text": [
      "('draw_sword', 0.0)\n",
      "Ошибка при обработке видео test_data/test_dataset/f9ada954-c0a2-416d-a9a7-4a586190a9be.avi: name 'display_image' is not defined\n",
      "Обработка видео...\n"
     ]
    },
    {
     "name": "stderr",
     "output_type": "stream",
     "text": [
      " 97%|█████████▋| 1356/1397 [11:13<00:20,  2.03it/s]"
     ]
    },
    {
     "name": "stdout",
     "output_type": "stream",
     "text": [
      "('pullup', 0.0)\n",
      "Ошибка при обработке видео test_data/test_dataset/f9c0e8a4-ef40-4ca5-8d83-55961a7006f7.avi: name 'display_image' is not defined\n",
      "Обработка видео...\n"
     ]
    },
    {
     "name": "stderr",
     "output_type": "stream",
     "text": [
      " 97%|█████████▋| 1357/1397 [11:14<00:19,  2.03it/s]"
     ]
    },
    {
     "name": "stdout",
     "output_type": "stream",
     "text": [
      "('golf', 0.0)\n",
      "Ошибка при обработке видео test_data/test_dataset/fa1f545c-0f98-4143-ac3f-28f5e350b7fd.avi: name 'display_image' is not defined\n",
      "Обработка видео...\n"
     ]
    },
    {
     "name": "stderr",
     "output_type": "stream",
     "text": [
      " 97%|█████████▋| 1358/1397 [11:14<00:19,  2.03it/s]"
     ]
    },
    {
     "name": "stdout",
     "output_type": "stream",
     "text": [
      "('handstand', 0.0)\n",
      "Ошибка при обработке видео test_data/test_dataset/fa499a58-0a58-40ac-b414-f7859c1e3be8.avi: name 'display_image' is not defined\n",
      "Обработка видео...\n",
      "('fencing', 0.0)"
     ]
    },
    {
     "name": "stderr",
     "output_type": "stream",
     "text": [
      " 97%|█████████▋| 1359/1397 [11:15<00:18,  2.01it/s]"
     ]
    },
    {
     "name": "stdout",
     "output_type": "stream",
     "text": [
      "\n",
      "Ошибка при обработке видео test_data/test_dataset/fa4c49f2-37c5-4c4b-8e18-8f3cb930bdcb.avi: name 'display_image' is not defined\n",
      "Обработка видео...\n"
     ]
    },
    {
     "name": "stderr",
     "output_type": "stream",
     "text": [
      " 97%|█████████▋| 1360/1397 [11:15<00:18,  2.02it/s]"
     ]
    },
    {
     "name": "stdout",
     "output_type": "stream",
     "text": [
      "('dribble', 0.0)\n",
      "Ошибка при обработке видео test_data/test_dataset/fa4d632f-a27d-462b-b2e9-ed8c0d0d04bb.avi: name 'display_image' is not defined\n",
      "Обработка видео...\n"
     ]
    },
    {
     "name": "stderr",
     "output_type": "stream",
     "text": [
      " 97%|█████████▋| 1361/1397 [11:16<00:17,  2.02it/s]"
     ]
    },
    {
     "name": "stdout",
     "output_type": "stream",
     "text": [
      "('sword_exercise', 0.0)\n",
      "Ошибка при обработке видео test_data/test_dataset/fa50848c-f9b9-410e-9658-977694397823.avi: name 'display_image' is not defined\n",
      "Обработка видео...\n"
     ]
    },
    {
     "name": "stderr",
     "output_type": "stream",
     "text": [
      " 97%|█████████▋| 1362/1397 [11:16<00:17,  2.02it/s]"
     ]
    },
    {
     "name": "stdout",
     "output_type": "stream",
     "text": [
      "('dribble', 0.0)\n",
      "Ошибка при обработке видео test_data/test_dataset/faf407ce-585f-4bab-95f5-3978254ff76e.avi: name 'display_image' is not defined\n",
      "Обработка видео...\n"
     ]
    },
    {
     "name": "stderr",
     "output_type": "stream",
     "text": [
      " 98%|█████████▊| 1363/1397 [11:17<00:16,  2.03it/s]"
     ]
    },
    {
     "name": "stdout",
     "output_type": "stream",
     "text": [
      "('dive', 0.0)\n",
      "Ошибка при обработке видео test_data/test_dataset/fb118296-0aee-4b8c-880e-10a18d81e21e.avi: name 'display_image' is not defined\n",
      "Обработка видео...\n"
     ]
    },
    {
     "name": "stderr",
     "output_type": "stream",
     "text": [
      " 98%|█████████▊| 1364/1397 [11:17<00:16,  2.03it/s]"
     ]
    },
    {
     "name": "stdout",
     "output_type": "stream",
     "text": [
      "('flic_flac', 0.0)\n",
      "Ошибка при обработке видео test_data/test_dataset/fb33c144-2430-4a7e-a441-3acb337a7381.avi: name 'display_image' is not defined\n",
      "Обработка видео...\n"
     ]
    },
    {
     "name": "stderr",
     "output_type": "stream",
     "text": [
      " 98%|█████████▊| 1365/1397 [11:18<00:15,  2.02it/s]"
     ]
    },
    {
     "name": "stdout",
     "output_type": "stream",
     "text": [
      "('swing_baseball', 0.0)\n",
      "Ошибка при обработке видео test_data/test_dataset/fb3d6bc1-655d-4cf7-a1d3-61d21a2e3338.avi: name 'display_image' is not defined\n",
      "Обработка видео...\n"
     ]
    },
    {
     "name": "stderr",
     "output_type": "stream",
     "text": [
      " 98%|█████████▊| 1366/1397 [11:18<00:15,  2.02it/s]"
     ]
    },
    {
     "name": "stdout",
     "output_type": "stream",
     "text": [
      "('handstand', 0.0)\n",
      "Ошибка при обработке видео test_data/test_dataset/fb5fa2b8-1ba0-4abd-a200-3bba81041597.avi: name 'display_image' is not defined\n",
      "Обработка видео...\n"
     ]
    },
    {
     "name": "stderr",
     "output_type": "stream",
     "text": [
      " 98%|█████████▊| 1367/1397 [11:19<00:14,  2.04it/s]"
     ]
    },
    {
     "name": "stdout",
     "output_type": "stream",
     "text": [
      "('handstand', 0.0)\n",
      "Ошибка при обработке видео test_data/test_dataset/fb85e3d1-8adf-465c-b948-4cda13945950.avi: name 'display_image' is not defined\n",
      "Обработка видео...\n"
     ]
    },
    {
     "name": "stderr",
     "output_type": "stream",
     "text": [
      " 98%|█████████▊| 1368/1397 [11:19<00:14,  2.04it/s]"
     ]
    },
    {
     "name": "stdout",
     "output_type": "stream",
     "text": [
      "('pullup', 0.0)\n",
      "Ошибка при обработке видео test_data/test_dataset/fbe4b584-27ab-481f-a149-c72eef834e33.avi: name 'display_image' is not defined\n",
      "Обработка видео...\n"
     ]
    },
    {
     "name": "stderr",
     "output_type": "stream",
     "text": [
      " 98%|█████████▊| 1369/1397 [11:20<00:13,  2.03it/s]"
     ]
    },
    {
     "name": "stdout",
     "output_type": "stream",
     "text": [
      "('shoot_ball', 0.0)\n",
      "Ошибка при обработке видео test_data/test_dataset/fbe8f559-96fa-4c43-9995-64296fc7ee5b.avi: name 'display_image' is not defined\n",
      "Обработка видео...\n"
     ]
    },
    {
     "name": "stderr",
     "output_type": "stream",
     "text": [
      " 98%|█████████▊| 1370/1397 [11:20<00:13,  2.02it/s]"
     ]
    },
    {
     "name": "stdout",
     "output_type": "stream",
     "text": [
      "('handstand', 0.0)\n",
      "Ошибка при обработке видео test_data/test_dataset/fbf5e57f-bde5-45da-986d-d965b662d8bb.avi: name 'display_image' is not defined\n"
     ]
    },
    {
     "name": "stderr",
     "output_type": "stream",
     "text": [
      " 98%|█████████▊| 1371/1397 [11:21<00:12,  2.00it/s]"
     ]
    },
    {
     "name": "stdout",
     "output_type": "stream",
     "text": [
      "Обработка видео...\n",
      "('cartwheel', 0.0)\n",
      "Ошибка при обработке видео test_data/test_dataset/fbf821d1-6692-4028-9c87-30b7b627b73d.avi: name 'display_image' is not defined\n",
      "Обработка видео...\n"
     ]
    },
    {
     "name": "stderr",
     "output_type": "stream",
     "text": [
      " 98%|█████████▊| 1372/1397 [11:21<00:12,  2.00it/s]"
     ]
    },
    {
     "name": "stdout",
     "output_type": "stream",
     "text": [
      "('golf', 0.0)\n",
      "Ошибка при обработке видео test_data/test_dataset/fc2ae7e6-e407-4656-aa8f-ad4ef7792e6b.avi: name 'display_image' is not defined\n",
      "Обработка видео...\n"
     ]
    },
    {
     "name": "stderr",
     "output_type": "stream",
     "text": [
      " 98%|█████████▊| 1373/1397 [11:22<00:11,  2.01it/s]"
     ]
    },
    {
     "name": "stdout",
     "output_type": "stream",
     "text": [
      "('shoot_ball', 0.0)\n",
      "Ошибка при обработке видео test_data/test_dataset/fc6d09b8-7770-4aa9-b6b3-45597de988f5.avi: name 'display_image' is not defined\n",
      "Обработка видео...\n"
     ]
    },
    {
     "name": "stderr",
     "output_type": "stream",
     "text": [
      " 98%|█████████▊| 1374/1397 [11:22<00:11,  2.02it/s]"
     ]
    },
    {
     "name": "stdout",
     "output_type": "stream",
     "text": [
      "('swing_baseball', 0.0)\n",
      "Ошибка при обработке видео test_data/test_dataset/fc76517b-f96f-42ee-9155-c6c75d31214a.avi: name 'display_image' is not defined\n",
      "Обработка видео...\n"
     ]
    },
    {
     "name": "stderr",
     "output_type": "stream",
     "text": [
      " 98%|█████████▊| 1375/1397 [11:23<00:10,  2.03it/s]"
     ]
    },
    {
     "name": "stdout",
     "output_type": "stream",
     "text": [
      "('flic_flac', 0.0)\n",
      "Ошибка при обработке видео test_data/test_dataset/fcb3d3b9-1cab-4b34-9617-f6f03fd94870.avi: name 'display_image' is not defined\n",
      "Обработка видео...\n"
     ]
    },
    {
     "name": "stderr",
     "output_type": "stream",
     "text": [
      " 98%|█████████▊| 1376/1397 [11:23<00:10,  2.00it/s]"
     ]
    },
    {
     "name": "stdout",
     "output_type": "stream",
     "text": [
      "('cartwheel', 0.0)\n",
      "Ошибка при обработке видео test_data/test_dataset/fcb99bf1-dc9c-455c-829b-1cb1c122ea17.avi: name 'display_image' is not defined\n",
      "Обработка видео...\n",
      "('sword_exercise', 0.0)"
     ]
    },
    {
     "name": "stderr",
     "output_type": "stream",
     "text": [
      " 99%|█████████▊| 1377/1397 [11:24<00:10,  1.99it/s]"
     ]
    },
    {
     "name": "stdout",
     "output_type": "stream",
     "text": [
      "\n",
      "Ошибка при обработке видео test_data/test_dataset/fce8e79c-0a26-4941-89f7-15bf94df003b.avi: name 'display_image' is not defined\n",
      "Обработка видео...\n"
     ]
    },
    {
     "name": "stderr",
     "output_type": "stream",
     "text": [
      " 99%|█████████▊| 1378/1397 [11:24<00:09,  1.98it/s]"
     ]
    },
    {
     "name": "stdout",
     "output_type": "stream",
     "text": [
      "('sword_exercise', 0.0)\n",
      "Ошибка при обработке видео test_data/test_dataset/fd1f9103-9f01-46f8-a168-41cc78d33963.avi: name 'display_image' is not defined\n",
      "Обработка видео...\n",
      "('cartwheel', 0.0)\n"
     ]
    },
    {
     "name": "stderr",
     "output_type": "stream",
     "text": [
      " 99%|█████████▊| 1379/1397 [11:25<00:08,  2.01it/s]"
     ]
    },
    {
     "name": "stdout",
     "output_type": "stream",
     "text": [
      "Ошибка при обработке видео test_data/test_dataset/fd3381fd-6c3f-4b9f-b95e-d79ce477f67b.avi: name 'display_image' is not defined\n",
      "Обработка видео...\n"
     ]
    },
    {
     "name": "stderr",
     "output_type": "stream",
     "text": [
      " 99%|█████████▉| 1380/1397 [11:25<00:08,  2.01it/s]"
     ]
    },
    {
     "name": "stdout",
     "output_type": "stream",
     "text": [
      "('handstand', 0.0)\n",
      "Ошибка при обработке видео test_data/test_dataset/fd3d52a6-9d47-4993-99b1-f2a14f1c2abe.avi: name 'display_image' is not defined\n",
      "Обработка видео...\n"
     ]
    },
    {
     "name": "stderr",
     "output_type": "stream",
     "text": [
      " 99%|█████████▉| 1381/1397 [11:26<00:07,  2.01it/s]"
     ]
    },
    {
     "name": "stdout",
     "output_type": "stream",
     "text": [
      "('shoot_ball', 0.0)\n",
      "Ошибка при обработке видео test_data/test_dataset/fd69a73d-3d20-4972-91d1-629ed354a38a.avi: name 'display_image' is not defined\n",
      "Обработка видео...\n"
     ]
    },
    {
     "name": "stderr",
     "output_type": "stream",
     "text": [
      " 99%|█████████▉| 1382/1397 [11:26<00:07,  1.99it/s]"
     ]
    },
    {
     "name": "stdout",
     "output_type": "stream",
     "text": [
      "('pullup', 0.0)\n",
      "Ошибка при обработке видео test_data/test_dataset/fd8128c8-84bb-413f-b8b8-dcb3d3d02c5e.avi: name 'display_image' is not defined\n",
      "Обработка видео...\n"
     ]
    },
    {
     "name": "stderr",
     "output_type": "stream",
     "text": [
      " 99%|█████████▉| 1383/1397 [11:27<00:07,  2.00it/s]"
     ]
    },
    {
     "name": "stdout",
     "output_type": "stream",
     "text": [
      "('pullup', 0.0)\n",
      "Ошибка при обработке видео test_data/test_dataset/fd8dec3a-f6a1-4d96-99fd-c35d8ec887c3.avi: name 'display_image' is not defined\n",
      "Обработка видео...\n"
     ]
    },
    {
     "name": "stderr",
     "output_type": "stream",
     "text": [
      " 99%|█████████▉| 1384/1397 [11:27<00:06,  1.99it/s]"
     ]
    },
    {
     "name": "stdout",
     "output_type": "stream",
     "text": [
      "('dribble', 0.0)\n",
      "Ошибка при обработке видео test_data/test_dataset/fd9854b9-f217-454f-88e4-512bebdfe4c2.avi: name 'display_image' is not defined\n",
      "Обработка видео...\n"
     ]
    },
    {
     "name": "stderr",
     "output_type": "stream",
     "text": [
      " 99%|█████████▉| 1385/1397 [11:28<00:05,  2.02it/s]"
     ]
    },
    {
     "name": "stdout",
     "output_type": "stream",
     "text": [
      "('pushup', 0.0)\n",
      "Ошибка при обработке видео test_data/test_dataset/fdfcb716-0705-4f4b-8c5d-4e77712896cb.avi: name 'display_image' is not defined\n",
      "Обработка видео...\n"
     ]
    },
    {
     "name": "stderr",
     "output_type": "stream",
     "text": [
      " 99%|█████████▉| 1386/1397 [11:28<00:05,  1.99it/s]"
     ]
    },
    {
     "name": "stdout",
     "output_type": "stream",
     "text": [
      "('jump', 0.0)\n",
      "Ошибка при обработке видео test_data/test_dataset/fe04cb70-7308-427a-8a46-8d2da82e4220.avi: name 'display_image' is not defined\n",
      "Обработка видео...\n"
     ]
    },
    {
     "name": "stderr",
     "output_type": "stream",
     "text": [
      " 99%|█████████▉| 1387/1397 [11:29<00:04,  2.01it/s]"
     ]
    },
    {
     "name": "stdout",
     "output_type": "stream",
     "text": [
      "('cartwheel', 0.0)\n",
      "Ошибка при обработке видео test_data/test_dataset/fe08036c-38a3-41f4-b313-d3a7db4340c5.avi: name 'display_image' is not defined\n",
      "Обработка видео...\n"
     ]
    },
    {
     "name": "stderr",
     "output_type": "stream",
     "text": [
      " 99%|█████████▉| 1388/1397 [11:29<00:04,  2.01it/s]"
     ]
    },
    {
     "name": "stdout",
     "output_type": "stream",
     "text": [
      "('pushup', 0.0)\n",
      "Ошибка при обработке видео test_data/test_dataset/fe151e43-7ca4-49a8-8646-26a777abed0b.avi: name 'display_image' is not defined\n",
      "Обработка видео...\n"
     ]
    },
    {
     "name": "stderr",
     "output_type": "stream",
     "text": [
      " 99%|█████████▉| 1389/1397 [11:30<00:03,  2.02it/s]"
     ]
    },
    {
     "name": "stdout",
     "output_type": "stream",
     "text": [
      "('sword_exercise', 0.0)\n",
      "Ошибка при обработке видео test_data/test_dataset/fec178c1-d2e6-4408-91f9-4691371ead29.avi: name 'display_image' is not defined\n",
      "Обработка видео...\n"
     ]
    },
    {
     "name": "stderr",
     "output_type": "stream",
     "text": [
      " 99%|█████████▉| 1390/1397 [11:30<00:03,  2.00it/s]"
     ]
    },
    {
     "name": "stdout",
     "output_type": "stream",
     "text": [
      "('pour', 0.0)\n",
      "Ошибка при обработке видео test_data/test_dataset/fef422d0-cbcd-49ff-be98-967cb2e89583.avi: name 'display_image' is not defined\n",
      "Обработка видео...\n"
     ]
    },
    {
     "name": "stderr",
     "output_type": "stream",
     "text": [
      "100%|█████████▉| 1391/1397 [11:31<00:02,  2.01it/s]"
     ]
    },
    {
     "name": "stdout",
     "output_type": "stream",
     "text": [
      "('pushup', 0.0)\n",
      "Ошибка при обработке видео test_data/test_dataset/ff20b35b-bac3-4103-9e87-cdd161197811.avi: name 'display_image' is not defined\n",
      "Обработка видео...\n"
     ]
    },
    {
     "name": "stderr",
     "output_type": "stream",
     "text": [
      "100%|█████████▉| 1392/1397 [11:31<00:02,  2.02it/s]"
     ]
    },
    {
     "name": "stdout",
     "output_type": "stream",
     "text": [
      "('pullup', 0.0)\n",
      "Ошибка при обработке видео test_data/test_dataset/ff32183e-04aa-4d8e-a218-6a0426e9262a.avi: name 'display_image' is not defined\n",
      "Обработка видео...\n"
     ]
    },
    {
     "name": "stderr",
     "output_type": "stream",
     "text": [
      "100%|█████████▉| 1393/1397 [11:32<00:01,  2.02it/s]"
     ]
    },
    {
     "name": "stdout",
     "output_type": "stream",
     "text": [
      "('pick', 0.0)\n",
      "Ошибка при обработке видео test_data/test_dataset/ff542b7e-497e-4d90-829e-b10972a69c08.avi: name 'display_image' is not defined\n",
      "Обработка видео...\n"
     ]
    },
    {
     "name": "stderr",
     "output_type": "stream",
     "text": [
      "100%|█████████▉| 1394/1397 [11:32<00:01,  2.04it/s]"
     ]
    },
    {
     "name": "stdout",
     "output_type": "stream",
     "text": [
      "('climb', 0.0)\n",
      "Ошибка при обработке видео test_data/test_dataset/ff5469a7-d205-4796-85df-890db4a847db.avi: name 'display_image' is not defined\n",
      "Обработка видео...\n"
     ]
    },
    {
     "name": "stderr",
     "output_type": "stream",
     "text": [
      "100%|█████████▉| 1395/1397 [11:33<00:01,  1.96it/s]"
     ]
    },
    {
     "name": "stdout",
     "output_type": "stream",
     "text": [
      "('shoot_ball', 0.0)\n",
      "Ошибка при обработке видео test_data/test_dataset/ff7e4e3f-9598-4126-b28a-4a6f625bafbf.avi: name 'display_image' is not defined\n",
      "Обработка видео...\n"
     ]
    },
    {
     "name": "stderr",
     "output_type": "stream",
     "text": [
      "100%|█████████▉| 1396/1397 [11:33<00:00,  1.97it/s]"
     ]
    },
    {
     "name": "stdout",
     "output_type": "stream",
     "text": [
      "('golf', 0.0)\n",
      "Ошибка при обработке видео test_data/test_dataset/ff89118e-6c35-461a-82df-8bd5937a3413.avi: name 'display_image' is not defined\n",
      "Обработка видео...\n"
     ]
    },
    {
     "name": "stderr",
     "output_type": "stream",
     "text": [
      "100%|██████████| 1397/1397 [11:34<00:00,  2.01it/s]"
     ]
    },
    {
     "name": "stdout",
     "output_type": "stream",
     "text": [
      "('pullup', 0.0)\n",
      "Ошибка при обработке видео test_data/test_dataset/fff5714b-5592-4851-8e16-cfb7b8a653e1.avi: name 'display_image' is not defined\n"
     ]
    },
    {
     "name": "stderr",
     "output_type": "stream",
     "text": [
      "\n"
     ]
    }
   ],
   "source": [
    "videos_path = Path('./test_data/test_dataset/')\n",
    "video_files = [file for file in videos_path.iterdir() if file.suffix in ['.mp4', '.avi']]\n",
    "for video_path in tqdm(video_files):\n",
    "    try:\n",
    "        video_path_str = str(video_path)\n",
    "        timestamps = process_video(video_path_str, model, transform, device, class_name_to_idx)\n",
    "        for action, times in timestamps.items():\n",
    "            if times is not None:\n",
    "                print(f\"Действие '{action}' обнаружено в следующих временных метках: {times} в видео {video_path}\")\n",
    "    except Exception as e:\n",
    "        print(f\"Ошибка при обработке видео {video_path}: {e}\")"
   ]
  },
  {
   "cell_type": "markdown",
   "id": "661afe57-4786-4e16-871b-b85d1a8f0ef5",
   "metadata": {},
   "source": [
    "### Обработка одного видео"
   ]
  },
  {
   "cell_type": "code",
   "execution_count": null,
   "id": "b97e1faa-159d-45a2-a64e-30c5762d91b9",
   "metadata": {},
   "outputs": [],
   "source": [
    "video_path = 'zxc.mp4'\n",
    "Убедитесь, что модель находится в режиме .eval() и загружена на устройство перед вызовом этой функции\n",
    "timestamps = process_video_parallel(video_path, model, transform, device, class_name_to_idx)"
   ]
  },
  {
   "cell_type": "code",
   "execution_count": null,
   "id": "b66d91be-0343-4cba-a38c-f01c7959c9d3",
   "metadata": {},
   "outputs": [],
   "source": []
  }
 ],
 "metadata": {
  "kernelspec": {
   "display_name": "DataSphere Kernel",
   "language": "python",
   "name": "python3"
  },
  "language_info": {
   "codemirror_mode": {
    "name": "ipython",
    "version": 3
   },
   "file_extension": ".py",
   "mimetype": "text/x-python",
   "name": "python",
   "nbconvert_exporter": "python",
   "pygments_lexer": "ipython3",
   "version": "3.7.7"
  }
 },
 "nbformat": 4,
 "nbformat_minor": 5
}
